{
 "cells": [
  {
   "cell_type": "markdown",
   "metadata": {
    "toc": true
   },
   "source": [
    "<h1>Table of Contents<span class=\"tocSkip\"></span></h1>\n",
    "<div class=\"toc\"><ul class=\"toc-item\"><li><span><a href=\"#Use-gurobi-with-guesses-about-AR\" data-toc-modified-id=\"Use-gurobi-with-guesses-about-AR-1\"><span class=\"toc-item-num\">1&nbsp;&nbsp;</span>Use gurobi with guesses about AR</a></span><ul class=\"toc-item\"><li><span><a href=\"#Helper-classes-and-functions\" data-toc-modified-id=\"Helper-classes-and-functions-1.1\"><span class=\"toc-item-num\">1.1&nbsp;&nbsp;</span>Helper classes and functions</a></span></li></ul></li><li><span><a href=\"#Classical-times\" data-toc-modified-id=\"Classical-times-2\"><span class=\"toc-item-num\">2&nbsp;&nbsp;</span>Classical times</a></span><ul class=\"toc-item\"><li><span><a href=\"#Match-time\" data-toc-modified-id=\"Match-time-2.1\"><span class=\"toc-item-num\">2.1&nbsp;&nbsp;</span>Match time</a></span></li><li><span><a href=\"#Optimal-time\" data-toc-modified-id=\"Optimal-time-2.2\"><span class=\"toc-item-num\">2.2&nbsp;&nbsp;</span>Optimal time</a></span></li></ul></li><li><span><a href=\"#Gurobi-modeling\" data-toc-modified-id=\"Gurobi-modeling-3\"><span class=\"toc-item-num\">3&nbsp;&nbsp;</span>Gurobi modeling</a></span></li><li><span><a href=\"#Gurobi-upper-and-lower-bounds-for-AR\" data-toc-modified-id=\"Gurobi-upper-and-lower-bounds-for-AR-4\"><span class=\"toc-item-num\">4&nbsp;&nbsp;</span>Gurobi upper and lower bounds for AR</a></span><ul class=\"toc-item\"><li><span><a href=\"#Gurobi-activate\" data-toc-modified-id=\"Gurobi-activate-4.1\"><span class=\"toc-item-num\">4.1&nbsp;&nbsp;</span>Gurobi activate</a></span></li></ul></li></ul></div>"
   ]
  },
  {
   "cell_type": "code",
   "execution_count": 1,
   "metadata": {},
   "outputs": [],
   "source": [
    "import numpy as np\n",
    "import time\n",
    "import matplotlib.pyplot as plt\n",
    "\n",
    "from cartesian_explorer import Explorer\n",
    "import cartesian_explorer as caex\n",
    "\n",
    "import qtensor\n",
    "import pickle\n",
    "import socket"
   ]
  },
  {
   "cell_type": "code",
   "execution_count": 2,
   "metadata": {},
   "outputs": [
    {
     "name": "stdout",
     "output_type": "stream",
     "text": [
      "Using ray parallel for caex\n"
     ]
    },
    {
     "name": "stderr",
     "output_type": "stream",
     "text": [
      "2021-07-27 12:38:54,522\tINFO services.py:1090 -- View the Ray dashboard at \u001b[1m\u001b[32mhttp://127.0.0.1:8265\u001b[39m\u001b[22m\n"
     ]
    }
   ],
   "source": [
    "cache = caex.caches.JobLibCache(\"../caex_cache/energy_eff\")\n",
    "if socket.gethostname().startswith('skylake'):\n",
    "    print('Using ray parallel for caex')\n",
    "    parallel = caex.parallels.Ray(processes=55)\n",
    "else:\n",
    "    parallel = None\n",
    "    parallel = caex.parallels.Ray(processes=2)\n",
    "ex = Explorer(cache=cache, parallel=parallel)"
   ]
  },
  {
   "cell_type": "markdown",
   "metadata": {},
   "source": [
    "## Use gurobi with guesses about AR\n",
    "\n"
   ]
  },
  {
   "cell_type": "markdown",
   "metadata": {},
   "source": [
    "\n",
    "* $UB$ - upper bound on maxcut cost\n",
    "* $LB$ - lower bound \n",
    "* $C$ - optimal cost\n",
    "$UB>C$\n",
    "\n",
    "\n",
    "$AR = \\frac{LB}{C} > \\frac{LB}{UB}$"
   ]
  },
  {
   "cell_type": "code",
   "execution_count": 3,
   "metadata": {},
   "outputs": [],
   "source": [
    "#%load_ext autoreload\n",
    "#%autoreload 2"
   ]
  },
  {
   "cell_type": "code",
   "execution_count": 3,
   "metadata": {},
   "outputs": [],
   "source": [
    "import miplog_helper, scale_helper"
   ]
  },
  {
   "cell_type": "code",
   "execution_count": 4,
   "metadata": {},
   "outputs": [],
   "source": [
    "import xarray as xar"
   ]
  },
  {
   "cell_type": "code",
   "execution_count": null,
   "metadata": {},
   "outputs": [],
   "source": []
  },
  {
   "cell_type": "markdown",
   "metadata": {},
   "source": [
    "### Helper classes and functions"
   ]
  },
  {
   "cell_type": "code",
   "execution_count": 5,
   "metadata": {},
   "outputs": [],
   "source": [
    "\n",
    "from datetime import datetime, timedelta\n",
    "from functools import wraps\n",
    "\n",
    "class throttle():\n",
    "    \"\"\" Decorator class that limits number of calls for function\"\"\"\n",
    "    def __init__(self, per_sec=20):\n",
    "        self.period = timedelta(microseconds=1000000/per_sec)\n",
    "        self.t0 = datetime.min\n",
    "\n",
    "    def __call__(self, fn):\n",
    "        @wraps(fn)\n",
    "        def wrapper(*args, **kwargs):\n",
    "            t1 = datetime.now()\n",
    "            dt = t1 - self.t0\n",
    "            secs2wait = (self.period - dt).total_seconds()\n",
    "            if secs2wait > 0:\n",
    "                return \n",
    "\n",
    "            self.t0 = datetime.now()\n",
    "            return fn(*args, **kwargs)\n",
    "\n",
    "        return wrapper"
   ]
  },
  {
   "cell_type": "code",
   "execution_count": 6,
   "metadata": {},
   "outputs": [],
   "source": [
    "import networkx as nx\n",
    "from typing import Tuple\n",
    "import gurobipy as gb\n",
    "import time\n",
    "\n",
    "def maxcut_bounds_history(G: nx.Graph,\n",
    "                          max_time=10*60,\n",
    "                          max_cost=None,\n",
    "                          threads=None,\n",
    "                          timedelta=3,\n",
    "                          max_ar=1.0,\n",
    "                          verbose=True,\n",
    "                          callback=None,\n",
    "                          gurobi_options={}\n",
    "                         ) -> Tuple[list, list]:\n",
    "    p = gb.Model()\n",
    "    p.setParam('TimeLimit', max_time)\n",
    "    if max_cost is not None:\n",
    "        p.setParam('BestObjStop', max_cost)\n",
    "    if threads is not None:\n",
    "        p.setParam('Threads', threads)\n",
    "    if verbose is False:\n",
    "        p.setParam('OutputFlag', 0)\n",
    "    for key in gurobi_options:\n",
    "        p.setParam(key, gurobi_options[key])\n",
    "        \n",
    "    vdict = {}\n",
    "    for n in G.nodes:\n",
    "        vdict[n] = p.addVar(name='v_'+str(n), vtype=gb.GRB.BINARY)\n",
    "    scaled_v = {v:(2*x - 1) for v, x in vdict.items()}\n",
    "    C_i = [vdict[i] + vdict[j] - 2*vdict[i]*vdict[j] for i, j in G.edges]\n",
    "    \n",
    "    p.setObjective(sum(C_i), gb.GRB.MAXIMIZE)\n",
    "    \n",
    "    startop = time.time()\n",
    "    upper = []\n",
    "    lower = []\n",
    "    def clb(model, where):\n",
    "        # See here https://www.gurobi.com/documentation/9.1/refman/cb_codes.html\n",
    "        return None\n",
    "        \n",
    "    miplog = []\n",
    "    start = time.time()\n",
    "\n",
    "    @throttle(per_sec=1)\n",
    "    def on_update(model, where, cost, bound):\n",
    "        nonlocal start\n",
    "        if start == 0:\n",
    "            start = time.time()\n",
    "        dt = time.time()-start\n",
    "        miplog.append([dt, bound, cost])\n",
    "        print(f'[{dt}]', 'MIP', 'cost=', cost, 'bound=', bound)\n",
    "\n",
    "    def clb(model, where):\n",
    "        # See here https://www.gurobi.com/documentation/9.1/refman/cb_codes.html\n",
    "        if where == gb.CallbackClass.MIP:\n",
    "            cst = model.cbGet(gb.CallbackClass.MIP_OBJBST)\n",
    "            bnd = model.cbGet(gb.CallbackClass.MIP_OBJBND)\n",
    "            on_update(model, where, cst, bnd)\n",
    "        if where == gb.CallbackClass.MIPSOL:\n",
    "            cst = model.cbGet(gb.CallbackClass.MIPSOL_OBJBST)\n",
    "            bnd = model.cbGet(gb.CallbackClass.MIPSOL_OBJBND)\n",
    "            on_update(model, where, cst, bnd)\n",
    "        \n",
    "    if callback is None:\n",
    "        callback = clb\n",
    "        \n",
    "    p.optimize(callback=callback)\n",
    "    miplog.append(\n",
    "        [time.time()-startop, p.ObjBound, p.ObjVal]\n",
    "    )\n",
    "        \n",
    "    return miplog\n",
    "\n"
   ]
  },
  {
   "cell_type": "markdown",
   "metadata": {},
   "source": [
    "Set gurobi thread count to 1, so it's more meaningful to compare between different machines and more correct when doing parallel calculations"
   ]
  },
  {
   "cell_type": "code",
   "execution_count": 7,
   "metadata": {},
   "outputs": [],
   "source": [
    "GUROBI_THREADS = 1 #set to 0 to use all available"
   ]
  },
  {
   "cell_type": "markdown",
   "metadata": {},
   "source": [
    "## Classical times"
   ]
  },
  {
   "cell_type": "code",
   "execution_count": 8,
   "metadata": {},
   "outputs": [],
   "source": [
    "@ex.provider\n",
    "def graph(N, seed=10, degree=3):\n",
    "    return qtensor.toolbox.random_graph(nodes=N, seed=seed, degree=degree)\n",
    "\n",
    "@ex.add_function(provides=('classical_time_gurobi', 'opt_cost'), requires=('graph', ))\n",
    "def classical_time_gurobi(graph):\n",
    "    start = time.time()\n",
    "    c, sol = qtensor.tools.maxcut.gurobi_maxcut(graph, max_time=15*60, threads=GUROBI_THREADS)\n",
    "    return time.time() - start, c\n",
    "    \n",
    "@ex.provider\n",
    "def gurobi_hist(graph, max_time=600, gurobi_options={}):\n",
    "    miplog = maxcut_bounds_history(\n",
    "        graph, max_time=max_time, threads=GUROBI_THREADS,\n",
    "        gurobi_options=gurobi_options\n",
    "    )\n",
    "    dh = miplog_helper.MiplogData(miplog)\n",
    "    diffs = dh.get_diff_data()\n",
    "    start = dh.get_starting_point()\n",
    "    return [start] + diffs\n",
    "\n",
    "@ex.provider\n",
    "def classical_time_gw(graph):\n",
    "    start = time.time()\n",
    "    c = qtensor.tools.maxcut.goemans_williamson.gw_cost(graph)\n",
    "    return time.time() - start\n",
    "    "
   ]
  },
  {
   "cell_type": "code",
   "execution_count": 9,
   "metadata": {
    "scrolled": true
   },
   "outputs": [
    {
     "data": {
      "text/plain": [
       "{4: 4,\n",
       " 6: 4,\n",
       " 3: 4,\n",
       " 13: 4,\n",
       " 0: 4,\n",
       " 11: 4,\n",
       " 2: 4,\n",
       " 8: 4,\n",
       " 7: 4,\n",
       " 9: 4,\n",
       " 5: 4,\n",
       " 12: 4,\n",
       " 1: 4,\n",
       " 10: 4}"
      ]
     },
     "execution_count": 9,
     "metadata": {},
     "output_type": "execute_result"
    }
   ],
   "source": [
    "g = graph(N=14, seed=10, degree=4)\n",
    "dict(g.degree())"
   ]
  },
  {
   "cell_type": "code",
   "execution_count": 10,
   "metadata": {},
   "outputs": [
    {
     "data": {
      "text/plain": [
       "{3: 4, 7: 4, 4: 4, 6: 4, 1: 4, 0: 4, 8: 4, 2: 4, 5: 4, 9: 4}"
      ]
     },
     "execution_count": 10,
     "metadata": {},
     "output_type": "execute_result"
    }
   ],
   "source": [
    "g = ex.get_variable('graph', N=10, seed=10, degree=4)\n",
    "dict(g.degree())"
   ]
  },
  {
   "cell_type": "markdown",
   "metadata": {},
   "source": [
    "### Match time"
   ]
  },
  {
   "cell_type": "code",
   "execution_count": 11,
   "metadata": {},
   "outputs": [
    {
     "name": "stdout",
     "output_type": "stream",
     "text": [
      "[30, 100, 150, 1000, 1400, 5000, 5200, 7600, 10000, 12400, 15000, 40000, 50000, 100000]\n"
     ]
    }
   ],
   "source": [
    "match_ext = np.concatenate([\n",
    "    np.linspace(30, 100, 2),\n",
    "    np.linspace(150, 1000, 2),\n",
    "    np.linspace(1400, 5000, 2),\n",
    "    np.linspace(5200, 12400, 4),\n",
    "    np.linspace(15000, 40000, 2),\n",
    "    np.linspace(50000, 100000, 2),\n",
    "])\n",
    "match_ext = [2*int(x/2) for x in match_ext]\n",
    "print(match_ext)"
   ]
  },
  {
   "cell_type": "code",
   "execution_count": 12,
   "metadata": {
    "scrolled": false
   },
   "outputs": [
    {
     "data": {
      "application/vnd.jupyter.widget-view+json": {
       "model_id": "d50cd05084a9475d9a22f46a347d179a",
       "version_major": 2,
       "version_minor": 0
      },
      "text/plain": [
       "HBox(children=(HTML(value='Caex progress'), FloatProgress(value=1.0, bar_style='info', layout=Layout(width='20…"
      ]
     },
     "metadata": {},
     "output_type": "display_data"
    },
    {
     "name": "stdout",
     "output_type": "stream",
     "text": [
      "\n"
     ]
    },
    {
     "name": "stderr",
     "output_type": "stream",
     "text": [
      "/home/danlkv/.local/bin/lib/python3.8/site-packages/numpy/core/_asarray.py:83: VisibleDeprecationWarning: Creating an ndarray from ragged nested sequences (which is a list-or-tuple of lists-or-tuples-or ndarrays with different lengths or shapes) is deprecated. If you meant to do this, you must specify 'dtype=object' when creating the ndarray\n",
      "  return array(a, dtype, copy=False, order=order)\n"
     ]
    }
   ],
   "source": [
    "seeds = range(10, 20)\n",
    "degree=4\n",
    "gurobi_bytes = ex.map_variable(('gurobi_hist')\n",
    "                               , N=match_ext\n",
    "                               , seed=seeds\n",
    "                               , max_time=[30*60]\n",
    "                               , degree=[degree]\n",
    "                               , gurobi_options=[{'Symmetry': 0, 'PreQLinearize': 2}]\n",
    "                 )\n",
    "\n",
    "xd = xar.DataArray(gurobi_bytes, dims=('N', 'seed'), coords=(match_ext, seeds))\n",
    "# save the data\n",
    "pickle.dump(xd, open(f'../gurobi_match_d{degree}.pkl', 'wb'))"
   ]
  },
  {
   "cell_type": "code",
   "execution_count": 38,
   "metadata": {},
   "outputs": [
    {
     "data": {
      "text/plain": [
       "(0.8, 1.2)"
      ]
     },
     "execution_count": 38,
     "metadata": {},
     "output_type": "execute_result"
    },
    {
     "data": {
      "image/png": "[encoded data removed]",
      "text/plain": [
       "<Figure size 432x288 with 1 Axes>"
      ]
     },
     "metadata": {
      "needs_background": "light"
     },
     "output_type": "display_data"
    }
   ],
   "source": [
    "dat = gurobi_bytes[10][1]\n",
    "\n",
    "mh = miplog_helper.MiplogData.from_start_and_diffs(dat[0], dat[0:])\n",
    "mh.plot()\n",
    "plt.ylim(0.8, 1.2 )"
   ]
  },
  {
   "cell_type": "code",
   "execution_count": null,
   "metadata": {},
   "outputs": [],
   "source": [
    "xd = xar.DataArray(gurobi_bytes, dims=('N', 'seed'), coords=(match_ext, seeds))\n",
    "xd"
   ]
  },
  {
   "cell_type": "code",
   "execution_count": 17,
   "metadata": {},
   "outputs": [],
   "source": [
    "def to_mh(item):\n",
    "    starts, *diffs = item\n",
    "    return miplog_helper.MiplogData.from_start_and_diffs(starts, diffs)"
   ]
  },
  {
   "cell_type": "code",
   "execution_count": 19,
   "metadata": {},
   "outputs": [
    {
     "data": {
      "text/plain": [
       "<matplotlib.legend.Legend at 0x7fa33afccbb0>"
      ]
     },
     "execution_count": 19,
     "metadata": {},
     "output_type": "execute_result"
    },
    {
     "data": {
      "image/png": "[encoded data removed]",
      "text/plain": [
       "<Figure size 432x288 with 1 Axes>"
      ]
     },
     "metadata": {
      "needs_background": "light"
     },
     "output_type": "display_data"
    }
   ],
   "source": [
    "# check data\n",
    "seed = 1\n",
    "\n",
    "line = [to_mh(x).get_time_for_AR_lower(0.849)[0] for x in gurobi_bytes[:, seed]]\n",
    "plt.plot(match_ext, line, '*-', label='0.879')\n",
    "plt.xscale('log')\n",
    "plt.legend()\n",
    "line = [to_mh(x).get_time_for_AR_lower(0.95)[0] for x in gurobi_bytes[:, seed]]\n",
    "plt.plot(match_ext, line, '*-', label='0.95')\n",
    "\n",
    "line = [to_mh(x).get_time_for_AR_lower(0.98)[0] for x in gurobi_bytes[:, seed]]\n",
    "plt.plot(match_ext, line, label='0.98')\n",
    "plt.legend()"
   ]
  },
  {
   "cell_type": "code",
   "execution_count": 20,
   "metadata": {},
   "outputs": [],
   "source": [
    "\n"
   ]
  },
  {
   "cell_type": "markdown",
   "metadata": {},
   "source": [
    "### Optimal time"
   ]
  },
  {
   "cell_type": "code",
   "execution_count": 11,
   "metadata": {},
   "outputs": [],
   "source": [
    "max_N = 3000\n",
    "opt_max_N = 520\n",
    "seeds = [10, 11, 12, 13, 14]"
   ]
  },
  {
   "cell_type": "code",
   "execution_count": 13,
   "metadata": {
    "scrolled": true
   },
   "outputs": [
    {
     "data": {
      "application/vnd.jupyter.widget-view+json": {
       "model_id": "6fa355768807410ca86caa1c8e6f43ad",
       "version_major": 2,
       "version_minor": 0
      },
      "text/plain": [
       "HBox(children=(HTML(value='Caex progress'), FloatProgress(value=1.0, bar_style='info', layout=Layout(width='20…"
      ]
     },
     "metadata": {},
     "output_type": "display_data"
    },
    {
     "name": "stdout",
     "output_type": "stream",
     "text": [
      "\n"
     ]
    },
    {
     "ename": "KeyboardInterrupt",
     "evalue": "",
     "output_type": "error",
     "traceback": [
      "\u001b[0;31m---------------------------------------------------------------------------\u001b[0m",
      "\u001b[0;31mKeyboardInterrupt\u001b[0m                         Traceback (most recent call last)",
      "\u001b[0;32m<ipython-input-13-4415c3ff6bfe>\u001b[0m in \u001b[0;36m<module>\u001b[0;34m\u001b[0m\n\u001b[1;32m      2\u001b[0m \u001b[0mx_opt\u001b[0m \u001b[0;34m=\u001b[0m \u001b[0mnp\u001b[0m\u001b[0;34m.\u001b[0m\u001b[0marray\u001b[0m\u001b[0;34m(\u001b[0m\u001b[0mrange\u001b[0m\u001b[0;34m(\u001b[0m\u001b[0;36m10\u001b[0m\u001b[0;34m,\u001b[0m \u001b[0mopt_max_N\u001b[0m\u001b[0;34m,\u001b[0m \u001b[0;36m16\u001b[0m\u001b[0;34m)\u001b[0m\u001b[0;34m)\u001b[0m\u001b[0;34m\u001b[0m\u001b[0;34m\u001b[0m\u001b[0m\n\u001b[1;32m      3\u001b[0m \u001b[0;34m\u001b[0m\u001b[0m\n\u001b[0;32m----> 4\u001b[0;31m opt_time = ex.map_variable(('classical_time_gurobi')\n\u001b[0m\u001b[1;32m      5\u001b[0m                            \u001b[0;34m,\u001b[0m \u001b[0mN\u001b[0m\u001b[0;34m=\u001b[0m\u001b[0mx_opt\u001b[0m\u001b[0;34m\u001b[0m\u001b[0;34m\u001b[0m\u001b[0m\n\u001b[1;32m      6\u001b[0m                            \u001b[0;34m,\u001b[0m \u001b[0mseed\u001b[0m\u001b[0;34m=\u001b[0m\u001b[0mseeds\u001b[0m\u001b[0;34m\u001b[0m\u001b[0;34m\u001b[0m\u001b[0m\n",
      "\u001b[0;32m~/side/cartesian-explorer/cartesian_explorer/Explorer.py\u001b[0m in \u001b[0;36mmap_variable\u001b[0;34m(self, varname, **kwargs)\u001b[0m\n\u001b[1;32m    298\u001b[0m \u001b[0;34m\u001b[0m\u001b[0m\n\u001b[1;32m    299\u001b[0m     \u001b[0;32mdef\u001b[0m \u001b[0mmap_variable\u001b[0m\u001b[0;34m(\u001b[0m\u001b[0mself\u001b[0m\u001b[0;34m,\u001b[0m \u001b[0mvarname\u001b[0m\u001b[0;34m,\u001b[0m \u001b[0;34m**\u001b[0m\u001b[0mkwargs\u001b[0m\u001b[0;34m)\u001b[0m\u001b[0;34m:\u001b[0m\u001b[0;34m\u001b[0m\u001b[0;34m\u001b[0m\u001b[0m\n\u001b[0;32m--> 300\u001b[0;31m         \u001b[0;32mreturn\u001b[0m \u001b[0mself\u001b[0m\u001b[0;34m.\u001b[0m\u001b[0mmap_variables\u001b[0m\u001b[0;34m(\u001b[0m\u001b[0;34m[\u001b[0m\u001b[0mvarname\u001b[0m\u001b[0;34m]\u001b[0m\u001b[0;34m,\u001b[0m \u001b[0;34m**\u001b[0m\u001b[0mkwargs\u001b[0m\u001b[0;34m)\u001b[0m\u001b[0;34m[\u001b[0m\u001b[0;36m0\u001b[0m\u001b[0;34m]\u001b[0m\u001b[0;34m\u001b[0m\u001b[0;34m\u001b[0m\u001b[0m\n\u001b[0m\u001b[1;32m    301\u001b[0m \u001b[0;34m\u001b[0m\u001b[0m\n\u001b[1;32m    302\u001b[0m     \u001b[0;32mdef\u001b[0m \u001b[0mmap_variable_no_call\u001b[0m\u001b[0;34m(\u001b[0m\u001b[0mself\u001b[0m\u001b[0;34m,\u001b[0m \u001b[0mvarname\u001b[0m\u001b[0;34m,\u001b[0m \u001b[0;34m**\u001b[0m\u001b[0mkwargs\u001b[0m\u001b[0;34m)\u001b[0m\u001b[0;34m:\u001b[0m\u001b[0;34m\u001b[0m\u001b[0;34m\u001b[0m\u001b[0m\n",
      "\u001b[0;32m~/side/cartesian-explorer/cartesian_explorer/Explorer.py\u001b[0m in \u001b[0;36mmap_variables\u001b[0;34m(self, varnames, **kwargs)\u001b[0m\n\u001b[1;32m    292\u001b[0m \u001b[0;34m\u001b[0m\u001b[0m\n\u001b[1;32m    293\u001b[0m     \u001b[0;32mdef\u001b[0m \u001b[0mmap_variables\u001b[0m\u001b[0;34m(\u001b[0m\u001b[0mself\u001b[0m\u001b[0;34m,\u001b[0m \u001b[0mvarnames\u001b[0m\u001b[0;34m,\u001b[0m \u001b[0;34m**\u001b[0m\u001b[0mkwargs\u001b[0m\u001b[0;34m)\u001b[0m\u001b[0;34m:\u001b[0m\u001b[0;34m\u001b[0m\u001b[0;34m\u001b[0m\u001b[0m\n\u001b[0;32m--> 294\u001b[0;31m         \u001b[0;32mreturn\u001b[0m \u001b[0mself\u001b[0m\u001b[0;34m.\u001b[0m\u001b[0mmap\u001b[0m\u001b[0;34m(\u001b[0m\u001b[0mself\u001b[0m\u001b[0;34m.\u001b[0m\u001b[0mget_variables\u001b[0m\u001b[0;34m,\u001b[0m \u001b[0mvarnames\u001b[0m\u001b[0;34m=\u001b[0m\u001b[0;34m[\u001b[0m\u001b[0mvarnames\u001b[0m\u001b[0;34m]\u001b[0m\u001b[0;34m,\u001b[0m \u001b[0mout_dim\u001b[0m\u001b[0;34m=\u001b[0m\u001b[0mlen\u001b[0m\u001b[0;34m(\u001b[0m\u001b[0mvarnames\u001b[0m\u001b[0;34m)\u001b[0m\u001b[0;34m,\u001b[0m \u001b[0;34m**\u001b[0m\u001b[0mkwargs\u001b[0m\u001b[0;34m)\u001b[0m\u001b[0;34m\u001b[0m\u001b[0;34m\u001b[0m\u001b[0m\n\u001b[0m\u001b[1;32m    295\u001b[0m \u001b[0;34m\u001b[0m\u001b[0m\n\u001b[1;32m    296\u001b[0m     \u001b[0;32mdef\u001b[0m \u001b[0mmap_variables_no_call\u001b[0m\u001b[0;34m(\u001b[0m\u001b[0mself\u001b[0m\u001b[0;34m,\u001b[0m \u001b[0mvarnames\u001b[0m\u001b[0;34m,\u001b[0m \u001b[0;34m**\u001b[0m\u001b[0mkwargs\u001b[0m\u001b[0;34m)\u001b[0m\u001b[0;34m:\u001b[0m\u001b[0;34m\u001b[0m\u001b[0;34m\u001b[0m\u001b[0m\n",
      "\u001b[0;32m~/side/cartesian-explorer/cartesian_explorer/ExplorerBasic.py\u001b[0m in \u001b[0;36mmap\u001b[0;34m(self, func, processes, out_dim, pbar, **param_space)\u001b[0m\n\u001b[1;32m    200\u001b[0m         \u001b[0;32mif\u001b[0m \u001b[0;34m(\u001b[0m\u001b[0mprocesses\u001b[0m \u001b[0;34m>\u001b[0m \u001b[0;36m1\u001b[0m \u001b[0;32mand\u001b[0m \u001b[0mself\u001b[0m\u001b[0;34m.\u001b[0m\u001b[0mparallel_class\u001b[0m \u001b[0;32mis\u001b[0m \u001b[0;32mnot\u001b[0m \u001b[0;32mNone\u001b[0m\u001b[0;34m)\u001b[0m \u001b[0;32mor\u001b[0m \u001b[0mself\u001b[0m\u001b[0;34m.\u001b[0m\u001b[0mparallel\u001b[0m\u001b[0;34m:\u001b[0m\u001b[0;34m\u001b[0m\u001b[0;34m\u001b[0m\u001b[0m\n\u001b[1;32m    201\u001b[0m             \u001b[0mparallel\u001b[0m \u001b[0;34m=\u001b[0m \u001b[0mself\u001b[0m\u001b[0;34m.\u001b[0m\u001b[0mparallel\u001b[0m \u001b[0;32mor\u001b[0m \u001b[0mself\u001b[0m\u001b[0;34m.\u001b[0m\u001b[0mparallel_class\u001b[0m\u001b[0;34m(\u001b[0m\u001b[0mprocesses\u001b[0m\u001b[0;34m=\u001b[0m\u001b[0mprocesses\u001b[0m\u001b[0;34m)\u001b[0m\u001b[0;34m\u001b[0m\u001b[0;34m\u001b[0m\u001b[0m\n\u001b[0;32m--> 202\u001b[0;31m             \u001b[0mresult_lin\u001b[0m \u001b[0;34m=\u001b[0m \u001b[0mparallel\u001b[0m\u001b[0;34m.\u001b[0m\u001b[0mstarstarmap\u001b[0m\u001b[0;34m(\u001b[0m\u001b[0mfunc\u001b[0m\u001b[0;34m,\u001b[0m \u001b[0mparam_iter\u001b[0m\u001b[0;34m)\u001b[0m\u001b[0;34m\u001b[0m\u001b[0;34m\u001b[0m\u001b[0m\n\u001b[0m\u001b[1;32m    203\u001b[0m         \u001b[0;32melse\u001b[0m\u001b[0;34m:\u001b[0m\u001b[0;34m\u001b[0m\u001b[0;34m\u001b[0m\u001b[0m\n\u001b[1;32m    204\u001b[0m             \u001b[0;32mif\u001b[0m \u001b[0mpbar\u001b[0m\u001b[0;34m:\u001b[0m\u001b[0;34m\u001b[0m\u001b[0;34m\u001b[0m\u001b[0m\n",
      "\u001b[0;32m~/side/cartesian-explorer/cartesian_explorer/parallels.py\u001b[0m in \u001b[0;36mstarstarmap\u001b[0;34m(self, func, args)\u001b[0m\n\u001b[1;32m     26\u001b[0m \u001b[0;34m\u001b[0m\u001b[0m\n\u001b[1;32m     27\u001b[0m     \u001b[0;32mdef\u001b[0m \u001b[0mstarstarmap\u001b[0m\u001b[0;34m(\u001b[0m\u001b[0mself\u001b[0m\u001b[0;34m,\u001b[0m \u001b[0mfunc\u001b[0m\u001b[0;34m,\u001b[0m \u001b[0margs\u001b[0m\u001b[0;34m)\u001b[0m\u001b[0;34m:\u001b[0m\u001b[0;34m\u001b[0m\u001b[0;34m\u001b[0m\u001b[0m\n\u001b[0;32m---> 28\u001b[0;31m         \u001b[0;32mreturn\u001b[0m \u001b[0mself\u001b[0m\u001b[0;34m.\u001b[0m\u001b[0mmap\u001b[0m\u001b[0;34m(\u001b[0m\u001b[0mapply_kwargs\u001b[0m\u001b[0;34m,\u001b[0m \u001b[0mzip\u001b[0m\u001b[0;34m(\u001b[0m\u001b[0mrepeat\u001b[0m\u001b[0;34m(\u001b[0m\u001b[0mfunc\u001b[0m\u001b[0;34m)\u001b[0m\u001b[0;34m,\u001b[0m \u001b[0margs\u001b[0m\u001b[0;34m)\u001b[0m\u001b[0;34m)\u001b[0m\u001b[0;34m\u001b[0m\u001b[0;34m\u001b[0m\u001b[0m\n\u001b[0m\u001b[1;32m     29\u001b[0m \u001b[0;34m\u001b[0m\u001b[0m\n\u001b[1;32m     30\u001b[0m \u001b[0;32mclass\u001b[0m \u001b[0mMultiprocess\u001b[0m\u001b[0;34m(\u001b[0m\u001b[0mParallelIFC\u001b[0m\u001b[0;34m)\u001b[0m\u001b[0;34m:\u001b[0m\u001b[0;34m\u001b[0m\u001b[0;34m\u001b[0m\u001b[0m\n",
      "\u001b[0;32m~/side/cartesian-explorer/cartesian_explorer/parallels.py\u001b[0m in \u001b[0;36mmap\u001b[0;34m(self, func, args)\u001b[0m\n\u001b[1;32m     59\u001b[0m \u001b[0;34m\u001b[0m\u001b[0m\n\u001b[1;32m     60\u001b[0m     \u001b[0;32mdef\u001b[0m \u001b[0mmap\u001b[0m\u001b[0;34m(\u001b[0m\u001b[0mself\u001b[0m\u001b[0;34m,\u001b[0m \u001b[0mfunc\u001b[0m\u001b[0;34m,\u001b[0m \u001b[0margs\u001b[0m\u001b[0;34m)\u001b[0m\u001b[0;34m:\u001b[0m\u001b[0;34m\u001b[0m\u001b[0;34m\u001b[0m\u001b[0m\n\u001b[0;32m---> 61\u001b[0;31m         \u001b[0;32mreturn\u001b[0m \u001b[0mray_map_pbar\u001b[0m\u001b[0;34m(\u001b[0m\u001b[0mfunc\u001b[0m\u001b[0;34m,\u001b[0m \u001b[0margs\u001b[0m\u001b[0;34m)\u001b[0m\u001b[0;34m\u001b[0m\u001b[0;34m\u001b[0m\u001b[0m\n\u001b[0m",
      "\u001b[0;32m~/side/cartesian-explorer/cartesian_explorer/tools/ray_progressbar.py\u001b[0m in \u001b[0;36mmap_with_pbar\u001b[0;34m(func, args)\u001b[0m\n\u001b[1;32m     71\u001b[0m         \u001b[0mprint\u001b[0m\u001b[0;34m(\u001b[0m\u001b[0;34m'Interrupted while waiting for progressbar: '\u001b[0m\u001b[0;34m,\u001b[0m \u001b[0me\u001b[0m\u001b[0;34m,\u001b[0m \u001b[0mfile\u001b[0m\u001b[0;34m=\u001b[0m\u001b[0msys\u001b[0m\u001b[0;34m.\u001b[0m\u001b[0mstderr\u001b[0m\u001b[0;34m)\u001b[0m\u001b[0;34m\u001b[0m\u001b[0;34m\u001b[0m\u001b[0m\n\u001b[1;32m     72\u001b[0m     \u001b[0;32mfinally\u001b[0m\u001b[0;34m:\u001b[0m\u001b[0;34m\u001b[0m\u001b[0;34m\u001b[0m\u001b[0m\n\u001b[0;32m---> 73\u001b[0;31m         \u001b[0;32mreturn\u001b[0m \u001b[0mray\u001b[0m\u001b[0;34m.\u001b[0m\u001b[0mget\u001b[0m\u001b[0;34m(\u001b[0m\u001b[0mtasks\u001b[0m\u001b[0;34m)\u001b[0m\u001b[0;34m\u001b[0m\u001b[0;34m\u001b[0m\u001b[0m\n\u001b[0m\u001b[1;32m     74\u001b[0m \u001b[0;34m\u001b[0m\u001b[0m\n",
      "\u001b[0;32m~/.local/bin/lib/python3.8/site-packages/ray/worker.py\u001b[0m in \u001b[0;36mget\u001b[0;34m(object_refs, timeout)\u001b[0m\n\u001b[1;32m   1443\u001b[0m         \u001b[0;32mglobal\u001b[0m \u001b[0mlast_task_error_raise_time\u001b[0m\u001b[0;34m\u001b[0m\u001b[0;34m\u001b[0m\u001b[0m\n\u001b[1;32m   1444\u001b[0m         \u001b[0;31m# TODO(ujvl): Consider how to allow user to retrieve the ready objects.\u001b[0m\u001b[0;34m\u001b[0m\u001b[0;34m\u001b[0m\u001b[0;34m\u001b[0m\u001b[0m\n\u001b[0;32m-> 1445\u001b[0;31m         \u001b[0mvalues\u001b[0m \u001b[0;34m=\u001b[0m \u001b[0mworker\u001b[0m\u001b[0;34m.\u001b[0m\u001b[0mget_objects\u001b[0m\u001b[0;34m(\u001b[0m\u001b[0mobject_refs\u001b[0m\u001b[0;34m,\u001b[0m \u001b[0mtimeout\u001b[0m\u001b[0;34m=\u001b[0m\u001b[0mtimeout\u001b[0m\u001b[0;34m)\u001b[0m\u001b[0;34m\u001b[0m\u001b[0;34m\u001b[0m\u001b[0m\n\u001b[0m\u001b[1;32m   1446\u001b[0m         \u001b[0;32mfor\u001b[0m \u001b[0mi\u001b[0m\u001b[0;34m,\u001b[0m \u001b[0mvalue\u001b[0m \u001b[0;32min\u001b[0m \u001b[0menumerate\u001b[0m\u001b[0;34m(\u001b[0m\u001b[0mvalues\u001b[0m\u001b[0;34m)\u001b[0m\u001b[0;34m:\u001b[0m\u001b[0;34m\u001b[0m\u001b[0;34m\u001b[0m\u001b[0m\n\u001b[1;32m   1447\u001b[0m             \u001b[0;32mif\u001b[0m \u001b[0misinstance\u001b[0m\u001b[0;34m(\u001b[0m\u001b[0mvalue\u001b[0m\u001b[0;34m,\u001b[0m \u001b[0mRayError\u001b[0m\u001b[0;34m)\u001b[0m\u001b[0;34m:\u001b[0m\u001b[0;34m\u001b[0m\u001b[0;34m\u001b[0m\u001b[0m\n",
      "\u001b[0;32m~/.local/bin/lib/python3.8/site-packages/ray/worker.py\u001b[0m in \u001b[0;36mget_objects\u001b[0;34m(self, object_refs, timeout)\u001b[0m\n\u001b[1;32m    312\u001b[0m \u001b[0;34m\u001b[0m\u001b[0m\n\u001b[1;32m    313\u001b[0m         \u001b[0mtimeout_ms\u001b[0m \u001b[0;34m=\u001b[0m \u001b[0mint\u001b[0m\u001b[0;34m(\u001b[0m\u001b[0mtimeout\u001b[0m \u001b[0;34m*\u001b[0m \u001b[0;36m1000\u001b[0m\u001b[0;34m)\u001b[0m \u001b[0;32mif\u001b[0m \u001b[0mtimeout\u001b[0m \u001b[0;32melse\u001b[0m \u001b[0;34m-\u001b[0m\u001b[0;36m1\u001b[0m\u001b[0;34m\u001b[0m\u001b[0;34m\u001b[0m\u001b[0m\n\u001b[0;32m--> 314\u001b[0;31m         data_metadata_pairs = self.core_worker.get_objects(\n\u001b[0m\u001b[1;32m    315\u001b[0m             object_refs, self.current_task_id, timeout_ms)\n\u001b[1;32m    316\u001b[0m         \u001b[0;32mreturn\u001b[0m \u001b[0mself\u001b[0m\u001b[0;34m.\u001b[0m\u001b[0mdeserialize_objects\u001b[0m\u001b[0;34m(\u001b[0m\u001b[0mdata_metadata_pairs\u001b[0m\u001b[0;34m,\u001b[0m \u001b[0mobject_refs\u001b[0m\u001b[0;34m)\u001b[0m\u001b[0;34m\u001b[0m\u001b[0;34m\u001b[0m\u001b[0m\n",
      "\u001b[0;32mpython/ray/_raylet.pyx\u001b[0m in \u001b[0;36mray._raylet.CoreWorker.get_objects\u001b[0;34m()\u001b[0m\n",
      "\u001b[0;32mpython/ray/_raylet.pyx\u001b[0m in \u001b[0;36mray._raylet.check_status\u001b[0;34m()\u001b[0m\n",
      "\u001b[0;31mKeyboardInterrupt\u001b[0m: "
     ]
    }
   ],
   "source": [
    "x_ext = np.array(range(10, max_N, 36))\n",
    "x_opt = np.array(range(10, opt_max_N, 16))\n",
    "\n",
    "opt_time = ex.map_variable(('classical_time_gurobi')\n",
    "                           , N=x_opt\n",
    "                           , seed=seeds\n",
    "                 )\n"
   ]
  },
  {
   "cell_type": "code",
   "execution_count": 15,
   "metadata": {},
   "outputs": [],
   "source": [
    "opt = xar.DataArray(opt_time, dims=('N', 'seeds'), coords=(x_opt, seeds))"
   ]
  },
  {
   "cell_type": "code",
   "execution_count": 16,
   "metadata": {
    "scrolled": true
   },
   "outputs": [
    {
     "data": {
      "text/plain": [
       "[<matplotlib.lines.Line2D at 0x7f7510b36640>]"
      ]
     },
     "execution_count": 16,
     "metadata": {},
     "output_type": "execute_result"
    },
    {
     "data": {
      "image/png": "[encoded data removed]",
      "text/plain": [
       "<Figure size 432x288 with 1 Axes>"
      ]
     },
     "metadata": {
      "needs_background": "light"
     },
     "output_type": "display_data"
    }
   ],
   "source": [
    "# check the data\n",
    "plt.plot(x_opt, np.mean(opt_time, -1))"
   ]
  },
  {
   "cell_type": "code",
   "execution_count": null,
   "metadata": {},
   "outputs": [],
   "source": []
  },
  {
   "cell_type": "code",
   "execution_count": null,
   "metadata": {},
   "outputs": [],
   "source": []
  },
  {
   "cell_type": "markdown",
   "metadata": {},
   "source": [
    "## Gurobi modeling"
   ]
  },
  {
   "cell_type": "code",
   "execution_count": null,
   "metadata": {},
   "outputs": [],
   "source": [
    "import tqdm.auto as tqdm\n",
    "\n",
    "import time"
   ]
  },
  {
   "cell_type": "code",
   "execution_count": null,
   "metadata": {},
   "outputs": [],
   "source": [
    "SEEDS = range(1, 2)"
   ]
  },
  {
   "cell_type": "code",
   "execution_count": null,
   "metadata": {
    "scrolled": true
   },
   "outputs": [],
   "source": [
    "for seed in SEEDS:\n",
    "    miplog3 = maxcut_bounds_history(nx.random_regular_graph(3, 390, seed=seed), max_time=200, )"
   ]
  },
  {
   "cell_type": "code",
   "execution_count": null,
   "metadata": {},
   "outputs": [],
   "source": [
    "dh = miplog_helper.MiplogData(miplog3)\n",
    "byt = dh.get_bytes()\n",
    "dh2 = miplog_helper.MiplogData.from_bytes(byt)\n",
    "miplog4 = dh2.miplog\n",
    "miplog4"
   ]
  },
  {
   "cell_type": "code",
   "execution_count": null,
   "metadata": {},
   "outputs": [],
   "source": [
    "mipd = np.array(miplog4).T\n",
    "\n",
    "start = 2\n",
    "opt = mipd[2][-1]\n",
    "ix = np.argmin(np.abs(30-mipd[0]))\n",
    "print('ix', ix, mipd[0][ix])\n",
    "cost_lb = mipd[2][ix]\n",
    "plt.plot(mipd[0][start:], mipd[1][start:]/opt, '*-')\n",
    "plt.plot(mipd[0][start:], mipd[2][start:]/(opt), '*-', label='AR')\n",
    "plt.plot(mipd[0][start:], mipd[2][start:]/cost_lb, '*-', label='AR UB')\n",
    "plt.plot(mipd[0][start:], mipd[2][start:]/mipd[1][start:], '-', label='AR LB')\n",
    "plt.legend()\n",
    "plt.xscale('log')\n",
    "plt.hlines(1, min(mipd[0][start:]), max(mipd[0]))"
   ]
  },
  {
   "cell_type": "code",
   "execution_count": 31,
   "metadata": {},
   "outputs": [],
   "source": [
    "def get_time_for_AR_lower(miplog, AR):\n",
    "    \"\"\" \n",
    "    Args:\n",
    "        miplog (np.array): :,3 shaped array with times, upper bound cost and lower bound cost\n",
    "        AR (float): which AR bound to look for\n",
    "    Returns:\n",
    "        time, AR\n",
    "    \"\"\"\n",
    "    times, bounds, costs = np.array(miplog)[1:].T\n",
    "    AR_bound = costs/bounds\n",
    "    # get the index at which AR bound is higher than requested\n",
    "    ix = np.where((AR_bound-AR)>0)[0]\n",
    "    if len(ix)==0: return None, None\n",
    "    else: ix = min(ix)\n",
    "    return times[ix], AR_bound[ix]\n",
    "    "
   ]
  },
  {
   "cell_type": "code",
   "execution_count": 32,
   "metadata": {},
   "outputs": [
    {
     "ename": "NameError",
     "evalue": "name 'miplog' is not defined",
     "output_type": "error",
     "traceback": [
      "\u001b[0;31m---------------------------------------------------------------------------\u001b[0m",
      "\u001b[0;31mNameError\u001b[0m                                 Traceback (most recent call last)",
      "\u001b[0;32m<ipython-input-32-dc54096cff9e>\u001b[0m in \u001b[0;36m<module>\u001b[0;34m\u001b[0m\n\u001b[0;32m----> 1\u001b[0;31m \u001b[0mget_time_for_AR_lower\u001b[0m\u001b[0;34m(\u001b[0m\u001b[0mmiplog\u001b[0m\u001b[0;34m,\u001b[0m \u001b[0;36m0.9\u001b[0m\u001b[0;34m)\u001b[0m\u001b[0;34m\u001b[0m\u001b[0;34m\u001b[0m\u001b[0m\n\u001b[0m",
      "\u001b[0;31mNameError\u001b[0m: name 'miplog' is not defined"
     ]
    }
   ],
   "source": [
    "get_time_for_AR_lower(miplog, 0.9)"
   ]
  },
  {
   "cell_type": "code",
   "execution_count": 33,
   "metadata": {},
   "outputs": [],
   "source": [
    "def get_time_for_AR_upper(miplog, AR):\n",
    "    \"\"\" \n",
    "    Args:\n",
    "        miplog (np.array): :,3 shaped array with times, upper bound cost and lower bound cost\n",
    "        AR (float): which AR bound to look for\n",
    "    Returns:\n",
    "        time, AR\n",
    "    \"\"\"\n",
    "    times, bounds, costs = np.array(miplog)[1:].T\n",
    "    AR_bound = costs/costs[-1]\n",
    "    # get the index at which AR bound is higher than requested\n",
    "    ix = np.where((AR_bound-AR)>=0)[0]\n",
    "    if len(ix)==0: return None, None\n",
    "    else: ix = min(ix)\n",
    "    return times[ix], AR_bound[ix]\n",
    "    "
   ]
  },
  {
   "cell_type": "code",
   "execution_count": null,
   "metadata": {},
   "outputs": [],
   "source": [
    "get_time_for_AR_upper(miplog3, 0.999), get_time_for_AR_lower(miplog3, 0.996)"
   ]
  },
  {
   "cell_type": "code",
   "execution_count": null,
   "metadata": {},
   "outputs": [],
   "source": [
    "get_time_for_AR_upper(miplog4, 0.999), get_time_for_AR_lower(miplog4, 0.996)"
   ]
  },
  {
   "cell_type": "code",
   "execution_count": null,
   "metadata": {},
   "outputs": [],
   "source": [
    "times = [(get_time_for_AR_upper(miplog, x)[0],\n",
    "         get_time_for_AR_lower(miplog, x)[0]) for x in np.linspace(0.85, 1, 20)]"
   ]
  },
  {
   "cell_type": "code",
   "execution_count": null,
   "metadata": {},
   "outputs": [],
   "source": [
    "_t = np.array(times).T\n",
    "plt.plot(np.linspace(0.85, 1, 20), _t[0], label='upper')\n",
    "plt.plot(np.linspace(0.85, 1, 20), _t[1], label='lower')\n",
    "plt.legend()\n",
    "plt.ylabel('Time to achieve')\n",
    "plt.xlabel('AR')\n",
    "plt.yscale('log')"
   ]
  },
  {
   "cell_type": "code",
   "execution_count": null,
   "metadata": {},
   "outputs": [],
   "source": [
    "plt.hist(np.log(dt), bins=50)"
   ]
  },
  {
   "cell_type": "code",
   "execution_count": null,
   "metadata": {},
   "outputs": [],
   "source": [
    "plt.plot(mipd[0])"
   ]
  },
  {
   "cell_type": "code",
   "execution_count": null,
   "metadata": {},
   "outputs": [],
   "source": [
    "i"
   ]
  },
  {
   "cell_type": "code",
   "execution_count": null,
   "metadata": {},
   "outputs": [],
   "source": [
    "for upper, lower in zip(updata, ldata):\n",
    "    plt.plot(upper, label='upper', alpha=0.3, color='r')\n",
    "    plt.plot(lower, label='lower', alpha=0.3, color='b')\n",
    "    \n",
    "plt.xlabel('Time, seconds')\n",
    "plt.ylabel('Cost value')"
   ]
  },
  {
   "cell_type": "code",
   "execution_count": null,
   "metadata": {},
   "outputs": [],
   "source": [
    "for upper, lower in zip(updata, ldata):\n",
    "    upper = np.array(upper)\n",
    "    lower = np.array(lower)\n",
    "    x = range(1, len(lower)+1)\n",
    "    #plt.plot(upper/upper.min(), label='upper', alpha=0.3, color='r')\n",
    "    plt.plot(x, lower/lower.max(), label='lower', alpha=0.3, color='b')\n",
    "    \n",
    "plt.xlabel('Time, seconds')\n",
    "plt.ylabel('Cost value')"
   ]
  },
  {
   "cell_type": "code",
   "execution_count": null,
   "metadata": {},
   "outputs": [],
   "source": [
    "for upper, lower in zip(updata, ldata):\n",
    "    upper = np.array(upper)\n",
    "    lower = np.array(lower)\n",
    "    x = range(0, len(lower))\n",
    "    #plt.plot(upper/upper.min(), label='upper', alpha=0.3, color='r')\n",
    "    plt.plot(x, lower/lower.max(), label='lower', alpha=0.3, color='b')\n",
    "plt.xscale('symlog')    \n",
    "plt.xlabel('Time, seconds')\n",
    "plt.ylabel('Cost value')\n",
    "plt.grid()"
   ]
  },
  {
   "cell_type": "markdown",
   "metadata": {},
   "source": [
    "## Gurobi upper and lower bounds for AR\n",
    "\n",
    "$$$\n",
    "\\foreach \\delta>0 AR(t+\\delta)>AR(t)\n",
    "$$$"
   ]
  },
  {
   "cell_type": "markdown",
   "metadata": {},
   "source": [
    "### Gurobi activate"
   ]
  },
  {
   "cell_type": "code",
   "execution_count": 33,
   "metadata": {
    "scrolled": true
   },
   "outputs": [
    {
     "name": "stdout",
     "output_type": "stream",
     "text": [
      "getting license\n",
      "info  : grbgetkey version 9.1.2, build v9.1.2rc0\n",
      "info  : Contacting Gurobi license server...\n",
      "error : ERROR 303: hostname jlselogin6.pub.jlse.anl.gov (140.221.96.148) not recognized as belonging to an academic domain\n",
      "info  : Is your computer connected to the university network?\n",
      "info  : Your computer must be connected to the university network for the grbgetkey\n",
      "info  : command to work. You can connect your computer either directly or via a VPN\n",
      "info  : that tunnels all traffic through the university network.  Once the license\n",
      "info  : file is setup, your computer does not need to be connected to the university\n",
      "info  : network. You can repeat this process to get licenses for additional computers.\n",
      "info  : If you are unable to setup this license file, please visit our support website\n",
      "info  : https://support.gurobi.com for further assistance.\n"
     ]
    }
   ],
   "source": [
    "import socket\n",
    "\n",
    "if socket.gethostname() == 'DESKTOP-1OG5J92':\n",
    "    gurobi_lic = '/home/plate/git-built/gurobi/'\n",
    "    print('getting license')\n",
    "    grbkey = 'd3f381ce-d331-11eb-89be-0242ac120002'\n",
    "    # (over)write key to gurobi_lic directory and don't ask questions\n",
    "    !grbgetkey -q --path $gurobi_lic $grbkey\n",
    "    \n",
    "elif socket.gethostname().startswith('skylake'):\n",
    "    gurobi_lic = '/home/danlkv/git-build/gurobi/'\n",
    "    print('getting license')\n",
    "    grbkey = '32956844-dfa0-11eb-8601-0242ac120002'\n",
    "    # (over)write key to gurobi_lic directory and don't ask questions\n",
    "    !grbgetkey -q --path $gurobi_lic $grbkey"
   ]
  },
  {
   "cell_type": "code",
   "execution_count": 10,
   "metadata": {
    "scrolled": true
   },
   "outputs": [
    {
     "data": {
      "text/plain": [
       "'skylake08'"
      ]
     },
     "execution_count": 10,
     "metadata": {},
     "output_type": "execute_result"
    }
   ],
   "source": [
    "socket.gethostname()"
   ]
  },
  {
   "cell_type": "code",
   "execution_count": 11,
   "metadata": {
    "scrolled": true
   },
   "outputs": [
    {
     "name": "stdout",
     "output_type": "stream",
     "text": [
      "Academic license - for non-commercial use only - registered to dlykov@anl.gov\n",
      "Using license file /home/danlkv/git-build/gurobi/gurobi.lic\n",
      "Set parameter WLSAccessID\n",
      "Set parameter WLSSecret\n",
      "Set parameter LicenseID\n",
      "Changed value of parameter TimeLimit to 600.0\n",
      "   Prev: inf  Min: 0.0  Max: inf  Default: inf\n",
      "Gurobi Optimizer version 9.1.2 build v9.1.2rc0 (linux64)\n",
      "Thread count: 56 physical cores, 112 logical processors, using up to 32 threads\n",
      "Academic license - for non-commercial use only - registered to dlykov@anl.gov\n",
      "Optimize a model with 0 rows, 12 columns and 0 nonzeros\n",
      "Model fingerprint: 0xf5cf4a2a\n",
      "Model has 18 quadratic objective terms\n",
      "Variable types: 0 continuous, 12 integer (12 binary)\n",
      "Coefficient statistics:\n",
      "  Matrix range     [0e+00, 0e+00]\n",
      "  Objective range  [3e+00, 3e+00]\n",
      "  QObjective range [4e+00, 4e+00]\n",
      "  Bounds range     [1e+00, 1e+00]\n",
      "  RHS range        [0e+00, 0e+00]\n",
      "Found heuristic solution: objective -0.0000000\n",
      "Presolve time: 0.00s\n",
      "Presolved: 18 rows, 30 columns, 54 nonzeros\n",
      "Variable types: 0 continuous, 30 integer (30 binary)\n",
      "\n",
      "Root relaxation: objective -1.800000e+01, 11 iterations, 0.00 seconds\n",
      "\n",
      "    Nodes    |    Current Node    |     Objective Bounds      |     Work\n",
      " Expl Unexpl |  Obj  Depth IntInf | Incumbent    BestBd   Gap | It/Node Time\n",
      "\n",
      "     0     0   18.00000    0   12   -0.00000   18.00000      -     -    0s\n",
      "H    0     0                      14.0000000   18.00000  28.6%     -    0s\n",
      "H    0     0                      15.0000000   18.00000  20.0%     -    0s\n",
      "\n",
      "Cutting planes:\n",
      "  Gomory: 1\n",
      "  MIR: 3\n",
      "  Zero half: 4\n",
      "\n",
      "Explored 1 nodes (13 simplex iterations) in 0.01 seconds\n",
      "Thread count was 32 (of 112 available processors)\n",
      "\n",
      "Solution count 3: 15 14 -0 \n",
      "\n",
      "Optimal solution found (tolerance 1.00e-04)\n",
      "Best objective 1.500000000000e+01, best bound 1.500000000000e+01, gap 0.0000%\n"
     ]
    },
    {
     "data": {
      "text/plain": [
       "(15.0, [0, 0, 1, 0, 0, 1, 1, 1, 0, 1, 0, 0])"
      ]
     },
     "execution_count": 11,
     "metadata": {},
     "output_type": "execute_result"
    }
   ],
   "source": [
    "qtensor.tools.maxcut.gurobi_maxcut(nx.random_regular_graph(3, 12))"
   ]
  },
  {
   "cell_type": "code",
   "execution_count": null,
   "metadata": {},
   "outputs": [],
   "source": []
  }
 ],
 "metadata": {
  "kernelspec": {
   "display_name": "Python 3",
   "language": "python",
   "name": "python3"
  },
  "language_info": {
   "codemirror_mode": {
    "name": "ipython",
    "version": 3
   },
   "file_extension": ".py",
   "mimetype": "text/x-python",
   "name": "python",
   "nbconvert_exporter": "python",
   "pygments_lexer": "ipython3",
   "version": "3.8.1+"
  },
  "toc": {
   "base_numbering": 1,
   "nav_menu": {},
   "number_sections": true,
   "sideBar": true,
   "skip_h1_title": true,
   "title_cell": "Table of Contents",
   "title_sidebar": "Contents",
   "toc_cell": true,
   "toc_position": {
    "height": "calc(100% - 180px)",
    "left": "10px",
    "top": "150px",
    "width": "164.991px"
   },
   "toc_section_display": true,
   "toc_window_display": true
  },
  "varInspector": {
   "cols": {
    "lenName": 16,
    "lenType": 16,
    "lenVar": 40
   },
   "kernels_config": {
    "python": {
     "delete_cmd_postfix": "",
     "delete_cmd_prefix": "del ",
     "library": "var_list.py",
     "varRefreshCmd": "print(var_dic_list())"
    },
    "r": {
     "delete_cmd_postfix": ") ",
     "delete_cmd_prefix": "rm(",
     "library": "var_list.r",
     "varRefreshCmd": "cat(var_dic_list()) "
    }
   },
   "types_to_exclude": [
    "module",
    "function",
    "builtin_function_or_method",
    "instance",
    "_Feature"
   ],
   "window_display": false
  }
 },
 "nbformat": 4,
 "nbformat_minor": 4
}
