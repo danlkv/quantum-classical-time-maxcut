{
 "cells": [
  {
   "cell_type": "markdown",
   "metadata": {
    "toc": true
   },
   "source": [
    "<h1>Table of Contents<span class=\"tocSkip\"></span></h1>\n",
    "<div class=\"toc\"><ul class=\"toc-item\"><li><span><a href=\"#Use-gurobi-with-guesses-about-AR\" data-toc-modified-id=\"Use-gurobi-with-guesses-about-AR-1\"><span class=\"toc-item-num\">1&nbsp;&nbsp;</span>Use gurobi with guesses about AR</a></span><ul class=\"toc-item\"><li><span><a href=\"#Helper-classes-and-functions\" data-toc-modified-id=\"Helper-classes-and-functions-1.1\"><span class=\"toc-item-num\">1.1&nbsp;&nbsp;</span>Helper classes and functions</a></span></li></ul></li><li><span><a href=\"#Classical-times\" data-toc-modified-id=\"Classical-times-2\"><span class=\"toc-item-num\">2&nbsp;&nbsp;</span>Classical times</a></span><ul class=\"toc-item\"><li><span><a href=\"#Optimal-time\" data-toc-modified-id=\"Optimal-time-2.1\"><span class=\"toc-item-num\">2.1&nbsp;&nbsp;</span>Optimal time</a></span></li><li><span><a href=\"#Match-time,-new\" data-toc-modified-id=\"Match-time,-new-2.2\"><span class=\"toc-item-num\">2.2&nbsp;&nbsp;</span>Match time, new</a></span></li></ul></li><li><span><a href=\"#Gurobi-modeling\" data-toc-modified-id=\"Gurobi-modeling-3\"><span class=\"toc-item-num\">3&nbsp;&nbsp;</span>Gurobi modeling</a></span></li><li><span><a href=\"#Gurobi-upper-and-lower-bounds-for-AR\" data-toc-modified-id=\"Gurobi-upper-and-lower-bounds-for-AR-4\"><span class=\"toc-item-num\">4&nbsp;&nbsp;</span>Gurobi upper and lower bounds for AR</a></span><ul class=\"toc-item\"><li><span><a href=\"#Gurobi-activate\" data-toc-modified-id=\"Gurobi-activate-4.1\"><span class=\"toc-item-num\">4.1&nbsp;&nbsp;</span>Gurobi activate</a></span></li></ul></li></ul></div>"
   ]
  },
  {
   "cell_type": "code",
   "execution_count": 1,
   "metadata": {},
   "outputs": [],
   "source": [
    "import numpy as np\n",
    "import time\n",
    "import matplotlib.pyplot as plt\n",
    "\n",
    "from cartesian_explorer import Explorer\n",
    "import cartesian_explorer as caex\n",
    "\n",
    "import qtensor\n",
    "import socket"
   ]
  },
  {
   "cell_type": "code",
   "execution_count": 2,
   "metadata": {},
   "outputs": [
    {
     "name": "stderr",
     "output_type": "stream",
     "text": [
      "2021-06-24 07:57:25,533\tINFO services.py:1171 -- View the Ray dashboard at \u001b[1m\u001b[32mhttp://127.0.0.1:8265\u001b[39m\u001b[22m\n"
     ]
    }
   ],
   "source": [
    "cache = caex.caches.JobLibCache(\"../caex_cache/energy_eff\")\n",
    "if socket.gethostname().startswith('skylake'):\n",
    "    print('Using ray parallel for caex')\n",
    "    parallel = caex.parallels.Ray(processes=55)\n",
    "else:\n",
    "    parallel = None\n",
    "    parallel = caex.parallels.Ray(processes=2)\n",
    "ex = Explorer(cache=cache, parallel=parallel)"
   ]
  },
  {
   "cell_type": "markdown",
   "metadata": {},
   "source": [
    "## Use gurobi with guesses about AR\n",
    "\n"
   ]
  },
  {
   "cell_type": "markdown",
   "metadata": {},
   "source": [
    "\n",
    "* $UB$ - upper bound on maxcut cost\n",
    "* $LB$ - lower bound \n",
    "* $C$ - optimal cost\n",
    "$UB>C$\n",
    "\n",
    "\n",
    "$AR = \\frac{LB}{C} > \\frac{LB}{UB}$"
   ]
  },
  {
   "cell_type": "code",
   "execution_count": 3,
   "metadata": {},
   "outputs": [],
   "source": [
    "%load_ext autoreload\n",
    "%autoreload 2"
   ]
  },
  {
   "cell_type": "code",
   "execution_count": 4,
   "metadata": {},
   "outputs": [],
   "source": [
    "import miplog_helper, scale_helper"
   ]
  },
  {
   "cell_type": "code",
   "execution_count": null,
   "metadata": {},
   "outputs": [],
   "source": [
    "import xarray as xar"
   ]
  },
  {
   "cell_type": "code",
   "execution_count": null,
   "metadata": {},
   "outputs": [],
   "source": []
  },
  {
   "cell_type": "markdown",
   "metadata": {},
   "source": [
    "### Helper classes and functions"
   ]
  },
  {
   "cell_type": "code",
   "execution_count": 5,
   "metadata": {},
   "outputs": [],
   "source": [
    "\n",
    "from datetime import datetime, timedelta\n",
    "from functools import wraps\n",
    "\n",
    "class throttle():\n",
    "    \"\"\" Decorator class that limits number of calls for function\"\"\"\n",
    "    def __init__(self, per_sec=20):\n",
    "        self.period = timedelta(microseconds=1000000/per_sec)\n",
    "        self.t0 = datetime.min\n",
    "\n",
    "    def __call__(self, fn):\n",
    "        @wraps(fn)\n",
    "        def wrapper(*args, **kwargs):\n",
    "            t1 = datetime.now()\n",
    "            dt = t1 - self.t0\n",
    "            secs2wait = (self.period - dt).total_seconds()\n",
    "            if secs2wait > 0:\n",
    "                return \n",
    "\n",
    "            self.t0 = datetime.now()\n",
    "            return fn(*args, **kwargs)\n",
    "\n",
    "        return wrapper"
   ]
  },
  {
   "cell_type": "code",
   "execution_count": 6,
   "metadata": {},
   "outputs": [],
   "source": [
    "import networkx as nx\n",
    "from typing import Tuple\n",
    "import gurobipy as gb\n",
    "import time\n",
    "\n",
    "def maxcut_bounds_history(G: nx.Graph,\n",
    "                          max_time=10*60,\n",
    "                          max_cost=None,\n",
    "                          threads=None,\n",
    "                          timedelta=3,\n",
    "                          max_ar=1.0,\n",
    "                          verbose=True,\n",
    "                          callback=None\n",
    "                         ) -> Tuple[list, list]:\n",
    "    p = gb.Model()\n",
    "    p.setParam('TimeLimit', max_time)\n",
    "    if max_cost is not None:\n",
    "        p.setParam('BestObjStop', max_cost)\n",
    "    if threads is not None:\n",
    "        p.setParam('Threads', threads)\n",
    "    if verbose is False:\n",
    "        p.setParam('OutputFlag', 0)\n",
    "        \n",
    "    vdict = {}\n",
    "    for n in G.nodes:\n",
    "        vdict[n] = p.addVar(name='v_'+str(n), vtype=gb.GRB.BINARY)\n",
    "    scaled_v = {v:(2*x - 1) for v, x in vdict.items()}\n",
    "    C_i = [vdict[i] + vdict[j] - 2*vdict[i]*vdict[j] for i, j in G.edges]\n",
    "    \n",
    "    p.setObjective(sum(C_i), gb.GRB.MAXIMIZE)\n",
    "    \n",
    "    startop = time.time()\n",
    "    upper = []\n",
    "    lower = []\n",
    "    def clb(model, where):\n",
    "        # See here https://www.gurobi.com/documentation/9.1/refman/cb_codes.html\n",
    "        return None\n",
    "        \n",
    "    miplog = []\n",
    "    start = 0\n",
    "\n",
    "    @throttle(per_sec=1)\n",
    "    def on_update(model, where, cost, bound):\n",
    "        nonlocal start\n",
    "        if start == 0:\n",
    "            start = time.time()\n",
    "        dt = time.time()-start\n",
    "        miplog.append([dt, bound, cost])\n",
    "        print(f'[{dt}]', 'MIP', 'cost=', cost, 'bound=', bound)\n",
    "\n",
    "    def clb(model, where):\n",
    "        # See here https://www.gurobi.com/documentation/9.1/refman/cb_codes.html\n",
    "        if where == gb.CallbackClass.MIP:\n",
    "            cst = model.cbGet(gb.CallbackClass.MIP_OBJBST)\n",
    "            bnd = model.cbGet(gb.CallbackClass.MIP_OBJBND)\n",
    "            on_update(model, where, cst, bnd)\n",
    "        if where == gb.CallbackClass.MIPSOL:\n",
    "            cst = model.cbGet(gb.CallbackClass.MIPSOL_OBJBST)\n",
    "            bnd = model.cbGet(gb.CallbackClass.MIPSOL_OBJBND)\n",
    "            on_update(model, where, cst, bnd)\n",
    "        \n",
    "    if callback is None:\n",
    "        callback = clb\n",
    "        \n",
    "    p.optimize(callback=callback)\n",
    "    miplog.append(\n",
    "        [time.time()-startop, p.ObjBound, p.ObjVal]\n",
    "    )\n",
    "        \n",
    "    return miplog\n",
    "\n"
   ]
  },
  {
   "cell_type": "markdown",
   "metadata": {},
   "source": [
    "Set gurobi thread count to 1, so it's more meaningful to compare between different machines and more correct when doing parallel calculations"
   ]
  },
  {
   "cell_type": "code",
   "execution_count": 7,
   "metadata": {},
   "outputs": [],
   "source": [
    "GUROBI_THREADS = 1 #set to 0 to use all available"
   ]
  },
  {
   "cell_type": "markdown",
   "metadata": {},
   "source": [
    "## Classical times"
   ]
  },
  {
   "cell_type": "code",
   "execution_count": 67,
   "metadata": {},
   "outputs": [],
   "source": [
    "@ex.provider\n",
    "def graph(N, seed=10):\n",
    "    return qtensor.toolbox.random_graph(nodes=N, seed=seed, degree=3)\n",
    "\n",
    "@ex.add_function(provides=('classical_time_gurobi', 'opt_cost'), requires=('graph', ))\n",
    "def classical_time_gurobi(graph):\n",
    "    start = time.time()\n",
    "    c, sol = qtensor.tools.maxcut.gurobi_maxcut(graph, max_time=15*60, threads=GUROBI_THREADS)\n",
    "    return time.time() - start, c\n",
    "    \n",
    "@ex.provider\n",
    "def gurobi_hist(graph):\n",
    "    miplog = maxcut_bounds_history(graph, max_time=600)\n",
    "    dh = miplog_helper.MiplogData(miplog)\n",
    "    diffs = dh.get_diff_data()\n",
    "    start = dh.get_starting_point()\n",
    "    return start, diffs\n",
    "\n",
    "@ex.provider\n",
    "def classical_time_gw(graph):\n",
    "    start = time.time()\n",
    "    c = qtensor.tools.maxcut.goemans_williamson.gw_cost(graph)\n",
    "    return time.time() - start\n",
    "    "
   ]
  },
  {
   "cell_type": "code",
   "execution_count": 64,
   "metadata": {},
   "outputs": [],
   "source": [
    "@ex.provider\n",
    "def approx_ratio(p):\n",
    "    try:\n",
    "        AR = qtensor.tools.BETHE_QAOA_VALUES[str(p)]['val']\n",
    "        if AR>0:\n",
    "            return AR\n",
    "        else:\n",
    "            raise KeyError\n",
    "    except KeyError:\n",
    "        AR = 1 - (0.3-np.log2(p)*0.05)\n",
    "    return AR"
   ]
  },
  {
   "cell_type": "markdown",
   "metadata": {},
   "source": [
    "### Optimal time"
   ]
  },
  {
   "cell_type": "code",
   "execution_count": null,
   "metadata": {},
   "outputs": [],
   "source": [
    "max_N = 3000\n",
    "opt_max_N = 520\n",
    "seeds = [10, 11, 12, 13, 14]"
   ]
  },
  {
   "cell_type": "code",
   "execution_count": null,
   "metadata": {
    "scrolled": true
   },
   "outputs": [],
   "source": [
    "x_ext = np.array(range(10, max_N, 36))\n",
    "x_opt = np.array(range(10, opt_max_N, 16))\n",
    "\n",
    "opt_time = ex.map_variable(('classical_time_gurobi')\n",
    "                           , N=x_opt\n",
    "                           , seed=seeds\n",
    "                 )\n"
   ]
  },
  {
   "cell_type": "code",
   "execution_count": null,
   "metadata": {},
   "outputs": [],
   "source": [
    "opt = xar.DataArray(opt_time, dims=('N', 'seeds'), coords=(x_opt, seeds))"
   ]
  },
  {
   "cell_type": "code",
   "execution_count": null,
   "metadata": {
    "scrolled": true
   },
   "outputs": [],
   "source": [
    "# check the data\n",
    "plt.plot(x_opt, np.mean(opt_time, -1))"
   ]
  },
  {
   "cell_type": "code",
   "execution_count": null,
   "metadata": {},
   "outputs": [],
   "source": []
  },
  {
   "cell_type": "code",
   "execution_count": null,
   "metadata": {
    "scrolled": true
   },
   "outputs": [],
   "source": [
    "import  scale_helper\n",
    "x = scale_helper.generate_x_log(1, 300, 20)\n",
    "plt.plot(x, x**4, '*-')\n"
   ]
  },
  {
   "cell_type": "markdown",
   "metadata": {},
   "source": [
    "### Match time, new"
   ]
  },
  {
   "cell_type": "code",
   "execution_count": 65,
   "metadata": {},
   "outputs": [
    {
     "name": "stdout",
     "output_type": "stream",
     "text": [
      "[30, 100, 150, 1000]\n"
     ]
    }
   ],
   "source": [
    "match_ext = np.concatenate([\n",
    "    np.linspace(30, 100, 2),\n",
    "    np.linspace(150, 1000, 2),\n",
    "    #np.linspace(1500, 10000, 6),\n",
    "])\n",
    "match_ext = [int(x) for x in match_ext]\n",
    "print(match_ext)"
   ]
  },
  {
   "cell_type": "code",
   "execution_count": null,
   "metadata": {},
   "outputs": [],
   "source": []
  },
  {
   "cell_type": "code",
   "execution_count": 68,
   "metadata": {},
   "outputs": [
    {
     "name": "stderr",
     "output_type": "stream",
     "text": [
      "2021-06-24 11:51:19,908\tERROR worker.py:980 -- Possible unhandled error from worker: \u001b[36mray::apply_kwargs()\u001b[39m (pid=17886, ip=172.21.180.68)\n",
      "  File \"python/ray/_raylet.pyx\", line 463, in ray._raylet.execute_task\n",
      "  File \"/home/plate/ideal-projects/cartesian-explorer/cartesian_explorer/parallels.py\", line 21, in apply_kwargs\n",
      "    return func(**kwargs)\n",
      "  File \"/home/plate/ideal-projects/cartesian-explorer/cartesian_explorer/Explorer.py\", line 228, in get_variables\n",
      "    retval = f(**call_kwd)\n",
      "  File \"/usr/local/lib/python3.8/dist-packages/joblib/memory.py\", line 591, in __call__\n",
      "    return self._cached_call(args, kwargs)[0]\n",
      "  File \"/usr/local/lib/python3.8/dist-packages/joblib/memory.py\", line 534, in _cached_call\n",
      "    out, metadata = self.call(*args, **kwargs)\n",
      "  File \"/usr/local/lib/python3.8/dist-packages/joblib/memory.py\", line 761, in call\n",
      "    output = self.func(*args, **kwargs)\n",
      "  File \"<ipython-input-62-0f6a007061b7>\", line 14, in gurobi_hist\n",
      "NameError: name 'dh' is not defined\n",
      "2021-06-24 11:51:20,986\tERROR worker.py:980 -- Possible unhandled error from worker: \u001b[36mray::apply_kwargs()\u001b[39m (pid=17885, ip=172.21.180.68)\n",
      "  File \"python/ray/_raylet.pyx\", line 463, in ray._raylet.execute_task\n",
      "  File \"/home/plate/ideal-projects/cartesian-explorer/cartesian_explorer/parallels.py\", line 21, in apply_kwargs\n",
      "    return func(**kwargs)\n",
      "  File \"/home/plate/ideal-projects/cartesian-explorer/cartesian_explorer/Explorer.py\", line 228, in get_variables\n",
      "    retval = f(**call_kwd)\n",
      "  File \"/usr/local/lib/python3.8/dist-packages/joblib/memory.py\", line 591, in __call__\n",
      "    return self._cached_call(args, kwargs)[0]\n",
      "  File \"/usr/local/lib/python3.8/dist-packages/joblib/memory.py\", line 534, in _cached_call\n",
      "    out, metadata = self.call(*args, **kwargs)\n",
      "  File \"/usr/local/lib/python3.8/dist-packages/joblib/memory.py\", line 761, in call\n",
      "    output = self.func(*args, **kwargs)\n",
      "  File \"<ipython-input-62-0f6a007061b7>\", line 14, in gurobi_hist\n",
      "NameError: name 'dh' is not defined\n"
     ]
    },
    {
     "ename": "KeyboardInterrupt",
     "evalue": "",
     "output_type": "error",
     "traceback": [
      "\u001b[0;31m---------------------------------------------------------------------------\u001b[0m",
      "\u001b[0;31mKeyboardInterrupt\u001b[0m                         Traceback (most recent call last)",
      "\u001b[0;32m<ipython-input-68-dadbe3808348>\u001b[0m in \u001b[0;36m<module>\u001b[0;34m\u001b[0m\n\u001b[1;32m      1\u001b[0m \u001b[0mseeds\u001b[0m \u001b[0;34m=\u001b[0m \u001b[0mrange\u001b[0m\u001b[0;34m(\u001b[0m\u001b[0;36m10\u001b[0m\u001b[0;34m,\u001b[0m \u001b[0;36m13\u001b[0m\u001b[0;34m)\u001b[0m\u001b[0;34m\u001b[0m\u001b[0;34m\u001b[0m\u001b[0m\n\u001b[0;32m----> 2\u001b[0;31m gurobi_bytes = ex.map_variable(('gurobi_hist')\n\u001b[0m\u001b[1;32m      3\u001b[0m                              \u001b[0;34m,\u001b[0m \u001b[0mN\u001b[0m\u001b[0;34m=\u001b[0m\u001b[0mmatch_ext\u001b[0m\u001b[0;34m\u001b[0m\u001b[0;34m\u001b[0m\u001b[0m\n\u001b[1;32m      4\u001b[0m                              \u001b[0;34m,\u001b[0m \u001b[0mseed\u001b[0m\u001b[0;34m=\u001b[0m\u001b[0mseeds\u001b[0m\u001b[0;34m\u001b[0m\u001b[0;34m\u001b[0m\u001b[0m\n\u001b[1;32m      5\u001b[0m                  )\n",
      "\u001b[0;32m~/ideal-projects/cartesian-explorer/cartesian_explorer/Explorer.py\u001b[0m in \u001b[0;36mmap_variable\u001b[0;34m(self, varname, **kwargs)\u001b[0m\n\u001b[1;32m    275\u001b[0m \u001b[0;34m\u001b[0m\u001b[0m\n\u001b[1;32m    276\u001b[0m     \u001b[0;32mdef\u001b[0m \u001b[0mmap_variable\u001b[0m\u001b[0;34m(\u001b[0m\u001b[0mself\u001b[0m\u001b[0;34m,\u001b[0m \u001b[0mvarname\u001b[0m\u001b[0;34m,\u001b[0m \u001b[0;34m**\u001b[0m\u001b[0mkwargs\u001b[0m\u001b[0;34m)\u001b[0m\u001b[0;34m:\u001b[0m\u001b[0;34m\u001b[0m\u001b[0;34m\u001b[0m\u001b[0m\n\u001b[0;32m--> 277\u001b[0;31m         \u001b[0;32mreturn\u001b[0m \u001b[0mself\u001b[0m\u001b[0;34m.\u001b[0m\u001b[0mmap_variables\u001b[0m\u001b[0;34m(\u001b[0m\u001b[0;34m[\u001b[0m\u001b[0mvarname\u001b[0m\u001b[0;34m]\u001b[0m\u001b[0;34m,\u001b[0m \u001b[0;34m**\u001b[0m\u001b[0mkwargs\u001b[0m\u001b[0;34m)\u001b[0m\u001b[0;34m[\u001b[0m\u001b[0;36m0\u001b[0m\u001b[0;34m]\u001b[0m\u001b[0;34m\u001b[0m\u001b[0;34m\u001b[0m\u001b[0m\n\u001b[0m\u001b[1;32m    278\u001b[0m \u001b[0;34m\u001b[0m\u001b[0m\n\u001b[1;32m    279\u001b[0m     \u001b[0;32mdef\u001b[0m \u001b[0mmap_variable_no_call\u001b[0m\u001b[0;34m(\u001b[0m\u001b[0mself\u001b[0m\u001b[0;34m,\u001b[0m \u001b[0mvarname\u001b[0m\u001b[0;34m,\u001b[0m \u001b[0;34m**\u001b[0m\u001b[0mkwargs\u001b[0m\u001b[0;34m)\u001b[0m\u001b[0;34m:\u001b[0m\u001b[0;34m\u001b[0m\u001b[0;34m\u001b[0m\u001b[0m\n",
      "\u001b[0;32m~/ideal-projects/cartesian-explorer/cartesian_explorer/Explorer.py\u001b[0m in \u001b[0;36mmap_variables\u001b[0;34m(self, varnames, **kwargs)\u001b[0m\n\u001b[1;32m    269\u001b[0m \u001b[0;34m\u001b[0m\u001b[0m\n\u001b[1;32m    270\u001b[0m     \u001b[0;32mdef\u001b[0m \u001b[0mmap_variables\u001b[0m\u001b[0;34m(\u001b[0m\u001b[0mself\u001b[0m\u001b[0;34m,\u001b[0m \u001b[0mvarnames\u001b[0m\u001b[0;34m,\u001b[0m \u001b[0;34m**\u001b[0m\u001b[0mkwargs\u001b[0m\u001b[0;34m)\u001b[0m\u001b[0;34m:\u001b[0m\u001b[0;34m\u001b[0m\u001b[0;34m\u001b[0m\u001b[0m\n\u001b[0;32m--> 271\u001b[0;31m         \u001b[0;32mreturn\u001b[0m \u001b[0mself\u001b[0m\u001b[0;34m.\u001b[0m\u001b[0mmap\u001b[0m\u001b[0;34m(\u001b[0m\u001b[0mself\u001b[0m\u001b[0;34m.\u001b[0m\u001b[0mget_variables\u001b[0m\u001b[0;34m,\u001b[0m \u001b[0mvarnames\u001b[0m\u001b[0;34m=\u001b[0m\u001b[0;34m[\u001b[0m\u001b[0mvarnames\u001b[0m\u001b[0;34m]\u001b[0m\u001b[0;34m,\u001b[0m \u001b[0mout_dim\u001b[0m\u001b[0;34m=\u001b[0m\u001b[0mlen\u001b[0m\u001b[0;34m(\u001b[0m\u001b[0mvarnames\u001b[0m\u001b[0;34m)\u001b[0m\u001b[0;34m,\u001b[0m \u001b[0;34m**\u001b[0m\u001b[0mkwargs\u001b[0m\u001b[0;34m)\u001b[0m\u001b[0;34m\u001b[0m\u001b[0;34m\u001b[0m\u001b[0m\n\u001b[0m\u001b[1;32m    272\u001b[0m \u001b[0;34m\u001b[0m\u001b[0m\n\u001b[1;32m    273\u001b[0m     \u001b[0;32mdef\u001b[0m \u001b[0mmap_variables_no_call\u001b[0m\u001b[0;34m(\u001b[0m\u001b[0mself\u001b[0m\u001b[0;34m,\u001b[0m \u001b[0mvarnames\u001b[0m\u001b[0;34m,\u001b[0m \u001b[0;34m**\u001b[0m\u001b[0mkwargs\u001b[0m\u001b[0;34m)\u001b[0m\u001b[0;34m:\u001b[0m\u001b[0;34m\u001b[0m\u001b[0;34m\u001b[0m\u001b[0m\n",
      "\u001b[0;32m~/ideal-projects/cartesian-explorer/cartesian_explorer/ExplorerBasic.py\u001b[0m in \u001b[0;36mmap\u001b[0;34m(self, func, processes, out_dim, pbar, **param_space)\u001b[0m\n\u001b[1;32m    181\u001b[0m         \u001b[0;32mif\u001b[0m \u001b[0;34m(\u001b[0m\u001b[0mprocesses\u001b[0m \u001b[0;34m>\u001b[0m \u001b[0;36m1\u001b[0m \u001b[0;32mand\u001b[0m \u001b[0mself\u001b[0m\u001b[0;34m.\u001b[0m\u001b[0mparallel_class\u001b[0m \u001b[0;32mis\u001b[0m \u001b[0;32mnot\u001b[0m \u001b[0;32mNone\u001b[0m\u001b[0;34m)\u001b[0m \u001b[0;32mor\u001b[0m \u001b[0mself\u001b[0m\u001b[0;34m.\u001b[0m\u001b[0mparallel\u001b[0m\u001b[0;34m:\u001b[0m\u001b[0;34m\u001b[0m\u001b[0;34m\u001b[0m\u001b[0m\n\u001b[1;32m    182\u001b[0m             \u001b[0mparallel\u001b[0m \u001b[0;34m=\u001b[0m \u001b[0mself\u001b[0m\u001b[0;34m.\u001b[0m\u001b[0mparallel\u001b[0m \u001b[0;32mor\u001b[0m \u001b[0mself\u001b[0m\u001b[0;34m.\u001b[0m\u001b[0mparallel_class\u001b[0m\u001b[0;34m(\u001b[0m\u001b[0mprocesses\u001b[0m\u001b[0;34m=\u001b[0m\u001b[0mprocesses\u001b[0m\u001b[0;34m)\u001b[0m\u001b[0;34m\u001b[0m\u001b[0;34m\u001b[0m\u001b[0m\n\u001b[0;32m--> 183\u001b[0;31m             \u001b[0mresult_lin\u001b[0m \u001b[0;34m=\u001b[0m \u001b[0mparallel\u001b[0m\u001b[0;34m.\u001b[0m\u001b[0mstarstarmap\u001b[0m\u001b[0;34m(\u001b[0m\u001b[0mfunc\u001b[0m\u001b[0;34m,\u001b[0m \u001b[0mparam_iter\u001b[0m\u001b[0;34m)\u001b[0m\u001b[0;34m\u001b[0m\u001b[0;34m\u001b[0m\u001b[0m\n\u001b[0m\u001b[1;32m    184\u001b[0m         \u001b[0;32melse\u001b[0m\u001b[0;34m:\u001b[0m\u001b[0;34m\u001b[0m\u001b[0;34m\u001b[0m\u001b[0m\n\u001b[1;32m    185\u001b[0m             \u001b[0;32mif\u001b[0m \u001b[0mpbar\u001b[0m\u001b[0;34m:\u001b[0m\u001b[0;34m\u001b[0m\u001b[0;34m\u001b[0m\u001b[0m\n",
      "\u001b[0;32m~/ideal-projects/cartesian-explorer/cartesian_explorer/parallels.py\u001b[0m in \u001b[0;36mstarstarmap\u001b[0;34m(self, func, args)\u001b[0m\n\u001b[1;32m     36\u001b[0m \u001b[0;34m\u001b[0m\u001b[0m\n\u001b[1;32m     37\u001b[0m     \u001b[0;32mdef\u001b[0m \u001b[0mstarstarmap\u001b[0m\u001b[0;34m(\u001b[0m\u001b[0mself\u001b[0m\u001b[0;34m,\u001b[0m \u001b[0mfunc\u001b[0m\u001b[0;34m,\u001b[0m \u001b[0margs\u001b[0m\u001b[0;34m)\u001b[0m\u001b[0;34m:\u001b[0m\u001b[0;34m\u001b[0m\u001b[0;34m\u001b[0m\u001b[0m\n\u001b[0;32m---> 38\u001b[0;31m         \u001b[0;32mreturn\u001b[0m \u001b[0mself\u001b[0m\u001b[0;34m.\u001b[0m\u001b[0mmap\u001b[0m\u001b[0;34m(\u001b[0m\u001b[0mapply_kwargs\u001b[0m\u001b[0;34m,\u001b[0m \u001b[0mzip\u001b[0m\u001b[0;34m(\u001b[0m\u001b[0mrepeat\u001b[0m\u001b[0;34m(\u001b[0m\u001b[0mfunc\u001b[0m\u001b[0;34m)\u001b[0m\u001b[0;34m,\u001b[0m \u001b[0margs\u001b[0m\u001b[0;34m)\u001b[0m\u001b[0;34m)\u001b[0m\u001b[0;34m\u001b[0m\u001b[0;34m\u001b[0m\u001b[0m\n\u001b[0m\u001b[1;32m     39\u001b[0m \u001b[0;34m\u001b[0m\u001b[0m\n\u001b[1;32m     40\u001b[0m \u001b[0;32mclass\u001b[0m \u001b[0mMultiprocess\u001b[0m\u001b[0;34m(\u001b[0m\u001b[0mParallelIFC\u001b[0m\u001b[0;34m)\u001b[0m\u001b[0;34m:\u001b[0m\u001b[0;34m\u001b[0m\u001b[0;34m\u001b[0m\u001b[0m\n",
      "\u001b[0;32m~/ideal-projects/cartesian-explorer/cartesian_explorer/parallels.py\u001b[0m in \u001b[0;36mmap\u001b[0;34m(self, func, args)\u001b[0m\n\u001b[1;32m     71\u001b[0m         \u001b[0mfunc\u001b[0m \u001b[0;34m=\u001b[0m \u001b[0mray\u001b[0m\u001b[0;34m.\u001b[0m\u001b[0mremote\u001b[0m\u001b[0;34m(\u001b[0m\u001b[0mfunc\u001b[0m\u001b[0;34m)\u001b[0m\u001b[0;34m\u001b[0m\u001b[0;34m\u001b[0m\u001b[0m\n\u001b[1;32m     72\u001b[0m         \u001b[0mr\u001b[0m \u001b[0;34m=\u001b[0m \u001b[0;34m[\u001b[0m\u001b[0mfunc\u001b[0m\u001b[0;34m.\u001b[0m\u001b[0mremote\u001b[0m\u001b[0;34m(\u001b[0m\u001b[0mx\u001b[0m\u001b[0;34m)\u001b[0m \u001b[0;32mfor\u001b[0m \u001b[0mx\u001b[0m \u001b[0;32min\u001b[0m \u001b[0margs\u001b[0m\u001b[0;34m]\u001b[0m\u001b[0;34m\u001b[0m\u001b[0;34m\u001b[0m\u001b[0m\n\u001b[0;32m---> 73\u001b[0;31m         \u001b[0;32mreturn\u001b[0m \u001b[0mray\u001b[0m\u001b[0;34m.\u001b[0m\u001b[0mget\u001b[0m\u001b[0;34m(\u001b[0m\u001b[0mr\u001b[0m\u001b[0;34m)\u001b[0m\u001b[0;34m\u001b[0m\u001b[0;34m\u001b[0m\u001b[0m\n\u001b[0m",
      "\u001b[0;32m~/.local/lib/python3.8/site-packages/ray/worker.py\u001b[0m in \u001b[0;36mget\u001b[0;34m(object_refs, timeout)\u001b[0m\n\u001b[1;32m   1369\u001b[0m         \u001b[0;32mglobal\u001b[0m \u001b[0mlast_task_error_raise_time\u001b[0m\u001b[0;34m\u001b[0m\u001b[0;34m\u001b[0m\u001b[0m\n\u001b[1;32m   1370\u001b[0m         \u001b[0;31m# TODO(ujvl): Consider how to allow user to retrieve the ready objects.\u001b[0m\u001b[0;34m\u001b[0m\u001b[0;34m\u001b[0m\u001b[0;34m\u001b[0m\u001b[0m\n\u001b[0;32m-> 1371\u001b[0;31m         values, debugger_breakpoint = worker.get_objects(\n\u001b[0m\u001b[1;32m   1372\u001b[0m             object_refs, timeout=timeout)\n\u001b[1;32m   1373\u001b[0m         \u001b[0;32mfor\u001b[0m \u001b[0mi\u001b[0m\u001b[0;34m,\u001b[0m \u001b[0mvalue\u001b[0m \u001b[0;32min\u001b[0m \u001b[0menumerate\u001b[0m\u001b[0;34m(\u001b[0m\u001b[0mvalues\u001b[0m\u001b[0;34m)\u001b[0m\u001b[0;34m:\u001b[0m\u001b[0;34m\u001b[0m\u001b[0;34m\u001b[0m\u001b[0m\n",
      "\u001b[0;32m~/.local/lib/python3.8/site-packages/ray/worker.py\u001b[0m in \u001b[0;36mget_objects\u001b[0;34m(self, object_refs, timeout)\u001b[0m\n\u001b[1;32m    301\u001b[0m \u001b[0;34m\u001b[0m\u001b[0m\n\u001b[1;32m    302\u001b[0m         \u001b[0mtimeout_ms\u001b[0m \u001b[0;34m=\u001b[0m \u001b[0mint\u001b[0m\u001b[0;34m(\u001b[0m\u001b[0mtimeout\u001b[0m \u001b[0;34m*\u001b[0m \u001b[0;36m1000\u001b[0m\u001b[0;34m)\u001b[0m \u001b[0;32mif\u001b[0m \u001b[0mtimeout\u001b[0m \u001b[0;32melse\u001b[0m \u001b[0;34m-\u001b[0m\u001b[0;36m1\u001b[0m\u001b[0;34m\u001b[0m\u001b[0;34m\u001b[0m\u001b[0m\n\u001b[0;32m--> 303\u001b[0;31m         data_metadata_pairs = self.core_worker.get_objects(\n\u001b[0m\u001b[1;32m    304\u001b[0m             object_refs, self.current_task_id, timeout_ms)\n\u001b[1;32m    305\u001b[0m         \u001b[0mdebugger_breakpoint\u001b[0m \u001b[0;34m=\u001b[0m \u001b[0;34mb\"\"\u001b[0m\u001b[0;34m\u001b[0m\u001b[0;34m\u001b[0m\u001b[0m\n",
      "\u001b[0;32mpython/ray/_raylet.pyx\u001b[0m in \u001b[0;36mray._raylet.CoreWorker.get_objects\u001b[0;34m()\u001b[0m\n",
      "\u001b[0;32mpython/ray/_raylet.pyx\u001b[0m in \u001b[0;36mray._raylet.check_status\u001b[0;34m()\u001b[0m\n",
      "\u001b[0;31mKeyboardInterrupt\u001b[0m: "
     ]
    }
   ],
   "source": [
    "seeds = range(10, 13)\n",
    "gurobi_bytes = ex.map_variable(('gurobi_hist')\n",
    "                             , N=match_ext\n",
    "                             , seed=seeds\n",
    "                 )"
   ]
  },
  {
   "cell_type": "code",
   "execution_count": 11,
   "metadata": {},
   "outputs": [
    {
     "data": {
      "text/plain": [
       "array([[b'\\x00\\x00\\x02\\x00\\x02p\\x00\\x02q',\n",
       "        b'\\x00\\x00\\x02\\x00\\x02\\x80\\x00\\x02\\x81',\n",
       "        b'\\x00\\x00\\x02\\x00\\x02\\x90\\x00\\x02\\x91'],\n",
       "       [b'\\x00\\x00\\x02\\x00\\x03\\xc0\\x00\\x03\\xc1',\n",
       "        b'\\x00\\x00\\x02\\x00\\x03\\xb0\\x00\\x03\\xb1',\n",
       "        b'\\x00\\x00\\x02\\x00\\x03\\xb0\\x00\\x03\\xb1'],\n",
       "       [b'\\x00\\x00\\x02\\x00\\x04\\xe0\\x00\\x04\\xe1',\n",
       "        b'\\x00\\x00\\x02\\x00\\x04\\xe0\\x00\\x04\\xe1',\n",
       "        b'\\x00\\x00\\x02\\x00\\x04\\xe0\\x00\\x04\\xe1'],\n",
       "       [b'\\x00\\x00\\x12\\x00\\x06P\\x00\\x06\\x01\\x00\\x80\\x10\\x00@\\x11',\n",
       "        b'\\x00\\x00\\x12\\x00\\x060\\x00\\x06!\\x00\\x00\\x00',\n",
       "        b'\\x00\\x00\\x02\\x00\\x06 \\x00\\x06!'],\n",
       "       [((1.0781638622283936, 120.0, 113.0), [(1, 1.065075397491455, 1.0), (2, 1, 2.999999999999986), (1, 0.7713742256164551, 3.0), (2, 1, 1.4210854715202004e-14)]),\n",
       "        b'\\x00\\x00\\x12\\x00\\x07\\x90\\x00\\x07q\\x00@\\x10',\n",
       "        b'\\x00\\x00\\x12\\x00\\x07\\x80\\x00\\x07Q\\x00\\x80\\x10'],\n",
       "       [b'\\x00\\x00\\x12\\x00\\x08\\xf0\\x00\\x08Q\\x01@\\x10\\x00\\xc0\\x11',\n",
       "        b'\\x00\\x00\\x12\\x00\\x08\\xb0\\x00\\x08\\x91\\x00@\\x10',\n",
       "        b'\\x00\\x00\\x12\\x00\\x08\\xc0\\x00\\x08a\\x01\\x00\\x10\\x00\\x00\\x11'],\n",
       "       [((1.9388933181762695, 216.0, 192.0), [(1, 1.1720809936523438, 3.0), (2, 1, 9.0), (1, 1.0191872119903564, 2.0), (2, 1.2313294410705566, 5.0), (1, 2.6498405933380127, 1.0), (1, 2.2183070182800293, 2.842170943040401e-14), (1, 1.1269431114196777, 0.9999999999999716), (1, 5.464406728744507, 1.0), (1, 1.5037400722503662, 2.0)]),\n",
       "        b'\\x00\\x00\"\\x00\\r\\x90\\x00\\x0c\\x81\\x01@\\x10\\x00\\x00\\x10\\x00\\x80\\x11\\x00\\x00\\x10\\x00\\x00\\x11\\x00@\\x11\\x00\\x80\\x10',\n",
       "        b'\\x00\\x00\"\\x00\\r@\\x00\\x0cQ\\x00\\x00\\x10\\x00\\x00\\x11\\x00\\x00\\x10\\x00\\x80\\x11\\x00\\x80\\x11\\x00\\x00 \\x00\\x00P\\x00\\x00\\x11\\x00\\x00P\\x00@\\x00'],\n",
       "       [b'\\x00\\x00R\\x00\\x1d`\\x00\\x191\\x01@\\x10\\x05\\x00\\x11\\x01\\xc0\\x11\\x00@\\xb0\\x00@a\\x00@\\x11\\x00\\x00\\x11\\x00\\x00A\\x00\\x00\\xd0\\x00\\x00\\x90\\x01@p\\x00\\x00\\x10\\x00\\xc0\\x10\\x00\\x00 \\x00\\x00\\x10\\x00\\x00\\x90\\x00\\x02\\x00\\x00\\x01 \\x00A\\xa1\\x00\\x00\\x11\\x00\\x01\\x00\\x00@\\x80',\n",
       "        ((1.2632009983062744, 477.0, 402.0), [(1, 6.579321384429932, 6.0), (2, 1, 6.0), (1, 1.0197608470916748, 6.0), (2, 1, 21.0), (1, 6.823504209518433, 2.0), (1, 1.1005394458770752, 1.0), (2, 6.155397653579712, 7.0), (2, 7.6794209480285645, 1.0), (1, 2.2600080966949463, 1.0), (1, 24.443944454193115, 9.0), (1, 2.724710702896118, 4.0), (1, 2.1535775661468506, 1.0), (1, 9.035127878189087, 1.0), (1, 36.043739318847656, 1.0), (1, 23.345345735549927, 1.0), (2, 18.728487491607666, 3.0), (2, 10.187853336334229, 0.9999999999997726), (1, 1.0436127185821533, 1.0), (1, 5.76013708114624, 2.0), (2, 1, 2.2737367544323206e-13)]),\n",
       "        b'\\x00\\x00\\x12\\x00\\x1d0\\x00\\x1a\\xc1\\x01\\xc0\\x10\\x00@P\\x00@\\x11\\x01\\x80\\x11\\x00\\x00@\\x00\\x00\\x11\\x00\\x00\\x10\\x00@`\\x01\\x00\\x10\\x00@\\x10\\x00\\x00 \\x00\\x00@\\x00\\x00\\x10\\x00@1\\x00\\x00\\xa0\\x00\\x00!\\x00\\x00\\x00'],\n",
       "       [b'\\x00\\x00\"\\x00-\\x00\\x00&\\xe1\\x02\\xc0\\x10\\x01\\x00\\x11\\x00\\x00\\x80\\x01\\x00\\x11\\x06\\x00\\x11\\x00\\xc01\\x00\\x00\\x10\\x01\\x80\\x11\\x00\\x80a\\x00\\x001\\x01@\\xc0\\x00\\xc0\\x10\\x00@\\x10\\x00\\xc0 \\x00\\x000\\x00\\x00 \\x00\\x00\\x10\\x00\\x000\\x00\\x000\\x00\\x00\\x80\\x00\\x01\\xd0\\x00\\x01\\x00\\x00\\x02\\x00\\x00B1\\x00\\x011\\x00\\x001\\x00\\x01\\xe0',\n",
       "        b'\\x00\\x002\\x00-\\x10\\x00&\\x91\\x01\\xc0`\\x00\\x80\\x11\\x00\\x00\\x10\\x01@\\x11\\x01@\\x11\\x04@\\x11\\x01@1\\x00\\x801\\x01@\\x11\\x00@\\x11\\x00\\x00@\\x02\\x00`\\x00\\x80\\x10\\x00\\x80 \\x00\\x80\\x10\\x00\\x80 \\x00\\x00 \\x00\\x000\\x00\\x00@\\x00\\x00p\\x00B\\xf0\\x00\\x00\\xe0\\x00A1\\x00\\x00\\x81\\x00C\\xe1\\x00@1\\x00\\x00\\x91\\x00\\x01\\xc0',\n",
       "        ((1.175858736038208, 722.0, 617.0), [(1, 3.4814891815185547, 6.0), (1, 1.332709789276123, 3.0), (2, 21.59393072128296, 25.0), (2, 5.166382551193237, 7.0), (2, 2.464993476867676, 4.0), (2, 16.473294973373413, 1.0), (2, 1.2757267951965332, 13.0), (1, 1.2604343891143799, 1.0), (2, 2.4060299396514893, 1.0), (2, 1.0667245388031006, 2.0), (1, 10.708127737045288, 12.0), (1, 1.5119428634643555, 1.0), (1, 1.2995586395263672, 4.0), (1, 1.7248570919036865, 1.0), (1, 1.1395764350891113, 2.0), (1, 3.451481819152832, 1.0), (1, 4.009525775909424, 1.0), (1, 4.211477994918823, 1.0), (2, 2.189879894256592, 1.0), (1, 31.94627356529236, 1.0), (1, 1.0528886318206787, 1.0), (1, 11.739804744720459, 1.0), (1, 45.296687841415405, 1.0), (2, 18.927095413208008, 2.0), (2, 18.16155505180359, 3.0), (2, 31.67232060432434, 1.0000000000013642), (2, 3.415757894515991, 0.9999999999986358), (1, 22.753961324691772, 1.0)])],\n",
       "       [b'\\x00\\x00\"\\x00<\\xe0\\x004\\xb1\\x01\\x80\\x10\\x00\\x80!\\x01\\x00\\x90\\x00@\\x10\\x00\\x80\\x11\\x02\\x80\\x11\\x00\\x00\\x11\\x00\\x00\\x81\\x04@\\x11\\x00\\x80\\x11\\x00\\x00\\x11\\x00\\x80\\x11\\x00\\x00\\x11\\x00\\x80\\x11\\x00@\\x11\\x00\\x80!\\x00@p\\x03\\xc0\\xc0\\x00\\x80\\x10\\x00\\xc00\\x00\\x00\\x10\\x00@@\\x00@P\\x00\\x00p\\x00\\x00p\\x00\\x00\\x80\\x00\\x01 \\x00\\x03\\xf0\\x00\\x00`\\x00\\x00\\xb0\\x00\\x02\\xc0',\n",
       "        ((1.222219467163086, 987.0, 840.0), [(1, 4.045135259628296, 11.0), (2, 1, 5.0), (1, 1.9403903484344482, 12.0), (1, 29.78485679626465, 1.0), (2, 1, 1.0), (2, 1.4568045139312744, 37.0), (2, 6.9070725440979, 1.0), (2, 1.3546502590179443, 1.0), (2, 36.23532485961914, 12.0), (1, 1.191164255142212, 2.2737367544323206e-13), (2, 1, 2.0), (2, 1.0496032238006592, 1.0), (2, 3.152883529663086, 2.0), (2, 3.562363386154175, 1.0), (2, 1.5562560558319092, 1.0), (2, 2.941251516342163, 3.0), (2, 7.830274820327759, 1.0), (1, 1.3237690925598145, 0.9999999999997726), (1, 17.27771306037903, 16.0), (1, 1.2190062999725342, 3.0), (1, 3.6057324409484863, 6.0), (1, 5.031869649887085, 4.0), (1, 5.365394592285156, 1.0), (1, 6.644842147827148, 1.0), (1, 15.696690082550049, 1.0), (1, 17.728159189224243, 1.0), (1, 43.58474159240723, 1.0), (1, 5.906521797180176, 1.0), (1, 1.2387235164642334, 1.0), (1, 16.16498875617981, 1.0), (1, 46.569013357162476, 1.0)]),\n",
       "        b'\\x00\\x00\\x12\\x00=\\xa0\\x003\\xd1\\x03\\x00\\x10\\x02@p\\t\\x00\\x11\\x00\\x01\\xa0\\x02\\xc0\\x91\\x00\\x80A\\x00\\x00\\xb1\\x00\\x80\\x11\\x00\\x00\\x11\\x00\\x00!\\x00\\x00\\x10\\x00@\\x11\\x00\\xc0!\\x00@A\\x00\\x00\\x11\\x00\\x00\\x11\\x00@a\\x00\\x00 \\x04@\\xd0\\x00@\\x10\\x00\\x00 \\x00\\x80 \\x00\\x00\\x10\\x00@@\\x00@p\\x00\\x00\\x90\\x00\\x00p\\x00\\x01\\x00\\x00C\\xc0\\x00\\x00`\\x00\\x00p\\x00\\x01\\x90\\x00\\x80\\x91\\x00\\x02\\x10'],\n",
       "       [b'\\x00\\x00\\x12\\x00L\\xf0\\x00A\\x81\\x02@\\x10\\x00\\x00\\x11\\x01\\x80\\x90\\x01\\xc0\\x11\\x00\\x00\\x10\\x00@a\\x03\\x80!\\x00\\x00\\x11\\x00\\x801\\x08\\x81\\x11\\x03\\x00\\x11\\x00@A\\x00\\x80\\x11\\x00\\x00A\\x00\\xc0A\\x00\\x00\\x11\\x02\\xc1\\xb0\\x01@`\\x01\\x00@\\x00\\x000\\x01@\\xa0\\x00\\x000\\x00\\x80\\xa0\\x00\\x00\\xb0\\x00\\x000\\x00\\x00\\xe0\\x00\\x01\\x80\\x00\\x01\\x80\\x00\\x01\\xb0',\n",
       "        b'\\x00\\x00\\x12\\x00M\\xa0\\x00AA\\x03@ \\x03\\x00\\x10\\x03\\xc0\\x11\\x00\\x00\\xb0\\x00\\x00A\\x01@!\\x00\\xc0!\\x00\\xc0\\x11\\x06@\\x11\\x00\\x01A\\x00\\x00!\\x00\\x00!\\x00\\x001\\x00\\xc0\\x11\\x00\\x00\\x10\\x00\\x00\\x11\\x02\\xc0\\x11\\x00\\x801\\x00@!\\x00\\x80\\x11\\x00\\x00!\\x00@\\x11\\x00@\\xb1\\x02\\xc1\\xc0\\x01@@\\x00\\xc0@\\x00\\x00 \\x01@\\xa0\\x00\\x00 \\x00\\xc0\\xc0\\x00\\x81\\x00\\x00\\x01\\x00\\x00\\x01\\x10\\x00\\x01@\\x00\\x01\\x90\\x00\\x01p\\x00\\x01\\x91',\n",
       "        b'\\x00\\x00\\x12\\x00M\\x90\\x00B1\\x02\\x80 \\x00@\\x11\\x01\\xc0P\\x00@\\x11\\x01\\x00\\x10\\x03\\x00\\x11\\x00\\x010\\x00\\x00\\x10\\x01\\x00Q\\x01\\x80\\x91\\x02\\xc0\\x11\\x01\\x80!\\x00\\x01q\\x01\\x00Q\\x00\\x80\\x11\\x00@\\x11\\x00\\x00\\x11\\x00\\x001\\x00\\x00\\x11\\x00\\xc0\\x11\\x00@!\\x00\\xc01\\x03\\xc3@\\x01\\x00\\x90\\x00\\xc0P\\x00\\x000\\x01\\x80\\xd0\\x00\\x00@\\x00\\x00 \\x00@\\xb0\\x00\\x00 \\x00A \\x00\\x01`\\x00\\x01\\xb0\\x00\\x01@'],\n",
       "       [b'\\x00\\x00\"\\x00]p\\x00M\\xd1\\x03\\x80@\\x00@\\x11\\x01@0\\x00\\x80\\x11\\x00@\\x10\\x05\\x80\\x11\\x00\\x01\\x90\\x00\\x000\\x00@\\x11\\x01\\x00q\\x00\\x00A\\x06\\xc0!\\x04@\\x11\\x00@\\xe1\\x01\\x00a\\x00@!\\x00@!\\x00\\x00\\x11\\x00\\xc0!\\x00\\x00\\x11\\x00\\xc0\\x11\\x00\\x80Q\\x01\\x00A\\x01\\xc0a\\x01A\\xb1\\x00\\x01\\xb0\\x04\\x02p\\x00\\x00\\x11\\x02\\x00\\xb0\\x00\\xc0`\\x00\\x00 \\x01@\\xe0\\x00\\x000\\x00\\x81\\x10\\x00\\x000\\x00A\\x00\\x00\\x01\\x00\\x00\\x000',\n",
       "        ((1.5878698825836182, 1496.0, 1262.0), [(1, 1.9219932556152344, 21.0), (2, 1.6354613304138184, 1.0), (1, 11.648934364318848, 6.0), (2, 1, 33.0), (1, 2.4380664825439453, 2.2737367544323206e-13), (2, 3.5804247856140137, 4.0), (2, 2.184250593185425, 8.0), (2, 2.23551344871521, 3.0), (2, 1.2048287391662598, 8.0), (2, 2.4656238555908203, 2.0), (2, 14.507062196731567, 20.0), (2, 1.334780216217041, 1.0), (2, 1.6739656925201416, 2.0), (2, 1.3002276420593262, 4.0), (2, 1.6219890117645264, 5.0), (2, 1.6373600959777832, 5.0), (1, 1.553269863128662, 4.547473508864641e-13), (2, 1.2457594871520996, 3.0), (2, 1.1668221950531006, 2.0), (2, 1.5005416870117188, 5.0), (2, 1.7383713722229004, 1.0), (2, 1.4488945007324219, 3.0), (2, 1.1663622856140137, 2.0), (1, 39.91376829147339, 24.999999999999318), (1, 2.378994941711426, 3.0), (1, 1.2515838146209717, 1.0), (1, 6.752084970474243, 7.0), (1, 3.529712438583374, 2.0), (1, 1.3193418979644775, 1.0), (1, 8.618208169937134, 4.0), (1, 12.239077806472778, 3.0), (1, 11.15907073020935, 2.0), (1, 17.54023551940918, 2.0), (1, 18.06070327758789, 1.0), (1, 21.00686264038086, 1.0), (1, 36.14748954772949, 1.0)]),\n",
       "        b'\\x00\\x00\\x12\\x00]`\\x00Oq\\x02\\xc0 \\x00\\xc0!\\x03\\xc0\\x10\\x03\\x00\\x11\\x01@ \\x01\\x00\\x11\\x01\\xc0\\xe1\\x00\\x00\\x10\\x00@\\x10\\x00\\x00\\x81\\x00\\x00!\\x00\\xc01\\x07\\x01q\\x00\\x80\\x11\\x00\\x80!\\x00@!\\x00@\\x11\\x00\\x80A\\x01\\x80\\x11\\x01@1\\x00\\x001\\x00@!\\x00\\xc01\\x00@\\x11\\x00\\x00\\xb1\\x02\\x81\\xa0\\x01\\x80\\x80\\x01\\x00@\\x00\\x00 \\x01\\x00\\x80\\x00\\x000\\x00\\x80\\xb0\\x00\\x00 \\x00@\\xc0\\x00\\x00\\xe0\\x00\\x00\\xf0\\x00\\x01@\\x00\\x01\\x90\\x00\\x000\\x00\\x02P'],\n",
       "       [b'\\x00\\x00\\x12\\x00\\x8c\\xa0\\x00v\\xc1\\x01\\x00\\x10\\x02\\xc0\\x11\\x03\\xc0 \\x00\\x00\\x11\\x00\\x80A\\x04@@\\r\\x80\\x11\\x02\\x00@\\x00\\xc0\\x11\\x00\\x01\\xd0\\x00\\x00\\x11\\x00\\x00 \\x00\\x80\\xb1\\x03\\xc0\\xe1\\x00\\x00!\\x00\\x00\\x91\\x00\\x02\\x81\\x00\\x80A\\x01\\x00!\\x00\\xc0!\\x00\\x80!\\x01\\x00!\\x00\\x80!\\x00\\x80!\\x01\\x80!\\x01\\xc0\\x11\\x00\\x80\\x11\\x00\\x801\\x01\\x001\\x01\\x001\\x00\\x001\\x01\\x001\\x00\\xc01\\x00@!\\x00\\x00\\xb1\\x03\\x87p',\n",
       "        b'\\x00\\x00\\x12\\x00\\x8cP\\x00v\\x11\\x00\\x00\\x11\\x03@ \\x02\\x00\\x11\\x00\\x80Q\\x04\\x80\\x10\\r@\\x11\\x00\\x80A\\x01\\xc00\\t\\x80\\x11\\x00\\x80\\x11\\x00\\x01\\xf0\\x00\\x80\\x11\\x00\\x00 \\x00\\x00P\\x00Dq\\x00\\x00\\xf1\\x00\\x00A\\x00\\x00a\\x00@!\\x01@!\\x00@!\\x01\\x00!\\x00\\xc0!\\x01@!\\x01\\x00A\\x02\\x00A\\x02\\x00A\\x01\\x001\\x00\\xc0!\\x00\\x00!\\x00A\\x01\\x03\\x83\\x90\\x03\\x810\\x01@\\x80\\x00\\x80@\\x01\\x81\\x00',\n",
       "        b'\\x00\\x00\\x12\\x00\\x8cP\\x00v\\xc1\\x03@!\\x04\\xc00\\x00\\x00\\x11\\x00\\x00A\\x05@P\\x08\\x80\\x11\\x01@@\\x0e\\x00\\x11\\x00\\x02@\\x01Aq\\x00Dq\\x00@1\\x00\\x001\\x00\\xc0A\\x00\\x80\\x11\\x00\\xc0\\x11\\x00\\xc01\\x00\\xc0!\\x02\\x00Q\\x01\\x00\\x11\\x00\\x80A\\x00@!\\x00@\\x11\\x00@\\x11\\x03\\xc3\\xf0\\x00\\x00 \\x02\\x01\\x10\\x01\\x80\\xc0\\x00\\x00P'],\n",
       "       [b'\\x00\\x00\\x12\\x01,\\x00\\x00\\xfcA\\x01\\x000\\x00@\\x11\\x06@@\\x07\\x00\\x11\\x01\\x01\\x81\\x08@0\\t\\x00\\x11\\x08\\x01\\x11\\x02\\x81\\x00\\x19\\x00\\x11\\x06\\x00!\\x00\\x08@\\x00\\x00\\xa0\\x00\\x02\\xb1',\n",
       "        ((1.5251073837280273, 4800.0, -0.0), [(1, 1.4248781204223633, 4.0), (2, 1, 4055.0), (2, 3.2752983570098877, 38.0), (1, 3.7769956588745117, 22.0), (2, 1, 34.0), (2, 23.189597129821777, 13.0), (1, 2.992046356201172, 33.0), (2, 1, 108.0), (1, 13.084742307662964, 2.0), (2, 1, 18.0), (1, 11.719888925552368, 10.0), (2, 1, 30.0), (2, 1.0428962707519531, 11.0), (1, 80.54100680351257, 1.0), (1, 8.291693925857544, 1.0), (1, 3.8780176639556885, 1.0), (2, 68.59823346138, 9.0), (2, 76.69371247291565, 1.0)]),\n",
       "        ((1.0919229984283447, 4800.0, -0.0), [(1, 1.2861034870147705, 4.0), (2, 1, 4047.0), (2, 3.4889605045318604, 26.0), (1, 2.78642201423645, 22.0), (2, 18.355618953704834, 3.0), (1, 1.1382684707641602, 30.0), (2, 1, 46.0), (2, 11.798516035079956, 17.0), (1, 6.714521169662476, 11.0), (2, 1, 96.0), (2, 6.049238920211792, 31.0), (1, 72.72655034065247, 2.0), (2, 15.086895227432251, 2.0), (2, 16.335885286331177, 1.0), (2, 99.93423318862915, 1.0), (2, 29.129400491714478, 13.0), (2, 4.926146745681763, 1.0), (2, 9.177722930908203, 22.0)])],\n",
       "       [((1.4807405471801758, 7350.0, -0.0), [(2, 1.5844841003417969, 6171.0), (1, 2.701258897781372, 4.0), (2, 1, 51.0), (1, 3.214233636856079, 14.0), (2, 18.74518394470215, 28.0), (1, 6.550225019454956, 35.0), (2, 2.234539270401001, 31.0), (2, 36.32131743431091, 27.0), (1, 8.146435737609863, 18.0), (2, 1, 214.0), (2, 2.035891056060791, 41.0), (1, 108.72103071212769, 2.0), (2, 46.09393501281738, 13.0), (2, 25.49964213371277, 1.0), (2, 14.749830484390259, 11.0)]),\n",
       "        ((1.1165144443511963, 7350.0, -0.0), [(1, 1.3155646324157715, 4.0), (2, 1, 6183.0), (2, 2.5372462272644043, 3.0), (1, 2.969487190246582, 11.0), (2, 1, 3.0), (2, 17.68797755241394, 21.0), (1, 2.799994945526123, 30.0), (2, 1, 136.0), (2, 23.6829571723938, 3.0), (1, 4.587334394454956, 22.0), (2, 1, 184.0), (2, 2.9370665550231934, 14.0), (1, 12.768100261688232, 1.0), (2, 1, 71.0), (1, 15.673691987991333, 16.0), (2, 1, 82.0), (1, 211.94876265525818, 0.0061273096052900655)]),\n",
       "        b'\\x00\\x00\\x12\\x01\\xcb \\x01\\x82\\x91\\x00\\x00!\\x03\\xc0 \\x01\\x80\\x11\\x00\\x80\\xf1\\x07\\xc0@\\x14@\\x11\\x00\\x80 \\x07\\x00\\x11\\x01\\xc1\\xb1\\x03\\x80\\xe0,@\\x11\\n\\x00\\x11\\x01\\xca\\xe1\\x00@0\\x00\\x00\\x80'],\n",
       "       [((1.9814512729644775, 9900.0, -0.0), [(2, 1.4940903186798096, 8319.0), (1, 1.283458948135376, 11.0), (2, 3.7859232425689697, 1.0), (2, 7.56908655166626, 6.0), (1, 1.7264254093170166, 20.0), (2, 1, 83.0), (2, 22.032367944717407, 34.0), (1, 5.807026147842407, 21.0), (2, 3.3246262073516846, 166.0), (1, 2.0956151485443115, 2.0), (2, 46.19023871421814, 33.0), (1, 6.288019418716431, 25.0), (2, 1, 175.0), (1, 1.337923288345337, 2.0), (2, 1, 46.0), (2, 51.697391986846924, 12.0), (1, 1.532139778137207, 18.0), (2, 1, 190.0)]),\n",
       "        ((1.728987455368042, 9900.0, -0.0), [(1, 2.534123182296753, 4.0), (2, 1, 8401.0), (1, 2.1030943393707275, 6.0), (2, 1, 42.0), (2, 5.708715438842773, 6.0), (1, 20.147764444351196, 16.0), (2, 1, 68.0), (1, 3.8306186199188232, 23.0), (2, 1, 48.0), (2, 1.946031093597412, 147.0), (1, 1.071079969406128, 1.0), (2, 1, 145.0), (2, 31.389595985412598, 25.0), (1, 7.108001470565796, 23.0), (2, 1, 100.0), (1, 1.214777946472168, 2.0), (2, 1, 18.0), (2, 34.32370138168335, 5.0), (1, 1.2974324226379395, 19.0), (2, 1, 56.0)]),\n",
       "        ((1.286559820175171, 9900.0, -0.0), [(1, 2.266395092010498, 4.0), (2, 1, 8356.0), (1, 2.2410340309143066, 13.0), (2, 1, 3.0), (2, 3.41699481010437, 8.0), (1, 1.748323678970337, 17.0), (2, 1, 8.0), (2, 24.518638849258423, 19.0), (1, 4.427482843399048, 35.0), (2, 1, 375.0), (2, 29.834393739700317, 34.0), (1, 1.1914989948272705, 20.0), (2, 1, 102.0), (1, 105.88789701461792, 2.0), (1, 6.218209743499756, 1.0), (2, 33.53607678413391, 6.0), (2, 83.44602036476135, 2.0)])],\n",
       "       [((1.9258153438568115, 12450.0, -0.0), [(1, 1.3154449462890625, 3.0), (2, 1, 10466.0), (1, 1.0156919956207275, 3.0), (2, 6.1736345291137695, 1.0), (1, 1.5975563526153564, 7.0), (2, 1, 7.0), (1, 2.2841968536376953, 6.0), (2, 6.037140846252441, 6.0), (2, 30.244449377059937, 21.0), (1, 5.708338499069214, 34.0), (2, 1, 513.0), (1, 1.9025285243988037, 1.0), (2, 1, 1.0), (1, 2.7996857166290283, 1.0), (1, 125.53544092178345, 1.0), (2, 79.07334804534912, 1.0), (2, 34.417452812194824, 34.0)]),\n",
       "        ((1.3255419731140137, 12450.0, -0.0), [(1, 1.909717321395874, 3.0), (2, 1, 10513.0), (1, 1.9333562850952148, 4.0), (1, 2.344435214996338, 9.0), (2, 1.1961331367492676, 1.0), (2, 1.6423263549804688, 77.0), (1, 4.3322529792785645, 4.0), (2, 1, 7.0), (2, 11.141540765762329, 123.0), (1, 2.3108768463134766, 21.0), (2, 1, 11.0), (1, 3.7048487663269043, 1.0), (2, 78.42983651161194, 1.0), (1, 1.238981008529663, 1.0), (1, 1.058100700378418, 1.0), (2, 6.832065105438232, 1.0), (2, 32.867921590805054, 2.0), (2, 37.54629826545715, 2.0), (2, 54.447301626205444, 101.0), (2, 36.98947811126709, 3.0), (2, 18.799383401870728, 9.0)]),\n",
       "        ((3.002563953399658, 12450.0, -0.0), [(1, 1.6650099754333496, 3.0), (2, 1, 10478.0), (1, 4.031013488769531, 3.0), (2, 4.408281564712524, 3.0), (1, 2.125178337097168, 8.0), (2, 1, 4.0), (2, 17.675241470336914, 12.0), (1, 6.448627233505249, 24.0), (2, 1, 57.0), (2, 2.479273796081543, 48.0), (2, 37.87522339820862, 10.0), (1, 16.008949995040894, 28.0), (2, 1, 300.0), (1, 1.5438880920410156, 2.0), (2, 5.943694829940796, 20.0), (1, 2.4271061420440674, 1.0), (1, 1.43804931640625, 1.0), (2, 156.14047932624817, 1.0), (2, 24.579020977020264, 3.0), (2, 12.220213174819946, 2.0)])],\n",
       "       [((3.301161527633667, 15000.0, -0.0), [(1, 1.5407259464263916, 2.0), (2, 1, 12675.0), (2, 1.5930650234222412, 2.0), (1, 4.349302768707275, 4.0), (2, 1, 2.0), (2, 2.7095887660980225, 8.0), (1, 2.069101095199585, 10.0), (2, 1, 1.0), (2, 2.7143313884735107, 10.0), (1, 7.449408292770386, 4.000000000001819), (2, 1, 86.0), (2, 22.29568862915039, 107.0), (1, 3.156460762023926, 24.99999999999818), (2, 1, 31.0), (2, 1.2594044208526611, 3.0), (1, 3.5548250675201416, 1.0), (2, 1, 14.0), (2, 2.1133642196655273, 15.0), (1, 1.4626383781433105, 1.0), (1, 127.56103849411011, 1.0), (1, 9.271559238433838, 1.0), (2, 19.117570400238037, 5.0), (2, 58.6117582321167, 3.0), (2, 25.9045307636261, 132.0)]),\n",
       "        ((3.2813358306884766, 15000.0, -0.0), [(2, 1.6372909545898438, 12646.0), (1, 1.0733799934387207, 6.0), (2, 1, 1.0), (2, 3.7646350860595703, 4.0), (1, 4.693625211715698, 5.0), (2, 1, 3.0), (1, 1.9154226779937744, 6.0), (2, 1, 98.0), (1, 2.827064037322998, 6.0), (2, 29.692800521850586, 29.0), (1, 3.4415154457092285, 29.0), (2, 1, 206.0), (1, 5.013382196426392, 1.0), (1, 4.816509008407593, 1.0), (2, 1.5751943588256836, 1.0)]),\n",
       "        ((1.5495679378509521, 15000.0, -0.0), [(2, 2.769967555999756, 12612.0), (1, 2.0989716053009033, 6.0), (2, 1, 4.0), (1, 3.3068766593933105, 2.0), (2, 1, 3.0), (1, 4.505372762680054, 6.0), (2, 1, 100.0), (2, 2.327876567840576, 1.0)])]],\n",
       "      dtype=object)"
      ]
     },
     "execution_count": 11,
     "metadata": {},
     "output_type": "execute_result"
    }
   ],
   "source": [
    "gurobi_bytes"
   ]
  },
  {
   "cell_type": "code",
   "execution_count": 61,
   "metadata": {},
   "outputs": [
    {
     "data": {
      "text/plain": [
       "(0.8, 1.2)"
      ]
     },
     "execution_count": 61,
     "metadata": {},
     "output_type": "execute_result"
    },
    {
     "data": {
      "image/png": "[encoded data removed]",
      "text/plain": [
       "<Figure size 432x288 with 1 Axes>"
      ]
     },
     "metadata": {
      "needs_background": "light"
     },
     "output_type": "display_data"
    }
   ],
   "source": [
    "dat = gurobi_bytes[7][2]\n",
    "\n",
    "mh = to_mh(dat)\n",
    "mh.plot()\n",
    "plt.ylim(0.8, 1.2 )"
   ]
  },
  {
   "cell_type": "code",
   "execution_count": 52,
   "metadata": {},
   "outputs": [
    {
     "data": {
      "text/plain": [
       "<matplotlib.legend.Legend at 0x7f1d2033e7c0>"
      ]
     },
     "execution_count": 52,
     "metadata": {},
     "output_type": "execute_result"
    },
    {
     "data": {
      "image/png": "[encoded data removed]",
      "text/plain": [
       "<Figure size 432x288 with 1 Axes>"
      ]
     },
     "metadata": {
      "needs_background": "light"
     },
     "output_type": "display_data"
    }
   ],
   "source": [
    "line = [get_time_for_AR_upper(to_mh(x).miplog, 0.93)[0] for x in gurobi_bytes[:, 0]]\n",
    "plt.plot(match_ext, line, '*-', label='0.93')\n",
    "plt.legend()\n",
    "line = [get_time_for_AR_upper(to_mh(x).miplog, 0.95)[0] for x in gurobi_bytes[:, 0]]\n",
    "plt.plot(match_ext, line, '*-', label='0.95')\n",
    "\n",
    "line = [get_time_for_AR_upper(to_mh(x).miplog, 0.98)[0] for x in gurobi_bytes[:, 0]]\n",
    "plt.plot(match_ext, line, label='0.98')\n",
    "plt.legend()"
   ]
  },
  {
   "cell_type": "code",
   "execution_count": null,
   "metadata": {},
   "outputs": [],
   "source": []
  },
  {
   "cell_type": "markdown",
   "metadata": {},
   "source": [
    "## Gurobi modeling"
   ]
  },
  {
   "cell_type": "code",
   "execution_count": null,
   "metadata": {},
   "outputs": [],
   "source": [
    "import tqdm.auto as tqdm\n",
    "\n",
    "import time"
   ]
  },
  {
   "cell_type": "code",
   "execution_count": null,
   "metadata": {},
   "outputs": [],
   "source": [
    "SEEDS = range(1, 2)"
   ]
  },
  {
   "cell_type": "code",
   "execution_count": null,
   "metadata": {
    "scrolled": true
   },
   "outputs": [],
   "source": [
    "for seed in SEEDS:\n",
    "    miplog3 = maxcut_bounds_history(nx.random_regular_graph(3, 390, seed=seed), max_time=200, )"
   ]
  },
  {
   "cell_type": "code",
   "execution_count": null,
   "metadata": {},
   "outputs": [],
   "source": [
    "dh = miplog_helper.MiplogData(miplog3)\n",
    "byt = dh.get_bytes()\n",
    "dh2 = miplog_helper.MiplogData.from_bytes(byt)\n",
    "miplog4 = dh2.miplog\n",
    "miplog4"
   ]
  },
  {
   "cell_type": "code",
   "execution_count": null,
   "metadata": {},
   "outputs": [],
   "source": [
    "mipd = np.array(miplog4).T\n",
    "\n",
    "start = 2\n",
    "opt = mipd[2][-1]\n",
    "ix = np.argmin(np.abs(30-mipd[0]))\n",
    "print('ix', ix, mipd[0][ix])\n",
    "cost_lb = mipd[2][ix]\n",
    "plt.plot(mipd[0][start:], mipd[1][start:]/opt, '*-')\n",
    "plt.plot(mipd[0][start:], mipd[2][start:]/(opt), '*-', label='AR')\n",
    "plt.plot(mipd[0][start:], mipd[2][start:]/cost_lb, '*-', label='AR UB')\n",
    "plt.plot(mipd[0][start:], mipd[2][start:]/mipd[1][start:], '-', label='AR LB')\n",
    "plt.legend()\n",
    "plt.xscale('log')\n",
    "plt.hlines(1, min(mipd[0][start:]), max(mipd[0]))"
   ]
  },
  {
   "cell_type": "code",
   "execution_count": 31,
   "metadata": {},
   "outputs": [],
   "source": [
    "def get_time_for_AR_lower(miplog, AR):\n",
    "    \"\"\" \n",
    "    Args:\n",
    "        miplog (np.array): :,3 shaped array with times, upper bound cost and lower bound cost\n",
    "        AR (float): which AR bound to look for\n",
    "    Returns:\n",
    "        time, AR\n",
    "    \"\"\"\n",
    "    times, bounds, costs = np.array(miplog)[1:].T\n",
    "    AR_bound = costs/bounds\n",
    "    # get the index at which AR bound is higher than requested\n",
    "    ix = np.where((AR_bound-AR)>0)[0]\n",
    "    if len(ix)==0: return None, None\n",
    "    else: ix = min(ix)\n",
    "    return times[ix], AR_bound[ix]\n",
    "    "
   ]
  },
  {
   "cell_type": "code",
   "execution_count": 32,
   "metadata": {},
   "outputs": [
    {
     "ename": "NameError",
     "evalue": "name 'miplog' is not defined",
     "output_type": "error",
     "traceback": [
      "\u001b[0;31m---------------------------------------------------------------------------\u001b[0m",
      "\u001b[0;31mNameError\u001b[0m                                 Traceback (most recent call last)",
      "\u001b[0;32m<ipython-input-32-dc54096cff9e>\u001b[0m in \u001b[0;36m<module>\u001b[0;34m\u001b[0m\n\u001b[0;32m----> 1\u001b[0;31m \u001b[0mget_time_for_AR_lower\u001b[0m\u001b[0;34m(\u001b[0m\u001b[0mmiplog\u001b[0m\u001b[0;34m,\u001b[0m \u001b[0;36m0.9\u001b[0m\u001b[0;34m)\u001b[0m\u001b[0;34m\u001b[0m\u001b[0;34m\u001b[0m\u001b[0m\n\u001b[0m",
      "\u001b[0;31mNameError\u001b[0m: name 'miplog' is not defined"
     ]
    }
   ],
   "source": [
    "get_time_for_AR_lower(miplog, 0.9)"
   ]
  },
  {
   "cell_type": "code",
   "execution_count": 33,
   "metadata": {},
   "outputs": [],
   "source": [
    "def get_time_for_AR_upper(miplog, AR):\n",
    "    \"\"\" \n",
    "    Args:\n",
    "        miplog (np.array): :,3 shaped array with times, upper bound cost and lower bound cost\n",
    "        AR (float): which AR bound to look for\n",
    "    Returns:\n",
    "        time, AR\n",
    "    \"\"\"\n",
    "    times, bounds, costs = np.array(miplog)[1:].T\n",
    "    AR_bound = costs/costs[-1]\n",
    "    # get the index at which AR bound is higher than requested\n",
    "    ix = np.where((AR_bound-AR)>=0)[0]\n",
    "    if len(ix)==0: return None, None\n",
    "    else: ix = min(ix)\n",
    "    return times[ix], AR_bound[ix]\n",
    "    "
   ]
  },
  {
   "cell_type": "code",
   "execution_count": null,
   "metadata": {},
   "outputs": [],
   "source": [
    "get_time_for_AR_upper(miplog3, 0.999), get_time_for_AR_lower(miplog3, 0.996)"
   ]
  },
  {
   "cell_type": "code",
   "execution_count": null,
   "metadata": {},
   "outputs": [],
   "source": [
    "get_time_for_AR_upper(miplog4, 0.999), get_time_for_AR_lower(miplog4, 0.996)"
   ]
  },
  {
   "cell_type": "code",
   "execution_count": null,
   "metadata": {},
   "outputs": [],
   "source": [
    "times = [(get_time_for_AR_upper(miplog, x)[0],\n",
    "         get_time_for_AR_lower(miplog, x)[0]) for x in np.linspace(0.85, 1, 20)]"
   ]
  },
  {
   "cell_type": "code",
   "execution_count": null,
   "metadata": {},
   "outputs": [],
   "source": [
    "_t = np.array(times).T\n",
    "plt.plot(np.linspace(0.85, 1, 20), _t[0], label='upper')\n",
    "plt.plot(np.linspace(0.85, 1, 20), _t[1], label='lower')\n",
    "plt.legend()\n",
    "plt.ylabel('Time to achieve')\n",
    "plt.xlabel('AR')\n",
    "plt.yscale('log')"
   ]
  },
  {
   "cell_type": "code",
   "execution_count": null,
   "metadata": {},
   "outputs": [],
   "source": [
    "plt.hist(np.log(dt), bins=50)"
   ]
  },
  {
   "cell_type": "code",
   "execution_count": null,
   "metadata": {},
   "outputs": [],
   "source": [
    "plt.plot(mipd[0])"
   ]
  },
  {
   "cell_type": "code",
   "execution_count": null,
   "metadata": {},
   "outputs": [],
   "source": [
    "i"
   ]
  },
  {
   "cell_type": "code",
   "execution_count": null,
   "metadata": {},
   "outputs": [],
   "source": [
    "for upper, lower in zip(updata, ldata):\n",
    "    plt.plot(upper, label='upper', alpha=0.3, color='r')\n",
    "    plt.plot(lower, label='lower', alpha=0.3, color='b')\n",
    "    \n",
    "plt.xlabel('Time, seconds')\n",
    "plt.ylabel('Cost value')"
   ]
  },
  {
   "cell_type": "code",
   "execution_count": null,
   "metadata": {},
   "outputs": [],
   "source": [
    "for upper, lower in zip(updata, ldata):\n",
    "    upper = np.array(upper)\n",
    "    lower = np.array(lower)\n",
    "    x = range(1, len(lower)+1)\n",
    "    #plt.plot(upper/upper.min(), label='upper', alpha=0.3, color='r')\n",
    "    plt.plot(x, lower/lower.max(), label='lower', alpha=0.3, color='b')\n",
    "    \n",
    "plt.xlabel('Time, seconds')\n",
    "plt.ylabel('Cost value')"
   ]
  },
  {
   "cell_type": "code",
   "execution_count": null,
   "metadata": {},
   "outputs": [],
   "source": [
    "for upper, lower in zip(updata, ldata):\n",
    "    upper = np.array(upper)\n",
    "    lower = np.array(lower)\n",
    "    x = range(0, len(lower))\n",
    "    #plt.plot(upper/upper.min(), label='upper', alpha=0.3, color='r')\n",
    "    plt.plot(x, lower/lower.max(), label='lower', alpha=0.3, color='b')\n",
    "plt.xscale('symlog')    \n",
    "plt.xlabel('Time, seconds')\n",
    "plt.ylabel('Cost value')\n",
    "plt.grid()"
   ]
  },
  {
   "cell_type": "markdown",
   "metadata": {},
   "source": [
    "## Gurobi upper and lower bounds for AR\n",
    "\n",
    "$$$\n",
    "\\foreach \\delta>0 AR(t+\\delta)>AR(t)\n",
    "$$$"
   ]
  },
  {
   "cell_type": "markdown",
   "metadata": {},
   "source": [
    "### Gurobi activate"
   ]
  },
  {
   "cell_type": "code",
   "execution_count": null,
   "metadata": {
    "scrolled": true
   },
   "outputs": [],
   "source": [
    "import socket\n",
    "\n",
    "if socket.gethostname() == 'DESKTOP-1OG5J92':\n",
    "    gurobi_lic = '/home/plate/git-built/gurobi/'\n",
    "    print('getting license')\n",
    "    grbkey = 'd3f381ce-d331-11eb-89be-0242ac120002'\n",
    "    # (over)write key to gurobi_lic directory and don't ask questions\n",
    "    !grbgetkey -q --path $gurobi_lic $grbkey\n",
    "    \n",
    "elif socket.gethostname().startswith('skylake'):\n",
    "    gurobi_lic = '/home/danlkv/git-build/gurobi/'\n",
    "    print('getting license')\n",
    "    grbkey = '3ef58f36-d29b-11eb-871f-0242ac120002'\n",
    "    # (over)write key to gurobi_lic directory and don't ask questions\n",
    "    !grbgetkey -q --path $gurobi_lic $grbkey"
   ]
  },
  {
   "cell_type": "code",
   "execution_count": null,
   "metadata": {},
   "outputs": [],
   "source": [
    "socket.gethostname()"
   ]
  },
  {
   "cell_type": "code",
   "execution_count": null,
   "metadata": {
    "scrolled": false
   },
   "outputs": [],
   "source": [
    "qtensor.tools.maxcut.gurobi_maxcut(nx.random_regular_graph(3, 12))"
   ]
  },
  {
   "cell_type": "code",
   "execution_count": null,
   "metadata": {},
   "outputs": [],
   "source": []
  }
 ],
 "metadata": {
  "kernelspec": {
   "display_name": "Python 3",
   "language": "python",
   "name": "python3"
  },
  "language_info": {
   "codemirror_mode": {
    "name": "ipython",
    "version": 3
   },
   "file_extension": ".py",
   "mimetype": "text/x-python",
   "name": "python",
   "nbconvert_exporter": "python",
   "pygments_lexer": "ipython3",
   "version": "3.8.2"
  },
  "toc": {
   "base_numbering": 1,
   "nav_menu": {},
   "number_sections": true,
   "sideBar": true,
   "skip_h1_title": true,
   "title_cell": "Table of Contents",
   "title_sidebar": "Contents",
   "toc_cell": true,
   "toc_position": {
    "height": "calc(100% - 180px)",
    "left": "10px",
    "top": "150px",
    "width": "164.991px"
   },
   "toc_section_display": true,
   "toc_window_display": true
  },
  "varInspector": {
   "cols": {
    "lenName": 16,
    "lenType": 16,
    "lenVar": 40
   },
   "kernels_config": {
    "python": {
     "delete_cmd_postfix": "",
     "delete_cmd_prefix": "del ",
     "library": "var_list.py",
     "varRefreshCmd": "print(var_dic_list())"
    },
    "r": {
     "delete_cmd_postfix": ") ",
     "delete_cmd_prefix": "rm(",
     "library": "var_list.r",
     "varRefreshCmd": "cat(var_dic_list()) "
    }
   },
   "types_to_exclude": [
    "module",
    "function",
    "builtin_function_or_method",
    "instance",
    "_Feature"
   ],
   "window_display": false
  }
 },
 "nbformat": 4,
 "nbformat_minor": 4
}
