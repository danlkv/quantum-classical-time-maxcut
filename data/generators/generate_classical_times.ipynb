{
 "cells": [
  {
   "cell_type": "markdown",
   "metadata": {
    "toc": true
   },
   "source": [
    "<h1>Table of Contents<span class=\"tocSkip\"></span></h1>\n",
    "<div class=\"toc\"><ul class=\"toc-item\"><li><span><a href=\"#Use-gurobi-with-guesses-about-AR\" data-toc-modified-id=\"Use-gurobi-with-guesses-about-AR-1\"><span class=\"toc-item-num\">1&nbsp;&nbsp;</span>Use gurobi with guesses about AR</a></span><ul class=\"toc-item\"><li><span><a href=\"#Helper-classes-and-functions\" data-toc-modified-id=\"Helper-classes-and-functions-1.1\"><span class=\"toc-item-num\">1.1&nbsp;&nbsp;</span>Helper classes and functions</a></span></li></ul></li><li><span><a href=\"#Classical-times\" data-toc-modified-id=\"Classical-times-2\"><span class=\"toc-item-num\">2&nbsp;&nbsp;</span>Classical times</a></span><ul class=\"toc-item\"><li><span><a href=\"#Match-time\" data-toc-modified-id=\"Match-time-2.1\"><span class=\"toc-item-num\">2.1&nbsp;&nbsp;</span>Match time</a></span></li><li><span><a href=\"#Optimal-time\" data-toc-modified-id=\"Optimal-time-2.2\"><span class=\"toc-item-num\">2.2&nbsp;&nbsp;</span>Optimal time</a></span></li></ul></li><li><span><a href=\"#Gurobi-modeling\" data-toc-modified-id=\"Gurobi-modeling-3\"><span class=\"toc-item-num\">3&nbsp;&nbsp;</span>Gurobi modeling</a></span></li><li><span><a href=\"#Gurobi-upper-and-lower-bounds-for-AR\" data-toc-modified-id=\"Gurobi-upper-and-lower-bounds-for-AR-4\"><span class=\"toc-item-num\">4&nbsp;&nbsp;</span>Gurobi upper and lower bounds for AR</a></span><ul class=\"toc-item\"><li><span><a href=\"#Gurobi-activate\" data-toc-modified-id=\"Gurobi-activate-4.1\"><span class=\"toc-item-num\">4.1&nbsp;&nbsp;</span>Gurobi activate</a></span></li></ul></li></ul></div>"
   ]
  },
  {
   "cell_type": "code",
   "execution_count": 1,
   "metadata": {
    "scrolled": true
   },
   "outputs": [
    {
     "name": "stderr",
     "output_type": "stream",
     "text": [
      "2021-11-24 00:19:16,532- WARNING•\tQuickBB solver is unavailable\n"
     ]
    },
    {
     "name": "stdout",
     "output_type": "stream",
     "text": [
      "twl /home/dlykov/anl/Qensor/qtree/thirdparty/tamaki_treewidth/tw-exact\n"
     ]
    }
   ],
   "source": [
    "import numpy as np\n",
    "import time\n",
    "import matplotlib.pyplot as plt\n",
    "\n",
    "from cartesian_explorer import Explorer\n",
    "import cartesian_explorer as caex\n",
    "\n",
    "import qtensor\n",
    "import pickle\n",
    "import socket"
   ]
  },
  {
   "cell_type": "code",
   "execution_count": 2,
   "metadata": {},
   "outputs": [
    {
     "name": "stdout",
     "output_type": "stream",
     "text": [
      "Using ray parallel for caex\n"
     ]
    }
   ],
   "source": [
    "cache = caex.caches.JobLibCache(\"../caex_cache/energy_eff\")\n",
    "if socket.gethostname().startswith('skylake'):\n",
    "    print('Using ray parallel for caex')\n",
    "    parallel = caex.parallels.Ray(processes=55)\n",
    "else:\n",
    "    parallel = None\n",
    "    parallel = caex.parallels.Ray(processes=2)\n",
    "ex = Explorer(cache=cache, parallel=parallel)"
   ]
  },
  {
   "cell_type": "markdown",
   "metadata": {},
   "source": [
    "## Use gurobi with guesses about AR\n",
    "\n"
   ]
  },
  {
   "cell_type": "markdown",
   "metadata": {},
   "source": [
    "\n",
    "* $UB$ - upper bound on maxcut cost\n",
    "* $LB$ - lower bound \n",
    "* $C$ - optimal cost\n",
    "$UB>C$\n",
    "\n",
    "\n",
    "$AR = \\frac{LB}{C} > \\frac{LB}{UB}$"
   ]
  },
  {
   "cell_type": "code",
   "execution_count": 3,
   "metadata": {},
   "outputs": [],
   "source": [
    "#%load_ext autoreload\n",
    "#%autoreload 2"
   ]
  },
  {
   "cell_type": "code",
   "execution_count": 4,
   "metadata": {},
   "outputs": [],
   "source": [
    "import miplog_helper, scale_helper"
   ]
  },
  {
   "cell_type": "code",
   "execution_count": 5,
   "metadata": {},
   "outputs": [],
   "source": [
    "import xarray as xar"
   ]
  },
  {
   "cell_type": "code",
   "execution_count": null,
   "metadata": {},
   "outputs": [],
   "source": []
  },
  {
   "cell_type": "markdown",
   "metadata": {},
   "source": [
    "### Helper classes and functions"
   ]
  },
  {
   "cell_type": "code",
   "execution_count": 6,
   "metadata": {},
   "outputs": [],
   "source": [
    "\n",
    "from datetime import datetime, timedelta\n",
    "from functools import wraps\n",
    "\n",
    "class throttle():\n",
    "    \"\"\" Decorator class that limits number of calls for function\"\"\"\n",
    "    def __init__(self, per_sec=20, max_calls=1, warmup=0):\n",
    "        self.period = timedelta(microseconds=1000000/per_sec)\n",
    "        self.t0 = datetime.min\n",
    "        self.max_calls = max_calls\n",
    "        self.calls_done = 0\n",
    "        self.warmup = timedelta(seconds=warmup)\n",
    "        self.warmup_expired = False\n",
    "\n",
    "    def __call__(self, fn):\n",
    "        @wraps(fn)\n",
    "        def wrapper(*args, **kwargs):\n",
    "            t1 = datetime.now()\n",
    "            if self.t0 == datetime.min:\n",
    "                self.t0 = t1\n",
    "            dt = t1 - self.t0\n",
    "            secs2wait = (self.period - dt).total_seconds()\n",
    "            if self.warmup_expired:\n",
    "                if secs2wait > 0:\n",
    "                    if self.calls_done==self.max_calls:\n",
    "                        return \n",
    "                    else:\n",
    "                        self.calls_done += 1\n",
    "                else:\n",
    "                    self.calls_done = 1\n",
    "                    self.t0 = datetime.now()\n",
    "            else:\n",
    "                self.warmup_expired = self.warmup < dt\n",
    "\n",
    "            return fn(*args, **kwargs)\n",
    "\n",
    "        return wrapper "
   ]
  },
  {
   "cell_type": "code",
   "execution_count": 7,
   "metadata": {},
   "outputs": [],
   "source": [
    "import networkx as nx\n",
    "from typing import Tuple\n",
    "import gurobipy as gb\n",
    "import time\n",
    "\n",
    "def maxcut_bounds_history(G: nx.Graph,\n",
    "                          max_time=10*60,\n",
    "                          max_cost=None,\n",
    "                          threads=None,\n",
    "                          timedelta=3,\n",
    "                          max_ar=1.0,\n",
    "                          verbose=True,\n",
    "                          callback=None,\n",
    "                          gurobi_options={}\n",
    "                         ) -> Tuple[list, list]:\n",
    "    p = gb.Model()\n",
    "    p.setParam('TimeLimit', max_time)\n",
    "    if max_cost is not None:\n",
    "        p.setParam('BestObjStop', max_cost)\n",
    "    if threads is not None:\n",
    "        p.setParam('Threads', threads)\n",
    "    if verbose is False:\n",
    "        p.setParam('OutputFlag', 0)\n",
    "    for key in gurobi_options:\n",
    "        p.setParam(key, gurobi_options[key])\n",
    "        \n",
    "    vdict = {}\n",
    "    for n in G.nodes:\n",
    "        vdict[n] = p.addVar(name='v_'+str(n), vtype=gb.GRB.BINARY)\n",
    "    scaled_v = {v:(2*x - 1) for v, x in vdict.items()}\n",
    "    C_i = [vdict[i] + vdict[j] - 2*vdict[i]*vdict[j] for i, j in G.edges]\n",
    "    \n",
    "    p.setObjective(sum(C_i), gb.GRB.MAXIMIZE)\n",
    "    \n",
    "    startop = time.time()\n",
    "    upper = []\n",
    "    lower = []\n",
    "    def clb(model, where):\n",
    "        # See here https://www.gurobi.com/documentation/9.1/refman/cb_codes.html\n",
    "        return None\n",
    "        \n",
    "    miplog = []\n",
    "    start = time.time()\n",
    "\n",
    "    @throttle(per_sec=1, warmup=3)\n",
    "    @throttle(per_sec=50)\n",
    "    def on_update(model, where, cost, bound):\n",
    "        nonlocal start\n",
    "        if start == 0:\n",
    "            start = time.time()\n",
    "        dt = time.time()-start\n",
    "        miplog.append([dt, bound, cost])\n",
    "        print(f'[{dt}]', 'MIP', 'cost=', cost, 'bound=', bound)\n",
    "\n",
    "    def clb(model, where):\n",
    "        # See here https://www.gurobi.com/documentation/9.1/refman/cb_codes.html\n",
    "        cst = 0\n",
    "        if where == gb.CallbackClass.MIP:\n",
    "            cst = model.cbGet(gb.CallbackClass.MIP_OBJBST)\n",
    "            bnd = model.cbGet(gb.CallbackClass.MIP_OBJBND)\n",
    "        if where == gb.CallbackClass.MIPSOL:\n",
    "            cst = model.cbGet(gb.CallbackClass.MIPSOL_OBJBST)\n",
    "            bnd = model.cbGet(gb.CallbackClass.MIPSOL_OBJBND)\n",
    "        if cst>0:\n",
    "            on_update(model, where, cst, bnd)\n",
    "        \n",
    "    if callback is None:\n",
    "        callback = clb\n",
    "        \n",
    "    p.optimize(callback=callback)\n",
    "    miplog.append(\n",
    "        [time.time()-startop, p.ObjBound, p.ObjVal]\n",
    "    )\n",
    "        \n",
    "    return miplog\n",
    "\n"
   ]
  },
  {
   "cell_type": "markdown",
   "metadata": {},
   "source": [
    "Set gurobi thread count to 1, so it's more meaningful to compare between different machines and more correct when doing parallel calculations"
   ]
  },
  {
   "cell_type": "code",
   "execution_count": 8,
   "metadata": {},
   "outputs": [],
   "source": [
    "GUROBI_THREADS = 1 #set to 0 to use all available"
   ]
  },
  {
   "cell_type": "markdown",
   "metadata": {},
   "source": [
    "## Classical times"
   ]
  },
  {
   "cell_type": "code",
   "execution_count": 9,
   "metadata": {},
   "outputs": [],
   "source": [
    "@ex.provider\n",
    "def graph(N, seed=10, degree=3):\n",
    "    return qtensor.toolbox.random_graph(nodes=N, seed=seed, degree=degree)\n",
    "\n",
    "@ex.add_function(provides=('classical_time_gurobi', 'opt_cost'), requires=('graph', ))\n",
    "def classical_time_gurobi(graph):\n",
    "    start = time.time()\n",
    "    c, sol = qtensor.tools.maxcut.gurobi_maxcut(graph, max_time=15*60, threads=GUROBI_THREADS)\n",
    "    return time.time() - start, c\n",
    "    \n",
    "@ex.provider\n",
    "def gurobi_hist(graph, max_time=600, gurobi_options={}):\n",
    "    miplog = maxcut_bounds_history(\n",
    "        graph, max_time=max_time, threads=GUROBI_THREADS,\n",
    "        gurobi_options=gurobi_options\n",
    "    )\n",
    "    dh = miplog_helper.MiplogData(miplog)\n",
    "    diffs = dh.get_diff_data()\n",
    "    start = dh.get_starting_point()\n",
    "    return [start] + diffs\n",
    "\n",
    "@ex.provider\n",
    "def classical_time_gw(graph):\n",
    "    start = time.time()\n",
    "    c = qtensor.tools.maxcut.goemans_williamson.gw_cost(graph)\n",
    "    return time.time() - start\n",
    "    "
   ]
  },
  {
   "cell_type": "code",
   "execution_count": 10,
   "metadata": {},
   "outputs": [
    {
     "data": {
      "text/plain": [
       "{3: 4, 7: 4, 4: 4, 6: 4, 1: 4, 0: 4, 8: 4, 2: 4, 5: 4, 9: 4}"
      ]
     },
     "execution_count": 10,
     "metadata": {},
     "output_type": "execute_result"
    }
   ],
   "source": [
    "g = ex.get_variable('graph', N=10, seed=10, degree=4)\n",
    "dict(g.degree())"
   ]
  },
  {
   "cell_type": "markdown",
   "metadata": {},
   "source": [
    "### Match time"
   ]
  },
  {
   "cell_type": "code",
   "execution_count": 13,
   "metadata": {},
   "outputs": [
    {
     "name": "stdout",
     "output_type": "stream",
     "text": [
      "[30, 64, 100, 150, 574, 1000, 1400, 5000, 5200, 7600, 10000, 12400, 15000, 27500, 40000, 50000, 75000, 100000]\n"
     ]
    },
    {
     "data": {
      "text/plain": [
       "2.727272727272727"
      ]
     },
     "execution_count": 13,
     "metadata": {},
     "output_type": "execute_result"
    }
   ],
   "source": [
    "match_ext = np.concatenate([\n",
    "    np.linspace(30, 100, 3),\n",
    "    np.linspace(150, 1000, 3),\n",
    "    np.linspace(1400, 5000, 2),\n",
    "    np.linspace(5200, 12400, 4),\n",
    "    np.linspace(15000, 40000, 3),\n",
    "    np.linspace(50000, 100000, 3),\n",
    "])\n",
    "match_ext = [2*int(x/2) for x in match_ext]\n",
    "print(match_ext)\n",
    "len(match_ext)*100/55*5/60"
   ]
  },
  {
   "cell_type": "code",
   "execution_count": 14,
   "metadata": {},
   "outputs": [
    {
     "name": "stdout",
     "output_type": "stream",
     "text": [
      "Using gurobi options {'Symmetry': 0, 'PreQLinearize': 2}\n"
     ]
    },
    {
     "name": "stderr",
     "output_type": "stream",
     "text": [
      "/home/dlykov/.local/lib/python3.8/site-packages/numpy/core/fromnumeric.py:43: VisibleDeprecationWarning: Creating an ndarray from ragged nested sequences (which is a list-or-tuple of lists-or-tuples-or ndarrays with different lengths or shapes) is deprecated. If you meant to do this, you must specify 'dtype=object' when creating the ndarray.\n",
      "  result = getattr(asarray(obj), method)(*args, **kwds)\n"
     ]
    }
   ],
   "source": [
    "seeds = range(10, 110)\n",
    "degree=3\n",
    "options_preset_map = {\n",
    "    'symLin2': {'Symmetry': 0, 'PreQLinearize': 2}\n",
    "   , 'symLin1': {'Symmetry': 0, 'PreQLinearize': 1}\n",
    "   , 'symLin0': {'Symmetry': 0, 'PreQLinearize': 0}\n",
    "   , 'default': {}\n",
    "}\n",
    "options_preset = 'symLin2'\n",
    "# symLin2 is a good one, used for most previous (2021 July 2nd half) runs\n",
    "options = options_preset_map[options_preset]\n",
    "print('Using gurobi options', options)\n",
    "\n",
    "gurobi_bytes = ex.map_variable(('gurobi_hist')\n",
    "                               , N=match_ext\n",
    "                               , seed=seeds\n",
    "                               , max_time=[5*60]\n",
    "                               , degree=[degree]\n",
    "                               , gurobi_options=[options]\n",
    "                 )\n",
    "\n",
    "xd = xar.DataArray(gurobi_bytes, dims=('N', 'seed'), coords=(match_ext, seeds))\n",
    "# save the data\n",
    "pickle.dump(xd, open(f'../gurobi_match_d{degree}_gp{options_preset}.pkl', 'wb'))"
   ]
  },
  {
   "cell_type": "code",
   "execution_count": 15,
   "metadata": {},
   "outputs": [
    {
     "data": {
      "text/plain": [
       "[7.766361951828003, 18600.0, 16537.0]"
      ]
     },
     "execution_count": 15,
     "metadata": {},
     "output_type": "execute_result"
    },
    {
     "data": {
      "image/png": "[encoded data removed]",
      "text/plain": [
       "<Figure size 432x288 with 1 Axes>"
      ]
     },
     "metadata": {
      "needs_background": "light"
     },
     "output_type": "display_data"
    }
   ],
   "source": [
    "dat = gurobi_bytes[-7][1]\n",
    "\n",
    "mh = miplog_helper.MiplogData.from_start_and_diffs(dat[0], dat[1:])\n",
    "mh.plot()\n",
    "mh.miplog[4]"
   ]
  },
  {
   "cell_type": "code",
   "execution_count": 16,
   "metadata": {},
   "outputs": [
    {
     "data": {
      "text/html": [
       "<div><svg style=\"position: absolute; width: 0; height: 0; overflow: hidden\">\n",
       "<defs>\n",
       "<symbol id=\"icon-database\" viewBox=\"0 0 32 32\">\n",
       "<path d=\"M16 0c-8.837 0-16 2.239-16 5v4c0 2.761 7.163 5 16 5s16-2.239 16-5v-4c0-2.761-7.163-5-16-5z\"></path>\n",
       "<path d=\"M16 17c-8.837 0-16-2.239-16-5v6c0 2.761 7.163 5 16 5s16-2.239 16-5v-6c0 2.761-7.163 5-16 5z\"></path>\n",
       "<path d=\"M16 26c-8.837 0-16-2.239-16-5v6c0 2.761 7.163 5 16 5s16-2.239 16-5v-6c0 2.761-7.163 5-16 5z\"></path>\n",
       "</symbol>\n",
       "<symbol id=\"icon-file-text2\" viewBox=\"0 0 32 32\">\n",
       "<path d=\"M28.681 7.159c-0.694-0.947-1.662-2.053-2.724-3.116s-2.169-2.030-3.116-2.724c-1.612-1.182-2.393-1.319-2.841-1.319h-15.5c-1.378 0-2.5 1.121-2.5 2.5v27c0 1.378 1.122 2.5 2.5 2.5h23c1.378 0 2.5-1.122 2.5-2.5v-19.5c0-0.448-0.137-1.23-1.319-2.841zM24.543 5.457c0.959 0.959 1.712 1.825 2.268 2.543h-4.811v-4.811c0.718 0.556 1.584 1.309 2.543 2.268zM28 29.5c0 0.271-0.229 0.5-0.5 0.5h-23c-0.271 0-0.5-0.229-0.5-0.5v-27c0-0.271 0.229-0.5 0.5-0.5 0 0 15.499-0 15.5 0v7c0 0.552 0.448 1 1 1h7v19.5z\"></path>\n",
       "<path d=\"M23 26h-14c-0.552 0-1-0.448-1-1s0.448-1 1-1h14c0.552 0 1 0.448 1 1s-0.448 1-1 1z\"></path>\n",
       "<path d=\"M23 22h-14c-0.552 0-1-0.448-1-1s0.448-1 1-1h14c0.552 0 1 0.448 1 1s-0.448 1-1 1z\"></path>\n",
       "<path d=\"M23 18h-14c-0.552 0-1-0.448-1-1s0.448-1 1-1h14c0.552 0 1 0.448 1 1s-0.448 1-1 1z\"></path>\n",
       "</symbol>\n",
       "</defs>\n",
       "</svg>\n",
       "<style>/* CSS stylesheet for displaying xarray objects in jupyterlab.\n",
       " *\n",
       " */\n",
       "\n",
       ":root {\n",
       "  --xr-font-color0: var(--jp-content-font-color0, rgba(0, 0, 0, 1));\n",
       "  --xr-font-color2: var(--jp-content-font-color2, rgba(0, 0, 0, 0.54));\n",
       "  --xr-font-color3: var(--jp-content-font-color3, rgba(0, 0, 0, 0.38));\n",
       "  --xr-border-color: var(--jp-border-color2, #e0e0e0);\n",
       "  --xr-disabled-color: var(--jp-layout-color3, #bdbdbd);\n",
       "  --xr-background-color: var(--jp-layout-color0, white);\n",
       "  --xr-background-color-row-even: var(--jp-layout-color1, white);\n",
       "  --xr-background-color-row-odd: var(--jp-layout-color2, #eeeeee);\n",
       "}\n",
       "\n",
       "html[theme=dark],\n",
       "body.vscode-dark {\n",
       "  --xr-font-color0: rgba(255, 255, 255, 1);\n",
       "  --xr-font-color2: rgba(255, 255, 255, 0.54);\n",
       "  --xr-font-color3: rgba(255, 255, 255, 0.38);\n",
       "  --xr-border-color: #1F1F1F;\n",
       "  --xr-disabled-color: #515151;\n",
       "  --xr-background-color: #111111;\n",
       "  --xr-background-color-row-even: #111111;\n",
       "  --xr-background-color-row-odd: #313131;\n",
       "}\n",
       "\n",
       ".xr-wrap {\n",
       "  display: block;\n",
       "  min-width: 300px;\n",
       "  max-width: 700px;\n",
       "}\n",
       "\n",
       ".xr-text-repr-fallback {\n",
       "  /* fallback to plain text repr when CSS is not injected (untrusted notebook) */\n",
       "  display: none;\n",
       "}\n",
       "\n",
       ".xr-header {\n",
       "  padding-top: 6px;\n",
       "  padding-bottom: 6px;\n",
       "  margin-bottom: 4px;\n",
       "  border-bottom: solid 1px var(--xr-border-color);\n",
       "}\n",
       "\n",
       ".xr-header > div,\n",
       ".xr-header > ul {\n",
       "  display: inline;\n",
       "  margin-top: 0;\n",
       "  margin-bottom: 0;\n",
       "}\n",
       "\n",
       ".xr-obj-type,\n",
       ".xr-array-name {\n",
       "  margin-left: 2px;\n",
       "  margin-right: 10px;\n",
       "}\n",
       "\n",
       ".xr-obj-type {\n",
       "  color: var(--xr-font-color2);\n",
       "}\n",
       "\n",
       ".xr-sections {\n",
       "  padding-left: 0 !important;\n",
       "  display: grid;\n",
       "  grid-template-columns: 150px auto auto 1fr 20px 20px;\n",
       "}\n",
       "\n",
       ".xr-section-item {\n",
       "  display: contents;\n",
       "}\n",
       "\n",
       ".xr-section-item input {\n",
       "  display: none;\n",
       "}\n",
       "\n",
       ".xr-section-item input + label {\n",
       "  color: var(--xr-disabled-color);\n",
       "}\n",
       "\n",
       ".xr-section-item input:enabled + label {\n",
       "  cursor: pointer;\n",
       "  color: var(--xr-font-color2);\n",
       "}\n",
       "\n",
       ".xr-section-item input:enabled + label:hover {\n",
       "  color: var(--xr-font-color0);\n",
       "}\n",
       "\n",
       ".xr-section-summary {\n",
       "  grid-column: 1;\n",
       "  color: var(--xr-font-color2);\n",
       "  font-weight: 500;\n",
       "}\n",
       "\n",
       ".xr-section-summary > span {\n",
       "  display: inline-block;\n",
       "  padding-left: 0.5em;\n",
       "}\n",
       "\n",
       ".xr-section-summary-in:disabled + label {\n",
       "  color: var(--xr-font-color2);\n",
       "}\n",
       "\n",
       ".xr-section-summary-in + label:before {\n",
       "  display: inline-block;\n",
       "  content: '►';\n",
       "  font-size: 11px;\n",
       "  width: 15px;\n",
       "  text-align: center;\n",
       "}\n",
       "\n",
       ".xr-section-summary-in:disabled + label:before {\n",
       "  color: var(--xr-disabled-color);\n",
       "}\n",
       "\n",
       ".xr-section-summary-in:checked + label:before {\n",
       "  content: '▼';\n",
       "}\n",
       "\n",
       ".xr-section-summary-in:checked + label > span {\n",
       "  display: none;\n",
       "}\n",
       "\n",
       ".xr-section-summary,\n",
       ".xr-section-inline-details {\n",
       "  padding-top: 4px;\n",
       "  padding-bottom: 4px;\n",
       "}\n",
       "\n",
       ".xr-section-inline-details {\n",
       "  grid-column: 2 / -1;\n",
       "}\n",
       "\n",
       ".xr-section-details {\n",
       "  display: none;\n",
       "  grid-column: 1 / -1;\n",
       "  margin-bottom: 5px;\n",
       "}\n",
       "\n",
       ".xr-section-summary-in:checked ~ .xr-section-details {\n",
       "  display: contents;\n",
       "}\n",
       "\n",
       ".xr-array-wrap {\n",
       "  grid-column: 1 / -1;\n",
       "  display: grid;\n",
       "  grid-template-columns: 20px auto;\n",
       "}\n",
       "\n",
       ".xr-array-wrap > label {\n",
       "  grid-column: 1;\n",
       "  vertical-align: top;\n",
       "}\n",
       "\n",
       ".xr-preview {\n",
       "  color: var(--xr-font-color3);\n",
       "}\n",
       "\n",
       ".xr-array-preview,\n",
       ".xr-array-data {\n",
       "  padding: 0 5px !important;\n",
       "  grid-column: 2;\n",
       "}\n",
       "\n",
       ".xr-array-data,\n",
       ".xr-array-in:checked ~ .xr-array-preview {\n",
       "  display: none;\n",
       "}\n",
       "\n",
       ".xr-array-in:checked ~ .xr-array-data,\n",
       ".xr-array-preview {\n",
       "  display: inline-block;\n",
       "}\n",
       "\n",
       ".xr-dim-list {\n",
       "  display: inline-block !important;\n",
       "  list-style: none;\n",
       "  padding: 0 !important;\n",
       "  margin: 0;\n",
       "}\n",
       "\n",
       ".xr-dim-list li {\n",
       "  display: inline-block;\n",
       "  padding: 0;\n",
       "  margin: 0;\n",
       "}\n",
       "\n",
       ".xr-dim-list:before {\n",
       "  content: '(';\n",
       "}\n",
       "\n",
       ".xr-dim-list:after {\n",
       "  content: ')';\n",
       "}\n",
       "\n",
       ".xr-dim-list li:not(:last-child):after {\n",
       "  content: ',';\n",
       "  padding-right: 5px;\n",
       "}\n",
       "\n",
       ".xr-has-index {\n",
       "  font-weight: bold;\n",
       "}\n",
       "\n",
       ".xr-var-list,\n",
       ".xr-var-item {\n",
       "  display: contents;\n",
       "}\n",
       "\n",
       ".xr-var-item > div,\n",
       ".xr-var-item label,\n",
       ".xr-var-item > .xr-var-name span {\n",
       "  background-color: var(--xr-background-color-row-even);\n",
       "  margin-bottom: 0;\n",
       "}\n",
       "\n",
       ".xr-var-item > .xr-var-name:hover span {\n",
       "  padding-right: 5px;\n",
       "}\n",
       "\n",
       ".xr-var-list > li:nth-child(odd) > div,\n",
       ".xr-var-list > li:nth-child(odd) > label,\n",
       ".xr-var-list > li:nth-child(odd) > .xr-var-name span {\n",
       "  background-color: var(--xr-background-color-row-odd);\n",
       "}\n",
       "\n",
       ".xr-var-name {\n",
       "  grid-column: 1;\n",
       "}\n",
       "\n",
       ".xr-var-dims {\n",
       "  grid-column: 2;\n",
       "}\n",
       "\n",
       ".xr-var-dtype {\n",
       "  grid-column: 3;\n",
       "  text-align: right;\n",
       "  color: var(--xr-font-color2);\n",
       "}\n",
       "\n",
       ".xr-var-preview {\n",
       "  grid-column: 4;\n",
       "}\n",
       "\n",
       ".xr-var-name,\n",
       ".xr-var-dims,\n",
       ".xr-var-dtype,\n",
       ".xr-preview,\n",
       ".xr-attrs dt {\n",
       "  white-space: nowrap;\n",
       "  overflow: hidden;\n",
       "  text-overflow: ellipsis;\n",
       "  padding-right: 10px;\n",
       "}\n",
       "\n",
       ".xr-var-name:hover,\n",
       ".xr-var-dims:hover,\n",
       ".xr-var-dtype:hover,\n",
       ".xr-attrs dt:hover {\n",
       "  overflow: visible;\n",
       "  width: auto;\n",
       "  z-index: 1;\n",
       "}\n",
       "\n",
       ".xr-var-attrs,\n",
       ".xr-var-data {\n",
       "  display: none;\n",
       "  background-color: var(--xr-background-color) !important;\n",
       "  padding-bottom: 5px !important;\n",
       "}\n",
       "\n",
       ".xr-var-attrs-in:checked ~ .xr-var-attrs,\n",
       ".xr-var-data-in:checked ~ .xr-var-data {\n",
       "  display: block;\n",
       "}\n",
       "\n",
       ".xr-var-data > table {\n",
       "  float: right;\n",
       "}\n",
       "\n",
       ".xr-var-name span,\n",
       ".xr-var-data,\n",
       ".xr-attrs {\n",
       "  padding-left: 25px !important;\n",
       "}\n",
       "\n",
       ".xr-attrs,\n",
       ".xr-var-attrs,\n",
       ".xr-var-data {\n",
       "  grid-column: 1 / -1;\n",
       "}\n",
       "\n",
       "dl.xr-attrs {\n",
       "  padding: 0;\n",
       "  margin: 0;\n",
       "  display: grid;\n",
       "  grid-template-columns: 125px auto;\n",
       "}\n",
       "\n",
       ".xr-attrs dt,\n",
       ".xr-attrs dd {\n",
       "  padding: 0;\n",
       "  margin: 0;\n",
       "  float: left;\n",
       "  padding-right: 10px;\n",
       "  width: auto;\n",
       "}\n",
       "\n",
       ".xr-attrs dt {\n",
       "  font-weight: normal;\n",
       "  grid-column: 1;\n",
       "}\n",
       "\n",
       ".xr-attrs dt:hover span {\n",
       "  display: inline-block;\n",
       "  background: var(--xr-background-color);\n",
       "  padding-right: 10px;\n",
       "}\n",
       "\n",
       ".xr-attrs dd {\n",
       "  grid-column: 2;\n",
       "  white-space: pre-wrap;\n",
       "  word-break: break-all;\n",
       "}\n",
       "\n",
       ".xr-icon-database,\n",
       ".xr-icon-file-text2 {\n",
       "  display: inline-block;\n",
       "  vertical-align: middle;\n",
       "  width: 1em;\n",
       "  height: 1.5em !important;\n",
       "  stroke-width: 0;\n",
       "  stroke: currentColor;\n",
       "  fill: currentColor;\n",
       "}\n",
       "</style><pre class='xr-text-repr-fallback'>&lt;xarray.DataArray (N: 18, seed: 100)&gt;\n",
       "array([[list([(0.0026748180389404297, 45.0, 38.0), (2, 0.0005736351013183594, 1.0), (1, 0.019767284393310547, 3.0), (1, 0.007950782775878906, 3.0)]),\n",
       "        list([(0.0025107860565185547, 45.0, 40.0), (1, 0.020304203033447266, 4.0), (1, 0.0006439685821533203, 1.0)]),\n",
       "        list([(0.002390146255493164, 45.0, 35.0), (2, 0.0009255409240722656, 6.0), (1, 0.0030617713928222656, 4.0)]),\n",
       "        ...,\n",
       "        list([(0.002336263656616211, 45.0, 38.0), (2, 0.0005347728729248047, 1.0), (1, 0.021895885467529297, 3.0), (1, 0.01449275016784668, 3.0)]),\n",
       "        list([(0.0025959014892578125, 45.0, 38.0), (2, 0.0005786418914794922, 2.0), (1, 0.01933002471923828, 3.0), (1, 0.004787921905517578, 2.0)]),\n",
       "        list([(0.0024557113647460938, 45.0, 42.0), (1, 0.01998281478881836, 3.0)])],\n",
       "       [list([(0.0041656494140625, 96.0, 83.0), (1, 0.04346895217895508, 2.0), (1, 0.020307302474975586, 1.0), (2, 1, 2.0), (1, 0.021093130111694336, 1.0), (2, 1, 3.0), (1, 0.0406498908996582, 1.0), (1, 0.020102262496948242, 1.0), (1, 0.01544332504272461, 2.0)]),\n",
       "        list([(0.0036077499389648438, 96.0, 84.0), (1, 0.031144380569458008, 4.0), (2, 1, 1.0), (1, 0.020642518997192383, 1.0), (2, 1, 1.0), (1, 0.041365861892700195, 1.0), (1, 0.040113210678100586, 1.0), (1, 0.020003795623779297, 1.0), (1, 0.014607667922973633, 2.0)]),\n",
       "        list([(0.0046422481536865234, 96.0, 86.0), (1, 0.04074263572692871, 4.0), (1, 0.02018570899963379, 1.0), (1, 0.021272897720336914, 1.0), (2, 1, 2.0), (1, 0.01786327362060547, 2.0)]),\n",
       "        ...,\n",
       "        list([(0.00304412841796875, 96.0, 86.0), (1, 0.037647247314453125, 3.0), (1, 0.02006387710571289, 1.0), (1, 0.0405271053314209, 1.0), (2, 1, 1.0), (1, 0.04020261764526367, 1.0), (1, 0.039492130279541016, 3.0)]),\n",
       "        list([(0.003220796585083008, 96.0, 87.0), (1, 0.03424882888793945, 3.0), (1, 0.02005767822265625, 1.0), (2, 1, 2.0), (1, 0.010350465774536133, 3.0)]),\n",
       "        list([(0.00400090217590332, 96.0, 86.0), (1, 0.03333282470703125, 5.0), (1, 0.020066499710083008, 1.0), (2, 1, 1.0), (1, 0.020102739334106445, 1.0), (1, 0.0009448528289794922, 2.0)])],\n",
       "       [list([(0.005143165588378906, 150.0, 133.0), (1, 0.02002263069152832, 6.0), (2, 0.023934602737426758, 2.0), (2, 0.06178689002990723, 1.0), (1, 0.02069568634033203, 1.0), (2, 1, 1.0), (1, 0.06130528450012207, 1.0), (1, 0.10303425788879395, 1.0), (1, 0.12583494186401367, 1.0), (1, 0.12331461906433105, 1.0), (1, 0.07433533668518066, 2.0)]),\n",
       "        list([(0.004788875579833984, 150.0, 132.0), (2, 0.0006144046783447266, 2.0), (1, 0.019901752471923828, 5.0), (1, 0.024371623992919922, 1.0), (2, 1, 2.0), (2, 0.02035212516784668, 1.0), (1, 0.04139828681945801, 2.842170943040401e-14), (1, 0.020531892776489258, 0.9999999999999716), (1, 0.10471272468566895, 1.0), (1, 0.020311594009399414, 1.0), (1, 0.08365321159362793, 1.0), (1, 0.0408473014831543, 1.0), (1, 0.025381088256835938, 2.0)]),\n",
       "        list([(0.0046694278717041016, 150.0, 129.0), (1, 0.021707534790039062, 7.0), (1, 0.020076274871826172, 1.0), (2, 1, 3.0), (2, 0.12473726272583008, 1.0), (1, 0.061542510986328125, 1.0), (1, 0.20126128196716309, 1.0), (1, 0.08911252021789551, 1.0), (2, 0.14633774757385254, 2.0), (1, 0.08215737342834473, 1.0), (1, 0.10485196113586426, 1.0), (1, 0.10792040824890137, 1.0), (1, 0.00773310661315918, 1.0)]),\n",
       "        ...,\n",
       "        list([(0.004266977310180664, 150.0, 130.0), (1, 0.02048468589782715, 3.0000000000000284), (2, 1, 2.0), (1, 0.025818347930908203, 0.9999999999999716), (1, 0.020484209060668945, 1.0), (2, 1, 2.0), (1, 0.08523011207580566, 1.0), (2, 1, 1.0), (2, 0.061810970306396484, 1.0), (1, 0.0205078125, 1.0), (1, 0.06253910064697266, 1.0), (1, 0.08372235298156738, 1.0), (1, 0.12319421768188477, 1.0), (1, 0.22761964797973633, 1.0), (1, 0.190049409866333, 8.526512829121202e-14), (1, 0.02495121955871582, 0.9999999999999147), (1, 0.06336474418640137, 1.0), (1, 0.01082921028137207, 1.0)]),\n",
       "        list([(0.003966569900512695, 150.0, 134.0), (1, 0.02002120018005371, 4.0), (1, 0.04307699203491211, 1.0), (2, 1, 1.0), (1, 0.020247220993041992, 1.0), (2, 0.020165681838989258, 2.0), (1, 0.020244598388671875, 1.0), (1, 0.02018427848815918, 1.0), (1, 0.10230684280395508, 1.0), (1, 0.10168147087097168, 1.0), (1, 0.10223174095153809, 1.0), (1, 0.04894852638244629, 2.0)]),\n",
       "...\n",
       "        list([(5.921527147293091, 75000.0, 66383.0), (2, 0.27036142349243164, 60.0), (2, 25.26792883872986, 57.0), (2, 5.083925247192383, 48.0), (1, 1.000084400177002, 1.3096723705530167e-10), (2, 1.002485990524292, 66.0), (2, 1.0153040885925293, 55.0), (2, 1.0224425792694092, 44.0), (2, 2.0196518898010254, 60.0), (2, 1.0060367584228516, 59.0), (2, 1.0358021259307861, 49.0), (2, 1.001297950744629, 51.0), (2, 2.05252742767334, 52.0), (2, 1.0083727836608887, 56.0), (2, 1.0516409873962402, 42.0), (2, 1.0303549766540527, 59.0), (2, 1.238344430923462, 230.0), (2, 2.115128755569458, 31.0), (2, 1.032148838043213, 30.0), (2, 1.2544004917144775, 38.0), (2, 2.068861246109009, 45.0), (2, 2.453519582748413, 40.0), (2, 1.008244514465332, 34.0), (2, 1.207792043685913, 31.0), (2, 2.270418643951416, 26.0), (2, 1.4075205326080322, 142.0), (2, 2.414565324783325, 20.0), (2, 2.171682357788086, 23.0), (2, 2.5820560455322266, 21.0), (2, 2.9935243129730225, 24.0), (2, 3.650559186935425, 83.0), (2, 1.0256845951080322, 19.0), (2, 1.0155527591705322, 21.0), (2, 1.2130789756774902, 18.0), (2, 1.3974237442016602, 19.0), (2, 1.5394434928894043, 16.0), (2, 1.3689939975738525, 16.0), (2, 5.076915502548218, 24.0), (2, 5.585925102233887, 22.0), (2, 5.728860855102539, 23.0), (2, 1.3104565143585205, 23.0), (2, 6.859926700592041, 15.0), (2, 6.684959173202515, 22.0), (2, 1.1089487075805664, 16.0), (2, 8.328731775283813, 17.0), (2, 3.507096290588379, 19.0), (2, 7.019414901733398, 15.0), (2, 7.841768741607666, 6.0), (2, 4.773205757141113, 14.0), (2, 7.882149934768677, 19.0), (2, 9.703999757766724, 13.0), (2, 63.66700482368469, 24.0), (1, 55.69523286819458, 1.9999999998690328)]),\n",
       "        ...,\n",
       "        list([(6.323421001434326, 75000.0, 66487.0), (2, 0.278078556060791, 47.0), (1, 1.6650185585021973, 1.0), (1, 0.5525226593017578, 1.0000000001164153), (2, 8.460039138793945, 45.0), (2, 65.55428576469421, 47.0), (2, 5.767493963241577, 48.0), (1, 1.0157320499420166, 1.0186340659856796e-10), (2, 1.0486576557159424, 50.0), (2, 2.2815215587615967, 60.0), (2, 2.0224146842956543, 44.0), (2, 1.0095736980438232, 58.0), (2, 2.1205785274505615, 213.0), (2, 1.0893607139587402, 70.0), (2, 2.036623239517212, 44.0), (2, 1.1367688179016113, 61.0), (2, 2.0966997146606445, 47.0), (2, 2.3530499935150146, 41.0), (2, 1.0352578163146973, 44.0), (2, 2.0745770931243896, 39.0), (2, 2.033466339111328, 39.0), (2, 1.181107997894287, 191.0), (2, 2.108048677444458, 31.0), (2, 1.0403690338134766, 52.0), (2, 1.0079078674316406, 35.0), (2, 1.290931224822998, 25.0), (2, 2.163357734680176, 20.0), (2, 2.356358051300049, 19.0), (2, 2.0734286308288574, 16.0), (2, 1.0634126663208008, 80.0), (2, 1.0178625583648682, 13.0), (2, 2.943547248840332, 24.0), (2, 2.1272757053375244, 15.0), (2, 1.8043076992034912, 17.0), (2, 1.0115675926208496, 16.0), (2, 2.3070285320281982, 14.0), (2, 2.1044771671295166, 14.0), (2, 1.7154436111450195, 12.0), (2, 1.0021452903747559, 16.0), (2, 1.007490873336792, 20.0), (2, 2.1411972045898438, 18.0), (2, 2.6261651515960693, 20.0), (2, 2.5415589809417725, 18.0), (2, 2.336958646774292, 11.0), (2, 1.2710180282592773, 14.0), (2, 1.2868571281433105, 18.0), (2, 2.6465208530426025, 11.0), (2, 2.06278395652771, 10.0), (2, 2.261274576187134, 5.0), (2, 2.2519538402557373, 6.0), (2, 1.0523855686187744, 6.0), (2, 1.4229586124420166, 8.0), (2, 2.3267858028411865, 6.0), (2, 1.0367708206176758, 8.0), (2, 1.3857638835906982, 10.0), (2, 1.0339107513427734, 2.0), (2, 3.983795642852783, 15.0), (2, 1.8752832412719727, 4.0), (2, 9.626783847808838, 10.0), (2, 1.0124847888946533, 7.0), (2, 2.0562796592712402, 3.0), (2, 6.5277369022369385, 2.0), (2, 4.385450124740601, 7.0), (2, 6.402021169662476, 13.0), (2, 1.1955535411834717, 6.0), (2, 6.195890188217163, 7.0), (2, 3.7895655632019043, 12.0), (2, 6.030225992202759, 11.0), (2, 4.447569131851196, 15.0)]),\n",
       "        list([(6.221133708953857, 75000.0, 66210.0), (2, 0.26727867126464844, 60.0), (1, 1.5803122520446777, 5.820766091346741e-11), (2, 24.905826330184937, 59.0), (2, 7.537319660186768, 40.0), (2, 2.049163579940796, 56.0), (2, 1.019362449645996, 55.0), (2, 1.0069301128387451, 62.0), (2, 2.045464277267456, 82.0), (2, 1.0369930267333984, 51.0), (2, 1.0365626811981201, 52.0), (2, 1.0448095798492432, 75.0), (2, 2.0610909461975098, 202.0), (2, 1.0289695262908936, 39.0), (2, 1.156653642654419, 61.0), (2, 1.0018455982208252, 38.0), (2, 1.0077407360076904, 44.0), (2, 2.023327589035034, 44.0), (2, 1.0355942249298096, 40.0), (2, 1.0033390522003174, 34.0), (2, 2.4228639602661133, 50.0), (2, 1.0018529891967773, 42.0), (2, 1.144512414932251, 54.0), (2, 2.0964410305023193, 39.0), (2, 1.2175228595733643, 43.0), (2, 1.2293946743011475, 178.0), (2, 1.040417194366455, 13.0), (2, 2.373248338699341, 25.0), (2, 2.0869979858398438, 28.0), (2, 2.3582706451416016, 12.0), (2, 2.965916395187378, 24.0), (2, 1.0000722408294678, 17.0), (2, 3.451847553253174, 17.0), (2, 1.005448341369629, 20.0), (2, 1.5064010620117188, 26.0), (2, 1.3647098541259766, 32.0), (2, 1.6431715488433838, 17.0), (2, 5.5924975872039795, 9.0), (2, 6.164591312408447, 33.0), (2, 2.5092663764953613, 56.0), (2, 4.159119606018066, 23.0), (2, 6.675844192504883, 19.0), (2, 6.235487461090088, 22.0), (2, 1.8999989032745361, 17.0), (2, 9.834267377853394, 21.0), (2, 4.195800304412842, 19.0), (2, 6.686269283294678, 12.0), (2, 10.940760850906372, 19.0), (2, 3.4555928707122803, 7.0), (2, 13.122535705566406, 1.0), (2, 61.60726261138916, 36.0), (2, 60.31258034706116, 1.0), (1, 1.0086910724639893, 0.9999999999417923), (2, 4.1755452156066895, 1.0), (2, 1.5024733543395996, 1.0)]),\n",
       "        list([(6.252419948577881, 75000.0, 66373.0), (2, 0.2754058837890625, 51.0), (1, 1.601527452468872, 2.9103830456733704e-11), (2, 12.718071460723877, 40.0), (2, 7.622375726699829, 52.0), (2, 2.0850024223327637, 67.0), (2, 1.0355944633483887, 41.0), (2, 1.10697340965271, 51.0), (2, 2.030026435852051, 60.0), (2, 1.0307977199554443, 43.0), (2, 1.0095930099487305, 57.0), (2, 2.0464894771575928, 75.0), (2, 1.0865199565887451, 54.0), (2, 2.0786020755767822, 55.0), (2, 1.0446138381958008, 44.0), (2, 2.065931797027588, 48.0), (2, 1.0743687152862549, 51.0), (2, 1.1061370372772217, 49.0), (2, 1.0353963375091553, 212.0), (2, 1.3829312324523926, 49.0), (2, 1.0139210224151611, 28.0), (2, 1.2546195983886719, 37.0), (2, 2.3679072856903076, 33.0), (2, 2.4857542514801025, 26.0), (2, 1.000291109085083, 47.0), (2, 1.0012645721435547, 110.0), (2, 1.014671802520752, 19.0), (2, 2.016085386276245, 22.0), (2, 2.3753392696380615, 27.0), (2, 2.1599621772766113, 30.0), (2, 2.5610742568969727, 15.0), (2, 1.0162043571472168, 22.0), (2, 1.4589955806732178, 22.0), (2, 1.4167888164520264, 18.0), (2, 3.3922815322875977, 23.0), (2, 2.298722267150879, 18.0), (2, 4.2686448097229, 16.0), (2, 4.66482138633728, 64.0), (2, 1.0748260021209717, 16.0), (2, 6.188388109207153, 17.0), (2, 6.117702007293701, 15.0), (2, 4.240069150924683, 31.0), (2, 2.0669004917144775, 20.0), (2, 7.384658336639404, 12.0), (2, 4.199561357498169, 23.0), (2, 3.862647533416748, 13.0), (2, 10.140233278274536, 2.0), (2, 1.146183967590332, 10.0), (2, 7.497830867767334, 19.0), (2, 9.12975001335144, 3.0), (2, 4.7424492835998535, 20.0), (2, 8.66541314125061, 20.0), (2, 6.4186530113220215, 1.0), (1, 36.65698838233948, 0.9999999999708962)])],\n",
       "       [list([(11.073609113693237, 112500.0, 99432.0), (2, 0.4747030735015869, 77.0), (1, 2.637587308883667, 5.820766091346741e-11), (2, 22.430917501449585, 78.0), (2, 16.2025363445282, 82.0), (2, 2.131869316101074, 70.0), (2, 2.245149850845337, 99.0), (2, 2.0715699195861816, 73.0), (2, 2.172290802001953, 90.0), (2, 2.2942490577697754, 85.0), (2, 3.4467549324035645, 91.0), (2, 2.226050853729248, 66.0), (2, 2.4558258056640625, 91.0), (2, 2.492565155029297, 59.0), (2, 2.2860026359558105, 72.0), (2, 2.1893725395202637, 83.0), (2, 1.0938611030578613, 275.0), (2, 1.1844947338104248, 65.0), (2, 3.315814256668091, 81.0), (2, 1.0569913387298584, 141.0), (2, 1.0560569763183594, 53.0), (2, 2.602602481842041, 62.0), (2, 3.3446569442749023, 58.0), (2, 4.407328844070435, 53.0), (2, 4.866338014602661, 52.0), (2, 3.265057325363159, 52.0), (2, 4.015441417694092, 41.0), (2, 1.6035935878753662, 37.0), (2, 2.217951774597168, 49.0), (2, 2.2049896717071533, 45.0), (2, 2.5195930004119873, 37.0), (2, 3.4843504428863525, 36.0), (2, 2.382615566253662, 32.0), (2, 3.6517703533172607, 52.0), (2, 2.339477062225342, 39.0), (2, 6.249192476272583, 139.0), (2, 1.0121047496795654, 14.0), (2, 11.055752038955688, 17.0), (2, 6.897125482559204, 33.0), (2, 7.659952163696289, 31.0), (2, 7.93991494178772, 26.0), (2, 7.671036005020142, 26.0), (2, 8.403310537338257, 60.0), (2, 1.4749932289123535, 24.0), (2, 8.97287392616272, 16.0), (2, 9.318742752075195, 31.0), (2, 10.497041702270508, 34.0), (2, 6.804217338562012, 23.0), (2, 20.08564591407776, 11.0), (2, 2.430039405822754, 15.0), (2, 21.37473440170288, 4.0), (2, 17.883446216583252, 8.0), (1, 14.990725755691528, 0.9999999999417923)]),\n",
       "        list([(13.88002061843872, 112500.0, 99524.0), (2, 0.5487604141235352, 81.0), (1, 16.35249638557434, 4.3655745685100555e-11), (2, 33.26930236816406, 79.0), (2, 18.451348543167114, 87.0), (2, 3.2296862602233887, 79.0), (2, 3.0557303428649902, 81.0), (2, 2.135472059249878, 89.0), (2, 3.1377198696136475, 105.0), (2, 2.165318250656128, 72.0), (2, 3.112048625946045, 74.0), (2, 2.361679792404175, 82.0), (2, 3.043397903442383, 81.0), (2, 2.1741573810577393, 79.0), (2, 3.260892629623413, 58.0), (2, 2.2489113807678223, 64.0), (2, 3.4209442138671875, 78.0), (2, 2.199843168258667, 60.0), (2, 3.485905408859253, 62.0), (2, 4.6830244064331055, 60.0), (2, 1.3725683689117432, 295.0), (2, 1.2670261859893799, 66.0), (2, 3.2372512817382812, 56.0), (2, 3.252936840057373, 44.0), (2, 3.069561004638672, 40.0), (2, 3.920032501220703, 55.0), (2, 3.7289388179779053, 40.0), (2, 3.0757782459259033, 33.0), (2, 3.9401957988739014, 35.0), (2, 3.6225993633270264, 33.0), (2, 4.313634872436523, 40.0), (2, 1.6644744873046875, 50.0), (2, 2.0519094467163086, 46.0), (2, 2.0128490924835205, 48.0), (2, 5.444535970687866, 26.0), (2, 2.055202007293701, 28.0), (2, 2.139754295349121, 31.0), (2, 2.34414005279541, 29.0), (2, 5.329550266265869, 35.0), (2, 8.826746940612793, 27.0), (2, 8.0434410572052, 109.0), (2, 2.5589494705200195, 25.0), (2, 13.098008632659912, 34.0), (2, 20.01733660697937, 24.0), (2, 10.559394359588623, 43.0), (2, 8.155313968658447, 21.0), (2, 12.34391736984253, 19.0), (2, 8.024739742279053, 28.0), (2, 5.2841808795928955, 27.0)]),\n",
       "        list([(12.568238496780396, 112500.0, 99765.0), (2, 0.48398566246032715, 68.0), (1, 1.147353172302246, 1.4551915228366852e-11), (2, 27.240773916244507, 68.0), (2, 14.76043152809143, 65.0), (1, 1.0442988872528076, 1.0186340659856796e-10), (2, 2.0666680335998535, 78.0), (2, 2.121023654937744, 85.0), (2, 1.0958309173583984, 96.0), (2, 3.1253840923309326, 71.0), (2, 2.1324093341827393, 60.0), (2, 3.350959539413452, 62.0), (2, 2.0448853969573975, 70.0), (2, 2.2412731647491455, 76.0), (2, 3.1990113258361816, 80.0), (2, 2.062959909439087, 71.0), (2, 2.326268196105957, 60.0), (2, 1.3153431415557861, 244.0), (2, 2.1259093284606934, 63.0), (2, 2.3180603981018066, 62.0), (2, 3.6770646572113037, 45.0), (2, 2.4179766178131104, 72.0), (2, 3.2806644439697266, 61.0), (2, 3.8221323490142822, 42.0), (2, 2.9065847396850586, 44.0), (2, 3.1538891792297363, 40.0), (2, 3.0400805473327637, 41.0), (2, 4.091372489929199, 55.0), (2, 3.603687047958374, 35.0), (2, 3.5830140113830566, 30.0), (2, 3.9758520126342773, 31.0), (2, 2.013395309448242, 44.0), (2, 4.880361795425415, 35.0), (2, 2.1483476161956787, 33.0), (2, 2.922559976577759, 39.0), (2, 2.377716541290283, 33.0), (2, 4.174523115158081, 29.0), (2, 10.528072357177734, 38.0), (2, 8.896606922149658, 34.0), (2, 11.457008600234985, 45.0), (2, 10.758200407028198, 38.0), (2, 8.158474445343018, 132.0), (2, 5.235378265380859, 29.0), (2, 15.728975534439087, 22.0), (2, 16.422889947891235, 25.0), (2, 6.694588661193848, 42.0), (2, 13.362505674362183, 21.0), (2, 2.117544651031494, 10.0)]),\n",
       "        ...,\n",
       "        list([(10.815402746200562, 112500.0, 99529.0), (2, 0.5809140205383301, 74.0), (1, 2.6757700443267822, 1.4551915228366852e-11), (2, 20.31182885169983, 88.0), (2, 9.854703664779663, 83.0), (1, 1.0497684478759766, 2.9103830456733704e-11), (2, 2.1516525745391846, 85.0), (2, 2.089433431625366, 84.0), (2, 2.1226298809051514, 77.0), (2, 2.0531704425811768, 75.0), (2, 2.0962910652160645, 76.0), (2, 3.2578179836273193, 88.0), (2, 2.2161481380462646, 87.0), (2, 2.071922779083252, 80.0), (2, 1.2516076564788818, 80.0), (2, 2.1280603408813477, 78.0), (2, 2.143789052963257, 72.0), (2, 2.660618782043457, 56.0), (2, 2.3729758262634277, 79.0), (2, 2.288437604904175, 87.0), (2, 2.5652170181274414, 64.0), (2, 3.0773487091064453, 74.0), (2, 1.0723192691802979, 302.0), (2, 1.260822057723999, 49.0), (2, 1.608748435974121, 60.0), (2, 1.0604281425476074, 26.0), (2, 3.6319429874420166, 53.0), (2, 3.1206576824188232, 41.0), (2, 3.3238933086395264, 30.0), (2, 4.239795207977295, 40.0), (2, 3.7636401653289795, 64.0), (2, 4.284353733062744, 32.0), (2, 2.0123367309570312, 30.0), (2, 2.1794872283935547, 31.0), (2, 2.034003496170044, 23.0), (2, 9.186864137649536, 36.0), (2, 4.49434494972229, 27.0), (2, 8.9878511428833, 24.0), (2, 9.440739154815674, 22.0), (2, 8.939504384994507, 115.0), (2, 2.0200507640838623, 25.0), (2, 10.329679489135742, 19.0), (2, 11.401910781860352, 31.0), (2, 11.57829213142395, 21.0), (2, 9.106644630432129, 44.0), (2, 4.166779041290283, 24.0), (2, 14.127513647079468, 24.0), (2, 20.209016799926758, 28.0), (2, 4.8256471157073975, 35.0), (2, 17.93022632598877, 14.0), (2, 17.744790077209473, 5.0)]),\n",
       "        list([(15.301944732666016, 112500.0, 99670.0), (2, 0.7301421165466309, 92.0), (2, 27.14453363418579, 75.0), (2, 18.804710626602173, 68.0), (2, 3.1136341094970703, 86.0), (2, 2.102205514907837, 70.0), (2, 2.0669634342193604, 85.0), (2, 2.2226722240448, 82.0), (2, 3.1968324184417725, 72.0), (2, 2.1200149059295654, 69.0), (2, 3.3493099212646484, 88.0), (2, 2.1301310062408447, 92.0), (2, 2.0772244930267334, 69.0), (2, 3.0888631343841553, 71.0), (2, 2.014704942703247, 76.0), (2, 2.1631808280944824, 77.0), (2, 2.2323124408721924, 88.0), (2, 2.2402231693267822, 66.0), (2, 2.755908250808716, 84.0), (2, 3.607569456100464, 50.0), (2, 2.3577654361724854, 58.0), (2, 3.1138198375701904, 55.0), (2, 2.9681966304779053, 52.0), (2, 4.278851270675659, 49.0), (2, 4.729374408721924, 42.0), (2, 4.169280767440796, 41.0), (2, 3.5478930473327637, 39.0), (2, 2.026183605194092, 51.0), (2, 2.023838520050049, 54.0), (2, 4.291843414306641, 35.0), (2, 2.6425082683563232, 57.0), (2, 2.4767518043518066, 58.0), (2, 3.176265001296997, 51.0), (2, 3.0506980419158936, 196.0), (2, 1.0051958560943604, 21.0), (2, 8.826155185699463, 31.0), (2, 10.466424465179443, 21.0), (2, 9.864075899124146, 34.0), (2, 5.1182074546813965, 132.0), (2, 5.863992214202881, 22.0), (2, 12.762304306030273, 23.0), (2, 11.810438394546509, 37.0), (2, 2.520447015762329, 28.0), (2, 16.318410634994507, 22.0), (2, 8.221824407577515, 23.0), (2, 9.677578210830688, 9.0), (2, 15.878061532974243, 23.0), (2, 7.3494954109191895, 19.0), (2, 18.021250247955322, 16.0), (2, 9.068953275680542, 3.0)]),\n",
       "        list([(15.179388284683228, 112500.0, 99612.0), (2, 0.7682552337646484, 84.0), (1, 3.3278141021728516, 1.4551915228366852e-11), (2, 25.64426302909851, 85.0), (2, 15.688002347946167, 77.0), (2, 2.153776168823242, 71.0), (2, 2.2120625972747803, 79.0), (2, 2.103449583053589, 75.0), (2, 2.0576539039611816, 81.0), (2, 2.1682260036468506, 81.0), (2, 2.1706204414367676, 260.0), (2, 2.0566742420196533, 70.0), (2, 2.023991346359253, 78.0), (2, 2.0178818702697754, 73.0), (2, 2.0719997882843018, 67.0), (2, 2.021531105041504, 49.0), (2, 2.071589946746826, 62.0), (2, 2.121150255203247, 57.0), (2, 2.0621328353881836, 75.0), (2, 2.2893598079681396, 58.0), (2, 2.5273635387420654, 60.0), (2, 2.6515488624572754, 60.0), (2, 3.2705090045928955, 53.0), (2, 2.8790907859802246, 56.0), (2, 4.621626853942871, 52.0), (2, 2.794013738632202, 45.0), (2, 3.1581203937530518, 40.0), (2, 3.5425803661346436, 36.0), (2, 4.433579444885254, 41.0), (2, 2.0168771743774414, 43.0), (2, 2.074497699737549, 61.0), (2, 4.862708568572998, 47.0), (2, 2.4143826961517334, 40.0), (2, 2.6816093921661377, 50.0), (2, 7.2326884269714355, 40.0), (2, 8.583487510681152, 43.0), (2, 10.01663851737976, 38.0), (2, 9.563541173934937, 32.0), (2, 13.520870447158813, 163.0), (2, 1.3942925930023193, 41.0), (2, 6.494708776473999, 23.0), (2, 13.786601305007935, 31.0), (2, 14.77003526687622, 18.0), (2, 10.858330488204956, 33.0), (2, 8.091158151626587, 24.0), (2, 20.980713844299316, 20.0), (2, 7.185356140136719, 30.0), (2, 8.827264547348022, 16.0), (2, 10.832479000091553, 5.0)])],\n",
       "       [list([(16.502434015274048, 150000.0, 132639.0), (2, 0.6081571578979492, 120.0), (2, 33.17158603668213, 103.0), (2, 12.807064533233643, 78.0), (1, 1.0379891395568848, 1.1641532182693481e-10), (2, 2.098957061767578, 119.0), (2, 2.305443525314331, 108.0), (2, 2.3974592685699463, 107.0), (2, 2.0724782943725586, 101.0), (2, 3.1946816444396973, 133.0), (2, 3.3415095806121826, 136.0), (2, 1.0759217739105225, 301.0), (2, 2.0521867275238037, 100.0), (2, 4.256537914276123, 103.0), (2, 3.068617820739746, 76.0), (2, 3.225219249725342, 95.0), (2, 3.4570987224578857, 98.0), (2, 4.240392208099365, 90.0), (2, 3.096043586730957, 93.0), (2, 3.6474435329437256, 98.0), (2, 4.664067268371582, 78.0), (2, 4.673037767410278, 77.0), (2, 4.033893346786499, 77.0), (2, 3.770392894744873, 83.0), (2, 4.491590976715088, 84.0), (2, 4.26069450378418, 67.0), (2, 4.503323554992676, 68.0), (2, 5.0484299659729, 71.0), (2, 6.1181535720825195, 67.0), (2, 7.504837512969971, 52.0), (2, 3.274893045425415, 56.0), (2, 3.4272634983062744, 57.0), (2, 8.377708673477173, 65.0), (2, 3.419217348098755, 39.0), (2, 3.5542900562286377, 52.0), (2, 10.1850905418396, 73.0), (2, 11.317195177078247, 232.0), (2, 1.4528300762176514, 37.0), (2, 10.774708032608032, 103.0), (2, 4.419318914413452, 35.0), (2, 11.670889616012573, 28.0), (2, 14.449513673782349, 33.0), (2, 12.351144552230835, 27.0), (2, 4.210016965866089, 27.0), (2, 16.280303239822388, 38.0), (2, 10.07447338104248, 20.0), (2, 8.893028259277344, 40.0)]),\n",
       "        list([(16.366488933563232, 150000.0, 132641.0), (2, 0.6156985759735107, 94.0), (1, 3.568350315093994, 8.731149137020111e-11), (2, 39.35296130180359, 95.0), (2, 17.7809419631958, 137.0), (2, 3.3352010250091553, 102.0), (2, 4.241520881652832, 95.0), (2, 3.2882776260375977, 106.0), (2, 3.1415395736694336, 113.0), (2, 4.072234869003296, 123.0), (2, 1.0113797187805176, 235.0), (2, 2.3706109523773193, 97.0), (2, 4.219202041625977, 115.0), (2, 4.373258590698242, 108.0), (2, 3.1461384296417236, 100.0), (2, 3.2199923992156982, 99.0), (2, 3.365886688232422, 96.0), (2, 3.204789876937866, 97.0), (2, 4.433171033859253, 101.0), (2, 4.502520322799683, 115.0), (2, 4.291006088256836, 85.0), (2, 4.783019304275513, 104.0), (2, 5.87960958480835, 70.0), (2, 3.7979371547698975, 66.0), (2, 5.064755916595459, 74.0), (2, 4.885014533996582, 66.0), (2, 4.48872709274292, 67.0), (2, 5.193308353424072, 64.0), (2, 5.618428468704224, 75.0), (2, 6.262227296829224, 54.0), (2, 8.530386924743652, 67.0), (2, 3.32509446144104, 65.0), (2, 3.771707534790039, 71.0), (2, 3.684469223022461, 58.0), (2, 3.54315447807312, 63.0), (2, 3.8113186359405518, 60.0), (2, 1.5580029487609863, 245.0), (2, 3.707266092300415, 56.0), (2, 13.600515127182007, 35.0), (2, 15.321210622787476, 24.0), (2, 3.512307643890381, 27.0), (2, 10.144379615783691, 49.0), (2, 14.82887578010559, 45.0), (2, 7.804726839065552, 82.0), (2, 9.656831502914429, 32.0)]),\n",
       "        list([(13.907145738601685, 150000.0, 132263.0), (2, 0.5950546264648438, 122.0), (2, 42.891867876052856, 105.0), (2, 13.171968698501587, 104.0), (2, 4.1657631397247314, 105.0), (2, 3.5056612491607666, 112.0), (2, 2.2496635913848877, 120.0), (2, 3.7102012634277344, 106.0), (2, 3.1282570362091064, 125.0), (2, 3.1828489303588867, 130.0), (2, 3.5651144981384277, 118.0), (2, 3.6389787197113037, 142.0), (2, 3.9085514545440674, 116.0), (2, 3.494394302368164, 100.0), (2, 3.210146427154541, 111.0), (2, 3.6322944164276123, 107.0), (2, 3.6932148933410645, 120.0), (2, 3.786243200302124, 90.0), (2, 4.407757997512817, 94.0), (2, 3.8251864910125732, 102.0), (2, 4.270401954650879, 96.0), (2, 4.200145483016968, 71.0), (2, 4.569194316864014, 77.0), (2, 6.188965559005737, 81.0), (2, 4.988233327865601, 75.0), (2, 7.208494663238525, 78.0), (2, 5.614724636077881, 81.0), (2, 6.902251720428467, 74.0), (2, 3.51434326171875, 75.0), (2, 3.5619137287139893, 84.0), (2, 3.959859848022461, 68.0), (2, 3.5841104984283447, 55.0), (2, 3.6244232654571533, 56.0), (2, 3.6091885566711426, 71.0), (2, 11.538811445236206, 70.0), (2, 13.575192928314209, 75.0), (2, 14.52759575843811, 67.0), (2, 15.2193443775177, 77.0), (2, 15.196852684020996, 65.0), (2, 13.461603879928589, 283.0), (2, 2.3845131397247314, 40.0), (2, 18.564693689346313, 48.0)]),\n",
       "        ...,\n",
       "        list([(12.218738555908203, 150000.0, 132215.0), (2, 0.5571229457855225, 120.0), (2, 36.99557638168335, 115.0), (2, 13.496144771575928, 103.0), (1, 1.0467500686645508, 2.3283064365386963e-10), (2, 2.142782211303711, 128.0), (2, 2.3106868267059326, 114.0), (2, 2.344252347946167, 114.0), (2, 3.1930084228515625, 118.0), (2, 3.728790760040283, 119.0), (2, 3.2394256591796875, 108.0), (2, 3.239976406097412, 139.0), (2, 3.2013583183288574, 124.0), (2, 3.0996551513671875, 125.0), (2, 2.244959592819214, 118.0), (2, 3.331559419631958, 134.0), (2, 3.1237058639526367, 109.0), (2, 2.5546610355377197, 101.0), (2, 3.55214786529541, 92.0), (2, 3.4464828968048096, 106.0), (2, 3.3982996940612793, 79.0), (2, 3.2352757453918457, 95.0), (2, 5.172028303146362, 83.0), (2, 3.8218441009521484, 78.0), (2, 3.6330528259277344, 82.0), (2, 3.8167080879211426, 75.0), (2, 4.290551424026489, 73.0), (2, 4.0057103633880615, 469.0), (2, 1.0713379383087158, 54.0), (2, 6.15823221206665, 42.0), (2, 7.545564889907837, 131.0), (2, 1.0350325107574463, 61.0), (2, 2.595121383666992, 43.0), (2, 3.177868366241455, 36.0), (2, 2.842125415802002, 34.0), (2, 2.7840330600738525, 42.0), (2, 3.6211822032928467, 34.0), (2, 3.8831803798675537, 28.0), (2, 11.31040096282959, 36.0), (2, 10.727414846420288, 80.0), (2, 2.179640054702759, 37.0), (2, 13.499755144119263, 30.0), (2, 13.932553768157959, 30.0), (2, 13.363312721252441, 32.0), (2, 13.705118179321289, 42.0), (2, 2.514894723892212, 41.0), (2, 22.551321983337402, 33.0), (2, 8.542832851409912, 38.0)]),\n",
       "        list([(13.485789775848389, 150000.0, 132473.0), (2, 0.5489280223846436, 95.0), (2, 35.77565264701843, 102.0), (2, 16.402841091156006, 104.0), (2, 3.1979002952575684, 111.0), (2, 2.342888116836548, 121.0), (2, 2.1765458583831787, 116.0), (2, 3.3884873390197754, 123.0), (2, 3.2155685424804688, 119.0), (2, 3.3226640224456787, 104.0), (2, 2.4342596530914307, 115.0), (2, 3.1062822341918945, 110.0), (2, 3.2109880447387695, 95.0), (2, 3.0758509635925293, 114.0), (2, 2.4305968284606934, 109.0), (2, 2.627683162689209, 118.0), (2, 1.4292378425598145, 412.0), (2, 1.5437660217285156, 72.0), (2, 3.4304020404815674, 86.0), (2, 3.2954771518707275, 96.0), (2, 3.894798994064331, 75.0), (2, 3.296262502670288, 74.0), (2, 3.730497360229492, 72.0), (2, 4.155939102172852, 62.0), (2, 5.2762675285339355, 74.0), (2, 3.627610921859741, 72.0), (2, 3.680109977722168, 279.0), (2, 1.1561753749847412, 49.0), (2, 4.285490036010742, 74.0), (2, 1.1237781047821045, 33.0), (2, 5.957617998123169, 37.0), (2, 2.599520206451416, 47.0), (2, 2.7871475219726562, 38.0), (2, 3.044912815093994, 50.0), (2, 7.920090198516846, 35.0), (2, 2.8490443229675293, 34.0), (2, 3.158611297607422, 52.0), (2, 3.348818778991699, 40.0), (2, 6.4032135009765625, 39.0), (2, 10.747674226760864, 49.0), (2, 12.08702826499939, 38.0), (2, 7.846418619155884, 110.0), (2, 7.859337568283081, 32.0), (2, 14.2262442111969, 31.0), (2, 17.726213932037354, 23.0), (2, 6.411651611328125, 50.0), (2, 9.753512382507324, 29.0), (2, 23.638580322265625, 3.0), (2, 3.308363914489746, 34.0), (2, 3.079425811767578, 32.0)]),\n",
       "        list([(13.540785789489746, 150000.0, 132633.0), (2, 0.5480732917785645, 109.0), (1, 3.2594666481018066, 5.820766091346741e-11), (2, 32.15494966506958, 135.0), (2, 14.626904487609863, 102.0), (1, 1.0642902851104736, 1.4551915228366852e-10), (2, 2.3182482719421387, 121.0), (2, 2.188040256500244, 118.0), (2, 3.318073272705078, 113.0), (2, 2.3580737113952637, 129.0), (2, 3.478961706161499, 124.0), (2, 2.5422732830047607, 127.0), (2, 4.296177387237549, 140.0), (2, 2.271012544631958, 92.0), (2, 3.2886781692504883, 100.0), (2, 3.1670823097229004, 111.0), (2, 1.135542869567871, 325.0), (2, 2.063966989517212, 85.0), (2, 3.24542236328125, 89.0), (2, 2.1293649673461914, 90.0), (2, 3.291754961013794, 67.0), (2, 3.1281681060791016, 75.0), (2, 3.6207244396209717, 75.0), (2, 4.522694826126099, 71.0), (2, 3.068533420562744, 77.0), (2, 3.5328760147094727, 59.0), (2, 3.5988988876342773, 62.0), (2, 4.981741428375244, 65.0), (2, 3.6023242473602295, 66.0), (2, 4.258464336395264, 47.0), (2, 5.974239349365234, 55.0), (2, 2.791781187057495, 57.0), (2, 6.085935592651367, 52.0), (2, 3.037862539291382, 66.0), (2, 3.0829620361328125, 72.0), (2, 2.9330127239227295, 38.0), (2, 4.370867967605591, 44.0), (2, 3.002326250076294, 44.0), (2, 11.75606369972229, 60.0), (2, 11.43152904510498, 53.0), (2, 12.421622514724731, 47.0), (2, 13.417926549911499, 185.0), (2, 2.002258062362671, 27.0), (2, 12.085038661956787, 45.0), (2, 18.801010608673096, 28.0), (2, 15.201068878173828, 34.0), (2, 8.002630472183228, 50.0), (2, 16.765808820724487, 35.0), (2, 3.5856573581695557, 36.0)])]],\n",
       "      dtype=object)\n",
       "Coordinates:\n",
       "  * N        (N) int64 30 64 100 150 574 1000 ... 27500 40000 50000 75000 100000\n",
       "  * seed     (seed) int64 10 11 12 13 14 15 16 ... 103 104 105 106 107 108 109</pre><div class='xr-wrap' hidden><div class='xr-header'><div class='xr-obj-type'>xarray.DataArray</div><div class='xr-array-name'></div><ul class='xr-dim-list'><li><span class='xr-has-index'>N</span>: 18</li><li><span class='xr-has-index'>seed</span>: 100</li></ul></div><ul class='xr-sections'><li class='xr-section-item'><div class='xr-array-wrap'><input id='section-fdbc31e6-5324-4ede-9bc8-346872aa11ae' class='xr-array-in' type='checkbox' checked><label for='section-fdbc31e6-5324-4ede-9bc8-346872aa11ae' title='Show/hide data repr'><svg class='icon xr-icon-database'><use xlink:href='#icon-database'></use></svg></label><div class='xr-array-preview xr-preview'><span>[(0.0026748180389404297, 45.0, 38.0), (2, 0.0005736351013183594, 1....</span></div><div class='xr-array-data'><pre>array([[list([(0.0026748180389404297, 45.0, 38.0), (2, 0.0005736351013183594, 1.0), (1, 0.019767284393310547, 3.0), (1, 0.007950782775878906, 3.0)]),\n",
       "        list([(0.0025107860565185547, 45.0, 40.0), (1, 0.020304203033447266, 4.0), (1, 0.0006439685821533203, 1.0)]),\n",
       "        list([(0.002390146255493164, 45.0, 35.0), (2, 0.0009255409240722656, 6.0), (1, 0.0030617713928222656, 4.0)]),\n",
       "        ...,\n",
       "        list([(0.002336263656616211, 45.0, 38.0), (2, 0.0005347728729248047, 1.0), (1, 0.021895885467529297, 3.0), (1, 0.01449275016784668, 3.0)]),\n",
       "        list([(0.0025959014892578125, 45.0, 38.0), (2, 0.0005786418914794922, 2.0), (1, 0.01933002471923828, 3.0), (1, 0.004787921905517578, 2.0)]),\n",
       "        list([(0.0024557113647460938, 45.0, 42.0), (1, 0.01998281478881836, 3.0)])],\n",
       "       [list([(0.0041656494140625, 96.0, 83.0), (1, 0.04346895217895508, 2.0), (1, 0.020307302474975586, 1.0), (2, 1, 2.0), (1, 0.021093130111694336, 1.0), (2, 1, 3.0), (1, 0.0406498908996582, 1.0), (1, 0.020102262496948242, 1.0), (1, 0.01544332504272461, 2.0)]),\n",
       "        list([(0.0036077499389648438, 96.0, 84.0), (1, 0.031144380569458008, 4.0), (2, 1, 1.0), (1, 0.020642518997192383, 1.0), (2, 1, 1.0), (1, 0.041365861892700195, 1.0), (1, 0.040113210678100586, 1.0), (1, 0.020003795623779297, 1.0), (1, 0.014607667922973633, 2.0)]),\n",
       "        list([(0.0046422481536865234, 96.0, 86.0), (1, 0.04074263572692871, 4.0), (1, 0.02018570899963379, 1.0), (1, 0.021272897720336914, 1.0), (2, 1, 2.0), (1, 0.01786327362060547, 2.0)]),\n",
       "        ...,\n",
       "        list([(0.00304412841796875, 96.0, 86.0), (1, 0.037647247314453125, 3.0), (1, 0.02006387710571289, 1.0), (1, 0.0405271053314209, 1.0), (2, 1, 1.0), (1, 0.04020261764526367, 1.0), (1, 0.039492130279541016, 3.0)]),\n",
       "        list([(0.003220796585083008, 96.0, 87.0), (1, 0.03424882888793945, 3.0), (1, 0.02005767822265625, 1.0), (2, 1, 2.0), (1, 0.010350465774536133, 3.0)]),\n",
       "        list([(0.00400090217590332, 96.0, 86.0), (1, 0.03333282470703125, 5.0), (1, 0.020066499710083008, 1.0), (2, 1, 1.0), (1, 0.020102739334106445, 1.0), (1, 0.0009448528289794922, 2.0)])],\n",
       "       [list([(0.005143165588378906, 150.0, 133.0), (1, 0.02002263069152832, 6.0), (2, 0.023934602737426758, 2.0), (2, 0.06178689002990723, 1.0), (1, 0.02069568634033203, 1.0), (2, 1, 1.0), (1, 0.06130528450012207, 1.0), (1, 0.10303425788879395, 1.0), (1, 0.12583494186401367, 1.0), (1, 0.12331461906433105, 1.0), (1, 0.07433533668518066, 2.0)]),\n",
       "        list([(0.004788875579833984, 150.0, 132.0), (2, 0.0006144046783447266, 2.0), (1, 0.019901752471923828, 5.0), (1, 0.024371623992919922, 1.0), (2, 1, 2.0), (2, 0.02035212516784668, 1.0), (1, 0.04139828681945801, 2.842170943040401e-14), (1, 0.020531892776489258, 0.9999999999999716), (1, 0.10471272468566895, 1.0), (1, 0.020311594009399414, 1.0), (1, 0.08365321159362793, 1.0), (1, 0.0408473014831543, 1.0), (1, 0.025381088256835938, 2.0)]),\n",
       "        list([(0.0046694278717041016, 150.0, 129.0), (1, 0.021707534790039062, 7.0), (1, 0.020076274871826172, 1.0), (2, 1, 3.0), (2, 0.12473726272583008, 1.0), (1, 0.061542510986328125, 1.0), (1, 0.20126128196716309, 1.0), (1, 0.08911252021789551, 1.0), (2, 0.14633774757385254, 2.0), (1, 0.08215737342834473, 1.0), (1, 0.10485196113586426, 1.0), (1, 0.10792040824890137, 1.0), (1, 0.00773310661315918, 1.0)]),\n",
       "        ...,\n",
       "        list([(0.004266977310180664, 150.0, 130.0), (1, 0.02048468589782715, 3.0000000000000284), (2, 1, 2.0), (1, 0.025818347930908203, 0.9999999999999716), (1, 0.020484209060668945, 1.0), (2, 1, 2.0), (1, 0.08523011207580566, 1.0), (2, 1, 1.0), (2, 0.061810970306396484, 1.0), (1, 0.0205078125, 1.0), (1, 0.06253910064697266, 1.0), (1, 0.08372235298156738, 1.0), (1, 0.12319421768188477, 1.0), (1, 0.22761964797973633, 1.0), (1, 0.190049409866333, 8.526512829121202e-14), (1, 0.02495121955871582, 0.9999999999999147), (1, 0.06336474418640137, 1.0), (1, 0.01082921028137207, 1.0)]),\n",
       "        list([(0.003966569900512695, 150.0, 134.0), (1, 0.02002120018005371, 4.0), (1, 0.04307699203491211, 1.0), (2, 1, 1.0), (1, 0.020247220993041992, 1.0), (2, 0.020165681838989258, 2.0), (1, 0.020244598388671875, 1.0), (1, 0.02018427848815918, 1.0), (1, 0.10230684280395508, 1.0), (1, 0.10168147087097168, 1.0), (1, 0.10223174095153809, 1.0), (1, 0.04894852638244629, 2.0)]),\n",
       "...\n",
       "        list([(5.921527147293091, 75000.0, 66383.0), (2, 0.27036142349243164, 60.0), (2, 25.26792883872986, 57.0), (2, 5.083925247192383, 48.0), (1, 1.000084400177002, 1.3096723705530167e-10), (2, 1.002485990524292, 66.0), (2, 1.0153040885925293, 55.0), (2, 1.0224425792694092, 44.0), (2, 2.0196518898010254, 60.0), (2, 1.0060367584228516, 59.0), (2, 1.0358021259307861, 49.0), (2, 1.001297950744629, 51.0), (2, 2.05252742767334, 52.0), (2, 1.0083727836608887, 56.0), (2, 1.0516409873962402, 42.0), (2, 1.0303549766540527, 59.0), (2, 1.238344430923462, 230.0), (2, 2.115128755569458, 31.0), (2, 1.032148838043213, 30.0), (2, 1.2544004917144775, 38.0), (2, 2.068861246109009, 45.0), (2, 2.453519582748413, 40.0), (2, 1.008244514465332, 34.0), (2, 1.207792043685913, 31.0), (2, 2.270418643951416, 26.0), (2, 1.4075205326080322, 142.0), (2, 2.414565324783325, 20.0), (2, 2.171682357788086, 23.0), (2, 2.5820560455322266, 21.0), (2, 2.9935243129730225, 24.0), (2, 3.650559186935425, 83.0), (2, 1.0256845951080322, 19.0), (2, 1.0155527591705322, 21.0), (2, 1.2130789756774902, 18.0), (2, 1.3974237442016602, 19.0), (2, 1.5394434928894043, 16.0), (2, 1.3689939975738525, 16.0), (2, 5.076915502548218, 24.0), (2, 5.585925102233887, 22.0), (2, 5.728860855102539, 23.0), (2, 1.3104565143585205, 23.0), (2, 6.859926700592041, 15.0), (2, 6.684959173202515, 22.0), (2, 1.1089487075805664, 16.0), (2, 8.328731775283813, 17.0), (2, 3.507096290588379, 19.0), (2, 7.019414901733398, 15.0), (2, 7.841768741607666, 6.0), (2, 4.773205757141113, 14.0), (2, 7.882149934768677, 19.0), (2, 9.703999757766724, 13.0), (2, 63.66700482368469, 24.0), (1, 55.69523286819458, 1.9999999998690328)]),\n",
       "        ...,\n",
       "        list([(6.323421001434326, 75000.0, 66487.0), (2, 0.278078556060791, 47.0), (1, 1.6650185585021973, 1.0), (1, 0.5525226593017578, 1.0000000001164153), (2, 8.460039138793945, 45.0), (2, 65.55428576469421, 47.0), (2, 5.767493963241577, 48.0), (1, 1.0157320499420166, 1.0186340659856796e-10), (2, 1.0486576557159424, 50.0), (2, 2.2815215587615967, 60.0), (2, 2.0224146842956543, 44.0), (2, 1.0095736980438232, 58.0), (2, 2.1205785274505615, 213.0), (2, 1.0893607139587402, 70.0), (2, 2.036623239517212, 44.0), (2, 1.1367688179016113, 61.0), (2, 2.0966997146606445, 47.0), (2, 2.3530499935150146, 41.0), (2, 1.0352578163146973, 44.0), (2, 2.0745770931243896, 39.0), (2, 2.033466339111328, 39.0), (2, 1.181107997894287, 191.0), (2, 2.108048677444458, 31.0), (2, 1.0403690338134766, 52.0), (2, 1.0079078674316406, 35.0), (2, 1.290931224822998, 25.0), (2, 2.163357734680176, 20.0), (2, 2.356358051300049, 19.0), (2, 2.0734286308288574, 16.0), (2, 1.0634126663208008, 80.0), (2, 1.0178625583648682, 13.0), (2, 2.943547248840332, 24.0), (2, 2.1272757053375244, 15.0), (2, 1.8043076992034912, 17.0), (2, 1.0115675926208496, 16.0), (2, 2.3070285320281982, 14.0), (2, 2.1044771671295166, 14.0), (2, 1.7154436111450195, 12.0), (2, 1.0021452903747559, 16.0), (2, 1.007490873336792, 20.0), (2, 2.1411972045898438, 18.0), (2, 2.6261651515960693, 20.0), (2, 2.5415589809417725, 18.0), (2, 2.336958646774292, 11.0), (2, 1.2710180282592773, 14.0), (2, 1.2868571281433105, 18.0), (2, 2.6465208530426025, 11.0), (2, 2.06278395652771, 10.0), (2, 2.261274576187134, 5.0), (2, 2.2519538402557373, 6.0), (2, 1.0523855686187744, 6.0), (2, 1.4229586124420166, 8.0), (2, 2.3267858028411865, 6.0), (2, 1.0367708206176758, 8.0), (2, 1.3857638835906982, 10.0), (2, 1.0339107513427734, 2.0), (2, 3.983795642852783, 15.0), (2, 1.8752832412719727, 4.0), (2, 9.626783847808838, 10.0), (2, 1.0124847888946533, 7.0), (2, 2.0562796592712402, 3.0), (2, 6.5277369022369385, 2.0), (2, 4.385450124740601, 7.0), (2, 6.402021169662476, 13.0), (2, 1.1955535411834717, 6.0), (2, 6.195890188217163, 7.0), (2, 3.7895655632019043, 12.0), (2, 6.030225992202759, 11.0), (2, 4.447569131851196, 15.0)]),\n",
       "        list([(6.221133708953857, 75000.0, 66210.0), (2, 0.26727867126464844, 60.0), (1, 1.5803122520446777, 5.820766091346741e-11), (2, 24.905826330184937, 59.0), (2, 7.537319660186768, 40.0), (2, 2.049163579940796, 56.0), (2, 1.019362449645996, 55.0), (2, 1.0069301128387451, 62.0), (2, 2.045464277267456, 82.0), (2, 1.0369930267333984, 51.0), (2, 1.0365626811981201, 52.0), (2, 1.0448095798492432, 75.0), (2, 2.0610909461975098, 202.0), (2, 1.0289695262908936, 39.0), (2, 1.156653642654419, 61.0), (2, 1.0018455982208252, 38.0), (2, 1.0077407360076904, 44.0), (2, 2.023327589035034, 44.0), (2, 1.0355942249298096, 40.0), (2, 1.0033390522003174, 34.0), (2, 2.4228639602661133, 50.0), (2, 1.0018529891967773, 42.0), (2, 1.144512414932251, 54.0), (2, 2.0964410305023193, 39.0), (2, 1.2175228595733643, 43.0), (2, 1.2293946743011475, 178.0), (2, 1.040417194366455, 13.0), (2, 2.373248338699341, 25.0), (2, 2.0869979858398438, 28.0), (2, 2.3582706451416016, 12.0), (2, 2.965916395187378, 24.0), (2, 1.0000722408294678, 17.0), (2, 3.451847553253174, 17.0), (2, 1.005448341369629, 20.0), (2, 1.5064010620117188, 26.0), (2, 1.3647098541259766, 32.0), (2, 1.6431715488433838, 17.0), (2, 5.5924975872039795, 9.0), (2, 6.164591312408447, 33.0), (2, 2.5092663764953613, 56.0), (2, 4.159119606018066, 23.0), (2, 6.675844192504883, 19.0), (2, 6.235487461090088, 22.0), (2, 1.8999989032745361, 17.0), (2, 9.834267377853394, 21.0), (2, 4.195800304412842, 19.0), (2, 6.686269283294678, 12.0), (2, 10.940760850906372, 19.0), (2, 3.4555928707122803, 7.0), (2, 13.122535705566406, 1.0), (2, 61.60726261138916, 36.0), (2, 60.31258034706116, 1.0), (1, 1.0086910724639893, 0.9999999999417923), (2, 4.1755452156066895, 1.0), (2, 1.5024733543395996, 1.0)]),\n",
       "        list([(6.252419948577881, 75000.0, 66373.0), (2, 0.2754058837890625, 51.0), (1, 1.601527452468872, 2.9103830456733704e-11), (2, 12.718071460723877, 40.0), (2, 7.622375726699829, 52.0), (2, 2.0850024223327637, 67.0), (2, 1.0355944633483887, 41.0), (2, 1.10697340965271, 51.0), (2, 2.030026435852051, 60.0), (2, 1.0307977199554443, 43.0), (2, 1.0095930099487305, 57.0), (2, 2.0464894771575928, 75.0), (2, 1.0865199565887451, 54.0), (2, 2.0786020755767822, 55.0), (2, 1.0446138381958008, 44.0), (2, 2.065931797027588, 48.0), (2, 1.0743687152862549, 51.0), (2, 1.1061370372772217, 49.0), (2, 1.0353963375091553, 212.0), (2, 1.3829312324523926, 49.0), (2, 1.0139210224151611, 28.0), (2, 1.2546195983886719, 37.0), (2, 2.3679072856903076, 33.0), (2, 2.4857542514801025, 26.0), (2, 1.000291109085083, 47.0), (2, 1.0012645721435547, 110.0), (2, 1.014671802520752, 19.0), (2, 2.016085386276245, 22.0), (2, 2.3753392696380615, 27.0), (2, 2.1599621772766113, 30.0), (2, 2.5610742568969727, 15.0), (2, 1.0162043571472168, 22.0), (2, 1.4589955806732178, 22.0), (2, 1.4167888164520264, 18.0), (2, 3.3922815322875977, 23.0), (2, 2.298722267150879, 18.0), (2, 4.2686448097229, 16.0), (2, 4.66482138633728, 64.0), (2, 1.0748260021209717, 16.0), (2, 6.188388109207153, 17.0), (2, 6.117702007293701, 15.0), (2, 4.240069150924683, 31.0), (2, 2.0669004917144775, 20.0), (2, 7.384658336639404, 12.0), (2, 4.199561357498169, 23.0), (2, 3.862647533416748, 13.0), (2, 10.140233278274536, 2.0), (2, 1.146183967590332, 10.0), (2, 7.497830867767334, 19.0), (2, 9.12975001335144, 3.0), (2, 4.7424492835998535, 20.0), (2, 8.66541314125061, 20.0), (2, 6.4186530113220215, 1.0), (1, 36.65698838233948, 0.9999999999708962)])],\n",
       "       [list([(11.073609113693237, 112500.0, 99432.0), (2, 0.4747030735015869, 77.0), (1, 2.637587308883667, 5.820766091346741e-11), (2, 22.430917501449585, 78.0), (2, 16.2025363445282, 82.0), (2, 2.131869316101074, 70.0), (2, 2.245149850845337, 99.0), (2, 2.0715699195861816, 73.0), (2, 2.172290802001953, 90.0), (2, 2.2942490577697754, 85.0), (2, 3.4467549324035645, 91.0), (2, 2.226050853729248, 66.0), (2, 2.4558258056640625, 91.0), (2, 2.492565155029297, 59.0), (2, 2.2860026359558105, 72.0), (2, 2.1893725395202637, 83.0), (2, 1.0938611030578613, 275.0), (2, 1.1844947338104248, 65.0), (2, 3.315814256668091, 81.0), (2, 1.0569913387298584, 141.0), (2, 1.0560569763183594, 53.0), (2, 2.602602481842041, 62.0), (2, 3.3446569442749023, 58.0), (2, 4.407328844070435, 53.0), (2, 4.866338014602661, 52.0), (2, 3.265057325363159, 52.0), (2, 4.015441417694092, 41.0), (2, 1.6035935878753662, 37.0), (2, 2.217951774597168, 49.0), (2, 2.2049896717071533, 45.0), (2, 2.5195930004119873, 37.0), (2, 3.4843504428863525, 36.0), (2, 2.382615566253662, 32.0), (2, 3.6517703533172607, 52.0), (2, 2.339477062225342, 39.0), (2, 6.249192476272583, 139.0), (2, 1.0121047496795654, 14.0), (2, 11.055752038955688, 17.0), (2, 6.897125482559204, 33.0), (2, 7.659952163696289, 31.0), (2, 7.93991494178772, 26.0), (2, 7.671036005020142, 26.0), (2, 8.403310537338257, 60.0), (2, 1.4749932289123535, 24.0), (2, 8.97287392616272, 16.0), (2, 9.318742752075195, 31.0), (2, 10.497041702270508, 34.0), (2, 6.804217338562012, 23.0), (2, 20.08564591407776, 11.0), (2, 2.430039405822754, 15.0), (2, 21.37473440170288, 4.0), (2, 17.883446216583252, 8.0), (1, 14.990725755691528, 0.9999999999417923)]),\n",
       "        list([(13.88002061843872, 112500.0, 99524.0), (2, 0.5487604141235352, 81.0), (1, 16.35249638557434, 4.3655745685100555e-11), (2, 33.26930236816406, 79.0), (2, 18.451348543167114, 87.0), (2, 3.2296862602233887, 79.0), (2, 3.0557303428649902, 81.0), (2, 2.135472059249878, 89.0), (2, 3.1377198696136475, 105.0), (2, 2.165318250656128, 72.0), (2, 3.112048625946045, 74.0), (2, 2.361679792404175, 82.0), (2, 3.043397903442383, 81.0), (2, 2.1741573810577393, 79.0), (2, 3.260892629623413, 58.0), (2, 2.2489113807678223, 64.0), (2, 3.4209442138671875, 78.0), (2, 2.199843168258667, 60.0), (2, 3.485905408859253, 62.0), (2, 4.6830244064331055, 60.0), (2, 1.3725683689117432, 295.0), (2, 1.2670261859893799, 66.0), (2, 3.2372512817382812, 56.0), (2, 3.252936840057373, 44.0), (2, 3.069561004638672, 40.0), (2, 3.920032501220703, 55.0), (2, 3.7289388179779053, 40.0), (2, 3.0757782459259033, 33.0), (2, 3.9401957988739014, 35.0), (2, 3.6225993633270264, 33.0), (2, 4.313634872436523, 40.0), (2, 1.6644744873046875, 50.0), (2, 2.0519094467163086, 46.0), (2, 2.0128490924835205, 48.0), (2, 5.444535970687866, 26.0), (2, 2.055202007293701, 28.0), (2, 2.139754295349121, 31.0), (2, 2.34414005279541, 29.0), (2, 5.329550266265869, 35.0), (2, 8.826746940612793, 27.0), (2, 8.0434410572052, 109.0), (2, 2.5589494705200195, 25.0), (2, 13.098008632659912, 34.0), (2, 20.01733660697937, 24.0), (2, 10.559394359588623, 43.0), (2, 8.155313968658447, 21.0), (2, 12.34391736984253, 19.0), (2, 8.024739742279053, 28.0), (2, 5.2841808795928955, 27.0)]),\n",
       "        list([(12.568238496780396, 112500.0, 99765.0), (2, 0.48398566246032715, 68.0), (1, 1.147353172302246, 1.4551915228366852e-11), (2, 27.240773916244507, 68.0), (2, 14.76043152809143, 65.0), (1, 1.0442988872528076, 1.0186340659856796e-10), (2, 2.0666680335998535, 78.0), (2, 2.121023654937744, 85.0), (2, 1.0958309173583984, 96.0), (2, 3.1253840923309326, 71.0), (2, 2.1324093341827393, 60.0), (2, 3.350959539413452, 62.0), (2, 2.0448853969573975, 70.0), (2, 2.2412731647491455, 76.0), (2, 3.1990113258361816, 80.0), (2, 2.062959909439087, 71.0), (2, 2.326268196105957, 60.0), (2, 1.3153431415557861, 244.0), (2, 2.1259093284606934, 63.0), (2, 2.3180603981018066, 62.0), (2, 3.6770646572113037, 45.0), (2, 2.4179766178131104, 72.0), (2, 3.2806644439697266, 61.0), (2, 3.8221323490142822, 42.0), (2, 2.9065847396850586, 44.0), (2, 3.1538891792297363, 40.0), (2, 3.0400805473327637, 41.0), (2, 4.091372489929199, 55.0), (2, 3.603687047958374, 35.0), (2, 3.5830140113830566, 30.0), (2, 3.9758520126342773, 31.0), (2, 2.013395309448242, 44.0), (2, 4.880361795425415, 35.0), (2, 2.1483476161956787, 33.0), (2, 2.922559976577759, 39.0), (2, 2.377716541290283, 33.0), (2, 4.174523115158081, 29.0), (2, 10.528072357177734, 38.0), (2, 8.896606922149658, 34.0), (2, 11.457008600234985, 45.0), (2, 10.758200407028198, 38.0), (2, 8.158474445343018, 132.0), (2, 5.235378265380859, 29.0), (2, 15.728975534439087, 22.0), (2, 16.422889947891235, 25.0), (2, 6.694588661193848, 42.0), (2, 13.362505674362183, 21.0), (2, 2.117544651031494, 10.0)]),\n",
       "        ...,\n",
       "        list([(10.815402746200562, 112500.0, 99529.0), (2, 0.5809140205383301, 74.0), (1, 2.6757700443267822, 1.4551915228366852e-11), (2, 20.31182885169983, 88.0), (2, 9.854703664779663, 83.0), (1, 1.0497684478759766, 2.9103830456733704e-11), (2, 2.1516525745391846, 85.0), (2, 2.089433431625366, 84.0), (2, 2.1226298809051514, 77.0), (2, 2.0531704425811768, 75.0), (2, 2.0962910652160645, 76.0), (2, 3.2578179836273193, 88.0), (2, 2.2161481380462646, 87.0), (2, 2.071922779083252, 80.0), (2, 1.2516076564788818, 80.0), (2, 2.1280603408813477, 78.0), (2, 2.143789052963257, 72.0), (2, 2.660618782043457, 56.0), (2, 2.3729758262634277, 79.0), (2, 2.288437604904175, 87.0), (2, 2.5652170181274414, 64.0), (2, 3.0773487091064453, 74.0), (2, 1.0723192691802979, 302.0), (2, 1.260822057723999, 49.0), (2, 1.608748435974121, 60.0), (2, 1.0604281425476074, 26.0), (2, 3.6319429874420166, 53.0), (2, 3.1206576824188232, 41.0), (2, 3.3238933086395264, 30.0), (2, 4.239795207977295, 40.0), (2, 3.7636401653289795, 64.0), (2, 4.284353733062744, 32.0), (2, 2.0123367309570312, 30.0), (2, 2.1794872283935547, 31.0), (2, 2.034003496170044, 23.0), (2, 9.186864137649536, 36.0), (2, 4.49434494972229, 27.0), (2, 8.9878511428833, 24.0), (2, 9.440739154815674, 22.0), (2, 8.939504384994507, 115.0), (2, 2.0200507640838623, 25.0), (2, 10.329679489135742, 19.0), (2, 11.401910781860352, 31.0), (2, 11.57829213142395, 21.0), (2, 9.106644630432129, 44.0), (2, 4.166779041290283, 24.0), (2, 14.127513647079468, 24.0), (2, 20.209016799926758, 28.0), (2, 4.8256471157073975, 35.0), (2, 17.93022632598877, 14.0), (2, 17.744790077209473, 5.0)]),\n",
       "        list([(15.301944732666016, 112500.0, 99670.0), (2, 0.7301421165466309, 92.0), (2, 27.14453363418579, 75.0), (2, 18.804710626602173, 68.0), (2, 3.1136341094970703, 86.0), (2, 2.102205514907837, 70.0), (2, 2.0669634342193604, 85.0), (2, 2.2226722240448, 82.0), (2, 3.1968324184417725, 72.0), (2, 2.1200149059295654, 69.0), (2, 3.3493099212646484, 88.0), (2, 2.1301310062408447, 92.0), (2, 2.0772244930267334, 69.0), (2, 3.0888631343841553, 71.0), (2, 2.014704942703247, 76.0), (2, 2.1631808280944824, 77.0), (2, 2.2323124408721924, 88.0), (2, 2.2402231693267822, 66.0), (2, 2.755908250808716, 84.0), (2, 3.607569456100464, 50.0), (2, 2.3577654361724854, 58.0), (2, 3.1138198375701904, 55.0), (2, 2.9681966304779053, 52.0), (2, 4.278851270675659, 49.0), (2, 4.729374408721924, 42.0), (2, 4.169280767440796, 41.0), (2, 3.5478930473327637, 39.0), (2, 2.026183605194092, 51.0), (2, 2.023838520050049, 54.0), (2, 4.291843414306641, 35.0), (2, 2.6425082683563232, 57.0), (2, 2.4767518043518066, 58.0), (2, 3.176265001296997, 51.0), (2, 3.0506980419158936, 196.0), (2, 1.0051958560943604, 21.0), (2, 8.826155185699463, 31.0), (2, 10.466424465179443, 21.0), (2, 9.864075899124146, 34.0), (2, 5.1182074546813965, 132.0), (2, 5.863992214202881, 22.0), (2, 12.762304306030273, 23.0), (2, 11.810438394546509, 37.0), (2, 2.520447015762329, 28.0), (2, 16.318410634994507, 22.0), (2, 8.221824407577515, 23.0), (2, 9.677578210830688, 9.0), (2, 15.878061532974243, 23.0), (2, 7.3494954109191895, 19.0), (2, 18.021250247955322, 16.0), (2, 9.068953275680542, 3.0)]),\n",
       "        list([(15.179388284683228, 112500.0, 99612.0), (2, 0.7682552337646484, 84.0), (1, 3.3278141021728516, 1.4551915228366852e-11), (2, 25.64426302909851, 85.0), (2, 15.688002347946167, 77.0), (2, 2.153776168823242, 71.0), (2, 2.2120625972747803, 79.0), (2, 2.103449583053589, 75.0), (2, 2.0576539039611816, 81.0), (2, 2.1682260036468506, 81.0), (2, 2.1706204414367676, 260.0), (2, 2.0566742420196533, 70.0), (2, 2.023991346359253, 78.0), (2, 2.0178818702697754, 73.0), (2, 2.0719997882843018, 67.0), (2, 2.021531105041504, 49.0), (2, 2.071589946746826, 62.0), (2, 2.121150255203247, 57.0), (2, 2.0621328353881836, 75.0), (2, 2.2893598079681396, 58.0), (2, 2.5273635387420654, 60.0), (2, 2.6515488624572754, 60.0), (2, 3.2705090045928955, 53.0), (2, 2.8790907859802246, 56.0), (2, 4.621626853942871, 52.0), (2, 2.794013738632202, 45.0), (2, 3.1581203937530518, 40.0), (2, 3.5425803661346436, 36.0), (2, 4.433579444885254, 41.0), (2, 2.0168771743774414, 43.0), (2, 2.074497699737549, 61.0), (2, 4.862708568572998, 47.0), (2, 2.4143826961517334, 40.0), (2, 2.6816093921661377, 50.0), (2, 7.2326884269714355, 40.0), (2, 8.583487510681152, 43.0), (2, 10.01663851737976, 38.0), (2, 9.563541173934937, 32.0), (2, 13.520870447158813, 163.0), (2, 1.3942925930023193, 41.0), (2, 6.494708776473999, 23.0), (2, 13.786601305007935, 31.0), (2, 14.77003526687622, 18.0), (2, 10.858330488204956, 33.0), (2, 8.091158151626587, 24.0), (2, 20.980713844299316, 20.0), (2, 7.185356140136719, 30.0), (2, 8.827264547348022, 16.0), (2, 10.832479000091553, 5.0)])],\n",
       "       [list([(16.502434015274048, 150000.0, 132639.0), (2, 0.6081571578979492, 120.0), (2, 33.17158603668213, 103.0), (2, 12.807064533233643, 78.0), (1, 1.0379891395568848, 1.1641532182693481e-10), (2, 2.098957061767578, 119.0), (2, 2.305443525314331, 108.0), (2, 2.3974592685699463, 107.0), (2, 2.0724782943725586, 101.0), (2, 3.1946816444396973, 133.0), (2, 3.3415095806121826, 136.0), (2, 1.0759217739105225, 301.0), (2, 2.0521867275238037, 100.0), (2, 4.256537914276123, 103.0), (2, 3.068617820739746, 76.0), (2, 3.225219249725342, 95.0), (2, 3.4570987224578857, 98.0), (2, 4.240392208099365, 90.0), (2, 3.096043586730957, 93.0), (2, 3.6474435329437256, 98.0), (2, 4.664067268371582, 78.0), (2, 4.673037767410278, 77.0), (2, 4.033893346786499, 77.0), (2, 3.770392894744873, 83.0), (2, 4.491590976715088, 84.0), (2, 4.26069450378418, 67.0), (2, 4.503323554992676, 68.0), (2, 5.0484299659729, 71.0), (2, 6.1181535720825195, 67.0), (2, 7.504837512969971, 52.0), (2, 3.274893045425415, 56.0), (2, 3.4272634983062744, 57.0), (2, 8.377708673477173, 65.0), (2, 3.419217348098755, 39.0), (2, 3.5542900562286377, 52.0), (2, 10.1850905418396, 73.0), (2, 11.317195177078247, 232.0), (2, 1.4528300762176514, 37.0), (2, 10.774708032608032, 103.0), (2, 4.419318914413452, 35.0), (2, 11.670889616012573, 28.0), (2, 14.449513673782349, 33.0), (2, 12.351144552230835, 27.0), (2, 4.210016965866089, 27.0), (2, 16.280303239822388, 38.0), (2, 10.07447338104248, 20.0), (2, 8.893028259277344, 40.0)]),\n",
       "        list([(16.366488933563232, 150000.0, 132641.0), (2, 0.6156985759735107, 94.0), (1, 3.568350315093994, 8.731149137020111e-11), (2, 39.35296130180359, 95.0), (2, 17.7809419631958, 137.0), (2, 3.3352010250091553, 102.0), (2, 4.241520881652832, 95.0), (2, 3.2882776260375977, 106.0), (2, 3.1415395736694336, 113.0), (2, 4.072234869003296, 123.0), (2, 1.0113797187805176, 235.0), (2, 2.3706109523773193, 97.0), (2, 4.219202041625977, 115.0), (2, 4.373258590698242, 108.0), (2, 3.1461384296417236, 100.0), (2, 3.2199923992156982, 99.0), (2, 3.365886688232422, 96.0), (2, 3.204789876937866, 97.0), (2, 4.433171033859253, 101.0), (2, 4.502520322799683, 115.0), (2, 4.291006088256836, 85.0), (2, 4.783019304275513, 104.0), (2, 5.87960958480835, 70.0), (2, 3.7979371547698975, 66.0), (2, 5.064755916595459, 74.0), (2, 4.885014533996582, 66.0), (2, 4.48872709274292, 67.0), (2, 5.193308353424072, 64.0), (2, 5.618428468704224, 75.0), (2, 6.262227296829224, 54.0), (2, 8.530386924743652, 67.0), (2, 3.32509446144104, 65.0), (2, 3.771707534790039, 71.0), (2, 3.684469223022461, 58.0), (2, 3.54315447807312, 63.0), (2, 3.8113186359405518, 60.0), (2, 1.5580029487609863, 245.0), (2, 3.707266092300415, 56.0), (2, 13.600515127182007, 35.0), (2, 15.321210622787476, 24.0), (2, 3.512307643890381, 27.0), (2, 10.144379615783691, 49.0), (2, 14.82887578010559, 45.0), (2, 7.804726839065552, 82.0), (2, 9.656831502914429, 32.0)]),\n",
       "        list([(13.907145738601685, 150000.0, 132263.0), (2, 0.5950546264648438, 122.0), (2, 42.891867876052856, 105.0), (2, 13.171968698501587, 104.0), (2, 4.1657631397247314, 105.0), (2, 3.5056612491607666, 112.0), (2, 2.2496635913848877, 120.0), (2, 3.7102012634277344, 106.0), (2, 3.1282570362091064, 125.0), (2, 3.1828489303588867, 130.0), (2, 3.5651144981384277, 118.0), (2, 3.6389787197113037, 142.0), (2, 3.9085514545440674, 116.0), (2, 3.494394302368164, 100.0), (2, 3.210146427154541, 111.0), (2, 3.6322944164276123, 107.0), (2, 3.6932148933410645, 120.0), (2, 3.786243200302124, 90.0), (2, 4.407757997512817, 94.0), (2, 3.8251864910125732, 102.0), (2, 4.270401954650879, 96.0), (2, 4.200145483016968, 71.0), (2, 4.569194316864014, 77.0), (2, 6.188965559005737, 81.0), (2, 4.988233327865601, 75.0), (2, 7.208494663238525, 78.0), (2, 5.614724636077881, 81.0), (2, 6.902251720428467, 74.0), (2, 3.51434326171875, 75.0), (2, 3.5619137287139893, 84.0), (2, 3.959859848022461, 68.0), (2, 3.5841104984283447, 55.0), (2, 3.6244232654571533, 56.0), (2, 3.6091885566711426, 71.0), (2, 11.538811445236206, 70.0), (2, 13.575192928314209, 75.0), (2, 14.52759575843811, 67.0), (2, 15.2193443775177, 77.0), (2, 15.196852684020996, 65.0), (2, 13.461603879928589, 283.0), (2, 2.3845131397247314, 40.0), (2, 18.564693689346313, 48.0)]),\n",
       "        ...,\n",
       "        list([(12.218738555908203, 150000.0, 132215.0), (2, 0.5571229457855225, 120.0), (2, 36.99557638168335, 115.0), (2, 13.496144771575928, 103.0), (1, 1.0467500686645508, 2.3283064365386963e-10), (2, 2.142782211303711, 128.0), (2, 2.3106868267059326, 114.0), (2, 2.344252347946167, 114.0), (2, 3.1930084228515625, 118.0), (2, 3.728790760040283, 119.0), (2, 3.2394256591796875, 108.0), (2, 3.239976406097412, 139.0), (2, 3.2013583183288574, 124.0), (2, 3.0996551513671875, 125.0), (2, 2.244959592819214, 118.0), (2, 3.331559419631958, 134.0), (2, 3.1237058639526367, 109.0), (2, 2.5546610355377197, 101.0), (2, 3.55214786529541, 92.0), (2, 3.4464828968048096, 106.0), (2, 3.3982996940612793, 79.0), (2, 3.2352757453918457, 95.0), (2, 5.172028303146362, 83.0), (2, 3.8218441009521484, 78.0), (2, 3.6330528259277344, 82.0), (2, 3.8167080879211426, 75.0), (2, 4.290551424026489, 73.0), (2, 4.0057103633880615, 469.0), (2, 1.0713379383087158, 54.0), (2, 6.15823221206665, 42.0), (2, 7.545564889907837, 131.0), (2, 1.0350325107574463, 61.0), (2, 2.595121383666992, 43.0), (2, 3.177868366241455, 36.0), (2, 2.842125415802002, 34.0), (2, 2.7840330600738525, 42.0), (2, 3.6211822032928467, 34.0), (2, 3.8831803798675537, 28.0), (2, 11.31040096282959, 36.0), (2, 10.727414846420288, 80.0), (2, 2.179640054702759, 37.0), (2, 13.499755144119263, 30.0), (2, 13.932553768157959, 30.0), (2, 13.363312721252441, 32.0), (2, 13.705118179321289, 42.0), (2, 2.514894723892212, 41.0), (2, 22.551321983337402, 33.0), (2, 8.542832851409912, 38.0)]),\n",
       "        list([(13.485789775848389, 150000.0, 132473.0), (2, 0.5489280223846436, 95.0), (2, 35.77565264701843, 102.0), (2, 16.402841091156006, 104.0), (2, 3.1979002952575684, 111.0), (2, 2.342888116836548, 121.0), (2, 2.1765458583831787, 116.0), (2, 3.3884873390197754, 123.0), (2, 3.2155685424804688, 119.0), (2, 3.3226640224456787, 104.0), (2, 2.4342596530914307, 115.0), (2, 3.1062822341918945, 110.0), (2, 3.2109880447387695, 95.0), (2, 3.0758509635925293, 114.0), (2, 2.4305968284606934, 109.0), (2, 2.627683162689209, 118.0), (2, 1.4292378425598145, 412.0), (2, 1.5437660217285156, 72.0), (2, 3.4304020404815674, 86.0), (2, 3.2954771518707275, 96.0), (2, 3.894798994064331, 75.0), (2, 3.296262502670288, 74.0), (2, 3.730497360229492, 72.0), (2, 4.155939102172852, 62.0), (2, 5.2762675285339355, 74.0), (2, 3.627610921859741, 72.0), (2, 3.680109977722168, 279.0), (2, 1.1561753749847412, 49.0), (2, 4.285490036010742, 74.0), (2, 1.1237781047821045, 33.0), (2, 5.957617998123169, 37.0), (2, 2.599520206451416, 47.0), (2, 2.7871475219726562, 38.0), (2, 3.044912815093994, 50.0), (2, 7.920090198516846, 35.0), (2, 2.8490443229675293, 34.0), (2, 3.158611297607422, 52.0), (2, 3.348818778991699, 40.0), (2, 6.4032135009765625, 39.0), (2, 10.747674226760864, 49.0), (2, 12.08702826499939, 38.0), (2, 7.846418619155884, 110.0), (2, 7.859337568283081, 32.0), (2, 14.2262442111969, 31.0), (2, 17.726213932037354, 23.0), (2, 6.411651611328125, 50.0), (2, 9.753512382507324, 29.0), (2, 23.638580322265625, 3.0), (2, 3.308363914489746, 34.0), (2, 3.079425811767578, 32.0)]),\n",
       "        list([(13.540785789489746, 150000.0, 132633.0), (2, 0.5480732917785645, 109.0), (1, 3.2594666481018066, 5.820766091346741e-11), (2, 32.15494966506958, 135.0), (2, 14.626904487609863, 102.0), (1, 1.0642902851104736, 1.4551915228366852e-10), (2, 2.3182482719421387, 121.0), (2, 2.188040256500244, 118.0), (2, 3.318073272705078, 113.0), (2, 2.3580737113952637, 129.0), (2, 3.478961706161499, 124.0), (2, 2.5422732830047607, 127.0), (2, 4.296177387237549, 140.0), (2, 2.271012544631958, 92.0), (2, 3.2886781692504883, 100.0), (2, 3.1670823097229004, 111.0), (2, 1.135542869567871, 325.0), (2, 2.063966989517212, 85.0), (2, 3.24542236328125, 89.0), (2, 2.1293649673461914, 90.0), (2, 3.291754961013794, 67.0), (2, 3.1281681060791016, 75.0), (2, 3.6207244396209717, 75.0), (2, 4.522694826126099, 71.0), (2, 3.068533420562744, 77.0), (2, 3.5328760147094727, 59.0), (2, 3.5988988876342773, 62.0), (2, 4.981741428375244, 65.0), (2, 3.6023242473602295, 66.0), (2, 4.258464336395264, 47.0), (2, 5.974239349365234, 55.0), (2, 2.791781187057495, 57.0), (2, 6.085935592651367, 52.0), (2, 3.037862539291382, 66.0), (2, 3.0829620361328125, 72.0), (2, 2.9330127239227295, 38.0), (2, 4.370867967605591, 44.0), (2, 3.002326250076294, 44.0), (2, 11.75606369972229, 60.0), (2, 11.43152904510498, 53.0), (2, 12.421622514724731, 47.0), (2, 13.417926549911499, 185.0), (2, 2.002258062362671, 27.0), (2, 12.085038661956787, 45.0), (2, 18.801010608673096, 28.0), (2, 15.201068878173828, 34.0), (2, 8.002630472183228, 50.0), (2, 16.765808820724487, 35.0), (2, 3.5856573581695557, 36.0)])]],\n",
       "      dtype=object)</pre></div></div></li><li class='xr-section-item'><input id='section-d7d71336-7217-4563-929e-6a07d125864b' class='xr-section-summary-in' type='checkbox'  checked><label for='section-d7d71336-7217-4563-929e-6a07d125864b' class='xr-section-summary' >Coordinates: <span>(2)</span></label><div class='xr-section-inline-details'></div><div class='xr-section-details'><ul class='xr-var-list'><li class='xr-var-item'><div class='xr-var-name'><span class='xr-has-index'>N</span></div><div class='xr-var-dims'>(N)</div><div class='xr-var-dtype'>int64</div><div class='xr-var-preview xr-preview'>30 64 100 ... 50000 75000 100000</div><input id='attrs-3fb924c3-fd49-474e-bd82-b89092f45517' class='xr-var-attrs-in' type='checkbox' disabled><label for='attrs-3fb924c3-fd49-474e-bd82-b89092f45517' title='Show/Hide attributes'><svg class='icon xr-icon-file-text2'><use xlink:href='#icon-file-text2'></use></svg></label><input id='data-d9283b62-311f-49c7-8d0c-df135ef7d02c' class='xr-var-data-in' type='checkbox'><label for='data-d9283b62-311f-49c7-8d0c-df135ef7d02c' title='Show/Hide data repr'><svg class='icon xr-icon-database'><use xlink:href='#icon-database'></use></svg></label><div class='xr-var-attrs'><dl class='xr-attrs'></dl></div><div class='xr-var-data'><pre>array([    30,     64,    100,    150,    574,   1000,   1400,   5000,   5200,\n",
       "         7600,  10000,  12400,  15000,  27500,  40000,  50000,  75000, 100000])</pre></div></li><li class='xr-var-item'><div class='xr-var-name'><span class='xr-has-index'>seed</span></div><div class='xr-var-dims'>(seed)</div><div class='xr-var-dtype'>int64</div><div class='xr-var-preview xr-preview'>10 11 12 13 14 ... 106 107 108 109</div><input id='attrs-1b2a350b-8703-4bca-9ef4-4bf68cbfe802' class='xr-var-attrs-in' type='checkbox' disabled><label for='attrs-1b2a350b-8703-4bca-9ef4-4bf68cbfe802' title='Show/Hide attributes'><svg class='icon xr-icon-file-text2'><use xlink:href='#icon-file-text2'></use></svg></label><input id='data-68b33bba-a779-4743-ad09-8910a0252a3f' class='xr-var-data-in' type='checkbox'><label for='data-68b33bba-a779-4743-ad09-8910a0252a3f' title='Show/Hide data repr'><svg class='icon xr-icon-database'><use xlink:href='#icon-database'></use></svg></label><div class='xr-var-attrs'><dl class='xr-attrs'></dl></div><div class='xr-var-data'><pre>array([ 10,  11,  12,  13,  14,  15,  16,  17,  18,  19,  20,  21,  22,  23,\n",
       "        24,  25,  26,  27,  28,  29,  30,  31,  32,  33,  34,  35,  36,  37,\n",
       "        38,  39,  40,  41,  42,  43,  44,  45,  46,  47,  48,  49,  50,  51,\n",
       "        52,  53,  54,  55,  56,  57,  58,  59,  60,  61,  62,  63,  64,  65,\n",
       "        66,  67,  68,  69,  70,  71,  72,  73,  74,  75,  76,  77,  78,  79,\n",
       "        80,  81,  82,  83,  84,  85,  86,  87,  88,  89,  90,  91,  92,  93,\n",
       "        94,  95,  96,  97,  98,  99, 100, 101, 102, 103, 104, 105, 106, 107,\n",
       "       108, 109])</pre></div></li></ul></div></li><li class='xr-section-item'><input id='section-1bfd9d1d-539c-49ee-b2ee-8c4400ee928e' class='xr-section-summary-in' type='checkbox' disabled ><label for='section-1bfd9d1d-539c-49ee-b2ee-8c4400ee928e' class='xr-section-summary'  title='Expand/collapse section'>Attributes: <span>(0)</span></label><div class='xr-section-inline-details'></div><div class='xr-section-details'><dl class='xr-attrs'></dl></div></li></ul></div></div>"
      ],
      "text/plain": [
       "<xarray.DataArray (N: 18, seed: 100)>\n",
       "array([[list([(0.0026748180389404297, 45.0, 38.0), (2, 0.0005736351013183594, 1.0), (1, 0.019767284393310547, 3.0), (1, 0.007950782775878906, 3.0)]),\n",
       "        list([(0.0025107860565185547, 45.0, 40.0), (1, 0.020304203033447266, 4.0), (1, 0.0006439685821533203, 1.0)]),\n",
       "        list([(0.002390146255493164, 45.0, 35.0), (2, 0.0009255409240722656, 6.0), (1, 0.0030617713928222656, 4.0)]),\n",
       "        ...,\n",
       "        list([(0.002336263656616211, 45.0, 38.0), (2, 0.0005347728729248047, 1.0), (1, 0.021895885467529297, 3.0), (1, 0.01449275016784668, 3.0)]),\n",
       "        list([(0.0025959014892578125, 45.0, 38.0), (2, 0.0005786418914794922, 2.0), (1, 0.01933002471923828, 3.0), (1, 0.004787921905517578, 2.0)]),\n",
       "        list([(0.0024557113647460938, 45.0, 42.0), (1, 0.01998281478881836, 3.0)])],\n",
       "       [list([(0.0041656494140625, 96.0, 83.0), (1, 0.04346895217895508, 2.0), (1, 0.020307302474975586, 1.0), (2, 1, 2.0), (1, 0.021093130111694336, 1.0), (2, 1, 3.0), (1, 0.0406498908996582, 1.0), (1, 0.020102262496948242, 1.0), (1, 0.01544332504272461, 2.0)]),\n",
       "        list([(0.0036077499389648438, 96.0, 84.0), (1, 0.031144380569458008, 4.0), (2, 1, 1.0), (1, 0.020642518997192383, 1.0), (2, 1, 1.0), (1, 0.041365861892700195, 1.0), (1, 0.040113210678100586, 1.0), (1, 0.020003795623779297, 1.0), (1, 0.014607667922973633, 2.0)]),\n",
       "        list([(0.0046422481536865234, 96.0, 86.0), (1, 0.04074263572692871, 4.0), (1, 0.02018570899963379, 1.0), (1, 0.021272897720336914, 1.0), (2, 1, 2.0), (1, 0.01786327362060547, 2.0)]),\n",
       "        ...,\n",
       "        list([(0.00304412841796875, 96.0, 86.0), (1, 0.037647247314453125, 3.0), (1, 0.02006387710571289, 1.0), (1, 0.0405271053314209, 1.0), (2, 1, 1.0), (1, 0.04020261764526367, 1.0), (1, 0.039492130279541016, 3.0)]),\n",
       "        list([(0.003220796585083008, 96.0, 87.0), (1, 0.03424882888793945, 3.0), (1, 0.02005767822265625, 1.0), (2, 1, 2.0), (1, 0.010350465774536133, 3.0)]),\n",
       "        list([(0.00400090217590332, 96.0, 86.0), (1, 0.03333282470703125, 5.0), (1, 0.020066499710083008, 1.0), (2, 1, 1.0), (1, 0.020102739334106445, 1.0), (1, 0.0009448528289794922, 2.0)])],\n",
       "       [list([(0.005143165588378906, 150.0, 133.0), (1, 0.02002263069152832, 6.0), (2, 0.023934602737426758, 2.0), (2, 0.06178689002990723, 1.0), (1, 0.02069568634033203, 1.0), (2, 1, 1.0), (1, 0.06130528450012207, 1.0), (1, 0.10303425788879395, 1.0), (1, 0.12583494186401367, 1.0), (1, 0.12331461906433105, 1.0), (1, 0.07433533668518066, 2.0)]),\n",
       "        list([(0.004788875579833984, 150.0, 132.0), (2, 0.0006144046783447266, 2.0), (1, 0.019901752471923828, 5.0), (1, 0.024371623992919922, 1.0), (2, 1, 2.0), (2, 0.02035212516784668, 1.0), (1, 0.04139828681945801, 2.842170943040401e-14), (1, 0.020531892776489258, 0.9999999999999716), (1, 0.10471272468566895, 1.0), (1, 0.020311594009399414, 1.0), (1, 0.08365321159362793, 1.0), (1, 0.0408473014831543, 1.0), (1, 0.025381088256835938, 2.0)]),\n",
       "        list([(0.0046694278717041016, 150.0, 129.0), (1, 0.021707534790039062, 7.0), (1, 0.020076274871826172, 1.0), (2, 1, 3.0), (2, 0.12473726272583008, 1.0), (1, 0.061542510986328125, 1.0), (1, 0.20126128196716309, 1.0), (1, 0.08911252021789551, 1.0), (2, 0.14633774757385254, 2.0), (1, 0.08215737342834473, 1.0), (1, 0.10485196113586426, 1.0), (1, 0.10792040824890137, 1.0), (1, 0.00773310661315918, 1.0)]),\n",
       "        ...,\n",
       "        list([(0.004266977310180664, 150.0, 130.0), (1, 0.02048468589782715, 3.0000000000000284), (2, 1, 2.0), (1, 0.025818347930908203, 0.9999999999999716), (1, 0.020484209060668945, 1.0), (2, 1, 2.0), (1, 0.08523011207580566, 1.0), (2, 1, 1.0), (2, 0.061810970306396484, 1.0), (1, 0.0205078125, 1.0), (1, 0.06253910064697266, 1.0), (1, 0.08372235298156738, 1.0), (1, 0.12319421768188477, 1.0), (1, 0.22761964797973633, 1.0), (1, 0.190049409866333, 8.526512829121202e-14), (1, 0.02495121955871582, 0.9999999999999147), (1, 0.06336474418640137, 1.0), (1, 0.01082921028137207, 1.0)]),\n",
       "        list([(0.003966569900512695, 150.0, 134.0), (1, 0.02002120018005371, 4.0), (1, 0.04307699203491211, 1.0), (2, 1, 1.0), (1, 0.020247220993041992, 1.0), (2, 0.020165681838989258, 2.0), (1, 0.020244598388671875, 1.0), (1, 0.02018427848815918, 1.0), (1, 0.10230684280395508, 1.0), (1, 0.10168147087097168, 1.0), (1, 0.10223174095153809, 1.0), (1, 0.04894852638244629, 2.0)]),\n",
       "...\n",
       "        list([(5.921527147293091, 75000.0, 66383.0), (2, 0.27036142349243164, 60.0), (2, 25.26792883872986, 57.0), (2, 5.083925247192383, 48.0), (1, 1.000084400177002, 1.3096723705530167e-10), (2, 1.002485990524292, 66.0), (2, 1.0153040885925293, 55.0), (2, 1.0224425792694092, 44.0), (2, 2.0196518898010254, 60.0), (2, 1.0060367584228516, 59.0), (2, 1.0358021259307861, 49.0), (2, 1.001297950744629, 51.0), (2, 2.05252742767334, 52.0), (2, 1.0083727836608887, 56.0), (2, 1.0516409873962402, 42.0), (2, 1.0303549766540527, 59.0), (2, 1.238344430923462, 230.0), (2, 2.115128755569458, 31.0), (2, 1.032148838043213, 30.0), (2, 1.2544004917144775, 38.0), (2, 2.068861246109009, 45.0), (2, 2.453519582748413, 40.0), (2, 1.008244514465332, 34.0), (2, 1.207792043685913, 31.0), (2, 2.270418643951416, 26.0), (2, 1.4075205326080322, 142.0), (2, 2.414565324783325, 20.0), (2, 2.171682357788086, 23.0), (2, 2.5820560455322266, 21.0), (2, 2.9935243129730225, 24.0), (2, 3.650559186935425, 83.0), (2, 1.0256845951080322, 19.0), (2, 1.0155527591705322, 21.0), (2, 1.2130789756774902, 18.0), (2, 1.3974237442016602, 19.0), (2, 1.5394434928894043, 16.0), (2, 1.3689939975738525, 16.0), (2, 5.076915502548218, 24.0), (2, 5.585925102233887, 22.0), (2, 5.728860855102539, 23.0), (2, 1.3104565143585205, 23.0), (2, 6.859926700592041, 15.0), (2, 6.684959173202515, 22.0), (2, 1.1089487075805664, 16.0), (2, 8.328731775283813, 17.0), (2, 3.507096290588379, 19.0), (2, 7.019414901733398, 15.0), (2, 7.841768741607666, 6.0), (2, 4.773205757141113, 14.0), (2, 7.882149934768677, 19.0), (2, 9.703999757766724, 13.0), (2, 63.66700482368469, 24.0), (1, 55.69523286819458, 1.9999999998690328)]),\n",
       "        ...,\n",
       "        list([(6.323421001434326, 75000.0, 66487.0), (2, 0.278078556060791, 47.0), (1, 1.6650185585021973, 1.0), (1, 0.5525226593017578, 1.0000000001164153), (2, 8.460039138793945, 45.0), (2, 65.55428576469421, 47.0), (2, 5.767493963241577, 48.0), (1, 1.0157320499420166, 1.0186340659856796e-10), (2, 1.0486576557159424, 50.0), (2, 2.2815215587615967, 60.0), (2, 2.0224146842956543, 44.0), (2, 1.0095736980438232, 58.0), (2, 2.1205785274505615, 213.0), (2, 1.0893607139587402, 70.0), (2, 2.036623239517212, 44.0), (2, 1.1367688179016113, 61.0), (2, 2.0966997146606445, 47.0), (2, 2.3530499935150146, 41.0), (2, 1.0352578163146973, 44.0), (2, 2.0745770931243896, 39.0), (2, 2.033466339111328, 39.0), (2, 1.181107997894287, 191.0), (2, 2.108048677444458, 31.0), (2, 1.0403690338134766, 52.0), (2, 1.0079078674316406, 35.0), (2, 1.290931224822998, 25.0), (2, 2.163357734680176, 20.0), (2, 2.356358051300049, 19.0), (2, 2.0734286308288574, 16.0), (2, 1.0634126663208008, 80.0), (2, 1.0178625583648682, 13.0), (2, 2.943547248840332, 24.0), (2, 2.1272757053375244, 15.0), (2, 1.8043076992034912, 17.0), (2, 1.0115675926208496, 16.0), (2, 2.3070285320281982, 14.0), (2, 2.1044771671295166, 14.0), (2, 1.7154436111450195, 12.0), (2, 1.0021452903747559, 16.0), (2, 1.007490873336792, 20.0), (2, 2.1411972045898438, 18.0), (2, 2.6261651515960693, 20.0), (2, 2.5415589809417725, 18.0), (2, 2.336958646774292, 11.0), (2, 1.2710180282592773, 14.0), (2, 1.2868571281433105, 18.0), (2, 2.6465208530426025, 11.0), (2, 2.06278395652771, 10.0), (2, 2.261274576187134, 5.0), (2, 2.2519538402557373, 6.0), (2, 1.0523855686187744, 6.0), (2, 1.4229586124420166, 8.0), (2, 2.3267858028411865, 6.0), (2, 1.0367708206176758, 8.0), (2, 1.3857638835906982, 10.0), (2, 1.0339107513427734, 2.0), (2, 3.983795642852783, 15.0), (2, 1.8752832412719727, 4.0), (2, 9.626783847808838, 10.0), (2, 1.0124847888946533, 7.0), (2, 2.0562796592712402, 3.0), (2, 6.5277369022369385, 2.0), (2, 4.385450124740601, 7.0), (2, 6.402021169662476, 13.0), (2, 1.1955535411834717, 6.0), (2, 6.195890188217163, 7.0), (2, 3.7895655632019043, 12.0), (2, 6.030225992202759, 11.0), (2, 4.447569131851196, 15.0)]),\n",
       "        list([(6.221133708953857, 75000.0, 66210.0), (2, 0.26727867126464844, 60.0), (1, 1.5803122520446777, 5.820766091346741e-11), (2, 24.905826330184937, 59.0), (2, 7.537319660186768, 40.0), (2, 2.049163579940796, 56.0), (2, 1.019362449645996, 55.0), (2, 1.0069301128387451, 62.0), (2, 2.045464277267456, 82.0), (2, 1.0369930267333984, 51.0), (2, 1.0365626811981201, 52.0), (2, 1.0448095798492432, 75.0), (2, 2.0610909461975098, 202.0), (2, 1.0289695262908936, 39.0), (2, 1.156653642654419, 61.0), (2, 1.0018455982208252, 38.0), (2, 1.0077407360076904, 44.0), (2, 2.023327589035034, 44.0), (2, 1.0355942249298096, 40.0), (2, 1.0033390522003174, 34.0), (2, 2.4228639602661133, 50.0), (2, 1.0018529891967773, 42.0), (2, 1.144512414932251, 54.0), (2, 2.0964410305023193, 39.0), (2, 1.2175228595733643, 43.0), (2, 1.2293946743011475, 178.0), (2, 1.040417194366455, 13.0), (2, 2.373248338699341, 25.0), (2, 2.0869979858398438, 28.0), (2, 2.3582706451416016, 12.0), (2, 2.965916395187378, 24.0), (2, 1.0000722408294678, 17.0), (2, 3.451847553253174, 17.0), (2, 1.005448341369629, 20.0), (2, 1.5064010620117188, 26.0), (2, 1.3647098541259766, 32.0), (2, 1.6431715488433838, 17.0), (2, 5.5924975872039795, 9.0), (2, 6.164591312408447, 33.0), (2, 2.5092663764953613, 56.0), (2, 4.159119606018066, 23.0), (2, 6.675844192504883, 19.0), (2, 6.235487461090088, 22.0), (2, 1.8999989032745361, 17.0), (2, 9.834267377853394, 21.0), (2, 4.195800304412842, 19.0), (2, 6.686269283294678, 12.0), (2, 10.940760850906372, 19.0), (2, 3.4555928707122803, 7.0), (2, 13.122535705566406, 1.0), (2, 61.60726261138916, 36.0), (2, 60.31258034706116, 1.0), (1, 1.0086910724639893, 0.9999999999417923), (2, 4.1755452156066895, 1.0), (2, 1.5024733543395996, 1.0)]),\n",
       "        list([(6.252419948577881, 75000.0, 66373.0), (2, 0.2754058837890625, 51.0), (1, 1.601527452468872, 2.9103830456733704e-11), (2, 12.718071460723877, 40.0), (2, 7.622375726699829, 52.0), (2, 2.0850024223327637, 67.0), (2, 1.0355944633483887, 41.0), (2, 1.10697340965271, 51.0), (2, 2.030026435852051, 60.0), (2, 1.0307977199554443, 43.0), (2, 1.0095930099487305, 57.0), (2, 2.0464894771575928, 75.0), (2, 1.0865199565887451, 54.0), (2, 2.0786020755767822, 55.0), (2, 1.0446138381958008, 44.0), (2, 2.065931797027588, 48.0), (2, 1.0743687152862549, 51.0), (2, 1.1061370372772217, 49.0), (2, 1.0353963375091553, 212.0), (2, 1.3829312324523926, 49.0), (2, 1.0139210224151611, 28.0), (2, 1.2546195983886719, 37.0), (2, 2.3679072856903076, 33.0), (2, 2.4857542514801025, 26.0), (2, 1.000291109085083, 47.0), (2, 1.0012645721435547, 110.0), (2, 1.014671802520752, 19.0), (2, 2.016085386276245, 22.0), (2, 2.3753392696380615, 27.0), (2, 2.1599621772766113, 30.0), (2, 2.5610742568969727, 15.0), (2, 1.0162043571472168, 22.0), (2, 1.4589955806732178, 22.0), (2, 1.4167888164520264, 18.0), (2, 3.3922815322875977, 23.0), (2, 2.298722267150879, 18.0), (2, 4.2686448097229, 16.0), (2, 4.66482138633728, 64.0), (2, 1.0748260021209717, 16.0), (2, 6.188388109207153, 17.0), (2, 6.117702007293701, 15.0), (2, 4.240069150924683, 31.0), (2, 2.0669004917144775, 20.0), (2, 7.384658336639404, 12.0), (2, 4.199561357498169, 23.0), (2, 3.862647533416748, 13.0), (2, 10.140233278274536, 2.0), (2, 1.146183967590332, 10.0), (2, 7.497830867767334, 19.0), (2, 9.12975001335144, 3.0), (2, 4.7424492835998535, 20.0), (2, 8.66541314125061, 20.0), (2, 6.4186530113220215, 1.0), (1, 36.65698838233948, 0.9999999999708962)])],\n",
       "       [list([(11.073609113693237, 112500.0, 99432.0), (2, 0.4747030735015869, 77.0), (1, 2.637587308883667, 5.820766091346741e-11), (2, 22.430917501449585, 78.0), (2, 16.2025363445282, 82.0), (2, 2.131869316101074, 70.0), (2, 2.245149850845337, 99.0), (2, 2.0715699195861816, 73.0), (2, 2.172290802001953, 90.0), (2, 2.2942490577697754, 85.0), (2, 3.4467549324035645, 91.0), (2, 2.226050853729248, 66.0), (2, 2.4558258056640625, 91.0), (2, 2.492565155029297, 59.0), (2, 2.2860026359558105, 72.0), (2, 2.1893725395202637, 83.0), (2, 1.0938611030578613, 275.0), (2, 1.1844947338104248, 65.0), (2, 3.315814256668091, 81.0), (2, 1.0569913387298584, 141.0), (2, 1.0560569763183594, 53.0), (2, 2.602602481842041, 62.0), (2, 3.3446569442749023, 58.0), (2, 4.407328844070435, 53.0), (2, 4.866338014602661, 52.0), (2, 3.265057325363159, 52.0), (2, 4.015441417694092, 41.0), (2, 1.6035935878753662, 37.0), (2, 2.217951774597168, 49.0), (2, 2.2049896717071533, 45.0), (2, 2.5195930004119873, 37.0), (2, 3.4843504428863525, 36.0), (2, 2.382615566253662, 32.0), (2, 3.6517703533172607, 52.0), (2, 2.339477062225342, 39.0), (2, 6.249192476272583, 139.0), (2, 1.0121047496795654, 14.0), (2, 11.055752038955688, 17.0), (2, 6.897125482559204, 33.0), (2, 7.659952163696289, 31.0), (2, 7.93991494178772, 26.0), (2, 7.671036005020142, 26.0), (2, 8.403310537338257, 60.0), (2, 1.4749932289123535, 24.0), (2, 8.97287392616272, 16.0), (2, 9.318742752075195, 31.0), (2, 10.497041702270508, 34.0), (2, 6.804217338562012, 23.0), (2, 20.08564591407776, 11.0), (2, 2.430039405822754, 15.0), (2, 21.37473440170288, 4.0), (2, 17.883446216583252, 8.0), (1, 14.990725755691528, 0.9999999999417923)]),\n",
       "        list([(13.88002061843872, 112500.0, 99524.0), (2, 0.5487604141235352, 81.0), (1, 16.35249638557434, 4.3655745685100555e-11), (2, 33.26930236816406, 79.0), (2, 18.451348543167114, 87.0), (2, 3.2296862602233887, 79.0), (2, 3.0557303428649902, 81.0), (2, 2.135472059249878, 89.0), (2, 3.1377198696136475, 105.0), (2, 2.165318250656128, 72.0), (2, 3.112048625946045, 74.0), (2, 2.361679792404175, 82.0), (2, 3.043397903442383, 81.0), (2, 2.1741573810577393, 79.0), (2, 3.260892629623413, 58.0), (2, 2.2489113807678223, 64.0), (2, 3.4209442138671875, 78.0), (2, 2.199843168258667, 60.0), (2, 3.485905408859253, 62.0), (2, 4.6830244064331055, 60.0), (2, 1.3725683689117432, 295.0), (2, 1.2670261859893799, 66.0), (2, 3.2372512817382812, 56.0), (2, 3.252936840057373, 44.0), (2, 3.069561004638672, 40.0), (2, 3.920032501220703, 55.0), (2, 3.7289388179779053, 40.0), (2, 3.0757782459259033, 33.0), (2, 3.9401957988739014, 35.0), (2, 3.6225993633270264, 33.0), (2, 4.313634872436523, 40.0), (2, 1.6644744873046875, 50.0), (2, 2.0519094467163086, 46.0), (2, 2.0128490924835205, 48.0), (2, 5.444535970687866, 26.0), (2, 2.055202007293701, 28.0), (2, 2.139754295349121, 31.0), (2, 2.34414005279541, 29.0), (2, 5.329550266265869, 35.0), (2, 8.826746940612793, 27.0), (2, 8.0434410572052, 109.0), (2, 2.5589494705200195, 25.0), (2, 13.098008632659912, 34.0), (2, 20.01733660697937, 24.0), (2, 10.559394359588623, 43.0), (2, 8.155313968658447, 21.0), (2, 12.34391736984253, 19.0), (2, 8.024739742279053, 28.0), (2, 5.2841808795928955, 27.0)]),\n",
       "        list([(12.568238496780396, 112500.0, 99765.0), (2, 0.48398566246032715, 68.0), (1, 1.147353172302246, 1.4551915228366852e-11), (2, 27.240773916244507, 68.0), (2, 14.76043152809143, 65.0), (1, 1.0442988872528076, 1.0186340659856796e-10), (2, 2.0666680335998535, 78.0), (2, 2.121023654937744, 85.0), (2, 1.0958309173583984, 96.0), (2, 3.1253840923309326, 71.0), (2, 2.1324093341827393, 60.0), (2, 3.350959539413452, 62.0), (2, 2.0448853969573975, 70.0), (2, 2.2412731647491455, 76.0), (2, 3.1990113258361816, 80.0), (2, 2.062959909439087, 71.0), (2, 2.326268196105957, 60.0), (2, 1.3153431415557861, 244.0), (2, 2.1259093284606934, 63.0), (2, 2.3180603981018066, 62.0), (2, 3.6770646572113037, 45.0), (2, 2.4179766178131104, 72.0), (2, 3.2806644439697266, 61.0), (2, 3.8221323490142822, 42.0), (2, 2.9065847396850586, 44.0), (2, 3.1538891792297363, 40.0), (2, 3.0400805473327637, 41.0), (2, 4.091372489929199, 55.0), (2, 3.603687047958374, 35.0), (2, 3.5830140113830566, 30.0), (2, 3.9758520126342773, 31.0), (2, 2.013395309448242, 44.0), (2, 4.880361795425415, 35.0), (2, 2.1483476161956787, 33.0), (2, 2.922559976577759, 39.0), (2, 2.377716541290283, 33.0), (2, 4.174523115158081, 29.0), (2, 10.528072357177734, 38.0), (2, 8.896606922149658, 34.0), (2, 11.457008600234985, 45.0), (2, 10.758200407028198, 38.0), (2, 8.158474445343018, 132.0), (2, 5.235378265380859, 29.0), (2, 15.728975534439087, 22.0), (2, 16.422889947891235, 25.0), (2, 6.694588661193848, 42.0), (2, 13.362505674362183, 21.0), (2, 2.117544651031494, 10.0)]),\n",
       "        ...,\n",
       "        list([(10.815402746200562, 112500.0, 99529.0), (2, 0.5809140205383301, 74.0), (1, 2.6757700443267822, 1.4551915228366852e-11), (2, 20.31182885169983, 88.0), (2, 9.854703664779663, 83.0), (1, 1.0497684478759766, 2.9103830456733704e-11), (2, 2.1516525745391846, 85.0), (2, 2.089433431625366, 84.0), (2, 2.1226298809051514, 77.0), (2, 2.0531704425811768, 75.0), (2, 2.0962910652160645, 76.0), (2, 3.2578179836273193, 88.0), (2, 2.2161481380462646, 87.0), (2, 2.071922779083252, 80.0), (2, 1.2516076564788818, 80.0), (2, 2.1280603408813477, 78.0), (2, 2.143789052963257, 72.0), (2, 2.660618782043457, 56.0), (2, 2.3729758262634277, 79.0), (2, 2.288437604904175, 87.0), (2, 2.5652170181274414, 64.0), (2, 3.0773487091064453, 74.0), (2, 1.0723192691802979, 302.0), (2, 1.260822057723999, 49.0), (2, 1.608748435974121, 60.0), (2, 1.0604281425476074, 26.0), (2, 3.6319429874420166, 53.0), (2, 3.1206576824188232, 41.0), (2, 3.3238933086395264, 30.0), (2, 4.239795207977295, 40.0), (2, 3.7636401653289795, 64.0), (2, 4.284353733062744, 32.0), (2, 2.0123367309570312, 30.0), (2, 2.1794872283935547, 31.0), (2, 2.034003496170044, 23.0), (2, 9.186864137649536, 36.0), (2, 4.49434494972229, 27.0), (2, 8.9878511428833, 24.0), (2, 9.440739154815674, 22.0), (2, 8.939504384994507, 115.0), (2, 2.0200507640838623, 25.0), (2, 10.329679489135742, 19.0), (2, 11.401910781860352, 31.0), (2, 11.57829213142395, 21.0), (2, 9.106644630432129, 44.0), (2, 4.166779041290283, 24.0), (2, 14.127513647079468, 24.0), (2, 20.209016799926758, 28.0), (2, 4.8256471157073975, 35.0), (2, 17.93022632598877, 14.0), (2, 17.744790077209473, 5.0)]),\n",
       "        list([(15.301944732666016, 112500.0, 99670.0), (2, 0.7301421165466309, 92.0), (2, 27.14453363418579, 75.0), (2, 18.804710626602173, 68.0), (2, 3.1136341094970703, 86.0), (2, 2.102205514907837, 70.0), (2, 2.0669634342193604, 85.0), (2, 2.2226722240448, 82.0), (2, 3.1968324184417725, 72.0), (2, 2.1200149059295654, 69.0), (2, 3.3493099212646484, 88.0), (2, 2.1301310062408447, 92.0), (2, 2.0772244930267334, 69.0), (2, 3.0888631343841553, 71.0), (2, 2.014704942703247, 76.0), (2, 2.1631808280944824, 77.0), (2, 2.2323124408721924, 88.0), (2, 2.2402231693267822, 66.0), (2, 2.755908250808716, 84.0), (2, 3.607569456100464, 50.0), (2, 2.3577654361724854, 58.0), (2, 3.1138198375701904, 55.0), (2, 2.9681966304779053, 52.0), (2, 4.278851270675659, 49.0), (2, 4.729374408721924, 42.0), (2, 4.169280767440796, 41.0), (2, 3.5478930473327637, 39.0), (2, 2.026183605194092, 51.0), (2, 2.023838520050049, 54.0), (2, 4.291843414306641, 35.0), (2, 2.6425082683563232, 57.0), (2, 2.4767518043518066, 58.0), (2, 3.176265001296997, 51.0), (2, 3.0506980419158936, 196.0), (2, 1.0051958560943604, 21.0), (2, 8.826155185699463, 31.0), (2, 10.466424465179443, 21.0), (2, 9.864075899124146, 34.0), (2, 5.1182074546813965, 132.0), (2, 5.863992214202881, 22.0), (2, 12.762304306030273, 23.0), (2, 11.810438394546509, 37.0), (2, 2.520447015762329, 28.0), (2, 16.318410634994507, 22.0), (2, 8.221824407577515, 23.0), (2, 9.677578210830688, 9.0), (2, 15.878061532974243, 23.0), (2, 7.3494954109191895, 19.0), (2, 18.021250247955322, 16.0), (2, 9.068953275680542, 3.0)]),\n",
       "        list([(15.179388284683228, 112500.0, 99612.0), (2, 0.7682552337646484, 84.0), (1, 3.3278141021728516, 1.4551915228366852e-11), (2, 25.64426302909851, 85.0), (2, 15.688002347946167, 77.0), (2, 2.153776168823242, 71.0), (2, 2.2120625972747803, 79.0), (2, 2.103449583053589, 75.0), (2, 2.0576539039611816, 81.0), (2, 2.1682260036468506, 81.0), (2, 2.1706204414367676, 260.0), (2, 2.0566742420196533, 70.0), (2, 2.023991346359253, 78.0), (2, 2.0178818702697754, 73.0), (2, 2.0719997882843018, 67.0), (2, 2.021531105041504, 49.0), (2, 2.071589946746826, 62.0), (2, 2.121150255203247, 57.0), (2, 2.0621328353881836, 75.0), (2, 2.2893598079681396, 58.0), (2, 2.5273635387420654, 60.0), (2, 2.6515488624572754, 60.0), (2, 3.2705090045928955, 53.0), (2, 2.8790907859802246, 56.0), (2, 4.621626853942871, 52.0), (2, 2.794013738632202, 45.0), (2, 3.1581203937530518, 40.0), (2, 3.5425803661346436, 36.0), (2, 4.433579444885254, 41.0), (2, 2.0168771743774414, 43.0), (2, 2.074497699737549, 61.0), (2, 4.862708568572998, 47.0), (2, 2.4143826961517334, 40.0), (2, 2.6816093921661377, 50.0), (2, 7.2326884269714355, 40.0), (2, 8.583487510681152, 43.0), (2, 10.01663851737976, 38.0), (2, 9.563541173934937, 32.0), (2, 13.520870447158813, 163.0), (2, 1.3942925930023193, 41.0), (2, 6.494708776473999, 23.0), (2, 13.786601305007935, 31.0), (2, 14.77003526687622, 18.0), (2, 10.858330488204956, 33.0), (2, 8.091158151626587, 24.0), (2, 20.980713844299316, 20.0), (2, 7.185356140136719, 30.0), (2, 8.827264547348022, 16.0), (2, 10.832479000091553, 5.0)])],\n",
       "       [list([(16.502434015274048, 150000.0, 132639.0), (2, 0.6081571578979492, 120.0), (2, 33.17158603668213, 103.0), (2, 12.807064533233643, 78.0), (1, 1.0379891395568848, 1.1641532182693481e-10), (2, 2.098957061767578, 119.0), (2, 2.305443525314331, 108.0), (2, 2.3974592685699463, 107.0), (2, 2.0724782943725586, 101.0), (2, 3.1946816444396973, 133.0), (2, 3.3415095806121826, 136.0), (2, 1.0759217739105225, 301.0), (2, 2.0521867275238037, 100.0), (2, 4.256537914276123, 103.0), (2, 3.068617820739746, 76.0), (2, 3.225219249725342, 95.0), (2, 3.4570987224578857, 98.0), (2, 4.240392208099365, 90.0), (2, 3.096043586730957, 93.0), (2, 3.6474435329437256, 98.0), (2, 4.664067268371582, 78.0), (2, 4.673037767410278, 77.0), (2, 4.033893346786499, 77.0), (2, 3.770392894744873, 83.0), (2, 4.491590976715088, 84.0), (2, 4.26069450378418, 67.0), (2, 4.503323554992676, 68.0), (2, 5.0484299659729, 71.0), (2, 6.1181535720825195, 67.0), (2, 7.504837512969971, 52.0), (2, 3.274893045425415, 56.0), (2, 3.4272634983062744, 57.0), (2, 8.377708673477173, 65.0), (2, 3.419217348098755, 39.0), (2, 3.5542900562286377, 52.0), (2, 10.1850905418396, 73.0), (2, 11.317195177078247, 232.0), (2, 1.4528300762176514, 37.0), (2, 10.774708032608032, 103.0), (2, 4.419318914413452, 35.0), (2, 11.670889616012573, 28.0), (2, 14.449513673782349, 33.0), (2, 12.351144552230835, 27.0), (2, 4.210016965866089, 27.0), (2, 16.280303239822388, 38.0), (2, 10.07447338104248, 20.0), (2, 8.893028259277344, 40.0)]),\n",
       "        list([(16.366488933563232, 150000.0, 132641.0), (2, 0.6156985759735107, 94.0), (1, 3.568350315093994, 8.731149137020111e-11), (2, 39.35296130180359, 95.0), (2, 17.7809419631958, 137.0), (2, 3.3352010250091553, 102.0), (2, 4.241520881652832, 95.0), (2, 3.2882776260375977, 106.0), (2, 3.1415395736694336, 113.0), (2, 4.072234869003296, 123.0), (2, 1.0113797187805176, 235.0), (2, 2.3706109523773193, 97.0), (2, 4.219202041625977, 115.0), (2, 4.373258590698242, 108.0), (2, 3.1461384296417236, 100.0), (2, 3.2199923992156982, 99.0), (2, 3.365886688232422, 96.0), (2, 3.204789876937866, 97.0), (2, 4.433171033859253, 101.0), (2, 4.502520322799683, 115.0), (2, 4.291006088256836, 85.0), (2, 4.783019304275513, 104.0), (2, 5.87960958480835, 70.0), (2, 3.7979371547698975, 66.0), (2, 5.064755916595459, 74.0), (2, 4.885014533996582, 66.0), (2, 4.48872709274292, 67.0), (2, 5.193308353424072, 64.0), (2, 5.618428468704224, 75.0), (2, 6.262227296829224, 54.0), (2, 8.530386924743652, 67.0), (2, 3.32509446144104, 65.0), (2, 3.771707534790039, 71.0), (2, 3.684469223022461, 58.0), (2, 3.54315447807312, 63.0), (2, 3.8113186359405518, 60.0), (2, 1.5580029487609863, 245.0), (2, 3.707266092300415, 56.0), (2, 13.600515127182007, 35.0), (2, 15.321210622787476, 24.0), (2, 3.512307643890381, 27.0), (2, 10.144379615783691, 49.0), (2, 14.82887578010559, 45.0), (2, 7.804726839065552, 82.0), (2, 9.656831502914429, 32.0)]),\n",
       "        list([(13.907145738601685, 150000.0, 132263.0), (2, 0.5950546264648438, 122.0), (2, 42.891867876052856, 105.0), (2, 13.171968698501587, 104.0), (2, 4.1657631397247314, 105.0), (2, 3.5056612491607666, 112.0), (2, 2.2496635913848877, 120.0), (2, 3.7102012634277344, 106.0), (2, 3.1282570362091064, 125.0), (2, 3.1828489303588867, 130.0), (2, 3.5651144981384277, 118.0), (2, 3.6389787197113037, 142.0), (2, 3.9085514545440674, 116.0), (2, 3.494394302368164, 100.0), (2, 3.210146427154541, 111.0), (2, 3.6322944164276123, 107.0), (2, 3.6932148933410645, 120.0), (2, 3.786243200302124, 90.0), (2, 4.407757997512817, 94.0), (2, 3.8251864910125732, 102.0), (2, 4.270401954650879, 96.0), (2, 4.200145483016968, 71.0), (2, 4.569194316864014, 77.0), (2, 6.188965559005737, 81.0), (2, 4.988233327865601, 75.0), (2, 7.208494663238525, 78.0), (2, 5.614724636077881, 81.0), (2, 6.902251720428467, 74.0), (2, 3.51434326171875, 75.0), (2, 3.5619137287139893, 84.0), (2, 3.959859848022461, 68.0), (2, 3.5841104984283447, 55.0), (2, 3.6244232654571533, 56.0), (2, 3.6091885566711426, 71.0), (2, 11.538811445236206, 70.0), (2, 13.575192928314209, 75.0), (2, 14.52759575843811, 67.0), (2, 15.2193443775177, 77.0), (2, 15.196852684020996, 65.0), (2, 13.461603879928589, 283.0), (2, 2.3845131397247314, 40.0), (2, 18.564693689346313, 48.0)]),\n",
       "        ...,\n",
       "        list([(12.218738555908203, 150000.0, 132215.0), (2, 0.5571229457855225, 120.0), (2, 36.99557638168335, 115.0), (2, 13.496144771575928, 103.0), (1, 1.0467500686645508, 2.3283064365386963e-10), (2, 2.142782211303711, 128.0), (2, 2.3106868267059326, 114.0), (2, 2.344252347946167, 114.0), (2, 3.1930084228515625, 118.0), (2, 3.728790760040283, 119.0), (2, 3.2394256591796875, 108.0), (2, 3.239976406097412, 139.0), (2, 3.2013583183288574, 124.0), (2, 3.0996551513671875, 125.0), (2, 2.244959592819214, 118.0), (2, 3.331559419631958, 134.0), (2, 3.1237058639526367, 109.0), (2, 2.5546610355377197, 101.0), (2, 3.55214786529541, 92.0), (2, 3.4464828968048096, 106.0), (2, 3.3982996940612793, 79.0), (2, 3.2352757453918457, 95.0), (2, 5.172028303146362, 83.0), (2, 3.8218441009521484, 78.0), (2, 3.6330528259277344, 82.0), (2, 3.8167080879211426, 75.0), (2, 4.290551424026489, 73.0), (2, 4.0057103633880615, 469.0), (2, 1.0713379383087158, 54.0), (2, 6.15823221206665, 42.0), (2, 7.545564889907837, 131.0), (2, 1.0350325107574463, 61.0), (2, 2.595121383666992, 43.0), (2, 3.177868366241455, 36.0), (2, 2.842125415802002, 34.0), (2, 2.7840330600738525, 42.0), (2, 3.6211822032928467, 34.0), (2, 3.8831803798675537, 28.0), (2, 11.31040096282959, 36.0), (2, 10.727414846420288, 80.0), (2, 2.179640054702759, 37.0), (2, 13.499755144119263, 30.0), (2, 13.932553768157959, 30.0), (2, 13.363312721252441, 32.0), (2, 13.705118179321289, 42.0), (2, 2.514894723892212, 41.0), (2, 22.551321983337402, 33.0), (2, 8.542832851409912, 38.0)]),\n",
       "        list([(13.485789775848389, 150000.0, 132473.0), (2, 0.5489280223846436, 95.0), (2, 35.77565264701843, 102.0), (2, 16.402841091156006, 104.0), (2, 3.1979002952575684, 111.0), (2, 2.342888116836548, 121.0), (2, 2.1765458583831787, 116.0), (2, 3.3884873390197754, 123.0), (2, 3.2155685424804688, 119.0), (2, 3.3226640224456787, 104.0), (2, 2.4342596530914307, 115.0), (2, 3.1062822341918945, 110.0), (2, 3.2109880447387695, 95.0), (2, 3.0758509635925293, 114.0), (2, 2.4305968284606934, 109.0), (2, 2.627683162689209, 118.0), (2, 1.4292378425598145, 412.0), (2, 1.5437660217285156, 72.0), (2, 3.4304020404815674, 86.0), (2, 3.2954771518707275, 96.0), (2, 3.894798994064331, 75.0), (2, 3.296262502670288, 74.0), (2, 3.730497360229492, 72.0), (2, 4.155939102172852, 62.0), (2, 5.2762675285339355, 74.0), (2, 3.627610921859741, 72.0), (2, 3.680109977722168, 279.0), (2, 1.1561753749847412, 49.0), (2, 4.285490036010742, 74.0), (2, 1.1237781047821045, 33.0), (2, 5.957617998123169, 37.0), (2, 2.599520206451416, 47.0), (2, 2.7871475219726562, 38.0), (2, 3.044912815093994, 50.0), (2, 7.920090198516846, 35.0), (2, 2.8490443229675293, 34.0), (2, 3.158611297607422, 52.0), (2, 3.348818778991699, 40.0), (2, 6.4032135009765625, 39.0), (2, 10.747674226760864, 49.0), (2, 12.08702826499939, 38.0), (2, 7.846418619155884, 110.0), (2, 7.859337568283081, 32.0), (2, 14.2262442111969, 31.0), (2, 17.726213932037354, 23.0), (2, 6.411651611328125, 50.0), (2, 9.753512382507324, 29.0), (2, 23.638580322265625, 3.0), (2, 3.308363914489746, 34.0), (2, 3.079425811767578, 32.0)]),\n",
       "        list([(13.540785789489746, 150000.0, 132633.0), (2, 0.5480732917785645, 109.0), (1, 3.2594666481018066, 5.820766091346741e-11), (2, 32.15494966506958, 135.0), (2, 14.626904487609863, 102.0), (1, 1.0642902851104736, 1.4551915228366852e-10), (2, 2.3182482719421387, 121.0), (2, 2.188040256500244, 118.0), (2, 3.318073272705078, 113.0), (2, 2.3580737113952637, 129.0), (2, 3.478961706161499, 124.0), (2, 2.5422732830047607, 127.0), (2, 4.296177387237549, 140.0), (2, 2.271012544631958, 92.0), (2, 3.2886781692504883, 100.0), (2, 3.1670823097229004, 111.0), (2, 1.135542869567871, 325.0), (2, 2.063966989517212, 85.0), (2, 3.24542236328125, 89.0), (2, 2.1293649673461914, 90.0), (2, 3.291754961013794, 67.0), (2, 3.1281681060791016, 75.0), (2, 3.6207244396209717, 75.0), (2, 4.522694826126099, 71.0), (2, 3.068533420562744, 77.0), (2, 3.5328760147094727, 59.0), (2, 3.5988988876342773, 62.0), (2, 4.981741428375244, 65.0), (2, 3.6023242473602295, 66.0), (2, 4.258464336395264, 47.0), (2, 5.974239349365234, 55.0), (2, 2.791781187057495, 57.0), (2, 6.085935592651367, 52.0), (2, 3.037862539291382, 66.0), (2, 3.0829620361328125, 72.0), (2, 2.9330127239227295, 38.0), (2, 4.370867967605591, 44.0), (2, 3.002326250076294, 44.0), (2, 11.75606369972229, 60.0), (2, 11.43152904510498, 53.0), (2, 12.421622514724731, 47.0), (2, 13.417926549911499, 185.0), (2, 2.002258062362671, 27.0), (2, 12.085038661956787, 45.0), (2, 18.801010608673096, 28.0), (2, 15.201068878173828, 34.0), (2, 8.002630472183228, 50.0), (2, 16.765808820724487, 35.0), (2, 3.5856573581695557, 36.0)])]],\n",
       "      dtype=object)\n",
       "Coordinates:\n",
       "  * N        (N) int64 30 64 100 150 574 1000 ... 27500 40000 50000 75000 100000\n",
       "  * seed     (seed) int64 10 11 12 13 14 15 16 ... 103 104 105 106 107 108 109"
      ]
     },
     "execution_count": 16,
     "metadata": {},
     "output_type": "execute_result"
    }
   ],
   "source": [
    "xd = xar.DataArray(gurobi_bytes, dims=('N', 'seed'), coords=(match_ext, seeds))\n",
    "xd"
   ]
  },
  {
   "cell_type": "code",
   "execution_count": 17,
   "metadata": {},
   "outputs": [],
   "source": [
    "def to_mh(item):\n",
    "    starts, *diffs = item\n",
    "    return miplog_helper.MiplogData.from_start_and_diffs(starts, diffs)"
   ]
  },
  {
   "cell_type": "code",
   "execution_count": 18,
   "metadata": {},
   "outputs": [
    {
     "data": {
      "text/plain": [
       "<matplotlib.legend.Legend at 0x7f312b187280>"
      ]
     },
     "execution_count": 18,
     "metadata": {},
     "output_type": "execute_result"
    },
    {
     "data": {
      "image/png": "[encoded data removed]",
      "text/plain": [
       "<Figure size 432x288 with 1 Axes>"
      ]
     },
     "metadata": {
      "needs_background": "light"
     },
     "output_type": "display_data"
    }
   ],
   "source": [
    "# check data\n",
    "seed = 1\n",
    "\n",
    "line = [to_mh(x).get_time_for_AR_lower(0.849)[0] for x in gurobi_bytes[:, seed]]\n",
    "plt.plot(match_ext, line, '*-', label='0.879')\n",
    "plt.xscale('log')\n",
    "plt.legend()\n",
    "line = [to_mh(x).get_time_for_AR_lower(0.95)[0] for x in gurobi_bytes[:, seed]]\n",
    "plt.plot(match_ext, line, '*-', label='0.95')\n",
    "\n",
    "line = [to_mh(x).get_time_for_AR_lower(0.98)[0] for x in gurobi_bytes[:, seed]]\n",
    "plt.plot(match_ext, line, label='0.98')\n",
    "plt.legend()"
   ]
  },
  {
   "cell_type": "code",
   "execution_count": 22,
   "metadata": {},
   "outputs": [
    {
     "data": {
      "text/plain": [
       "<matplotlib.legend.Legend at 0x7f312ad53190>"
      ]
     },
     "execution_count": 22,
     "metadata": {},
     "output_type": "execute_result"
    },
    {
     "data": {
      "image/png": "[encoded data removed]",
      "text/plain": [
       "<Figure size 432x288 with 1 Axes>"
      ]
     },
     "metadata": {
      "needs_background": "light"
     },
     "output_type": "display_data"
    }
   ],
   "source": [
    "# check data t0\n",
    "seed = 1\n",
    "def get_t0(x):\n",
    "    mh = to_mh(x)\n",
    "    for t, b, c in mh.miplog:\n",
    "        if c>0:\n",
    "            return t\n",
    "\n",
    "line = [get_t0(x) for x in gurobi_bytes[:, seed]]\n",
    "plt.plot(match_ext, line, '*-', label='t0')\n",
    "plt.loglog()\n",
    "plt.plot(match_ext, line, '*-', label='t0')\n",
    "\n",
    "plt.legend()"
   ]
  },
  {
   "cell_type": "code",
   "execution_count": 23,
   "metadata": {},
   "outputs": [
    {
     "data": {
      "image/png": "[encoded data removed]",
      "text/plain": [
       "<Figure size 432x288 with 1 Axes>"
      ]
     },
     "metadata": {
      "needs_background": "light"
     },
     "output_type": "display_data"
    }
   ],
   "source": [
    "def get_t0_cf(x):\n",
    "    mh = to_mh(x)\n",
    "    for t, b, c in mh.miplog:\n",
    "        if c>0:\n",
    "            return c\n",
    "\n",
    "line = xar.apply_ufunc(get_t0_cf, xd, vectorize=True).median('seed')\n",
    "plt.plot(match_ext, np.array(line)/np.array(match_ext)/1.5, '*-', label='t0_cf')\n",
    "plt.xscale('log')\n",
    "\n",
    "plt.hlines(0.8828425408436951, min(match_ext), max(match_ext),\n",
    "           label=f'QAOA p={11}', color='blue', linewidth=1, \n",
    "           linestyle='--'\n",
    "          )\n",
    "plt.legend()\n",
    "plt.grid()"
   ]
  },
  {
   "cell_type": "markdown",
   "metadata": {},
   "source": [
    "### Optimal time"
   ]
  },
  {
   "cell_type": "code",
   "execution_count": 11,
   "metadata": {},
   "outputs": [],
   "source": [
    "max_N = 3000\n",
    "opt_max_N = 520\n",
    "seeds = [10, 11, 12, 13, 14]"
   ]
  },
  {
   "cell_type": "code",
   "execution_count": 13,
   "metadata": {
    "scrolled": true
   },
   "outputs": [
    {
     "data": {
      "application/vnd.jupyter.widget-view+json": {
       "model_id": "6fa355768807410ca86caa1c8e6f43ad",
       "version_major": 2,
       "version_minor": 0
      },
      "text/plain": [
       "HBox(children=(HTML(value='Caex progress'), FloatProgress(value=1.0, bar_style='info', layout=Layout(width='20…"
      ]
     },
     "metadata": {},
     "output_type": "display_data"
    },
    {
     "name": "stdout",
     "output_type": "stream",
     "text": [
      "\n"
     ]
    },
    {
     "ename": "KeyboardInterrupt",
     "evalue": "",
     "output_type": "error",
     "traceback": [
      "\u001b[0;31m---------------------------------------------------------------------------\u001b[0m",
      "\u001b[0;31mKeyboardInterrupt\u001b[0m                         Traceback (most recent call last)",
      "\u001b[0;32m<ipython-input-13-4415c3ff6bfe>\u001b[0m in \u001b[0;36m<module>\u001b[0;34m\u001b[0m\n\u001b[1;32m      2\u001b[0m \u001b[0mx_opt\u001b[0m \u001b[0;34m=\u001b[0m \u001b[0mnp\u001b[0m\u001b[0;34m.\u001b[0m\u001b[0marray\u001b[0m\u001b[0;34m(\u001b[0m\u001b[0mrange\u001b[0m\u001b[0;34m(\u001b[0m\u001b[0;36m10\u001b[0m\u001b[0;34m,\u001b[0m \u001b[0mopt_max_N\u001b[0m\u001b[0;34m,\u001b[0m \u001b[0;36m16\u001b[0m\u001b[0;34m)\u001b[0m\u001b[0;34m)\u001b[0m\u001b[0;34m\u001b[0m\u001b[0;34m\u001b[0m\u001b[0m\n\u001b[1;32m      3\u001b[0m \u001b[0;34m\u001b[0m\u001b[0m\n\u001b[0;32m----> 4\u001b[0;31m opt_time = ex.map_variable(('classical_time_gurobi')\n\u001b[0m\u001b[1;32m      5\u001b[0m                            \u001b[0;34m,\u001b[0m \u001b[0mN\u001b[0m\u001b[0;34m=\u001b[0m\u001b[0mx_opt\u001b[0m\u001b[0;34m\u001b[0m\u001b[0;34m\u001b[0m\u001b[0m\n\u001b[1;32m      6\u001b[0m                            \u001b[0;34m,\u001b[0m \u001b[0mseed\u001b[0m\u001b[0;34m=\u001b[0m\u001b[0mseeds\u001b[0m\u001b[0;34m\u001b[0m\u001b[0;34m\u001b[0m\u001b[0m\n",
      "\u001b[0;32m~/side/cartesian-explorer/cartesian_explorer/Explorer.py\u001b[0m in \u001b[0;36mmap_variable\u001b[0;34m(self, varname, **kwargs)\u001b[0m\n\u001b[1;32m    298\u001b[0m \u001b[0;34m\u001b[0m\u001b[0m\n\u001b[1;32m    299\u001b[0m     \u001b[0;32mdef\u001b[0m \u001b[0mmap_variable\u001b[0m\u001b[0;34m(\u001b[0m\u001b[0mself\u001b[0m\u001b[0;34m,\u001b[0m \u001b[0mvarname\u001b[0m\u001b[0;34m,\u001b[0m \u001b[0;34m**\u001b[0m\u001b[0mkwargs\u001b[0m\u001b[0;34m)\u001b[0m\u001b[0;34m:\u001b[0m\u001b[0;34m\u001b[0m\u001b[0;34m\u001b[0m\u001b[0m\n\u001b[0;32m--> 300\u001b[0;31m         \u001b[0;32mreturn\u001b[0m \u001b[0mself\u001b[0m\u001b[0;34m.\u001b[0m\u001b[0mmap_variables\u001b[0m\u001b[0;34m(\u001b[0m\u001b[0;34m[\u001b[0m\u001b[0mvarname\u001b[0m\u001b[0;34m]\u001b[0m\u001b[0;34m,\u001b[0m \u001b[0;34m**\u001b[0m\u001b[0mkwargs\u001b[0m\u001b[0;34m)\u001b[0m\u001b[0;34m[\u001b[0m\u001b[0;36m0\u001b[0m\u001b[0;34m]\u001b[0m\u001b[0;34m\u001b[0m\u001b[0;34m\u001b[0m\u001b[0m\n\u001b[0m\u001b[1;32m    301\u001b[0m \u001b[0;34m\u001b[0m\u001b[0m\n\u001b[1;32m    302\u001b[0m     \u001b[0;32mdef\u001b[0m \u001b[0mmap_variable_no_call\u001b[0m\u001b[0;34m(\u001b[0m\u001b[0mself\u001b[0m\u001b[0;34m,\u001b[0m \u001b[0mvarname\u001b[0m\u001b[0;34m,\u001b[0m \u001b[0;34m**\u001b[0m\u001b[0mkwargs\u001b[0m\u001b[0;34m)\u001b[0m\u001b[0;34m:\u001b[0m\u001b[0;34m\u001b[0m\u001b[0;34m\u001b[0m\u001b[0m\n",
      "\u001b[0;32m~/side/cartesian-explorer/cartesian_explorer/Explorer.py\u001b[0m in \u001b[0;36mmap_variables\u001b[0;34m(self, varnames, **kwargs)\u001b[0m\n\u001b[1;32m    292\u001b[0m \u001b[0;34m\u001b[0m\u001b[0m\n\u001b[1;32m    293\u001b[0m     \u001b[0;32mdef\u001b[0m \u001b[0mmap_variables\u001b[0m\u001b[0;34m(\u001b[0m\u001b[0mself\u001b[0m\u001b[0;34m,\u001b[0m \u001b[0mvarnames\u001b[0m\u001b[0;34m,\u001b[0m \u001b[0;34m**\u001b[0m\u001b[0mkwargs\u001b[0m\u001b[0;34m)\u001b[0m\u001b[0;34m:\u001b[0m\u001b[0;34m\u001b[0m\u001b[0;34m\u001b[0m\u001b[0m\n\u001b[0;32m--> 294\u001b[0;31m         \u001b[0;32mreturn\u001b[0m \u001b[0mself\u001b[0m\u001b[0;34m.\u001b[0m\u001b[0mmap\u001b[0m\u001b[0;34m(\u001b[0m\u001b[0mself\u001b[0m\u001b[0;34m.\u001b[0m\u001b[0mget_variables\u001b[0m\u001b[0;34m,\u001b[0m \u001b[0mvarnames\u001b[0m\u001b[0;34m=\u001b[0m\u001b[0;34m[\u001b[0m\u001b[0mvarnames\u001b[0m\u001b[0;34m]\u001b[0m\u001b[0;34m,\u001b[0m \u001b[0mout_dim\u001b[0m\u001b[0;34m=\u001b[0m\u001b[0mlen\u001b[0m\u001b[0;34m(\u001b[0m\u001b[0mvarnames\u001b[0m\u001b[0;34m)\u001b[0m\u001b[0;34m,\u001b[0m \u001b[0;34m**\u001b[0m\u001b[0mkwargs\u001b[0m\u001b[0;34m)\u001b[0m\u001b[0;34m\u001b[0m\u001b[0;34m\u001b[0m\u001b[0m\n\u001b[0m\u001b[1;32m    295\u001b[0m \u001b[0;34m\u001b[0m\u001b[0m\n\u001b[1;32m    296\u001b[0m     \u001b[0;32mdef\u001b[0m \u001b[0mmap_variables_no_call\u001b[0m\u001b[0;34m(\u001b[0m\u001b[0mself\u001b[0m\u001b[0;34m,\u001b[0m \u001b[0mvarnames\u001b[0m\u001b[0;34m,\u001b[0m \u001b[0;34m**\u001b[0m\u001b[0mkwargs\u001b[0m\u001b[0;34m)\u001b[0m\u001b[0;34m:\u001b[0m\u001b[0;34m\u001b[0m\u001b[0;34m\u001b[0m\u001b[0m\n",
      "\u001b[0;32m~/side/cartesian-explorer/cartesian_explorer/ExplorerBasic.py\u001b[0m in \u001b[0;36mmap\u001b[0;34m(self, func, processes, out_dim, pbar, **param_space)\u001b[0m\n\u001b[1;32m    200\u001b[0m         \u001b[0;32mif\u001b[0m \u001b[0;34m(\u001b[0m\u001b[0mprocesses\u001b[0m \u001b[0;34m>\u001b[0m \u001b[0;36m1\u001b[0m \u001b[0;32mand\u001b[0m \u001b[0mself\u001b[0m\u001b[0;34m.\u001b[0m\u001b[0mparallel_class\u001b[0m \u001b[0;32mis\u001b[0m \u001b[0;32mnot\u001b[0m \u001b[0;32mNone\u001b[0m\u001b[0;34m)\u001b[0m \u001b[0;32mor\u001b[0m \u001b[0mself\u001b[0m\u001b[0;34m.\u001b[0m\u001b[0mparallel\u001b[0m\u001b[0;34m:\u001b[0m\u001b[0;34m\u001b[0m\u001b[0;34m\u001b[0m\u001b[0m\n\u001b[1;32m    201\u001b[0m             \u001b[0mparallel\u001b[0m \u001b[0;34m=\u001b[0m \u001b[0mself\u001b[0m\u001b[0;34m.\u001b[0m\u001b[0mparallel\u001b[0m \u001b[0;32mor\u001b[0m \u001b[0mself\u001b[0m\u001b[0;34m.\u001b[0m\u001b[0mparallel_class\u001b[0m\u001b[0;34m(\u001b[0m\u001b[0mprocesses\u001b[0m\u001b[0;34m=\u001b[0m\u001b[0mprocesses\u001b[0m\u001b[0;34m)\u001b[0m\u001b[0;34m\u001b[0m\u001b[0;34m\u001b[0m\u001b[0m\n\u001b[0;32m--> 202\u001b[0;31m             \u001b[0mresult_lin\u001b[0m \u001b[0;34m=\u001b[0m \u001b[0mparallel\u001b[0m\u001b[0;34m.\u001b[0m\u001b[0mstarstarmap\u001b[0m\u001b[0;34m(\u001b[0m\u001b[0mfunc\u001b[0m\u001b[0;34m,\u001b[0m \u001b[0mparam_iter\u001b[0m\u001b[0;34m)\u001b[0m\u001b[0;34m\u001b[0m\u001b[0;34m\u001b[0m\u001b[0m\n\u001b[0m\u001b[1;32m    203\u001b[0m         \u001b[0;32melse\u001b[0m\u001b[0;34m:\u001b[0m\u001b[0;34m\u001b[0m\u001b[0;34m\u001b[0m\u001b[0m\n\u001b[1;32m    204\u001b[0m             \u001b[0;32mif\u001b[0m \u001b[0mpbar\u001b[0m\u001b[0;34m:\u001b[0m\u001b[0;34m\u001b[0m\u001b[0;34m\u001b[0m\u001b[0m\n",
      "\u001b[0;32m~/side/cartesian-explorer/cartesian_explorer/parallels.py\u001b[0m in \u001b[0;36mstarstarmap\u001b[0;34m(self, func, args)\u001b[0m\n\u001b[1;32m     26\u001b[0m \u001b[0;34m\u001b[0m\u001b[0m\n\u001b[1;32m     27\u001b[0m     \u001b[0;32mdef\u001b[0m \u001b[0mstarstarmap\u001b[0m\u001b[0;34m(\u001b[0m\u001b[0mself\u001b[0m\u001b[0;34m,\u001b[0m \u001b[0mfunc\u001b[0m\u001b[0;34m,\u001b[0m \u001b[0margs\u001b[0m\u001b[0;34m)\u001b[0m\u001b[0;34m:\u001b[0m\u001b[0;34m\u001b[0m\u001b[0;34m\u001b[0m\u001b[0m\n\u001b[0;32m---> 28\u001b[0;31m         \u001b[0;32mreturn\u001b[0m \u001b[0mself\u001b[0m\u001b[0;34m.\u001b[0m\u001b[0mmap\u001b[0m\u001b[0;34m(\u001b[0m\u001b[0mapply_kwargs\u001b[0m\u001b[0;34m,\u001b[0m \u001b[0mzip\u001b[0m\u001b[0;34m(\u001b[0m\u001b[0mrepeat\u001b[0m\u001b[0;34m(\u001b[0m\u001b[0mfunc\u001b[0m\u001b[0;34m)\u001b[0m\u001b[0;34m,\u001b[0m \u001b[0margs\u001b[0m\u001b[0;34m)\u001b[0m\u001b[0;34m)\u001b[0m\u001b[0;34m\u001b[0m\u001b[0;34m\u001b[0m\u001b[0m\n\u001b[0m\u001b[1;32m     29\u001b[0m \u001b[0;34m\u001b[0m\u001b[0m\n\u001b[1;32m     30\u001b[0m \u001b[0;32mclass\u001b[0m \u001b[0mMultiprocess\u001b[0m\u001b[0;34m(\u001b[0m\u001b[0mParallelIFC\u001b[0m\u001b[0;34m)\u001b[0m\u001b[0;34m:\u001b[0m\u001b[0;34m\u001b[0m\u001b[0;34m\u001b[0m\u001b[0m\n",
      "\u001b[0;32m~/side/cartesian-explorer/cartesian_explorer/parallels.py\u001b[0m in \u001b[0;36mmap\u001b[0;34m(self, func, args)\u001b[0m\n\u001b[1;32m     59\u001b[0m \u001b[0;34m\u001b[0m\u001b[0m\n\u001b[1;32m     60\u001b[0m     \u001b[0;32mdef\u001b[0m \u001b[0mmap\u001b[0m\u001b[0;34m(\u001b[0m\u001b[0mself\u001b[0m\u001b[0;34m,\u001b[0m \u001b[0mfunc\u001b[0m\u001b[0;34m,\u001b[0m \u001b[0margs\u001b[0m\u001b[0;34m)\u001b[0m\u001b[0;34m:\u001b[0m\u001b[0;34m\u001b[0m\u001b[0;34m\u001b[0m\u001b[0m\n\u001b[0;32m---> 61\u001b[0;31m         \u001b[0;32mreturn\u001b[0m \u001b[0mray_map_pbar\u001b[0m\u001b[0;34m(\u001b[0m\u001b[0mfunc\u001b[0m\u001b[0;34m,\u001b[0m \u001b[0margs\u001b[0m\u001b[0;34m)\u001b[0m\u001b[0;34m\u001b[0m\u001b[0;34m\u001b[0m\u001b[0m\n\u001b[0m",
      "\u001b[0;32m~/side/cartesian-explorer/cartesian_explorer/tools/ray_progressbar.py\u001b[0m in \u001b[0;36mmap_with_pbar\u001b[0;34m(func, args)\u001b[0m\n\u001b[1;32m     71\u001b[0m         \u001b[0mprint\u001b[0m\u001b[0;34m(\u001b[0m\u001b[0;34m'Interrupted while waiting for progressbar: '\u001b[0m\u001b[0;34m,\u001b[0m \u001b[0me\u001b[0m\u001b[0;34m,\u001b[0m \u001b[0mfile\u001b[0m\u001b[0;34m=\u001b[0m\u001b[0msys\u001b[0m\u001b[0;34m.\u001b[0m\u001b[0mstderr\u001b[0m\u001b[0;34m)\u001b[0m\u001b[0;34m\u001b[0m\u001b[0;34m\u001b[0m\u001b[0m\n\u001b[1;32m     72\u001b[0m     \u001b[0;32mfinally\u001b[0m\u001b[0;34m:\u001b[0m\u001b[0;34m\u001b[0m\u001b[0;34m\u001b[0m\u001b[0m\n\u001b[0;32m---> 73\u001b[0;31m         \u001b[0;32mreturn\u001b[0m \u001b[0mray\u001b[0m\u001b[0;34m.\u001b[0m\u001b[0mget\u001b[0m\u001b[0;34m(\u001b[0m\u001b[0mtasks\u001b[0m\u001b[0;34m)\u001b[0m\u001b[0;34m\u001b[0m\u001b[0;34m\u001b[0m\u001b[0m\n\u001b[0m\u001b[1;32m     74\u001b[0m \u001b[0;34m\u001b[0m\u001b[0m\n",
      "\u001b[0;32m~/.local/bin/lib/python3.8/site-packages/ray/worker.py\u001b[0m in \u001b[0;36mget\u001b[0;34m(object_refs, timeout)\u001b[0m\n\u001b[1;32m   1443\u001b[0m         \u001b[0;32mglobal\u001b[0m \u001b[0mlast_task_error_raise_time\u001b[0m\u001b[0;34m\u001b[0m\u001b[0;34m\u001b[0m\u001b[0m\n\u001b[1;32m   1444\u001b[0m         \u001b[0;31m# TODO(ujvl): Consider how to allow user to retrieve the ready objects.\u001b[0m\u001b[0;34m\u001b[0m\u001b[0;34m\u001b[0m\u001b[0;34m\u001b[0m\u001b[0m\n\u001b[0;32m-> 1445\u001b[0;31m         \u001b[0mvalues\u001b[0m \u001b[0;34m=\u001b[0m \u001b[0mworker\u001b[0m\u001b[0;34m.\u001b[0m\u001b[0mget_objects\u001b[0m\u001b[0;34m(\u001b[0m\u001b[0mobject_refs\u001b[0m\u001b[0;34m,\u001b[0m \u001b[0mtimeout\u001b[0m\u001b[0;34m=\u001b[0m\u001b[0mtimeout\u001b[0m\u001b[0;34m)\u001b[0m\u001b[0;34m\u001b[0m\u001b[0;34m\u001b[0m\u001b[0m\n\u001b[0m\u001b[1;32m   1446\u001b[0m         \u001b[0;32mfor\u001b[0m \u001b[0mi\u001b[0m\u001b[0;34m,\u001b[0m \u001b[0mvalue\u001b[0m \u001b[0;32min\u001b[0m \u001b[0menumerate\u001b[0m\u001b[0;34m(\u001b[0m\u001b[0mvalues\u001b[0m\u001b[0;34m)\u001b[0m\u001b[0;34m:\u001b[0m\u001b[0;34m\u001b[0m\u001b[0;34m\u001b[0m\u001b[0m\n\u001b[1;32m   1447\u001b[0m             \u001b[0;32mif\u001b[0m \u001b[0misinstance\u001b[0m\u001b[0;34m(\u001b[0m\u001b[0mvalue\u001b[0m\u001b[0;34m,\u001b[0m \u001b[0mRayError\u001b[0m\u001b[0;34m)\u001b[0m\u001b[0;34m:\u001b[0m\u001b[0;34m\u001b[0m\u001b[0;34m\u001b[0m\u001b[0m\n",
      "\u001b[0;32m~/.local/bin/lib/python3.8/site-packages/ray/worker.py\u001b[0m in \u001b[0;36mget_objects\u001b[0;34m(self, object_refs, timeout)\u001b[0m\n\u001b[1;32m    312\u001b[0m \u001b[0;34m\u001b[0m\u001b[0m\n\u001b[1;32m    313\u001b[0m         \u001b[0mtimeout_ms\u001b[0m \u001b[0;34m=\u001b[0m \u001b[0mint\u001b[0m\u001b[0;34m(\u001b[0m\u001b[0mtimeout\u001b[0m \u001b[0;34m*\u001b[0m \u001b[0;36m1000\u001b[0m\u001b[0;34m)\u001b[0m \u001b[0;32mif\u001b[0m \u001b[0mtimeout\u001b[0m \u001b[0;32melse\u001b[0m \u001b[0;34m-\u001b[0m\u001b[0;36m1\u001b[0m\u001b[0;34m\u001b[0m\u001b[0;34m\u001b[0m\u001b[0m\n\u001b[0;32m--> 314\u001b[0;31m         data_metadata_pairs = self.core_worker.get_objects(\n\u001b[0m\u001b[1;32m    315\u001b[0m             object_refs, self.current_task_id, timeout_ms)\n\u001b[1;32m    316\u001b[0m         \u001b[0;32mreturn\u001b[0m \u001b[0mself\u001b[0m\u001b[0;34m.\u001b[0m\u001b[0mdeserialize_objects\u001b[0m\u001b[0;34m(\u001b[0m\u001b[0mdata_metadata_pairs\u001b[0m\u001b[0;34m,\u001b[0m \u001b[0mobject_refs\u001b[0m\u001b[0;34m)\u001b[0m\u001b[0;34m\u001b[0m\u001b[0;34m\u001b[0m\u001b[0m\n",
      "\u001b[0;32mpython/ray/_raylet.pyx\u001b[0m in \u001b[0;36mray._raylet.CoreWorker.get_objects\u001b[0;34m()\u001b[0m\n",
      "\u001b[0;32mpython/ray/_raylet.pyx\u001b[0m in \u001b[0;36mray._raylet.check_status\u001b[0;34m()\u001b[0m\n",
      "\u001b[0;31mKeyboardInterrupt\u001b[0m: "
     ]
    }
   ],
   "source": [
    "x_ext = np.array(range(10, max_N, 36))\n",
    "x_opt = np.array(range(10, opt_max_N, 16))\n",
    "\n",
    "opt_time = ex.map_variable(('classical_time_gurobi')\n",
    "                           , N=x_opt\n",
    "                           , seed=seeds\n",
    "                 )\n"
   ]
  },
  {
   "cell_type": "code",
   "execution_count": 15,
   "metadata": {},
   "outputs": [],
   "source": [
    "opt = xar.DataArray(opt_time, dims=('N', 'seeds'), coords=(x_opt, seeds))"
   ]
  },
  {
   "cell_type": "code",
   "execution_count": 16,
   "metadata": {
    "scrolled": true
   },
   "outputs": [
    {
     "data": {
      "text/plain": [
       "[<matplotlib.lines.Line2D at 0x7f7510b36640>]"
      ]
     },
     "execution_count": 16,
     "metadata": {},
     "output_type": "execute_result"
    },
    {
     "data": {
      "image/png": "[encoded data removed]",
      "text/plain": [
       "<Figure size 432x288 with 1 Axes>"
      ]
     },
     "metadata": {
      "needs_background": "light"
     },
     "output_type": "display_data"
    }
   ],
   "source": [
    "# check the data\n",
    "plt.plot(x_opt, np.mean(opt_time, -1))"
   ]
  },
  {
   "cell_type": "code",
   "execution_count": null,
   "metadata": {},
   "outputs": [],
   "source": []
  },
  {
   "cell_type": "code",
   "execution_count": null,
   "metadata": {},
   "outputs": [],
   "source": []
  },
  {
   "cell_type": "markdown",
   "metadata": {},
   "source": [
    "## Gurobi modeling"
   ]
  },
  {
   "cell_type": "code",
   "execution_count": null,
   "metadata": {},
   "outputs": [],
   "source": [
    "import tqdm.auto as tqdm\n",
    "\n",
    "import time"
   ]
  },
  {
   "cell_type": "code",
   "execution_count": null,
   "metadata": {},
   "outputs": [],
   "source": [
    "SEEDS = range(1, 2)"
   ]
  },
  {
   "cell_type": "code",
   "execution_count": null,
   "metadata": {
    "scrolled": true
   },
   "outputs": [],
   "source": [
    "for seed in SEEDS:\n",
    "    miplog3 = maxcut_bounds_history(nx.random_regular_graph(3, 390, seed=seed), max_time=200, )"
   ]
  },
  {
   "cell_type": "code",
   "execution_count": null,
   "metadata": {},
   "outputs": [],
   "source": [
    "dh = miplog_helper.MiplogData(miplog3)\n",
    "byt = dh.get_bytes()\n",
    "dh2 = miplog_helper.MiplogData.from_bytes(byt)\n",
    "miplog4 = dh2.miplog\n",
    "miplog4"
   ]
  },
  {
   "cell_type": "code",
   "execution_count": null,
   "metadata": {},
   "outputs": [],
   "source": [
    "mipd = np.array(miplog4).T\n",
    "\n",
    "start = 2\n",
    "opt = mipd[2][-1]\n",
    "ix = np.argmin(np.abs(30-mipd[0]))\n",
    "print('ix', ix, mipd[0][ix])\n",
    "cost_lb = mipd[2][ix]\n",
    "plt.plot(mipd[0][start:], mipd[1][start:]/opt, '*-')\n",
    "plt.plot(mipd[0][start:], mipd[2][start:]/(opt), '*-', label='AR')\n",
    "plt.plot(mipd[0][start:], mipd[2][start:]/cost_lb, '*-', label='AR UB')\n",
    "plt.plot(mipd[0][start:], mipd[2][start:]/mipd[1][start:], '-', label='AR LB')\n",
    "plt.legend()\n",
    "plt.xscale('log')\n",
    "plt.hlines(1, min(mipd[0][start:]), max(mipd[0]))"
   ]
  },
  {
   "cell_type": "code",
   "execution_count": 31,
   "metadata": {},
   "outputs": [],
   "source": [
    "def get_time_for_AR_lower(miplog, AR):\n",
    "    \"\"\" \n",
    "    Args:\n",
    "        miplog (np.array): :,3 shaped array with times, upper bound cost and lower bound cost\n",
    "        AR (float): which AR bound to look for\n",
    "    Returns:\n",
    "        time, AR\n",
    "    \"\"\"\n",
    "    times, bounds, costs = np.array(miplog)[1:].T\n",
    "    AR_bound = costs/bounds\n",
    "    # get the index at which AR bound is higher than requested\n",
    "    ix = np.where((AR_bound-AR)>0)[0]\n",
    "    if len(ix)==0: return None, None\n",
    "    else: ix = min(ix)\n",
    "    return times[ix], AR_bound[ix]\n",
    "    "
   ]
  },
  {
   "cell_type": "code",
   "execution_count": 32,
   "metadata": {},
   "outputs": [
    {
     "ename": "NameError",
     "evalue": "name 'miplog' is not defined",
     "output_type": "error",
     "traceback": [
      "\u001b[0;31m---------------------------------------------------------------------------\u001b[0m",
      "\u001b[0;31mNameError\u001b[0m                                 Traceback (most recent call last)",
      "\u001b[0;32m<ipython-input-32-dc54096cff9e>\u001b[0m in \u001b[0;36m<module>\u001b[0;34m\u001b[0m\n\u001b[0;32m----> 1\u001b[0;31m \u001b[0mget_time_for_AR_lower\u001b[0m\u001b[0;34m(\u001b[0m\u001b[0mmiplog\u001b[0m\u001b[0;34m,\u001b[0m \u001b[0;36m0.9\u001b[0m\u001b[0;34m)\u001b[0m\u001b[0;34m\u001b[0m\u001b[0;34m\u001b[0m\u001b[0m\n\u001b[0m",
      "\u001b[0;31mNameError\u001b[0m: name 'miplog' is not defined"
     ]
    }
   ],
   "source": [
    "get_time_for_AR_lower(miplog, 0.9)"
   ]
  },
  {
   "cell_type": "code",
   "execution_count": 33,
   "metadata": {},
   "outputs": [],
   "source": [
    "def get_time_for_AR_upper(miplog, AR):\n",
    "    \"\"\" \n",
    "    Args:\n",
    "        miplog (np.array): :,3 shaped array with times, upper bound cost and lower bound cost\n",
    "        AR (float): which AR bound to look for\n",
    "    Returns:\n",
    "        time, AR\n",
    "    \"\"\"\n",
    "    times, bounds, costs = np.array(miplog)[1:].T\n",
    "    AR_bound = costs/costs[-1]\n",
    "    # get the index at which AR bound is higher than requested\n",
    "    ix = np.where((AR_bound-AR)>=0)[0]\n",
    "    if len(ix)==0: return None, None\n",
    "    else: ix = min(ix)\n",
    "    return times[ix], AR_bound[ix]\n",
    "    "
   ]
  },
  {
   "cell_type": "code",
   "execution_count": null,
   "metadata": {},
   "outputs": [],
   "source": [
    "get_time_for_AR_upper(miplog3, 0.999), get_time_for_AR_lower(miplog3, 0.996)"
   ]
  },
  {
   "cell_type": "code",
   "execution_count": null,
   "metadata": {},
   "outputs": [],
   "source": [
    "get_time_for_AR_upper(miplog4, 0.999), get_time_for_AR_lower(miplog4, 0.996)"
   ]
  },
  {
   "cell_type": "code",
   "execution_count": null,
   "metadata": {},
   "outputs": [],
   "source": [
    "times = [(get_time_for_AR_upper(miplog, x)[0],\n",
    "         get_time_for_AR_lower(miplog, x)[0]) for x in np.linspace(0.85, 1, 20)]"
   ]
  },
  {
   "cell_type": "code",
   "execution_count": null,
   "metadata": {},
   "outputs": [],
   "source": [
    "_t = np.array(times).T\n",
    "plt.plot(np.linspace(0.85, 1, 20), _t[0], label='upper')\n",
    "plt.plot(np.linspace(0.85, 1, 20), _t[1], label='lower')\n",
    "plt.legend()\n",
    "plt.ylabel('Time to achieve')\n",
    "plt.xlabel('AR')\n",
    "plt.yscale('log')"
   ]
  },
  {
   "cell_type": "code",
   "execution_count": null,
   "metadata": {},
   "outputs": [],
   "source": [
    "plt.hist(np.log(dt), bins=50)"
   ]
  },
  {
   "cell_type": "code",
   "execution_count": null,
   "metadata": {},
   "outputs": [],
   "source": [
    "plt.plot(mipd[0])"
   ]
  },
  {
   "cell_type": "code",
   "execution_count": null,
   "metadata": {},
   "outputs": [],
   "source": [
    "i"
   ]
  },
  {
   "cell_type": "code",
   "execution_count": null,
   "metadata": {},
   "outputs": [],
   "source": [
    "for upper, lower in zip(updata, ldata):\n",
    "    plt.plot(upper, label='upper', alpha=0.3, color='r')\n",
    "    plt.plot(lower, label='lower', alpha=0.3, color='b')\n",
    "    \n",
    "plt.xlabel('Time, seconds')\n",
    "plt.ylabel('Cost value')"
   ]
  },
  {
   "cell_type": "code",
   "execution_count": null,
   "metadata": {},
   "outputs": [],
   "source": [
    "for upper, lower in zip(updata, ldata):\n",
    "    upper = np.array(upper)\n",
    "    lower = np.array(lower)\n",
    "    x = range(1, len(lower)+1)\n",
    "    #plt.plot(upper/upper.min(), label='upper', alpha=0.3, color='r')\n",
    "    plt.plot(x, lower/lower.max(), label='lower', alpha=0.3, color='b')\n",
    "    \n",
    "plt.xlabel('Time, seconds')\n",
    "plt.ylabel('Cost value')"
   ]
  },
  {
   "cell_type": "code",
   "execution_count": null,
   "metadata": {},
   "outputs": [],
   "source": [
    "for upper, lower in zip(updata, ldata):\n",
    "    upper = np.array(upper)\n",
    "    lower = np.array(lower)\n",
    "    x = range(0, len(lower))\n",
    "    #plt.plot(upper/upper.min(), label='upper', alpha=0.3, color='r')\n",
    "    plt.plot(x, lower/lower.max(), label='lower', alpha=0.3, color='b')\n",
    "plt.xscale('symlog')    \n",
    "plt.xlabel('Time, seconds')\n",
    "plt.ylabel('Cost value')\n",
    "plt.grid()"
   ]
  },
  {
   "cell_type": "markdown",
   "metadata": {},
   "source": [
    "## Gurobi upper and lower bounds for AR\n",
    "\n",
    "$$$\n",
    "\\foreach \\delta>0 AR(t+\\delta)>AR(t)\n",
    "$$$"
   ]
  },
  {
   "cell_type": "markdown",
   "metadata": {},
   "source": [
    "### Gurobi activate"
   ]
  },
  {
   "cell_type": "code",
   "execution_count": 33,
   "metadata": {
    "scrolled": true
   },
   "outputs": [
    {
     "name": "stdout",
     "output_type": "stream",
     "text": [
      "getting license\n",
      "info  : grbgetkey version 9.1.2, build v9.1.2rc0\n",
      "info  : Contacting Gurobi license server...\n",
      "error : ERROR 303: hostname jlselogin6.pub.jlse.anl.gov (140.221.96.148) not recognized as belonging to an academic domain\n",
      "info  : Is your computer connected to the university network?\n",
      "info  : Your computer must be connected to the university network for the grbgetkey\n",
      "info  : command to work. You can connect your computer either directly or via a VPN\n",
      "info  : that tunnels all traffic through the university network.  Once the license\n",
      "info  : file is setup, your computer does not need to be connected to the university\n",
      "info  : network. You can repeat this process to get licenses for additional computers.\n",
      "info  : If you are unable to setup this license file, please visit our support website\n",
      "info  : https://support.gurobi.com for further assistance.\n"
     ]
    }
   ],
   "source": [
    "import socket\n",
    "\n",
    "if socket.gethostname() == 'DESKTOP-1OG5J92':\n",
    "    gurobi_lic = '/home/plate/git-built/gurobi/'\n",
    "    print('getting license')\n",
    "    grbkey = 'd3f381ce-d331-11eb-89be-0242ac120002'\n",
    "    # (over)write key to gurobi_lic directory and don't ask questions\n",
    "    !grbgetkey -q --path $gurobi_lic $grbkey\n",
    "    \n",
    "elif socket.gethostname().startswith('skylake'):\n",
    "    gurobi_lic = '/home/danlkv/git-build/gurobi/'\n",
    "    print('getting license')\n",
    "    grbkey = '32956844-dfa0-11eb-8601-0242ac120002'\n",
    "    # (over)write key to gurobi_lic directory and don't ask questions\n",
    "    !grbgetkey -q --path $gurobi_lic $grbkey"
   ]
  },
  {
   "cell_type": "code",
   "execution_count": 10,
   "metadata": {
    "scrolled": true
   },
   "outputs": [
    {
     "data": {
      "text/plain": [
       "'skylake08'"
      ]
     },
     "execution_count": 10,
     "metadata": {},
     "output_type": "execute_result"
    }
   ],
   "source": [
    "socket.gethostname()"
   ]
  },
  {
   "cell_type": "code",
   "execution_count": 11,
   "metadata": {
    "scrolled": true
   },
   "outputs": [
    {
     "name": "stdout",
     "output_type": "stream",
     "text": [
      "Academic license - for non-commercial use only - registered to dlykov@anl.gov\n",
      "Using license file /home/danlkv/git-build/gurobi/gurobi.lic\n",
      "Set parameter WLSAccessID\n",
      "Set parameter WLSSecret\n",
      "Set parameter LicenseID\n",
      "Changed value of parameter TimeLimit to 600.0\n",
      "   Prev: inf  Min: 0.0  Max: inf  Default: inf\n",
      "Gurobi Optimizer version 9.1.2 build v9.1.2rc0 (linux64)\n",
      "Thread count: 56 physical cores, 112 logical processors, using up to 32 threads\n",
      "Academic license - for non-commercial use only - registered to dlykov@anl.gov\n",
      "Optimize a model with 0 rows, 12 columns and 0 nonzeros\n",
      "Model fingerprint: 0xf5cf4a2a\n",
      "Model has 18 quadratic objective terms\n",
      "Variable types: 0 continuous, 12 integer (12 binary)\n",
      "Coefficient statistics:\n",
      "  Matrix range     [0e+00, 0e+00]\n",
      "  Objective range  [3e+00, 3e+00]\n",
      "  QObjective range [4e+00, 4e+00]\n",
      "  Bounds range     [1e+00, 1e+00]\n",
      "  RHS range        [0e+00, 0e+00]\n",
      "Found heuristic solution: objective -0.0000000\n",
      "Presolve time: 0.00s\n",
      "Presolved: 18 rows, 30 columns, 54 nonzeros\n",
      "Variable types: 0 continuous, 30 integer (30 binary)\n",
      "\n",
      "Root relaxation: objective -1.800000e+01, 11 iterations, 0.00 seconds\n",
      "\n",
      "    Nodes    |    Current Node    |     Objective Bounds      |     Work\n",
      " Expl Unexpl |  Obj  Depth IntInf | Incumbent    BestBd   Gap | It/Node Time\n",
      "\n",
      "     0     0   18.00000    0   12   -0.00000   18.00000      -     -    0s\n",
      "H    0     0                      14.0000000   18.00000  28.6%     -    0s\n",
      "H    0     0                      15.0000000   18.00000  20.0%     -    0s\n",
      "\n",
      "Cutting planes:\n",
      "  Gomory: 1\n",
      "  MIR: 3\n",
      "  Zero half: 4\n",
      "\n",
      "Explored 1 nodes (13 simplex iterations) in 0.01 seconds\n",
      "Thread count was 32 (of 112 available processors)\n",
      "\n",
      "Solution count 3: 15 14 -0 \n",
      "\n",
      "Optimal solution found (tolerance 1.00e-04)\n",
      "Best objective 1.500000000000e+01, best bound 1.500000000000e+01, gap 0.0000%\n"
     ]
    },
    {
     "data": {
      "text/plain": [
       "(15.0, [0, 0, 1, 0, 0, 1, 1, 1, 0, 1, 0, 0])"
      ]
     },
     "execution_count": 11,
     "metadata": {},
     "output_type": "execute_result"
    }
   ],
   "source": [
    "qtensor.tools.maxcut.gurobi_maxcut(nx.random_regular_graph(3, 12))"
   ]
  },
  {
   "cell_type": "code",
   "execution_count": null,
   "metadata": {},
   "outputs": [],
   "source": []
  }
 ],
 "metadata": {
  "kernelspec": {
   "display_name": "Python 3 (ipykernel)",
   "language": "python",
   "name": "python3"
  },
  "language_info": {
   "codemirror_mode": {
    "name": "ipython",
    "version": 3
   },
   "file_extension": ".py",
   "mimetype": "text/x-python",
   "name": "python",
   "nbconvert_exporter": "python",
   "pygments_lexer": "ipython3",
   "version": "3.8.2+"
  },
  "toc": {
   "base_numbering": 1,
   "nav_menu": {},
   "number_sections": true,
   "sideBar": true,
   "skip_h1_title": true,
   "title_cell": "Table of Contents",
   "title_sidebar": "Contents",
   "toc_cell": true,
   "toc_position": {
    "height": "calc(100% - 180px)",
    "left": "10px",
    "top": "150px",
    "width": "164.991px"
   },
   "toc_section_display": true,
   "toc_window_display": true
  },
  "varInspector": {
   "cols": {
    "lenName": 16,
    "lenType": 16,
    "lenVar": 40
   },
   "kernels_config": {
    "python": {
     "delete_cmd_postfix": "",
     "delete_cmd_prefix": "del ",
     "library": "var_list.py",
     "varRefreshCmd": "print(var_dic_list())"
    },
    "r": {
     "delete_cmd_postfix": ") ",
     "delete_cmd_prefix": "rm(",
     "library": "var_list.r",
     "varRefreshCmd": "cat(var_dic_list()) "
    }
   },
   "types_to_exclude": [
    "module",
    "function",
    "builtin_function_or_method",
    "instance",
    "_Feature"
   ],
   "window_display": false
  }
 },
 "nbformat": 4,
 "nbformat_minor": 4
}
