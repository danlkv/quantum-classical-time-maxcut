{
 "cells": [
  {
   "cell_type": "markdown",
   "metadata": {
    "toc": true
   },
   "source": [
    "<h1>Table of Contents<span class=\"tocSkip\"></span></h1>\n",
    "<div class=\"toc\"><ul class=\"toc-item\"><li><span><a href=\"#Use-gurobi-with-guesses-about-AR\" data-toc-modified-id=\"Use-gurobi-with-guesses-about-AR-1\"><span class=\"toc-item-num\">1&nbsp;&nbsp;</span>Use gurobi with guesses about AR</a></span><ul class=\"toc-item\"><li><span><a href=\"#Helper-classes-and-functions\" data-toc-modified-id=\"Helper-classes-and-functions-1.1\"><span class=\"toc-item-num\">1.1&nbsp;&nbsp;</span>Helper classes and functions</a></span></li></ul></li><li><span><a href=\"#Classical-times\" data-toc-modified-id=\"Classical-times-2\"><span class=\"toc-item-num\">2&nbsp;&nbsp;</span>Classical times</a></span><ul class=\"toc-item\"><li><span><a href=\"#Match-time\" data-toc-modified-id=\"Match-time-2.1\"><span class=\"toc-item-num\">2.1&nbsp;&nbsp;</span>Match time</a></span></li><li><span><a href=\"#Optimal-time\" data-toc-modified-id=\"Optimal-time-2.2\"><span class=\"toc-item-num\">2.2&nbsp;&nbsp;</span>Optimal time</a></span></li></ul></li><li><span><a href=\"#Gurobi-modeling\" data-toc-modified-id=\"Gurobi-modeling-3\"><span class=\"toc-item-num\">3&nbsp;&nbsp;</span>Gurobi modeling</a></span></li><li><span><a href=\"#Gurobi-upper-and-lower-bounds-for-AR\" data-toc-modified-id=\"Gurobi-upper-and-lower-bounds-for-AR-4\"><span class=\"toc-item-num\">4&nbsp;&nbsp;</span>Gurobi upper and lower bounds for AR</a></span><ul class=\"toc-item\"><li><span><a href=\"#Gurobi-activate\" data-toc-modified-id=\"Gurobi-activate-4.1\"><span class=\"toc-item-num\">4.1&nbsp;&nbsp;</span>Gurobi activate</a></span></li></ul></li></ul></div>"
   ]
  },
  {
   "cell_type": "code",
   "execution_count": 10,
   "metadata": {},
   "outputs": [],
   "source": [
    "import numpy as np\n",
    "import time\n",
    "import matplotlib.pyplot as plt\n",
    "\n",
    "from cartesian_explorer import Explorer\n",
    "import cartesian_explorer as caex\n",
    "\n",
    "import qtensor\n",
    "import pickle\n",
    "import socket"
   ]
  },
  {
   "cell_type": "code",
   "execution_count": 11,
   "metadata": {},
   "outputs": [
    {
     "name": "stderr",
     "output_type": "stream",
     "text": [
      "2021-11-23 21:04:18,053\tINFO worker.py:832 -- Calling ray.init() again after it has already been called.\n"
     ]
    },
    {
     "name": "stdout",
     "output_type": "stream",
     "text": [
      "Using ray parallel for caex\n"
     ]
    }
   ],
   "source": [
    "cache = caex.caches.JobLibCache(\"../caex_cache/energy_eff\")\n",
    "if socket.gethostname().startswith('skylake'):\n",
    "    print('Using ray parallel for caex')\n",
    "    parallel = caex.parallels.Ray(processes=55)\n",
    "else:\n",
    "    parallel = None\n",
    "    parallel = caex.parallels.Ray(processes=2)\n",
    "ex = Explorer(cache=cache, parallel=parallel)"
   ]
  },
  {
   "cell_type": "markdown",
   "metadata": {},
   "source": [
    "## Use gurobi with guesses about AR\n",
    "\n"
   ]
  },
  {
   "cell_type": "markdown",
   "metadata": {},
   "source": [
    "\n",
    "* $UB$ - upper bound on maxcut cost\n",
    "* $LB$ - lower bound \n",
    "* $C$ - optimal cost\n",
    "$UB>C$\n",
    "\n",
    "\n",
    "$AR = \\frac{LB}{C} > \\frac{LB}{UB}$"
   ]
  },
  {
   "cell_type": "code",
   "execution_count": 12,
   "metadata": {},
   "outputs": [],
   "source": [
    "#%load_ext autoreload\n",
    "#%autoreload 2"
   ]
  },
  {
   "cell_type": "code",
   "execution_count": 13,
   "metadata": {},
   "outputs": [],
   "source": [
    "import miplog_helper, scale_helper"
   ]
  },
  {
   "cell_type": "code",
   "execution_count": 14,
   "metadata": {},
   "outputs": [],
   "source": [
    "import xarray as xar"
   ]
  },
  {
   "cell_type": "code",
   "execution_count": null,
   "metadata": {},
   "outputs": [],
   "source": []
  },
  {
   "cell_type": "markdown",
   "metadata": {},
   "source": [
    "### Helper classes and functions"
   ]
  },
  {
   "cell_type": "code",
   "execution_count": 15,
   "metadata": {},
   "outputs": [],
   "source": [
    "\n",
    "from datetime import datetime, timedelta\n",
    "from functools import wraps\n",
    "\n",
    "class throttle():\n",
    "    \"\"\" Decorator class that limits number of calls for function\"\"\"\n",
    "    def __init__(self, per_sec=20, max_calls=1, warmup=0):\n",
    "        self.period = timedelta(microseconds=1000000/per_sec)\n",
    "        self.t0 = datetime.min\n",
    "        self.max_calls = max_calls\n",
    "        self.calls_done = 0\n",
    "        self.warmup = timedelta(seconds=warmup)\n",
    "        self.warmup_expired = False\n",
    "\n",
    "    def __call__(self, fn):\n",
    "        @wraps(fn)\n",
    "        def wrapper(*args, **kwargs):\n",
    "            t1 = datetime.now()\n",
    "            if self.t0 == datetime.min:\n",
    "                self.t0 = t1\n",
    "            dt = t1 - self.t0\n",
    "            secs2wait = (self.period - dt).total_seconds()\n",
    "            if self.warmup_expired:\n",
    "                if secs2wait > 0:\n",
    "                    if self.calls_done==self.max_calls:\n",
    "                        return \n",
    "                    else:\n",
    "                        self.calls_done += 1\n",
    "                else:\n",
    "                    self.calls_done = 1\n",
    "                    self.t0 = datetime.now()\n",
    "            else:\n",
    "                self.warmup_expired = self.warmup < dt\n",
    "\n",
    "            return fn(*args, **kwargs)\n",
    "\n",
    "        return wrapper "
   ]
  },
  {
   "cell_type": "code",
   "execution_count": 16,
   "metadata": {},
   "outputs": [],
   "source": [
    "import networkx as nx\n",
    "from typing import Tuple\n",
    "import gurobipy as gb\n",
    "import time\n",
    "\n",
    "def maxcut_bounds_history(G: nx.Graph,\n",
    "                          max_time=10*60,\n",
    "                          max_cost=None,\n",
    "                          threads=None,\n",
    "                          timedelta=3,\n",
    "                          max_ar=1.0,\n",
    "                          verbose=True,\n",
    "                          callback=None,\n",
    "                          gurobi_options={}\n",
    "                         ) -> Tuple[list, list]:\n",
    "    p = gb.Model()\n",
    "    p.setParam('TimeLimit', max_time)\n",
    "    if max_cost is not None:\n",
    "        p.setParam('BestObjStop', max_cost)\n",
    "    if threads is not None:\n",
    "        p.setParam('Threads', threads)\n",
    "    if verbose is False:\n",
    "        p.setParam('OutputFlag', 0)\n",
    "    for key in gurobi_options:\n",
    "        p.setParam(key, gurobi_options[key])\n",
    "        \n",
    "    vdict = {}\n",
    "    for n in G.nodes:\n",
    "        vdict[n] = p.addVar(name='v_'+str(n), vtype=gb.GRB.BINARY)\n",
    "    scaled_v = {v:(2*x - 1) for v, x in vdict.items()}\n",
    "    C_i = [vdict[i] + vdict[j] - 2*vdict[i]*vdict[j] for i, j in G.edges]\n",
    "    \n",
    "    p.setObjective(sum(C_i), gb.GRB.MAXIMIZE)\n",
    "    \n",
    "    startop = time.time()\n",
    "    upper = []\n",
    "    lower = []\n",
    "    def clb(model, where):\n",
    "        # See here https://www.gurobi.com/documentation/9.1/refman/cb_codes.html\n",
    "        return None\n",
    "        \n",
    "    miplog = []\n",
    "    start = time.time()\n",
    "\n",
    "    @throttle(per_sec=1, warmup=1)\n",
    "    @throttle(per_sec=100)\n",
    "    def on_update(model, where, cost, bound):\n",
    "        nonlocal start\n",
    "        if start == 0:\n",
    "            start = time.time()\n",
    "        dt = time.time()-start\n",
    "        miplog.append([dt, bound, cost])\n",
    "        print(f'[{dt}]', 'MIP', 'cost=', cost, 'bound=', bound)\n",
    "\n",
    "    def clb(model, where):\n",
    "        # See here https://www.gurobi.com/documentation/9.1/refman/cb_codes.html\n",
    "        if where == gb.CallbackClass.MIP:\n",
    "            cst = model.cbGet(gb.CallbackClass.MIP_OBJBST)\n",
    "            bnd = model.cbGet(gb.CallbackClass.MIP_OBJBND)\n",
    "            on_update(model, where, cst, bnd)\n",
    "        if where == gb.CallbackClass.MIPSOL:\n",
    "            cst = model.cbGet(gb.CallbackClass.MIPSOL_OBJBST)\n",
    "            bnd = model.cbGet(gb.CallbackClass.MIPSOL_OBJBND)\n",
    "            on_update(model, where, cst, bnd)\n",
    "        \n",
    "    if callback is None:\n",
    "        callback = clb\n",
    "        \n",
    "    p.optimize(callback=callback)\n",
    "    miplog.append(\n",
    "        [time.time()-startop, p.ObjBound, p.ObjVal]\n",
    "    )\n",
    "        \n",
    "    return miplog\n",
    "\n"
   ]
  },
  {
   "cell_type": "markdown",
   "metadata": {},
   "source": [
    "Set gurobi thread count to 1, so it's more meaningful to compare between different machines and more correct when doing parallel calculations"
   ]
  },
  {
   "cell_type": "code",
   "execution_count": 17,
   "metadata": {},
   "outputs": [],
   "source": [
    "GUROBI_THREADS = 1 #set to 0 to use all available"
   ]
  },
  {
   "cell_type": "markdown",
   "metadata": {},
   "source": [
    "## Classical times"
   ]
  },
  {
   "cell_type": "code",
   "execution_count": 18,
   "metadata": {},
   "outputs": [],
   "source": [
    "@ex.provider\n",
    "def graph(N, seed=10, degree=3):\n",
    "    return qtensor.toolbox.random_graph(nodes=N, seed=seed, degree=degree)\n",
    "\n",
    "@ex.add_function(provides=('classical_time_gurobi', 'opt_cost'), requires=('graph', ))\n",
    "def classical_time_gurobi(graph):\n",
    "    start = time.time()\n",
    "    c, sol = qtensor.tools.maxcut.gurobi_maxcut(graph, max_time=15*60, threads=GUROBI_THREADS)\n",
    "    return time.time() - start, c\n",
    "    \n",
    "@ex.provider\n",
    "def gurobi_hist(graph, max_time=600, gurobi_options={}):\n",
    "    miplog = maxcut_bounds_history(\n",
    "        graph, max_time=max_time, threads=GUROBI_THREADS,\n",
    "        gurobi_options=gurobi_options\n",
    "    )\n",
    "    dh = miplog_helper.MiplogData(miplog)\n",
    "    diffs = dh.get_diff_data()\n",
    "    start = dh.get_starting_point()\n",
    "    return [start] + diffs\n",
    "\n",
    "@ex.provider\n",
    "def classical_time_gw(graph):\n",
    "    start = time.time()\n",
    "    c = qtensor.tools.maxcut.goemans_williamson.gw_cost(graph)\n",
    "    return time.time() - start\n",
    "    "
   ]
  },
  {
   "cell_type": "code",
   "execution_count": 19,
   "metadata": {},
   "outputs": [
    {
     "data": {
      "text/plain": [
       "{3: 4, 7: 4, 4: 4, 6: 4, 1: 4, 0: 4, 8: 4, 2: 4, 5: 4, 9: 4}"
      ]
     },
     "execution_count": 19,
     "metadata": {},
     "output_type": "execute_result"
    }
   ],
   "source": [
    "g = ex.get_variable('graph', N=10, seed=10, degree=4)\n",
    "dict(g.degree())"
   ]
  },
  {
   "cell_type": "markdown",
   "metadata": {},
   "source": [
    "### Match time"
   ]
  },
  {
   "cell_type": "code",
   "execution_count": 27,
   "metadata": {},
   "outputs": [
    {
     "name": "stdout",
     "output_type": "stream",
     "text": [
      "[30, 64, 100, 150, 574, 1000, 1400, 5000, 5200, 7600, 10000, 12400, 15000, 27500, 40000, 50000, 75000, 100000]\n"
     ]
    },
    {
     "data": {
      "text/plain": [
       "2.727272727272727"
      ]
     },
     "execution_count": 27,
     "metadata": {},
     "output_type": "execute_result"
    }
   ],
   "source": [
    "match_ext = np.concatenate([\n",
    "    np.linspace(30, 100, 3),\n",
    "    np.linspace(150, 1000, 3),\n",
    "    np.linspace(1400, 5000, 2),\n",
    "    np.linspace(5200, 12400, 4),\n",
    "    np.linspace(15000, 40000, 3),\n",
    "    np.linspace(50000, 100000, 3),\n",
    "])\n",
    "match_ext = [2*int(x/2) for x in match_ext]\n",
    "print(match_ext)\n",
    "len(match_ext)*100/55*5/60"
   ]
  },
  {
   "cell_type": "code",
   "execution_count": 28,
   "metadata": {},
   "outputs": [
    {
     "name": "stdout",
     "output_type": "stream",
     "text": [
      "Using gurobi options {'Symmetry': 0, 'PreQLinearize': 2}\n"
     ]
    },
    {
     "name": "stderr",
     "output_type": "stream",
     "text": [
      "/home/dlykov/.local/lib/python3.8/site-packages/numpy/core/fromnumeric.py:43: VisibleDeprecationWarning: Creating an ndarray from ragged nested sequences (which is a list-or-tuple of lists-or-tuples-or ndarrays with different lengths or shapes) is deprecated. If you meant to do this, you must specify 'dtype=object' when creating the ndarray.\n",
      "  result = getattr(asarray(obj), method)(*args, **kwds)\n"
     ]
    }
   ],
   "source": [
    "seeds = range(10, 110)\n",
    "degree=3\n",
    "options_preset_map = {\n",
    "    'symLin2': {'Symmetry': 0, 'PreQLinearize': 2}\n",
    "   , 'symLin1': {'Symmetry': 0, 'PreQLinearize': 1}\n",
    "   , 'symLin0': {'Symmetry': 0, 'PreQLinearize': 0}\n",
    "   , 'default': {}\n",
    "}\n",
    "options_preset = 'symLin2'\n",
    "# symLin2 is a good one, used for most previous (2021 July 2nd half) runs\n",
    "options = options_preset_map[options_preset]\n",
    "print('Using gurobi options', options)\n",
    "\n",
    "gurobi_bytes = ex.map_variable(('gurobi_hist')\n",
    "                               , N=match_ext\n",
    "                               , seed=seeds\n",
    "                               , max_time=[5*60]\n",
    "                               , degree=[degree]\n",
    "                               , gurobi_options=[options]\n",
    "                 )\n",
    "\n",
    "xd = xar.DataArray(gurobi_bytes, dims=('N', 'seed'), coords=(match_ext, seeds))\n",
    "# save the data\n",
    "pickle.dump(xd, open(f'../gurobi_match_d{degree}_gp{options_preset}.pkl', 'wb'))"
   ]
  },
  {
   "cell_type": "code",
   "execution_count": 112,
   "metadata": {},
   "outputs": [
    {
     "data": {
      "text/plain": [
       "[0.8878264427185059, 18600.0, 16483.0]"
      ]
     },
     "execution_count": 112,
     "metadata": {},
     "output_type": "execute_result"
    },
    {
     "data": {
      "image/png": "[encoded data removed]",
      "text/plain": [
       "<Figure size 432x288 with 1 Axes>"
      ]
     },
     "metadata": {
      "needs_background": "light"
     },
     "output_type": "display_data"
    }
   ],
   "source": [
    "dat = gurobi_bytes[-7][1]\n",
    "\n",
    "mh = miplog_helper.MiplogData.from_start_and_diffs(dat[0], dat[1:])\n",
    "mh.plot()\n",
    "mh.miplog[4]"
   ]
  },
  {
   "cell_type": "code",
   "execution_count": 30,
   "metadata": {},
   "outputs": [
    {
     "data": {
      "text/html": [
       "<div><svg style=\"position: absolute; width: 0; height: 0; overflow: hidden\">\n",
       "<defs>\n",
       "<symbol id=\"icon-database\" viewBox=\"0 0 32 32\">\n",
       "<path d=\"M16 0c-8.837 0-16 2.239-16 5v4c0 2.761 7.163 5 16 5s16-2.239 16-5v-4c0-2.761-7.163-5-16-5z\"></path>\n",
       "<path d=\"M16 17c-8.837 0-16-2.239-16-5v6c0 2.761 7.163 5 16 5s16-2.239 16-5v-6c0 2.761-7.163 5-16 5z\"></path>\n",
       "<path d=\"M16 26c-8.837 0-16-2.239-16-5v6c0 2.761 7.163 5 16 5s16-2.239 16-5v-6c0 2.761-7.163 5-16 5z\"></path>\n",
       "</symbol>\n",
       "<symbol id=\"icon-file-text2\" viewBox=\"0 0 32 32\">\n",
       "<path d=\"M28.681 7.159c-0.694-0.947-1.662-2.053-2.724-3.116s-2.169-2.030-3.116-2.724c-1.612-1.182-2.393-1.319-2.841-1.319h-15.5c-1.378 0-2.5 1.121-2.5 2.5v27c0 1.378 1.122 2.5 2.5 2.5h23c1.378 0 2.5-1.122 2.5-2.5v-19.5c0-0.448-0.137-1.23-1.319-2.841zM24.543 5.457c0.959 0.959 1.712 1.825 2.268 2.543h-4.811v-4.811c0.718 0.556 1.584 1.309 2.543 2.268zM28 29.5c0 0.271-0.229 0.5-0.5 0.5h-23c-0.271 0-0.5-0.229-0.5-0.5v-27c0-0.271 0.229-0.5 0.5-0.5 0 0 15.499-0 15.5 0v7c0 0.552 0.448 1 1 1h7v19.5z\"></path>\n",
       "<path d=\"M23 26h-14c-0.552 0-1-0.448-1-1s0.448-1 1-1h14c0.552 0 1 0.448 1 1s-0.448 1-1 1z\"></path>\n",
       "<path d=\"M23 22h-14c-0.552 0-1-0.448-1-1s0.448-1 1-1h14c0.552 0 1 0.448 1 1s-0.448 1-1 1z\"></path>\n",
       "<path d=\"M23 18h-14c-0.552 0-1-0.448-1-1s0.448-1 1-1h14c0.552 0 1 0.448 1 1s-0.448 1-1 1z\"></path>\n",
       "</symbol>\n",
       "</defs>\n",
       "</svg>\n",
       "<style>/* CSS stylesheet for displaying xarray objects in jupyterlab.\n",
       " *\n",
       " */\n",
       "\n",
       ":root {\n",
       "  --xr-font-color0: var(--jp-content-font-color0, rgba(0, 0, 0, 1));\n",
       "  --xr-font-color2: var(--jp-content-font-color2, rgba(0, 0, 0, 0.54));\n",
       "  --xr-font-color3: var(--jp-content-font-color3, rgba(0, 0, 0, 0.38));\n",
       "  --xr-border-color: var(--jp-border-color2, #e0e0e0);\n",
       "  --xr-disabled-color: var(--jp-layout-color3, #bdbdbd);\n",
       "  --xr-background-color: var(--jp-layout-color0, white);\n",
       "  --xr-background-color-row-even: var(--jp-layout-color1, white);\n",
       "  --xr-background-color-row-odd: var(--jp-layout-color2, #eeeeee);\n",
       "}\n",
       "\n",
       "html[theme=dark],\n",
       "body.vscode-dark {\n",
       "  --xr-font-color0: rgba(255, 255, 255, 1);\n",
       "  --xr-font-color2: rgba(255, 255, 255, 0.54);\n",
       "  --xr-font-color3: rgba(255, 255, 255, 0.38);\n",
       "  --xr-border-color: #1F1F1F;\n",
       "  --xr-disabled-color: #515151;\n",
       "  --xr-background-color: #111111;\n",
       "  --xr-background-color-row-even: #111111;\n",
       "  --xr-background-color-row-odd: #313131;\n",
       "}\n",
       "\n",
       ".xr-wrap {\n",
       "  display: block;\n",
       "  min-width: 300px;\n",
       "  max-width: 700px;\n",
       "}\n",
       "\n",
       ".xr-text-repr-fallback {\n",
       "  /* fallback to plain text repr when CSS is not injected (untrusted notebook) */\n",
       "  display: none;\n",
       "}\n",
       "\n",
       ".xr-header {\n",
       "  padding-top: 6px;\n",
       "  padding-bottom: 6px;\n",
       "  margin-bottom: 4px;\n",
       "  border-bottom: solid 1px var(--xr-border-color);\n",
       "}\n",
       "\n",
       ".xr-header > div,\n",
       ".xr-header > ul {\n",
       "  display: inline;\n",
       "  margin-top: 0;\n",
       "  margin-bottom: 0;\n",
       "}\n",
       "\n",
       ".xr-obj-type,\n",
       ".xr-array-name {\n",
       "  margin-left: 2px;\n",
       "  margin-right: 10px;\n",
       "}\n",
       "\n",
       ".xr-obj-type {\n",
       "  color: var(--xr-font-color2);\n",
       "}\n",
       "\n",
       ".xr-sections {\n",
       "  padding-left: 0 !important;\n",
       "  display: grid;\n",
       "  grid-template-columns: 150px auto auto 1fr 20px 20px;\n",
       "}\n",
       "\n",
       ".xr-section-item {\n",
       "  display: contents;\n",
       "}\n",
       "\n",
       ".xr-section-item input {\n",
       "  display: none;\n",
       "}\n",
       "\n",
       ".xr-section-item input + label {\n",
       "  color: var(--xr-disabled-color);\n",
       "}\n",
       "\n",
       ".xr-section-item input:enabled + label {\n",
       "  cursor: pointer;\n",
       "  color: var(--xr-font-color2);\n",
       "}\n",
       "\n",
       ".xr-section-item input:enabled + label:hover {\n",
       "  color: var(--xr-font-color0);\n",
       "}\n",
       "\n",
       ".xr-section-summary {\n",
       "  grid-column: 1;\n",
       "  color: var(--xr-font-color2);\n",
       "  font-weight: 500;\n",
       "}\n",
       "\n",
       ".xr-section-summary > span {\n",
       "  display: inline-block;\n",
       "  padding-left: 0.5em;\n",
       "}\n",
       "\n",
       ".xr-section-summary-in:disabled + label {\n",
       "  color: var(--xr-font-color2);\n",
       "}\n",
       "\n",
       ".xr-section-summary-in + label:before {\n",
       "  display: inline-block;\n",
       "  content: '►';\n",
       "  font-size: 11px;\n",
       "  width: 15px;\n",
       "  text-align: center;\n",
       "}\n",
       "\n",
       ".xr-section-summary-in:disabled + label:before {\n",
       "  color: var(--xr-disabled-color);\n",
       "}\n",
       "\n",
       ".xr-section-summary-in:checked + label:before {\n",
       "  content: '▼';\n",
       "}\n",
       "\n",
       ".xr-section-summary-in:checked + label > span {\n",
       "  display: none;\n",
       "}\n",
       "\n",
       ".xr-section-summary,\n",
       ".xr-section-inline-details {\n",
       "  padding-top: 4px;\n",
       "  padding-bottom: 4px;\n",
       "}\n",
       "\n",
       ".xr-section-inline-details {\n",
       "  grid-column: 2 / -1;\n",
       "}\n",
       "\n",
       ".xr-section-details {\n",
       "  display: none;\n",
       "  grid-column: 1 / -1;\n",
       "  margin-bottom: 5px;\n",
       "}\n",
       "\n",
       ".xr-section-summary-in:checked ~ .xr-section-details {\n",
       "  display: contents;\n",
       "}\n",
       "\n",
       ".xr-array-wrap {\n",
       "  grid-column: 1 / -1;\n",
       "  display: grid;\n",
       "  grid-template-columns: 20px auto;\n",
       "}\n",
       "\n",
       ".xr-array-wrap > label {\n",
       "  grid-column: 1;\n",
       "  vertical-align: top;\n",
       "}\n",
       "\n",
       ".xr-preview {\n",
       "  color: var(--xr-font-color3);\n",
       "}\n",
       "\n",
       ".xr-array-preview,\n",
       ".xr-array-data {\n",
       "  padding: 0 5px !important;\n",
       "  grid-column: 2;\n",
       "}\n",
       "\n",
       ".xr-array-data,\n",
       ".xr-array-in:checked ~ .xr-array-preview {\n",
       "  display: none;\n",
       "}\n",
       "\n",
       ".xr-array-in:checked ~ .xr-array-data,\n",
       ".xr-array-preview {\n",
       "  display: inline-block;\n",
       "}\n",
       "\n",
       ".xr-dim-list {\n",
       "  display: inline-block !important;\n",
       "  list-style: none;\n",
       "  padding: 0 !important;\n",
       "  margin: 0;\n",
       "}\n",
       "\n",
       ".xr-dim-list li {\n",
       "  display: inline-block;\n",
       "  padding: 0;\n",
       "  margin: 0;\n",
       "}\n",
       "\n",
       ".xr-dim-list:before {\n",
       "  content: '(';\n",
       "}\n",
       "\n",
       ".xr-dim-list:after {\n",
       "  content: ')';\n",
       "}\n",
       "\n",
       ".xr-dim-list li:not(:last-child):after {\n",
       "  content: ',';\n",
       "  padding-right: 5px;\n",
       "}\n",
       "\n",
       ".xr-has-index {\n",
       "  font-weight: bold;\n",
       "}\n",
       "\n",
       ".xr-var-list,\n",
       ".xr-var-item {\n",
       "  display: contents;\n",
       "}\n",
       "\n",
       ".xr-var-item > div,\n",
       ".xr-var-item label,\n",
       ".xr-var-item > .xr-var-name span {\n",
       "  background-color: var(--xr-background-color-row-even);\n",
       "  margin-bottom: 0;\n",
       "}\n",
       "\n",
       ".xr-var-item > .xr-var-name:hover span {\n",
       "  padding-right: 5px;\n",
       "}\n",
       "\n",
       ".xr-var-list > li:nth-child(odd) > div,\n",
       ".xr-var-list > li:nth-child(odd) > label,\n",
       ".xr-var-list > li:nth-child(odd) > .xr-var-name span {\n",
       "  background-color: var(--xr-background-color-row-odd);\n",
       "}\n",
       "\n",
       ".xr-var-name {\n",
       "  grid-column: 1;\n",
       "}\n",
       "\n",
       ".xr-var-dims {\n",
       "  grid-column: 2;\n",
       "}\n",
       "\n",
       ".xr-var-dtype {\n",
       "  grid-column: 3;\n",
       "  text-align: right;\n",
       "  color: var(--xr-font-color2);\n",
       "}\n",
       "\n",
       ".xr-var-preview {\n",
       "  grid-column: 4;\n",
       "}\n",
       "\n",
       ".xr-var-name,\n",
       ".xr-var-dims,\n",
       ".xr-var-dtype,\n",
       ".xr-preview,\n",
       ".xr-attrs dt {\n",
       "  white-space: nowrap;\n",
       "  overflow: hidden;\n",
       "  text-overflow: ellipsis;\n",
       "  padding-right: 10px;\n",
       "}\n",
       "\n",
       ".xr-var-name:hover,\n",
       ".xr-var-dims:hover,\n",
       ".xr-var-dtype:hover,\n",
       ".xr-attrs dt:hover {\n",
       "  overflow: visible;\n",
       "  width: auto;\n",
       "  z-index: 1;\n",
       "}\n",
       "\n",
       ".xr-var-attrs,\n",
       ".xr-var-data {\n",
       "  display: none;\n",
       "  background-color: var(--xr-background-color) !important;\n",
       "  padding-bottom: 5px !important;\n",
       "}\n",
       "\n",
       ".xr-var-attrs-in:checked ~ .xr-var-attrs,\n",
       ".xr-var-data-in:checked ~ .xr-var-data {\n",
       "  display: block;\n",
       "}\n",
       "\n",
       ".xr-var-data > table {\n",
       "  float: right;\n",
       "}\n",
       "\n",
       ".xr-var-name span,\n",
       ".xr-var-data,\n",
       ".xr-attrs {\n",
       "  padding-left: 25px !important;\n",
       "}\n",
       "\n",
       ".xr-attrs,\n",
       ".xr-var-attrs,\n",
       ".xr-var-data {\n",
       "  grid-column: 1 / -1;\n",
       "}\n",
       "\n",
       "dl.xr-attrs {\n",
       "  padding: 0;\n",
       "  margin: 0;\n",
       "  display: grid;\n",
       "  grid-template-columns: 125px auto;\n",
       "}\n",
       "\n",
       ".xr-attrs dt,\n",
       ".xr-attrs dd {\n",
       "  padding: 0;\n",
       "  margin: 0;\n",
       "  float: left;\n",
       "  padding-right: 10px;\n",
       "  width: auto;\n",
       "}\n",
       "\n",
       ".xr-attrs dt {\n",
       "  font-weight: normal;\n",
       "  grid-column: 1;\n",
       "}\n",
       "\n",
       ".xr-attrs dt:hover span {\n",
       "  display: inline-block;\n",
       "  background: var(--xr-background-color);\n",
       "  padding-right: 10px;\n",
       "}\n",
       "\n",
       ".xr-attrs dd {\n",
       "  grid-column: 2;\n",
       "  white-space: pre-wrap;\n",
       "  word-break: break-all;\n",
       "}\n",
       "\n",
       ".xr-icon-database,\n",
       ".xr-icon-file-text2 {\n",
       "  display: inline-block;\n",
       "  vertical-align: middle;\n",
       "  width: 1em;\n",
       "  height: 1.5em !important;\n",
       "  stroke-width: 0;\n",
       "  stroke: currentColor;\n",
       "  fill: currentColor;\n",
       "}\n",
       "</style><pre class='xr-text-repr-fallback'>&lt;xarray.DataArray (N: 18, seed: 100)&gt;\n",
       "array([[list([(0.0016052722930908203, 90.0, -0.0), (1, 0.009133338928222656, 48.0), (2, 1, 39.0), (1, 0.01027369499206543, 1.0), (1, 0.00573420524597168, 2.0)]),\n",
       "        list([(0.0016260147094726562, 90.0, -0.0), (1, 0.011939764022827148, 48.0), (2, 1, 40.0), (1, 0.0069577693939208984, 2.0)]),\n",
       "        list([(0.0018780231475830078, 90.0, -0.0), (1, 0.0043108463287353516, 49.0), (2, 1, 41.0)]),\n",
       "        ...,\n",
       "        list([(0.0012898445129394531, 90.0, -0.0), (1, 0.010724782943725586, 47.00000000000001), (2, 1, 39.0), (1, 0.010035991668701172, 0.9999999999999929), (1, 0.010027408599853516, 1.0), (1, 0.001842498779296875, 2.0)]),\n",
       "        list([(0.0011916160583496094, 90.0, -0.0), (1, 0.015011072158813477, 48.0), (2, 1, 40.0), (1, 0.008001565933227539, 2.0)]),\n",
       "        list([(0.0012671947479248047, 90.0, -0.0), (1, 0.009620904922485352, 46.00000000000001), (2, 1, 42.0), (1, 0.008039236068725586, 1.999999999999993)])],\n",
       "       [list([(0.0015239715576171875, 192.0, -0.0), (1, 0.00903010368347168, 98.0), (2, 1, 83.0), (2, 0.04220700263977051, 2.0), (1, 0.011115550994873047, 1.0), (2, 1, 3.0), (1, 0.010871648788452148, 1.0), (1, 0.02107691764831543, 1.0), (1, 0.03200554847717285, 1.0), (1, 0.01058816909790039, 2.0)]),\n",
       "        list([(0.0015950202941894531, 192.0, -0.0), (1, 0.008929252624511719, 99.0), (2, 1, 85.0), (1, 0.011441230773925781, 1.0), (1, 0.04533696174621582, 1.0), (2, 1, 1.0), (1, 0.04099130630493164, 1.0), (1, 0.0309755802154541, 1.0), (1, 0.020908117294311523, 1.0), (1, 0.012838125228881836, 2.0)]),\n",
       "        list([(0.001613616943359375, 192.0, -0.0), (1, 0.008885622024536133, 99.0), (2, 1, 86.0), (1, 0.019083499908447266, 1.0), (1, 0.020769357681274414, 1.0), (2, 1, 2.0), (1, 0.010118484497070312, 1.0), (1, 0.008892536163330078, 2.0)]),\n",
       "        ...,\n",
       "        list([(0.0015692710876464844, 192.0, -0.0), (1, 0.009016275405883789, 98.0), (2, 1, 86.0), (1, 0.02787041664123535, 1.0), (1, 0.024776458740234375, 1.0), (2, 0.021352052688598633, 1.0), (1, 0.010138511657714844, 1.0), (1, 0.030500411987304688, 1.0), (1, 0.0303041934967041, 1.0), (1, 0.014657258987426758, 2.0)]),\n",
       "        list([(0.0016155242919921875, 192.0, -0.0), (1, 0.009670734405517578, 98.0), (2, 1, 87.0), (1, 0.010699987411499023, 1.0), (1, 0.03844332695007324, 1.0), (2, 0.010053634643554688, 2.0), (1, 0.0074002742767333984, 3.0)]),\n",
       "        list([(0.0023441314697265625, 192.0, -0.0), (1, 0.008148670196533203, 98.0), (2, 1, 86.0), (1, 0.011661767959594727, 2.0), (1, 0.021262168884277344, 1.0), (1, 0.022850513458251953, 1.0), (2, 1, 1.0), (1, 0.010380268096923828, 1.0), (1, 0.0028417110443115234, 2.0)])],\n",
       "       [list([(0.001947164535522461, 300.0, -0.0), (1, 0.008913993835449219, 153.0), (2, 1, 133.0), (1, 0.010154485702514648, 3.0), (2, 0.01745152473449707, 2.0), (2, 0.056909799575805664, 1.0), (1, 0.021114110946655273, 1.0), (2, 1, 1.0), (1, 0.0566563606262207, 1.0), (1, 0.08354973793029785, 1.0), (1, 0.13770246505737305, 1.0), (1, 0.1165618896484375, 1.0), (1, 0.07303881645202637, 2.0)]),\n",
       "        list([(0.0018186569213867188, 300.0, -0.0), (1, 0.00896596908569336, 153.0), (2, 1, 134.0), (1, 0.010528087615966797, 2.0), (1, 0.014715909957885742, 1.0), (2, 0.011034488677978516, 2.0), (2, 0.010111808776855469, 1.0), (1, 0.03177905082702637, 2.842170943040401e-14), (1, 0.031517744064331055, 0.9999999999999716), (1, 0.08753657341003418, 1.0), (1, 0.022977352142333984, 1.0), (1, 0.0647733211517334, 1.0), (1, 0.045485734939575195, 1.0), (1, 0.02756023406982422, 2.0)]),\n",
       "        list([(0.0018224716186523438, 300.0, -0.0), (1, 0.008562564849853516, 155.0), (2, 1, 129.0), (1, 0.012145519256591797, 2.0), (2, 0.010236740112304688, 3.0), (1, 0.010308265686035156, 1.0), (2, 0.10415983200073242, 1.0), (1, 0.05206871032714844, 1.0), (1, 0.17774415016174316, 1.0), (1, 0.0736851692199707, 1.0), (2, 0.14461517333984375, 2.0), (1, 0.07612752914428711, 1.0), (1, 0.1094369888305664, 1.0), (1, 0.08680081367492676, 1.0), (1, 0.014970779418945312, 1.0)]),\n",
       "        ...,\n",
       "        list([(0.0021610260009765625, 300.0, -0.0), (1, 0.009428024291992188, 152.0), (2, 1, 130.0), (1, 0.010008573532104492, 1.0000000000000284), (2, 1, 2.0), (1, 0.02704620361328125, 0.9999999999999716), (2, 0.012943506240844727, 2.0), (1, 0.010347366333007812, 1.0), (1, 0.06536650657653809, 1.0), (2, 1, 1.0), (2, 0.0714731216430664, 1.0), (1, 0.022057771682739258, 1.0), (1, 0.0643167495727539, 1.0), (1, 0.07224035263061523, 1.0), (1, 0.1256098747253418, 1.0), (1, 0.2272663116455078, 1.0), (1, 0.19259977340698242, 8.526512829121202e-14), (1, 0.010050296783447266, 0.9999999999999147), (1, 0.09071731567382812, 2.0)]),\n",
       "        list([(0.0021500587463378906, 300.0, -0.0), (1, 0.009099006652832031, 151.0), (2, 1, 134.0), (1, 0.010756731033325195, 3.0), (1, 0.030254840850830078, 1.0), (2, 0.010007619857788086, 1.0), (1, 0.020686864852905273, 1.0), (2, 0.01030421257019043, 2.0), (1, 0.020270824432373047, 1.0), (1, 0.04198026657104492, 1.0), (1, 0.09375882148742676, 1.0), (1, 0.09503984451293945, 1.0), (1, 0.10723447799682617, 1.0), (1, 0.060880184173583984, 2.0)]),\n",
       "...\n",
       "        list([(0.6766998767852783, 150000.0, -0.0), (1, 5.6608850955963135, 75000.0), (2, 0.04618573188781738, 54861.0), (2, 1.0369365215301514, 11582.0), (2, 25.862001180648804, 57.0), (2, 5.209496259689331, 48.0), (1, 1.0090034008026123, 1.3096723705530167e-10), (2, 1.0334084033966064, 66.0), (2, 1.0037052631378174, 55.0), (2, 1.0514774322509766, 44.0), (2, 2.0125038623809814, 60.0), (2, 1.0044257640838623, 59.0), (2, 1.1781740188598633, 49.0), (2, 1.0499465465545654, 51.0), (2, 2.038459539413452, 52.0), (2, 1.162003993988037, 56.0), (2, 1.0085258483886719, 42.0), (2, 1.1554219722747803, 59.0), (2, 1.032132625579834, 179.0), (2, 1.0970911979675293, 51.0), (2, 1.0138180255889893, 31.0), (2, 1.2724242210388184, 30.0), (2, 2.0133445262908936, 38.0), (2, 2.0130114555358887, 45.0), (2, 2.5167009830474854, 40.0), (2, 1.0202341079711914, 34.0), (2, 2.013538122177124, 31.0), (2, 1.3389759063720703, 26.0), (2, 1.3007118701934814, 120.0), (2, 1.0387098789215088, 22.0), (2, 2.1577818393707275, 20.0), (2, 2.277285099029541, 23.0), (2, 2.724970579147339, 21.0), (2, 3.176060199737549, 24.0), (2, 3.80403733253479, 83.0), (2, 1.0373096466064453, 19.0), (2, 1.0084574222564697, 21.0), (2, 1.3112668991088867, 18.0), (2, 1.6278979778289795, 19.0), (2, 2.0521657466888428, 16.0), (2, 1.1363542079925537, 16.0), (2, 5.274403810501099, 24.0), (2, 5.917752504348755, 22.0), (2, 6.5280280113220215, 23.0), (2, 1.3132951259613037, 23.0), (2, 7.051026344299316, 15.0), (2, 7.28013277053833, 22.0), (2, 1.1289591789245605, 16.0), (2, 9.057959794998169, 17.0), (2, 4.060594797134399, 19.0), (2, 7.913832187652588, 15.0), (2, 8.812230110168457, 6.0), (2, 5.389546632766724, 14.0), (2, 9.21248173713684, 19.0), (2, 11.02811598777771, 13.0), (2, 67.4157440662384, 24.0)]),\n",
       "        ...,\n",
       "        list([(0.7323122024536133, 150000.0, -0.0), (1, 5.961587190628052, 75000.0), (2, 0.046352386474609375, 55056.0), (2, 1.0463640689849854, 11478.0), (1, 1.0460002422332764, 1.0), (1, 1.0663955211639404, 1.0000000001164153), (2, 8.946340084075928, 45.0), (2, 68.9314112663269, 47.0), (2, 6.112088918685913, 48.0), (1, 1.0436110496520996, 1.0186340659856796e-10), (2, 1.2361669540405273, 50.0), (2, 2.1604108810424805, 60.0), (2, 2.082974910736084, 44.0), (2, 2.050809621810913, 58.0), (2, 1.181899070739746, 56.0), (2, 1.0634784698486328, 157.0), (2, 1.0114881992340088, 70.0), (2, 2.0339200496673584, 44.0), (2, 1.0615413188934326, 61.0), (2, 2.0287961959838867, 47.0), (2, 2.0865676403045654, 41.0), (2, 2.0094025135040283, 44.0), (2, 2.5422704219818115, 39.0), (2, 1.0453553199768066, 39.0), (2, 1.0000393390655518, 164.0), (2, 1.047386884689331, 27.0), (2, 2.0755841732025146, 31.0), (2, 1.0251333713531494, 52.0), (2, 1.337989091873169, 35.0), (2, 1.0242249965667725, 25.0), (2, 2.0963709354400635, 20.0), (2, 2.5343196392059326, 19.0), (2, 2.1114959716796875, 16.0), (2, 1.1529524326324463, 80.0), (2, 1.0124306678771973, 13.0), (2, 2.9473540782928467, 24.0), (2, 2.230883836746216, 15.0), (2, 2.0686450004577637, 17.0), (2, 1.012885570526123, 16.0), (2, 2.4018120765686035, 14.0), (2, 2.1808295249938965, 14.0), (2, 1.5742242336273193, 12.0), (2, 1.0154953002929688, 16.0), (2, 1.0098857879638672, 20.0), (2, 2.2723662853240967, 18.0), (2, 2.599665403366089, 20.0), (2, 2.1890313625335693, 18.0), (2, 2.330415725708008, 11.0), (2, 1.2969622611999512, 14.0), (2, 1.3666057586669922, 18.0), (2, 2.7198824882507324, 11.0), (2, 2.093291997909546, 10.0), (2, 2.2080421447753906, 5.0), (2, 2.2143280506134033, 6.0), (2, 1.0547845363616943, 6.0), (2, 1.5529170036315918, 8.0), (2, 2.452139377593994, 6.0), (2, 1.0509147644042969, 8.0), (2, 1.4813148975372314, 10.0), (2, 1.003509521484375, 2.0), (2, 4.211304187774658, 15.0), (2, 1.882993221282959, 4.0), (2, 10.537579774856567, 10.0), (2, 1.0171878337860107, 7.0), (2, 2.0112199783325195, 3.0), (2, 7.7987060546875, 2.0), (2, 4.973984718322754, 7.0), (2, 7.28968620300293, 13.0), (2, 1.2993428707122803, 6.0), (2, 7.182687997817993, 7.0), (2, 4.246178388595581, 12.0), (2, 6.734462022781372, 11.0), (2, 4.727810859680176, 15.0)]),\n",
       "        list([(0.7293517589569092, 150000.0, -0.0), (1, 6.107624530792236, 75000.0), (2, 0.04635906219482422, 54864.0), (2, 1.078111171722412, 11406.0), (1, 1.024566411972046, 5.820766091346741e-11), (2, 28.96165442466736, 59.0), (2, 8.16222357749939, 40.0), (2, 2.005147695541382, 56.0), (2, 1.0330946445465088, 55.0), (2, 1.1669325828552246, 62.0), (2, 2.0538792610168457, 82.0), (2, 1.0141799449920654, 51.0), (2, 2.0404715538024902, 52.0), (2, 1.0046148300170898, 75.0), (2, 1.0174283981323242, 54.0), (2, 1.0929512977600098, 187.0), (2, 2.039898157119751, 61.0), (2, 1.0063457489013672, 38.0), (2, 1.0004839897155762, 44.0), (2, 2.21540904045105, 44.0), (2, 1.023766279220581, 40.0), (2, 1.2741529941558838, 34.0), (2, 2.0716705322265625, 50.0), (2, 2.3664138317108154, 42.0), (2, 1.0145103931427002, 54.0), (2, 2.015850067138672, 39.0), (2, 1.2896664142608643, 43.0), (2, 1.3690438270568848, 178.0), (2, 1.0570430755615234, 13.0), (2, 2.611830949783325, 25.0), (2, 2.1955244541168213, 28.0), (2, 2.607529401779175, 12.0), (2, 3.2762227058410645, 24.0), (2, 1.1261324882507324, 17.0), (2, 4.023874044418335, 17.0), (2, 1.1655850410461426, 20.0), (2, 2.034001111984253, 26.0), (2, 1.2146060466766357, 32.0), (2, 2.1321756839752197, 17.0), (2, 6.11334490776062, 9.0), (2, 6.400323390960693, 33.0), (2, 2.5716161727905273, 56.0), (2, 4.530677080154419, 23.0), (2, 6.905076026916504, 19.0), (2, 6.690643548965454, 22.0), (2, 2.1233837604522705, 17.0), (2, 10.502009868621826, 21.0), (2, 4.397124528884888, 19.0), (2, 7.171190023422241, 12.0), (2, 10.653400182723999, 19.0), (2, 3.520242691040039, 7.0), (2, 13.695949077606201, 1.0), (2, 67.06940221786499, 36.0)]),\n",
       "        list([(0.7264888286590576, 150000.0, -0.0), (1, 6.153318643569946, 75000.0), (2, 0.05035138130187988, 55089.0), (2, 1.081465244293213, 11335.0), (1, 1.022463083267212, 2.9103830456733704e-11), (2, 15.146514654159546, 40.0), (2, 8.264631986618042, 52.0), (2, 2.051586866378784, 67.0), (2, 1.0364327430725098, 41.0), (2, 2.046419143676758, 51.0), (2, 1.0433387756347656, 60.0), (2, 2.0527565479278564, 43.0), (2, 1.0077903270721436, 57.0), (2, 2.016991138458252, 75.0), (2, 1.0092394351959229, 54.0), (2, 2.0572876930236816, 55.0), (2, 1.074230432510376, 44.0), (2, 2.0500385761260986, 48.0), (2, 1.0034170150756836, 51.0), (2, 2.250070095062256, 261.0), (2, 1.038008451461792, 49.0), (2, 2.361738681793213, 28.0), (2, 1.0126733779907227, 37.0), (2, 2.1598122119903564, 33.0), (2, 2.031348466873169, 26.0), (2, 1.242046594619751, 47.0), (2, 1.2421042919158936, 110.0), (2, 1.0103199481964111, 19.0), (2, 2.3745968341827393, 22.0), (2, 2.5737574100494385, 27.0), (2, 2.3026039600372314, 30.0), (2, 2.735370397567749, 15.0), (2, 1.2436249256134033, 22.0), (2, 2.0307085514068604, 22.0), (2, 1.0253913402557373, 18.0), (2, 2.0031235218048096, 23.0), (2, 3.7407889366149902, 18.0), (2, 5.352495908737183, 16.0), (2, 5.050810813903809, 64.0), (2, 1.0103626251220703, 16.0), (2, 6.68975305557251, 17.0), (2, 6.216174364089966, 15.0), (2, 4.707839488983154, 31.0), (2, 2.1255009174346924, 20.0), (2, 7.598627328872681, 12.0), (2, 4.5944905281066895, 23.0), (2, 4.283819675445557, 13.0), (2, 10.717626094818115, 2.0), (2, 1.1757473945617676, 10.0), (2, 7.994737148284912, 19.0), (2, 8.994825601577759, 3.0), (2, 5.124458074569702, 20.0), (2, 8.661274671554565, 20.0), (2, 6.9838972091674805, 1.0), (1, 39.32477617263794, 0.9999999999708962)])],\n",
       "       [list([(1.3127033710479736, 225000.0, -0.0), (1, 11.793404340744019, 112500.0), (2, 1.3960156440734863, 99509.0), (1, 3.7017064094543457, 5.820766091346741e-11), (2, 22.522626638412476, 78.0), (2, 17.20035481452942, 82.0), (2, 2.3800861835479736, 70.0), (2, 2.1291308403015137, 99.0), (2, 2.033280372619629, 73.0), (2, 3.1006417274475098, 90.0), (2, 2.0207412242889404, 85.0), (2, 2.1798512935638428, 91.0), (2, 2.372324228286743, 66.0), (2, 3.1260666847229004, 91.0), (2, 2.1808838844299316, 59.0), (2, 2.1336331367492676, 72.0), (2, 2.410468578338623, 83.0), (2, 1.31209135055542, 275.0), (2, 1.3202996253967285, 65.0), (2, 3.582350969314575, 81.0), (2, 1.040313482284546, 141.0), (2, 1.0136334896087646, 53.0), (2, 2.8662614822387695, 62.0), (2, 3.4137139320373535, 58.0), (2, 4.634122371673584, 53.0), (2, 5.033247947692871, 52.0), (2, 3.1913979053497314, 52.0), (2, 4.289770841598511, 41.0), (2, 2.067530870437622, 37.0), (2, 2.1250877380371094, 49.0), (2, 2.4720475673675537, 45.0), (2, 2.6114532947540283, 37.0), (2, 3.8398046493530273, 36.0), (2, 2.552572011947632, 32.0), (2, 3.704638957977295, 52.0), (2, 2.563636302947998, 39.0), (2, 6.589273452758789, 139.0), (2, 1.0697214603424072, 14.0), (2, 10.380054950714111, 17.0), (2, 6.84343957901001, 33.0), (2, 8.260380506515503, 31.0), (2, 8.525671005249023, 26.0), (2, 8.393466472625732, 26.0), (2, 8.896896123886108, 60.0), (2, 1.4726183414459229, 24.0), (2, 9.798579216003418, 16.0), (2, 10.070105075836182, 31.0), (2, 11.050970792770386, 34.0), (2, 7.110611200332642, 23.0), (2, 22.65308976173401, 11.0), (2, 2.5246474742889404, 15.0), (2, 21.281017780303955, 4.0), (2, 17.12384557723999, 8.0)]),\n",
       "        list([(1.2154242992401123, 225000.0, -0.0), (1, 11.924392700195312, 112500.0), (2, 1.47324800491333, 99605.0), (1, 19.80423641204834, 4.3655745685100555e-11), (2, 33.432037591934204, 79.0), (2, 18.489413499832153, 87.0), (2, 3.328922748565674, 79.0), (2, 3.1671347618103027, 81.0), (2, 2.2405545711517334, 89.0), (2, 3.4278197288513184, 105.0), (2, 2.3018839359283447, 72.0), (2, 3.1177918910980225, 74.0), (2, 2.2056190967559814, 82.0), (2, 3.1128485202789307, 81.0), (2, 2.3275675773620605, 79.0), (2, 3.1492741107940674, 58.0), (2, 3.253443717956543, 64.0), (2, 2.222951650619507, 78.0), (2, 2.548598289489746, 60.0), (2, 3.3823888301849365, 62.0), (2, 3.0991897583007812, 60.0), (2, 2.1333673000335693, 295.0), (2, 1.0704841613769531, 66.0), (2, 3.1755826473236084, 56.0), (2, 3.324355125427246, 44.0), (2, 3.1157147884368896, 40.0), (2, 4.316004514694214, 55.0), (2, 3.996354341506958, 40.0), (2, 3.68660831451416, 33.0), (2, 4.318926095962524, 35.0), (2, 3.986541271209717, 33.0), (2, 4.844711780548096, 40.0), (2, 2.0521535873413086, 50.0), (2, 2.1050713062286377, 46.0), (2, 2.2819578647613525, 48.0), (2, 5.7945287227630615, 26.0), (2, 2.300410032272339, 28.0), (2, 2.560955047607422, 31.0), (2, 2.617549419403076, 29.0), (2, 6.046994924545288, 35.0), (2, 9.972695350646973, 27.0), (2, 8.254179000854492, 109.0), (2, 2.232860803604126, 25.0), (2, 12.534785270690918, 34.0), (2, 16.019235372543335, 24.0), (2, 11.011080503463745, 43.0), (2, 9.192790746688843, 21.0), (2, 14.379490852355957, 19.0), (2, 9.20337963104248, 28.0), (2, 5.331773996353149, 27.0)]),\n",
       "        list([(1.2169573307037354, 225000.0, -0.0), (1, 12.27624225616455, 112500.0), (2, 1.541975975036621, 99833.0), (1, 1.7980732917785645, 1.4551915228366852e-11), (2, 31.886735439300537, 68.0), (2, 18.398180961608887, 65.0), (1, 1.058326244354248, 1.0186340659856796e-10), (2, 2.398364305496216, 78.0), (2, 2.050464630126953, 85.0), (2, 2.0363786220550537, 96.0), (2, 3.46830153465271, 71.0), (2, 2.0877578258514404, 60.0), (2, 3.317673683166504, 62.0), (2, 3.045161724090576, 70.0), (2, 2.3688817024230957, 76.0), (2, 3.1571738719940186, 80.0), (2, 2.225865364074707, 71.0), (2, 3.214369297027588, 60.0), (2, 1.100778341293335, 244.0), (2, 2.173027515411377, 63.0), (2, 3.064152956008911, 62.0), (2, 3.221855878829956, 45.0), (2, 2.8113813400268555, 72.0), (2, 3.7114646434783936, 61.0), (2, 4.238314151763916, 42.0), (2, 3.165602445602417, 44.0), (2, 3.5395336151123047, 40.0), (2, 3.7634434700012207, 41.0), (2, 4.451653718948364, 55.0), (2, 3.989492177963257, 35.0), (2, 4.08403754234314, 30.0), (2, 4.553415536880493, 31.0), (2, 2.141934394836426, 44.0), (2, 5.5595550537109375, 35.0), (2, 2.2089526653289795, 33.0), (2, 2.857051134109497, 39.0), (2, 2.390187978744507, 33.0), (2, 3.958646774291992, 29.0), (2, 9.552668333053589, 38.0), (2, 7.839742422103882, 34.0), (2, 10.144490003585815, 45.0), (2, 9.731086730957031, 38.0), (2, 6.926134824752808, 132.0), (2, 4.8854193687438965, 29.0), (2, 14.525933980941772, 22.0), (2, 15.475080490112305, 25.0), (2, 6.313724517822266, 42.0), (2, 13.82231593132019, 21.0), (2, 2.1380116939544678, 10.0)]),\n",
       "        ...,\n",
       "        list([(1.19938063621521, 225000.0, -0.0), (1, 12.127511978149414, 112500.0), (2, 1.600691795349121, 99603.0), (1, 3.8772239685058594, 1.4551915228366852e-11), (2, 20.877299547195435, 88.0), (2, 9.943408012390137, 83.0), (1, 1.0718402862548828, 2.9103830456733704e-11), (2, 2.1078217029571533, 85.0), (2, 2.0943944454193115, 84.0), (2, 2.0888805389404297, 77.0), (2, 2.0908362865448, 75.0), (2, 2.37038516998291, 76.0), (2, 2.0137016773223877, 88.0), (2, 2.314749240875244, 87.0), (2, 1.2869436740875244, 80.0), (2, 2.053530216217041, 80.0), (2, 2.06192946434021, 78.0), (2, 2.0989630222320557, 72.0), (2, 2.041940212249756, 56.0), (2, 2.2824130058288574, 79.0), (2, 2.2765488624572754, 87.0), (2, 2.5926806926727295, 64.0), (2, 2.792478322982788, 74.0), (2, 1.3852131366729736, 302.0), (2, 1.1872828006744385, 49.0), (2, 1.552696943283081, 60.0), (2, 1.0462181568145752, 26.0), (2, 3.602585792541504, 53.0), (2, 3.3009629249572754, 41.0), (2, 3.115708351135254, 30.0), (2, 3.528201103210449, 40.0), (2, 3.7858784198760986, 64.0), (2, 4.385641098022461, 32.0), (2, 2.078810930252075, 30.0), (2, 2.2918081283569336, 31.0), (2, 2.099912643432617, 23.0), (2, 9.129807472229004, 36.0), (2, 4.34130072593689, 27.0), (2, 9.05049204826355, 24.0), (2, 9.250095844268799, 22.0), (2, 8.893622159957886, 115.0), (2, 1.9593815803527832, 25.0), (2, 10.437388181686401, 19.0), (2, 11.301381349563599, 31.0), (2, 11.112263202667236, 21.0), (2, 8.538584470748901, 44.0), (2, 4.449790954589844, 24.0), (2, 14.3780837059021, 24.0), (2, 19.926265001296997, 28.0), (2, 4.698239088058472, 35.0), (2, 18.315601348876953, 14.0), (2, 18.7692289352417, 5.0)]),\n",
       "        list([(1.2431960105895996, 225000.0, -0.0), (1, 12.48708724975586, 112500.0), (2, 1.4658973217010498, 99762.0), (2, 30.97572112083435, 75.0), (2, 21.294965028762817, 68.0), (2, 3.181147575378418, 86.0), (2, 2.043333053588867, 70.0), (2, 2.0502448081970215, 85.0), (2, 2.3893260955810547, 82.0), (2, 3.292538642883301, 72.0), (2, 2.148331880569458, 69.0), (2, 3.4258296489715576, 88.0), (2, 2.2485148906707764, 92.0), (2, 2.127047061920166, 69.0), (2, 2.1345176696777344, 71.0), (2, 2.2956297397613525, 76.0), (2, 2.2500312328338623, 77.0), (2, 2.310758352279663, 88.0), (2, 2.2829904556274414, 66.0), (2, 2.8398072719573975, 84.0), (2, 2.5542519092559814, 50.0), (2, 3.017817258834839, 58.0), (2, 3.2399442195892334, 55.0), (2, 3.1191697120666504, 52.0), (2, 4.28010630607605, 49.0), (2, 4.8183348178863525, 42.0), (2, 4.15057110786438, 41.0), (2, 3.6541876792907715, 39.0), (2, 2.0186874866485596, 51.0), (2, 2.1354427337646484, 54.0), (2, 4.475662708282471, 35.0), (2, 2.7181529998779297, 57.0), (2, 2.587942123413086, 58.0), (2, 3.410433053970337, 51.0), (2, 3.129211902618408, 196.0), (2, 1.2911818027496338, 21.0), (2, 9.90699291229248, 31.0), (2, 11.622004747390747, 21.0), (2, 10.49986481666565, 34.0), (2, 5.507949590682983, 132.0), (2, 6.321108341217041, 22.0), (2, 13.38654351234436, 23.0), (2, 12.401916265487671, 37.0), (2, 2.568722724914551, 28.0), (2, 17.19136071205139, 22.0), (2, 8.686301708221436, 23.0), (2, 10.578347444534302, 9.0), (2, 16.806676387786865, 23.0), (2, 7.98290228843689, 19.0)]),\n",
       "        list([(1.1583750247955322, 225000.0, -0.0), (1, 10.599383354187012, 112500.0), (2, 1.405712366104126, 99696.0), (1, 3.6010138988494873, 1.4551915228366852e-11), (2, 26.698244094848633, 85.0), (2, 17.755183696746826, 77.0), (2, 3.077533721923828, 71.0), (2, 2.1056559085845947, 79.0), (2, 2.1360836029052734, 75.0), (2, 2.175421714782715, 81.0), (2, 2.1023519039154053, 81.0), (2, 2.0791268348693848, 92.0), (2, 1.1103765964508057, 168.0), (2, 2.2908108234405518, 70.0), (2, 2.0394277572631836, 78.0), (2, 2.106886148452759, 73.0), (2, 2.0954489707946777, 67.0), (2, 2.207987070083618, 49.0), (2, 2.1209425926208496, 62.0), (2, 2.484997034072876, 57.0), (2, 2.382052421569824, 75.0), (2, 2.71309757232666, 58.0), (2, 2.812574625015259, 60.0), (2, 2.822866439819336, 60.0), (2, 2.756542444229126, 53.0), (2, 3.006681442260742, 56.0), (2, 4.763253450393677, 52.0), (2, 3.0820696353912354, 45.0), (2, 3.28602933883667, 40.0), (2, 3.7002711296081543, 36.0), (2, 4.547318458557129, 41.0), (2, 2.201932430267334, 43.0), (2, 2.1999244689941406, 61.0), (2, 5.079506874084473, 47.0), (2, 2.5611557960510254, 40.0), (2, 3.076235294342041, 50.0), (2, 8.982041835784912, 40.0), (2, 9.46558403968811, 43.0), (2, 11.249905586242676, 38.0), (2, 10.710007190704346, 32.0), (2, 15.23435378074646, 163.0), (2, 1.5020084381103516, 41.0), (2, 7.157395601272583, 23.0), (2, 15.04575514793396, 31.0), (2, 15.91490364074707, 18.0), (2, 11.511577129364014, 33.0), (2, 8.855024576187134, 24.0), (2, 22.705780029296875, 20.0), (2, 7.111219882965088, 30.0), (2, 8.379399299621582, 16.0), (2, 3.9111111164093018, 5.0)])],\n",
       "       [list([(1.853745460510254, 300000.0, -0.0), (1, 16.266143083572388, 150000.0), (2, 1.0419418811798096, 132759.0), (2, 37.49308395385742, 103.0), (2, 13.507493019104004, 78.0), (1, 1.0544118881225586, 1.1641532182693481e-10), (2, 2.193588972091675, 119.0), (2, 3.0998244285583496, 108.0), (2, 2.019605875015259, 107.0), (2, 2.171861171722412, 101.0), (2, 3.1444239616394043, 133.0), (2, 4.115716218948364, 136.0), (2, 1.0188477039337158, 301.0), (2, 2.2225358486175537, 100.0), (2, 3.173532485961914, 103.0), (2, 3.2195534706115723, 76.0), (2, 3.518397808074951, 95.0), (2, 3.453660726547241, 98.0), (2, 4.348509073257446, 90.0), (2, 3.3326668739318848, 93.0), (2, 3.8049681186676025, 98.0), (2, 4.648664951324463, 78.0), (2, 4.761506795883179, 77.0), (2, 4.32792329788208, 77.0), (2, 4.068221092224121, 83.0), (2, 5.113555669784546, 84.0), (2, 4.714903354644775, 67.0), (2, 5.044853210449219, 68.0), (2, 5.657569885253906, 71.0), (2, 6.691524267196655, 67.0), (2, 7.948863744735718, 52.0), (2, 3.468750238418579, 56.0), (2, 3.610764503479004, 57.0), (2, 9.076242923736572, 65.0), (2, 3.6513824462890625, 39.0), (2, 3.869050979614258, 52.0), (2, 10.873396873474121, 73.0), (2, 12.061248779296875, 232.0), (2, 1.569284439086914, 37.0), (2, 11.333854675292969, 103.0), (2, 4.526164293289185, 35.0), (2, 12.912545680999756, 28.0), (2, 15.478152751922607, 33.0), (2, 13.354220390319824, 27.0), (2, 4.283292293548584, 27.0), (2, 16.60460114479065, 38.0)]),\n",
       "        list([(1.8472886085510254, 300000.0, -0.0), (1, 16.363877773284912, 150000.0), (2, 1.0320208072662354, 132735.0), (1, 6.755818843841553, 8.731149137020111e-11), (2, 41.51561188697815, 95.0), (2, 19.167831420898438, 137.0), (2, 3.4128618240356445, 102.0), (2, 3.2311651706695557, 95.0), (2, 3.3196237087249756, 106.0), (2, 4.275882720947266, 113.0), (2, 3.305840492248535, 123.0), (2, 1.1559538841247559, 235.0), (2, 3.2913239002227783, 97.0), (2, 4.292228698730469, 115.0), (2, 4.384343147277832, 108.0), (2, 3.1662843227386475, 100.0), (2, 3.424574613571167, 99.0), (2, 3.6112828254699707, 96.0), (2, 3.4426417350769043, 97.0), (2, 4.811969995498657, 101.0), (2, 4.977315902709961, 115.0), (2, 5.228087663650513, 85.0), (2, 5.2873148918151855, 104.0), (2, 6.0200910568237305, 70.0), (2, 4.498853445053101, 66.0), (2, 5.290966510772705, 74.0), (2, 5.496240615844727, 66.0), (2, 4.77551794052124, 67.0), (2, 5.773525953292847, 64.0), (2, 6.22665548324585, 75.0), (2, 6.911462783813477, 54.0), (2, 9.211302518844604, 67.0), (2, 3.5693535804748535, 65.0), (2, 3.8645730018615723, 71.0), (2, 3.935047149658203, 58.0), (2, 4.000863552093506, 63.0), (2, 4.225250005722046, 60.0), (2, 1.6664204597473145, 245.0), (2, 3.845463275909424, 56.0), (2, 14.641947031021118, 35.0), (2, 16.188548803329468, 24.0), (2, 3.9535863399505615, 27.0), (2, 10.718195676803589, 49.0), (2, 14.826658725738525, 45.0), (2, 8.334649324417114, 82.0)]),\n",
       "        list([(1.8465461730957031, 300000.0, -0.0), (1, 13.526363134384155, 150000.0), (2, 2.009004831314087, 132385.0), (2, 47.329532861709595, 105.0), (2, 13.993935108184814, 104.0), (2, 4.331532716751099, 105.0), (2, 3.0764105319976807, 112.0), (2, 3.078460931777954, 120.0), (2, 2.34285306930542, 106.0), (2, 4.922940731048584, 125.0), (2, 2.460923433303833, 130.0), (2, 4.280261516571045, 118.0), (2, 3.350045680999756, 142.0), (2, 4.035904407501221, 116.0), (2, 3.6418819427490234, 100.0), (2, 3.460026502609253, 111.0), (2, 4.2091147899627686, 107.0), (2, 3.5235977172851562, 120.0), (2, 4.005934238433838, 90.0), (2, 4.691239356994629, 94.0), (2, 4.21897292137146, 102.0), (2, 4.7365922927856445, 96.0), (2, 4.918580532073975, 71.0), (2, 5.0857093334198, 77.0), (2, 6.859952926635742, 81.0), (2, 5.2299277782440186, 75.0), (2, 7.795192003250122, 78.0), (2, 5.830252647399902, 81.0), (2, 7.249269723892212, 74.0), (2, 3.8399698734283447, 75.0), (2, 3.8518781661987305, 84.0), (2, 3.965320348739624, 68.0), (2, 3.9560508728027344, 55.0), (2, 4.014075994491577, 56.0), (2, 3.7122318744659424, 71.0), (2, 12.561686992645264, 70.0), (2, 14.04080581665039, 75.0), (2, 16.171868324279785, 67.0), (2, 16.142335176467896, 77.0), (2, 15.509717226028442, 65.0), (2, 13.967593669891357, 283.0)]),\n",
       "        ...,\n",
       "        list([(1.5115642547607422, 300000.0, -0.0), (1, 10.743618488311768, 150000.0), (2, 1.6093859672546387, 132335.0), (2, 33.81650519371033, 115.0), (2, 11.839985132217407, 103.0), (1, 1.0034809112548828, 2.3283064365386963e-10), (2, 2.1363296508789062, 128.0), (2, 2.327620267868042, 114.0), (2, 2.2276017665863037, 114.0), (2, 2.308079957962036, 118.0), (2, 3.3638179302215576, 119.0), (2, 3.1331865787506104, 108.0), (2, 3.1119935512542725, 139.0), (2, 3.375683069229126, 124.0), (2, 2.07822322845459, 125.0), (2, 2.1786692142486572, 118.0), (2, 2.65531325340271, 134.0), (2, 3.18459153175354, 109.0), (2, 2.542492151260376, 101.0), (2, 3.3191511631011963, 92.0), (2, 3.213371992111206, 106.0), (2, 3.1344237327575684, 79.0), (2, 3.0688891410827637, 95.0), (2, 4.7618248462677, 83.0), (2, 3.5275766849517822, 78.0), (2, 3.3673996925354004, 82.0), (2, 3.5732882022857666, 75.0), (2, 3.913578987121582, 73.0), (2, 3.6790311336517334, 469.0), (2, 1.0541808605194092, 54.0), (2, 5.263794422149658, 42.0), (2, 6.406796216964722, 131.0), (2, 1.0329997539520264, 61.0), (2, 2.3410260677337646, 43.0), (2, 2.927182674407959, 36.0), (2, 2.6558752059936523, 34.0), (2, 2.6694495677948, 42.0), (2, 3.3806416988372803, 34.0), (2, 3.6647276878356934, 28.0), (2, 10.681393146514893, 36.0), (2, 9.651707887649536, 80.0), (2, 2.0115671157836914, 37.0), (2, 12.324680089950562, 30.0), (2, 13.25160551071167, 30.0), (2, 12.446441650390625, 32.0), (2, 12.296679019927979, 42.0), (2, 2.3946945667266846, 41.0), (2, 21.457980155944824, 33.0), (2, 8.528431177139282, 38.0), (2, 16.992549657821655, 36.0), (2, 14.571833610534668, 27.0)]),\n",
       "        list([(1.5213165283203125, 300000.0, -0.0), (1, 12.693090677261353, 150000.0), (2, 1.6112301349639893, 132568.0), (2, 33.09945821762085, 102.0), (2, 15.732086658477783, 104.0), (2, 3.145278215408325, 111.0), (2, 2.037851095199585, 121.0), (2, 2.0495097637176514, 116.0), (2, 3.135392189025879, 123.0), (2, 3.1495988368988037, 119.0), (2, 3.2076404094696045, 104.0), (2, 2.0661754608154297, 115.0), (2, 2.367305278778076, 110.0), (2, 3.1281731128692627, 95.0), (2, 3.249654769897461, 114.0), (2, 2.405075788497925, 109.0), (2, 2.5076355934143066, 118.0), (2, 1.3617522716522217, 412.0), (2, 1.4763948917388916, 72.0), (2, 3.204775094985962, 86.0), (2, 3.05889892578125, 96.0), (2, 3.5691308975219727, 75.0), (2, 3.1268749237060547, 74.0), (2, 3.418487787246704, 72.0), (2, 3.8735718727111816, 62.0), (2, 4.945795774459839, 74.0), (2, 3.454679250717163, 72.0), (2, 3.3953046798706055, 279.0), (2, 1.1323611736297607, 49.0), (2, 3.94279408454895, 74.0), (2, 1.0908093452453613, 33.0), (2, 5.387301445007324, 37.0), (2, 2.5215299129486084, 47.0), (2, 2.6356077194213867, 38.0), (2, 2.855923652648926, 50.0), (2, 7.145175933837891, 35.0), (2, 2.6921236515045166, 34.0), (2, 2.978957176208496, 52.0), (2, 3.0285744667053223, 40.0), (2, 6.134708404541016, 39.0), (2, 10.223289966583252, 49.0), (2, 11.495200157165527, 38.0), (2, 6.929738521575928, 110.0), (2, 7.529291868209839, 32.0), (2, 13.365402698516846, 31.0), (2, 17.011435747146606, 23.0), (2, 5.69701361656189, 50.0), (2, 9.33706283569336, 29.0), (2, 22.5385000705719, 3.0), (2, 3.2427163124084473, 34.0), (2, 3.1001529693603516, 32.0)]),\n",
       "        list([(1.4925460815429688, 300000.0, -0.0), (1, 12.830684423446655, 150000.0), (2, 1.6460292339324951, 132742.0), (1, 4.277684926986694, 5.820766091346741e-11), (2, 31.43547511100769, 135.0), (2, 15.092690467834473, 102.0), (1, 1.0223267078399658, 1.4551915228366852e-10), (2, 2.196112871170044, 121.0), (2, 2.1069610118865967, 118.0), (2, 3.1937618255615234, 113.0), (2, 2.325329542160034, 129.0), (2, 3.4058055877685547, 124.0), (2, 2.4763622283935547, 127.0), (2, 3.5600478649139404, 140.0), (2, 3.073728561401367, 92.0), (2, 2.4086174964904785, 100.0), (2, 3.187150478363037, 111.0), (2, 1.1888186931610107, 325.0), (2, 2.1453914642333984, 85.0), (2, 3.304370880126953, 89.0), (2, 2.0718512535095215, 90.0), (2, 3.2206718921661377, 67.0), (2, 3.084503173828125, 75.0), (2, 3.5059585571289062, 75.0), (2, 4.41990327835083, 71.0), (2, 3.0076327323913574, 77.0), (2, 3.42683744430542, 59.0), (2, 3.48854923248291, 62.0), (2, 4.843339681625366, 65.0), (2, 3.561988592147827, 66.0), (2, 4.120331525802612, 47.0), (2, 5.579834938049316, 55.0), (2, 2.7119386196136475, 57.0), (2, 5.780598402023315, 52.0), (2, 2.905184507369995, 66.0), (2, 2.9485745429992676, 72.0), (2, 2.7987139225006104, 38.0), (2, 3.2485883235931396, 44.0), (2, 2.884549617767334, 44.0), (2, 11.00602102279663, 60.0), (2, 10.947169542312622, 53.0), (2, 12.094196557998657, 47.0), (2, 12.710763454437256, 185.0), (2, 1.8549504280090332, 27.0), (2, 11.470215082168579, 45.0), (2, 18.82727837562561, 28.0), (2, 14.663686513900757, 34.0), (2, 7.343486785888672, 50.0), (2, 16.46273970603943, 35.0), (2, 3.4994101524353027, 36.0)])]],\n",
       "      dtype=object)\n",
       "Coordinates:\n",
       "  * N        (N) int64 30 64 100 150 574 1000 ... 27500 40000 50000 75000 100000\n",
       "  * seed     (seed) int64 10 11 12 13 14 15 16 ... 103 104 105 106 107 108 109</pre><div class='xr-wrap' hidden><div class='xr-header'><div class='xr-obj-type'>xarray.DataArray</div><div class='xr-array-name'></div><ul class='xr-dim-list'><li><span class='xr-has-index'>N</span>: 18</li><li><span class='xr-has-index'>seed</span>: 100</li></ul></div><ul class='xr-sections'><li class='xr-section-item'><div class='xr-array-wrap'><input id='section-a083ef62-cfd9-44e4-a616-c61b792775cb' class='xr-array-in' type='checkbox' checked><label for='section-a083ef62-cfd9-44e4-a616-c61b792775cb' title='Show/hide data repr'><svg class='icon xr-icon-database'><use xlink:href='#icon-database'></use></svg></label><div class='xr-array-preview xr-preview'><span>[(0.0016052722930908203, 90.0, -0.0), (1, 0.009133338928222656, 48....</span></div><div class='xr-array-data'><pre>array([[list([(0.0016052722930908203, 90.0, -0.0), (1, 0.009133338928222656, 48.0), (2, 1, 39.0), (1, 0.01027369499206543, 1.0), (1, 0.00573420524597168, 2.0)]),\n",
       "        list([(0.0016260147094726562, 90.0, -0.0), (1, 0.011939764022827148, 48.0), (2, 1, 40.0), (1, 0.0069577693939208984, 2.0)]),\n",
       "        list([(0.0018780231475830078, 90.0, -0.0), (1, 0.0043108463287353516, 49.0), (2, 1, 41.0)]),\n",
       "        ...,\n",
       "        list([(0.0012898445129394531, 90.0, -0.0), (1, 0.010724782943725586, 47.00000000000001), (2, 1, 39.0), (1, 0.010035991668701172, 0.9999999999999929), (1, 0.010027408599853516, 1.0), (1, 0.001842498779296875, 2.0)]),\n",
       "        list([(0.0011916160583496094, 90.0, -0.0), (1, 0.015011072158813477, 48.0), (2, 1, 40.0), (1, 0.008001565933227539, 2.0)]),\n",
       "        list([(0.0012671947479248047, 90.0, -0.0), (1, 0.009620904922485352, 46.00000000000001), (2, 1, 42.0), (1, 0.008039236068725586, 1.999999999999993)])],\n",
       "       [list([(0.0015239715576171875, 192.0, -0.0), (1, 0.00903010368347168, 98.0), (2, 1, 83.0), (2, 0.04220700263977051, 2.0), (1, 0.011115550994873047, 1.0), (2, 1, 3.0), (1, 0.010871648788452148, 1.0), (1, 0.02107691764831543, 1.0), (1, 0.03200554847717285, 1.0), (1, 0.01058816909790039, 2.0)]),\n",
       "        list([(0.0015950202941894531, 192.0, -0.0), (1, 0.008929252624511719, 99.0), (2, 1, 85.0), (1, 0.011441230773925781, 1.0), (1, 0.04533696174621582, 1.0), (2, 1, 1.0), (1, 0.04099130630493164, 1.0), (1, 0.0309755802154541, 1.0), (1, 0.020908117294311523, 1.0), (1, 0.012838125228881836, 2.0)]),\n",
       "        list([(0.001613616943359375, 192.0, -0.0), (1, 0.008885622024536133, 99.0), (2, 1, 86.0), (1, 0.019083499908447266, 1.0), (1, 0.020769357681274414, 1.0), (2, 1, 2.0), (1, 0.010118484497070312, 1.0), (1, 0.008892536163330078, 2.0)]),\n",
       "        ...,\n",
       "        list([(0.0015692710876464844, 192.0, -0.0), (1, 0.009016275405883789, 98.0), (2, 1, 86.0), (1, 0.02787041664123535, 1.0), (1, 0.024776458740234375, 1.0), (2, 0.021352052688598633, 1.0), (1, 0.010138511657714844, 1.0), (1, 0.030500411987304688, 1.0), (1, 0.0303041934967041, 1.0), (1, 0.014657258987426758, 2.0)]),\n",
       "        list([(0.0016155242919921875, 192.0, -0.0), (1, 0.009670734405517578, 98.0), (2, 1, 87.0), (1, 0.010699987411499023, 1.0), (1, 0.03844332695007324, 1.0), (2, 0.010053634643554688, 2.0), (1, 0.0074002742767333984, 3.0)]),\n",
       "        list([(0.0023441314697265625, 192.0, -0.0), (1, 0.008148670196533203, 98.0), (2, 1, 86.0), (1, 0.011661767959594727, 2.0), (1, 0.021262168884277344, 1.0), (1, 0.022850513458251953, 1.0), (2, 1, 1.0), (1, 0.010380268096923828, 1.0), (1, 0.0028417110443115234, 2.0)])],\n",
       "       [list([(0.001947164535522461, 300.0, -0.0), (1, 0.008913993835449219, 153.0), (2, 1, 133.0), (1, 0.010154485702514648, 3.0), (2, 0.01745152473449707, 2.0), (2, 0.056909799575805664, 1.0), (1, 0.021114110946655273, 1.0), (2, 1, 1.0), (1, 0.0566563606262207, 1.0), (1, 0.08354973793029785, 1.0), (1, 0.13770246505737305, 1.0), (1, 0.1165618896484375, 1.0), (1, 0.07303881645202637, 2.0)]),\n",
       "        list([(0.0018186569213867188, 300.0, -0.0), (1, 0.00896596908569336, 153.0), (2, 1, 134.0), (1, 0.010528087615966797, 2.0), (1, 0.014715909957885742, 1.0), (2, 0.011034488677978516, 2.0), (2, 0.010111808776855469, 1.0), (1, 0.03177905082702637, 2.842170943040401e-14), (1, 0.031517744064331055, 0.9999999999999716), (1, 0.08753657341003418, 1.0), (1, 0.022977352142333984, 1.0), (1, 0.0647733211517334, 1.0), (1, 0.045485734939575195, 1.0), (1, 0.02756023406982422, 2.0)]),\n",
       "        list([(0.0018224716186523438, 300.0, -0.0), (1, 0.008562564849853516, 155.0), (2, 1, 129.0), (1, 0.012145519256591797, 2.0), (2, 0.010236740112304688, 3.0), (1, 0.010308265686035156, 1.0), (2, 0.10415983200073242, 1.0), (1, 0.05206871032714844, 1.0), (1, 0.17774415016174316, 1.0), (1, 0.0736851692199707, 1.0), (2, 0.14461517333984375, 2.0), (1, 0.07612752914428711, 1.0), (1, 0.1094369888305664, 1.0), (1, 0.08680081367492676, 1.0), (1, 0.014970779418945312, 1.0)]),\n",
       "        ...,\n",
       "        list([(0.0021610260009765625, 300.0, -0.0), (1, 0.009428024291992188, 152.0), (2, 1, 130.0), (1, 0.010008573532104492, 1.0000000000000284), (2, 1, 2.0), (1, 0.02704620361328125, 0.9999999999999716), (2, 0.012943506240844727, 2.0), (1, 0.010347366333007812, 1.0), (1, 0.06536650657653809, 1.0), (2, 1, 1.0), (2, 0.0714731216430664, 1.0), (1, 0.022057771682739258, 1.0), (1, 0.0643167495727539, 1.0), (1, 0.07224035263061523, 1.0), (1, 0.1256098747253418, 1.0), (1, 0.2272663116455078, 1.0), (1, 0.19259977340698242, 8.526512829121202e-14), (1, 0.010050296783447266, 0.9999999999999147), (1, 0.09071731567382812, 2.0)]),\n",
       "        list([(0.0021500587463378906, 300.0, -0.0), (1, 0.009099006652832031, 151.0), (2, 1, 134.0), (1, 0.010756731033325195, 3.0), (1, 0.030254840850830078, 1.0), (2, 0.010007619857788086, 1.0), (1, 0.020686864852905273, 1.0), (2, 0.01030421257019043, 2.0), (1, 0.020270824432373047, 1.0), (1, 0.04198026657104492, 1.0), (1, 0.09375882148742676, 1.0), (1, 0.09503984451293945, 1.0), (1, 0.10723447799682617, 1.0), (1, 0.060880184173583984, 2.0)]),\n",
       "...\n",
       "        list([(0.6766998767852783, 150000.0, -0.0), (1, 5.6608850955963135, 75000.0), (2, 0.04618573188781738, 54861.0), (2, 1.0369365215301514, 11582.0), (2, 25.862001180648804, 57.0), (2, 5.209496259689331, 48.0), (1, 1.0090034008026123, 1.3096723705530167e-10), (2, 1.0334084033966064, 66.0), (2, 1.0037052631378174, 55.0), (2, 1.0514774322509766, 44.0), (2, 2.0125038623809814, 60.0), (2, 1.0044257640838623, 59.0), (2, 1.1781740188598633, 49.0), (2, 1.0499465465545654, 51.0), (2, 2.038459539413452, 52.0), (2, 1.162003993988037, 56.0), (2, 1.0085258483886719, 42.0), (2, 1.1554219722747803, 59.0), (2, 1.032132625579834, 179.0), (2, 1.0970911979675293, 51.0), (2, 1.0138180255889893, 31.0), (2, 1.2724242210388184, 30.0), (2, 2.0133445262908936, 38.0), (2, 2.0130114555358887, 45.0), (2, 2.5167009830474854, 40.0), (2, 1.0202341079711914, 34.0), (2, 2.013538122177124, 31.0), (2, 1.3389759063720703, 26.0), (2, 1.3007118701934814, 120.0), (2, 1.0387098789215088, 22.0), (2, 2.1577818393707275, 20.0), (2, 2.277285099029541, 23.0), (2, 2.724970579147339, 21.0), (2, 3.176060199737549, 24.0), (2, 3.80403733253479, 83.0), (2, 1.0373096466064453, 19.0), (2, 1.0084574222564697, 21.0), (2, 1.3112668991088867, 18.0), (2, 1.6278979778289795, 19.0), (2, 2.0521657466888428, 16.0), (2, 1.1363542079925537, 16.0), (2, 5.274403810501099, 24.0), (2, 5.917752504348755, 22.0), (2, 6.5280280113220215, 23.0), (2, 1.3132951259613037, 23.0), (2, 7.051026344299316, 15.0), (2, 7.28013277053833, 22.0), (2, 1.1289591789245605, 16.0), (2, 9.057959794998169, 17.0), (2, 4.060594797134399, 19.0), (2, 7.913832187652588, 15.0), (2, 8.812230110168457, 6.0), (2, 5.389546632766724, 14.0), (2, 9.21248173713684, 19.0), (2, 11.02811598777771, 13.0), (2, 67.4157440662384, 24.0)]),\n",
       "        ...,\n",
       "        list([(0.7323122024536133, 150000.0, -0.0), (1, 5.961587190628052, 75000.0), (2, 0.046352386474609375, 55056.0), (2, 1.0463640689849854, 11478.0), (1, 1.0460002422332764, 1.0), (1, 1.0663955211639404, 1.0000000001164153), (2, 8.946340084075928, 45.0), (2, 68.9314112663269, 47.0), (2, 6.112088918685913, 48.0), (1, 1.0436110496520996, 1.0186340659856796e-10), (2, 1.2361669540405273, 50.0), (2, 2.1604108810424805, 60.0), (2, 2.082974910736084, 44.0), (2, 2.050809621810913, 58.0), (2, 1.181899070739746, 56.0), (2, 1.0634784698486328, 157.0), (2, 1.0114881992340088, 70.0), (2, 2.0339200496673584, 44.0), (2, 1.0615413188934326, 61.0), (2, 2.0287961959838867, 47.0), (2, 2.0865676403045654, 41.0), (2, 2.0094025135040283, 44.0), (2, 2.5422704219818115, 39.0), (2, 1.0453553199768066, 39.0), (2, 1.0000393390655518, 164.0), (2, 1.047386884689331, 27.0), (2, 2.0755841732025146, 31.0), (2, 1.0251333713531494, 52.0), (2, 1.337989091873169, 35.0), (2, 1.0242249965667725, 25.0), (2, 2.0963709354400635, 20.0), (2, 2.5343196392059326, 19.0), (2, 2.1114959716796875, 16.0), (2, 1.1529524326324463, 80.0), (2, 1.0124306678771973, 13.0), (2, 2.9473540782928467, 24.0), (2, 2.230883836746216, 15.0), (2, 2.0686450004577637, 17.0), (2, 1.012885570526123, 16.0), (2, 2.4018120765686035, 14.0), (2, 2.1808295249938965, 14.0), (2, 1.5742242336273193, 12.0), (2, 1.0154953002929688, 16.0), (2, 1.0098857879638672, 20.0), (2, 2.2723662853240967, 18.0), (2, 2.599665403366089, 20.0), (2, 2.1890313625335693, 18.0), (2, 2.330415725708008, 11.0), (2, 1.2969622611999512, 14.0), (2, 1.3666057586669922, 18.0), (2, 2.7198824882507324, 11.0), (2, 2.093291997909546, 10.0), (2, 2.2080421447753906, 5.0), (2, 2.2143280506134033, 6.0), (2, 1.0547845363616943, 6.0), (2, 1.5529170036315918, 8.0), (2, 2.452139377593994, 6.0), (2, 1.0509147644042969, 8.0), (2, 1.4813148975372314, 10.0), (2, 1.003509521484375, 2.0), (2, 4.211304187774658, 15.0), (2, 1.882993221282959, 4.0), (2, 10.537579774856567, 10.0), (2, 1.0171878337860107, 7.0), (2, 2.0112199783325195, 3.0), (2, 7.7987060546875, 2.0), (2, 4.973984718322754, 7.0), (2, 7.28968620300293, 13.0), (2, 1.2993428707122803, 6.0), (2, 7.182687997817993, 7.0), (2, 4.246178388595581, 12.0), (2, 6.734462022781372, 11.0), (2, 4.727810859680176, 15.0)]),\n",
       "        list([(0.7293517589569092, 150000.0, -0.0), (1, 6.107624530792236, 75000.0), (2, 0.04635906219482422, 54864.0), (2, 1.078111171722412, 11406.0), (1, 1.024566411972046, 5.820766091346741e-11), (2, 28.96165442466736, 59.0), (2, 8.16222357749939, 40.0), (2, 2.005147695541382, 56.0), (2, 1.0330946445465088, 55.0), (2, 1.1669325828552246, 62.0), (2, 2.0538792610168457, 82.0), (2, 1.0141799449920654, 51.0), (2, 2.0404715538024902, 52.0), (2, 1.0046148300170898, 75.0), (2, 1.0174283981323242, 54.0), (2, 1.0929512977600098, 187.0), (2, 2.039898157119751, 61.0), (2, 1.0063457489013672, 38.0), (2, 1.0004839897155762, 44.0), (2, 2.21540904045105, 44.0), (2, 1.023766279220581, 40.0), (2, 1.2741529941558838, 34.0), (2, 2.0716705322265625, 50.0), (2, 2.3664138317108154, 42.0), (2, 1.0145103931427002, 54.0), (2, 2.015850067138672, 39.0), (2, 1.2896664142608643, 43.0), (2, 1.3690438270568848, 178.0), (2, 1.0570430755615234, 13.0), (2, 2.611830949783325, 25.0), (2, 2.1955244541168213, 28.0), (2, 2.607529401779175, 12.0), (2, 3.2762227058410645, 24.0), (2, 1.1261324882507324, 17.0), (2, 4.023874044418335, 17.0), (2, 1.1655850410461426, 20.0), (2, 2.034001111984253, 26.0), (2, 1.2146060466766357, 32.0), (2, 2.1321756839752197, 17.0), (2, 6.11334490776062, 9.0), (2, 6.400323390960693, 33.0), (2, 2.5716161727905273, 56.0), (2, 4.530677080154419, 23.0), (2, 6.905076026916504, 19.0), (2, 6.690643548965454, 22.0), (2, 2.1233837604522705, 17.0), (2, 10.502009868621826, 21.0), (2, 4.397124528884888, 19.0), (2, 7.171190023422241, 12.0), (2, 10.653400182723999, 19.0), (2, 3.520242691040039, 7.0), (2, 13.695949077606201, 1.0), (2, 67.06940221786499, 36.0)]),\n",
       "        list([(0.7264888286590576, 150000.0, -0.0), (1, 6.153318643569946, 75000.0), (2, 0.05035138130187988, 55089.0), (2, 1.081465244293213, 11335.0), (1, 1.022463083267212, 2.9103830456733704e-11), (2, 15.146514654159546, 40.0), (2, 8.264631986618042, 52.0), (2, 2.051586866378784, 67.0), (2, 1.0364327430725098, 41.0), (2, 2.046419143676758, 51.0), (2, 1.0433387756347656, 60.0), (2, 2.0527565479278564, 43.0), (2, 1.0077903270721436, 57.0), (2, 2.016991138458252, 75.0), (2, 1.0092394351959229, 54.0), (2, 2.0572876930236816, 55.0), (2, 1.074230432510376, 44.0), (2, 2.0500385761260986, 48.0), (2, 1.0034170150756836, 51.0), (2, 2.250070095062256, 261.0), (2, 1.038008451461792, 49.0), (2, 2.361738681793213, 28.0), (2, 1.0126733779907227, 37.0), (2, 2.1598122119903564, 33.0), (2, 2.031348466873169, 26.0), (2, 1.242046594619751, 47.0), (2, 1.2421042919158936, 110.0), (2, 1.0103199481964111, 19.0), (2, 2.3745968341827393, 22.0), (2, 2.5737574100494385, 27.0), (2, 2.3026039600372314, 30.0), (2, 2.735370397567749, 15.0), (2, 1.2436249256134033, 22.0), (2, 2.0307085514068604, 22.0), (2, 1.0253913402557373, 18.0), (2, 2.0031235218048096, 23.0), (2, 3.7407889366149902, 18.0), (2, 5.352495908737183, 16.0), (2, 5.050810813903809, 64.0), (2, 1.0103626251220703, 16.0), (2, 6.68975305557251, 17.0), (2, 6.216174364089966, 15.0), (2, 4.707839488983154, 31.0), (2, 2.1255009174346924, 20.0), (2, 7.598627328872681, 12.0), (2, 4.5944905281066895, 23.0), (2, 4.283819675445557, 13.0), (2, 10.717626094818115, 2.0), (2, 1.1757473945617676, 10.0), (2, 7.994737148284912, 19.0), (2, 8.994825601577759, 3.0), (2, 5.124458074569702, 20.0), (2, 8.661274671554565, 20.0), (2, 6.9838972091674805, 1.0), (1, 39.32477617263794, 0.9999999999708962)])],\n",
       "       [list([(1.3127033710479736, 225000.0, -0.0), (1, 11.793404340744019, 112500.0), (2, 1.3960156440734863, 99509.0), (1, 3.7017064094543457, 5.820766091346741e-11), (2, 22.522626638412476, 78.0), (2, 17.20035481452942, 82.0), (2, 2.3800861835479736, 70.0), (2, 2.1291308403015137, 99.0), (2, 2.033280372619629, 73.0), (2, 3.1006417274475098, 90.0), (2, 2.0207412242889404, 85.0), (2, 2.1798512935638428, 91.0), (2, 2.372324228286743, 66.0), (2, 3.1260666847229004, 91.0), (2, 2.1808838844299316, 59.0), (2, 2.1336331367492676, 72.0), (2, 2.410468578338623, 83.0), (2, 1.31209135055542, 275.0), (2, 1.3202996253967285, 65.0), (2, 3.582350969314575, 81.0), (2, 1.040313482284546, 141.0), (2, 1.0136334896087646, 53.0), (2, 2.8662614822387695, 62.0), (2, 3.4137139320373535, 58.0), (2, 4.634122371673584, 53.0), (2, 5.033247947692871, 52.0), (2, 3.1913979053497314, 52.0), (2, 4.289770841598511, 41.0), (2, 2.067530870437622, 37.0), (2, 2.1250877380371094, 49.0), (2, 2.4720475673675537, 45.0), (2, 2.6114532947540283, 37.0), (2, 3.8398046493530273, 36.0), (2, 2.552572011947632, 32.0), (2, 3.704638957977295, 52.0), (2, 2.563636302947998, 39.0), (2, 6.589273452758789, 139.0), (2, 1.0697214603424072, 14.0), (2, 10.380054950714111, 17.0), (2, 6.84343957901001, 33.0), (2, 8.260380506515503, 31.0), (2, 8.525671005249023, 26.0), (2, 8.393466472625732, 26.0), (2, 8.896896123886108, 60.0), (2, 1.4726183414459229, 24.0), (2, 9.798579216003418, 16.0), (2, 10.070105075836182, 31.0), (2, 11.050970792770386, 34.0), (2, 7.110611200332642, 23.0), (2, 22.65308976173401, 11.0), (2, 2.5246474742889404, 15.0), (2, 21.281017780303955, 4.0), (2, 17.12384557723999, 8.0)]),\n",
       "        list([(1.2154242992401123, 225000.0, -0.0), (1, 11.924392700195312, 112500.0), (2, 1.47324800491333, 99605.0), (1, 19.80423641204834, 4.3655745685100555e-11), (2, 33.432037591934204, 79.0), (2, 18.489413499832153, 87.0), (2, 3.328922748565674, 79.0), (2, 3.1671347618103027, 81.0), (2, 2.2405545711517334, 89.0), (2, 3.4278197288513184, 105.0), (2, 2.3018839359283447, 72.0), (2, 3.1177918910980225, 74.0), (2, 2.2056190967559814, 82.0), (2, 3.1128485202789307, 81.0), (2, 2.3275675773620605, 79.0), (2, 3.1492741107940674, 58.0), (2, 3.253443717956543, 64.0), (2, 2.222951650619507, 78.0), (2, 2.548598289489746, 60.0), (2, 3.3823888301849365, 62.0), (2, 3.0991897583007812, 60.0), (2, 2.1333673000335693, 295.0), (2, 1.0704841613769531, 66.0), (2, 3.1755826473236084, 56.0), (2, 3.324355125427246, 44.0), (2, 3.1157147884368896, 40.0), (2, 4.316004514694214, 55.0), (2, 3.996354341506958, 40.0), (2, 3.68660831451416, 33.0), (2, 4.318926095962524, 35.0), (2, 3.986541271209717, 33.0), (2, 4.844711780548096, 40.0), (2, 2.0521535873413086, 50.0), (2, 2.1050713062286377, 46.0), (2, 2.2819578647613525, 48.0), (2, 5.7945287227630615, 26.0), (2, 2.300410032272339, 28.0), (2, 2.560955047607422, 31.0), (2, 2.617549419403076, 29.0), (2, 6.046994924545288, 35.0), (2, 9.972695350646973, 27.0), (2, 8.254179000854492, 109.0), (2, 2.232860803604126, 25.0), (2, 12.534785270690918, 34.0), (2, 16.019235372543335, 24.0), (2, 11.011080503463745, 43.0), (2, 9.192790746688843, 21.0), (2, 14.379490852355957, 19.0), (2, 9.20337963104248, 28.0), (2, 5.331773996353149, 27.0)]),\n",
       "        list([(1.2169573307037354, 225000.0, -0.0), (1, 12.27624225616455, 112500.0), (2, 1.541975975036621, 99833.0), (1, 1.7980732917785645, 1.4551915228366852e-11), (2, 31.886735439300537, 68.0), (2, 18.398180961608887, 65.0), (1, 1.058326244354248, 1.0186340659856796e-10), (2, 2.398364305496216, 78.0), (2, 2.050464630126953, 85.0), (2, 2.0363786220550537, 96.0), (2, 3.46830153465271, 71.0), (2, 2.0877578258514404, 60.0), (2, 3.317673683166504, 62.0), (2, 3.045161724090576, 70.0), (2, 2.3688817024230957, 76.0), (2, 3.1571738719940186, 80.0), (2, 2.225865364074707, 71.0), (2, 3.214369297027588, 60.0), (2, 1.100778341293335, 244.0), (2, 2.173027515411377, 63.0), (2, 3.064152956008911, 62.0), (2, 3.221855878829956, 45.0), (2, 2.8113813400268555, 72.0), (2, 3.7114646434783936, 61.0), (2, 4.238314151763916, 42.0), (2, 3.165602445602417, 44.0), (2, 3.5395336151123047, 40.0), (2, 3.7634434700012207, 41.0), (2, 4.451653718948364, 55.0), (2, 3.989492177963257, 35.0), (2, 4.08403754234314, 30.0), (2, 4.553415536880493, 31.0), (2, 2.141934394836426, 44.0), (2, 5.5595550537109375, 35.0), (2, 2.2089526653289795, 33.0), (2, 2.857051134109497, 39.0), (2, 2.390187978744507, 33.0), (2, 3.958646774291992, 29.0), (2, 9.552668333053589, 38.0), (2, 7.839742422103882, 34.0), (2, 10.144490003585815, 45.0), (2, 9.731086730957031, 38.0), (2, 6.926134824752808, 132.0), (2, 4.8854193687438965, 29.0), (2, 14.525933980941772, 22.0), (2, 15.475080490112305, 25.0), (2, 6.313724517822266, 42.0), (2, 13.82231593132019, 21.0), (2, 2.1380116939544678, 10.0)]),\n",
       "        ...,\n",
       "        list([(1.19938063621521, 225000.0, -0.0), (1, 12.127511978149414, 112500.0), (2, 1.600691795349121, 99603.0), (1, 3.8772239685058594, 1.4551915228366852e-11), (2, 20.877299547195435, 88.0), (2, 9.943408012390137, 83.0), (1, 1.0718402862548828, 2.9103830456733704e-11), (2, 2.1078217029571533, 85.0), (2, 2.0943944454193115, 84.0), (2, 2.0888805389404297, 77.0), (2, 2.0908362865448, 75.0), (2, 2.37038516998291, 76.0), (2, 2.0137016773223877, 88.0), (2, 2.314749240875244, 87.0), (2, 1.2869436740875244, 80.0), (2, 2.053530216217041, 80.0), (2, 2.06192946434021, 78.0), (2, 2.0989630222320557, 72.0), (2, 2.041940212249756, 56.0), (2, 2.2824130058288574, 79.0), (2, 2.2765488624572754, 87.0), (2, 2.5926806926727295, 64.0), (2, 2.792478322982788, 74.0), (2, 1.3852131366729736, 302.0), (2, 1.1872828006744385, 49.0), (2, 1.552696943283081, 60.0), (2, 1.0462181568145752, 26.0), (2, 3.602585792541504, 53.0), (2, 3.3009629249572754, 41.0), (2, 3.115708351135254, 30.0), (2, 3.528201103210449, 40.0), (2, 3.7858784198760986, 64.0), (2, 4.385641098022461, 32.0), (2, 2.078810930252075, 30.0), (2, 2.2918081283569336, 31.0), (2, 2.099912643432617, 23.0), (2, 9.129807472229004, 36.0), (2, 4.34130072593689, 27.0), (2, 9.05049204826355, 24.0), (2, 9.250095844268799, 22.0), (2, 8.893622159957886, 115.0), (2, 1.9593815803527832, 25.0), (2, 10.437388181686401, 19.0), (2, 11.301381349563599, 31.0), (2, 11.112263202667236, 21.0), (2, 8.538584470748901, 44.0), (2, 4.449790954589844, 24.0), (2, 14.3780837059021, 24.0), (2, 19.926265001296997, 28.0), (2, 4.698239088058472, 35.0), (2, 18.315601348876953, 14.0), (2, 18.7692289352417, 5.0)]),\n",
       "        list([(1.2431960105895996, 225000.0, -0.0), (1, 12.48708724975586, 112500.0), (2, 1.4658973217010498, 99762.0), (2, 30.97572112083435, 75.0), (2, 21.294965028762817, 68.0), (2, 3.181147575378418, 86.0), (2, 2.043333053588867, 70.0), (2, 2.0502448081970215, 85.0), (2, 2.3893260955810547, 82.0), (2, 3.292538642883301, 72.0), (2, 2.148331880569458, 69.0), (2, 3.4258296489715576, 88.0), (2, 2.2485148906707764, 92.0), (2, 2.127047061920166, 69.0), (2, 2.1345176696777344, 71.0), (2, 2.2956297397613525, 76.0), (2, 2.2500312328338623, 77.0), (2, 2.310758352279663, 88.0), (2, 2.2829904556274414, 66.0), (2, 2.8398072719573975, 84.0), (2, 2.5542519092559814, 50.0), (2, 3.017817258834839, 58.0), (2, 3.2399442195892334, 55.0), (2, 3.1191697120666504, 52.0), (2, 4.28010630607605, 49.0), (2, 4.8183348178863525, 42.0), (2, 4.15057110786438, 41.0), (2, 3.6541876792907715, 39.0), (2, 2.0186874866485596, 51.0), (2, 2.1354427337646484, 54.0), (2, 4.475662708282471, 35.0), (2, 2.7181529998779297, 57.0), (2, 2.587942123413086, 58.0), (2, 3.410433053970337, 51.0), (2, 3.129211902618408, 196.0), (2, 1.2911818027496338, 21.0), (2, 9.90699291229248, 31.0), (2, 11.622004747390747, 21.0), (2, 10.49986481666565, 34.0), (2, 5.507949590682983, 132.0), (2, 6.321108341217041, 22.0), (2, 13.38654351234436, 23.0), (2, 12.401916265487671, 37.0), (2, 2.568722724914551, 28.0), (2, 17.19136071205139, 22.0), (2, 8.686301708221436, 23.0), (2, 10.578347444534302, 9.0), (2, 16.806676387786865, 23.0), (2, 7.98290228843689, 19.0)]),\n",
       "        list([(1.1583750247955322, 225000.0, -0.0), (1, 10.599383354187012, 112500.0), (2, 1.405712366104126, 99696.0), (1, 3.6010138988494873, 1.4551915228366852e-11), (2, 26.698244094848633, 85.0), (2, 17.755183696746826, 77.0), (2, 3.077533721923828, 71.0), (2, 2.1056559085845947, 79.0), (2, 2.1360836029052734, 75.0), (2, 2.175421714782715, 81.0), (2, 2.1023519039154053, 81.0), (2, 2.0791268348693848, 92.0), (2, 1.1103765964508057, 168.0), (2, 2.2908108234405518, 70.0), (2, 2.0394277572631836, 78.0), (2, 2.106886148452759, 73.0), (2, 2.0954489707946777, 67.0), (2, 2.207987070083618, 49.0), (2, 2.1209425926208496, 62.0), (2, 2.484997034072876, 57.0), (2, 2.382052421569824, 75.0), (2, 2.71309757232666, 58.0), (2, 2.812574625015259, 60.0), (2, 2.822866439819336, 60.0), (2, 2.756542444229126, 53.0), (2, 3.006681442260742, 56.0), (2, 4.763253450393677, 52.0), (2, 3.0820696353912354, 45.0), (2, 3.28602933883667, 40.0), (2, 3.7002711296081543, 36.0), (2, 4.547318458557129, 41.0), (2, 2.201932430267334, 43.0), (2, 2.1999244689941406, 61.0), (2, 5.079506874084473, 47.0), (2, 2.5611557960510254, 40.0), (2, 3.076235294342041, 50.0), (2, 8.982041835784912, 40.0), (2, 9.46558403968811, 43.0), (2, 11.249905586242676, 38.0), (2, 10.710007190704346, 32.0), (2, 15.23435378074646, 163.0), (2, 1.5020084381103516, 41.0), (2, 7.157395601272583, 23.0), (2, 15.04575514793396, 31.0), (2, 15.91490364074707, 18.0), (2, 11.511577129364014, 33.0), (2, 8.855024576187134, 24.0), (2, 22.705780029296875, 20.0), (2, 7.111219882965088, 30.0), (2, 8.379399299621582, 16.0), (2, 3.9111111164093018, 5.0)])],\n",
       "       [list([(1.853745460510254, 300000.0, -0.0), (1, 16.266143083572388, 150000.0), (2, 1.0419418811798096, 132759.0), (2, 37.49308395385742, 103.0), (2, 13.507493019104004, 78.0), (1, 1.0544118881225586, 1.1641532182693481e-10), (2, 2.193588972091675, 119.0), (2, 3.0998244285583496, 108.0), (2, 2.019605875015259, 107.0), (2, 2.171861171722412, 101.0), (2, 3.1444239616394043, 133.0), (2, 4.115716218948364, 136.0), (2, 1.0188477039337158, 301.0), (2, 2.2225358486175537, 100.0), (2, 3.173532485961914, 103.0), (2, 3.2195534706115723, 76.0), (2, 3.518397808074951, 95.0), (2, 3.453660726547241, 98.0), (2, 4.348509073257446, 90.0), (2, 3.3326668739318848, 93.0), (2, 3.8049681186676025, 98.0), (2, 4.648664951324463, 78.0), (2, 4.761506795883179, 77.0), (2, 4.32792329788208, 77.0), (2, 4.068221092224121, 83.0), (2, 5.113555669784546, 84.0), (2, 4.714903354644775, 67.0), (2, 5.044853210449219, 68.0), (2, 5.657569885253906, 71.0), (2, 6.691524267196655, 67.0), (2, 7.948863744735718, 52.0), (2, 3.468750238418579, 56.0), (2, 3.610764503479004, 57.0), (2, 9.076242923736572, 65.0), (2, 3.6513824462890625, 39.0), (2, 3.869050979614258, 52.0), (2, 10.873396873474121, 73.0), (2, 12.061248779296875, 232.0), (2, 1.569284439086914, 37.0), (2, 11.333854675292969, 103.0), (2, 4.526164293289185, 35.0), (2, 12.912545680999756, 28.0), (2, 15.478152751922607, 33.0), (2, 13.354220390319824, 27.0), (2, 4.283292293548584, 27.0), (2, 16.60460114479065, 38.0)]),\n",
       "        list([(1.8472886085510254, 300000.0, -0.0), (1, 16.363877773284912, 150000.0), (2, 1.0320208072662354, 132735.0), (1, 6.755818843841553, 8.731149137020111e-11), (2, 41.51561188697815, 95.0), (2, 19.167831420898438, 137.0), (2, 3.4128618240356445, 102.0), (2, 3.2311651706695557, 95.0), (2, 3.3196237087249756, 106.0), (2, 4.275882720947266, 113.0), (2, 3.305840492248535, 123.0), (2, 1.1559538841247559, 235.0), (2, 3.2913239002227783, 97.0), (2, 4.292228698730469, 115.0), (2, 4.384343147277832, 108.0), (2, 3.1662843227386475, 100.0), (2, 3.424574613571167, 99.0), (2, 3.6112828254699707, 96.0), (2, 3.4426417350769043, 97.0), (2, 4.811969995498657, 101.0), (2, 4.977315902709961, 115.0), (2, 5.228087663650513, 85.0), (2, 5.2873148918151855, 104.0), (2, 6.0200910568237305, 70.0), (2, 4.498853445053101, 66.0), (2, 5.290966510772705, 74.0), (2, 5.496240615844727, 66.0), (2, 4.77551794052124, 67.0), (2, 5.773525953292847, 64.0), (2, 6.22665548324585, 75.0), (2, 6.911462783813477, 54.0), (2, 9.211302518844604, 67.0), (2, 3.5693535804748535, 65.0), (2, 3.8645730018615723, 71.0), (2, 3.935047149658203, 58.0), (2, 4.000863552093506, 63.0), (2, 4.225250005722046, 60.0), (2, 1.6664204597473145, 245.0), (2, 3.845463275909424, 56.0), (2, 14.641947031021118, 35.0), (2, 16.188548803329468, 24.0), (2, 3.9535863399505615, 27.0), (2, 10.718195676803589, 49.0), (2, 14.826658725738525, 45.0), (2, 8.334649324417114, 82.0)]),\n",
       "        list([(1.8465461730957031, 300000.0, -0.0), (1, 13.526363134384155, 150000.0), (2, 2.009004831314087, 132385.0), (2, 47.329532861709595, 105.0), (2, 13.993935108184814, 104.0), (2, 4.331532716751099, 105.0), (2, 3.0764105319976807, 112.0), (2, 3.078460931777954, 120.0), (2, 2.34285306930542, 106.0), (2, 4.922940731048584, 125.0), (2, 2.460923433303833, 130.0), (2, 4.280261516571045, 118.0), (2, 3.350045680999756, 142.0), (2, 4.035904407501221, 116.0), (2, 3.6418819427490234, 100.0), (2, 3.460026502609253, 111.0), (2, 4.2091147899627686, 107.0), (2, 3.5235977172851562, 120.0), (2, 4.005934238433838, 90.0), (2, 4.691239356994629, 94.0), (2, 4.21897292137146, 102.0), (2, 4.7365922927856445, 96.0), (2, 4.918580532073975, 71.0), (2, 5.0857093334198, 77.0), (2, 6.859952926635742, 81.0), (2, 5.2299277782440186, 75.0), (2, 7.795192003250122, 78.0), (2, 5.830252647399902, 81.0), (2, 7.249269723892212, 74.0), (2, 3.8399698734283447, 75.0), (2, 3.8518781661987305, 84.0), (2, 3.965320348739624, 68.0), (2, 3.9560508728027344, 55.0), (2, 4.014075994491577, 56.0), (2, 3.7122318744659424, 71.0), (2, 12.561686992645264, 70.0), (2, 14.04080581665039, 75.0), (2, 16.171868324279785, 67.0), (2, 16.142335176467896, 77.0), (2, 15.509717226028442, 65.0), (2, 13.967593669891357, 283.0)]),\n",
       "        ...,\n",
       "        list([(1.5115642547607422, 300000.0, -0.0), (1, 10.743618488311768, 150000.0), (2, 1.6093859672546387, 132335.0), (2, 33.81650519371033, 115.0), (2, 11.839985132217407, 103.0), (1, 1.0034809112548828, 2.3283064365386963e-10), (2, 2.1363296508789062, 128.0), (2, 2.327620267868042, 114.0), (2, 2.2276017665863037, 114.0), (2, 2.308079957962036, 118.0), (2, 3.3638179302215576, 119.0), (2, 3.1331865787506104, 108.0), (2, 3.1119935512542725, 139.0), (2, 3.375683069229126, 124.0), (2, 2.07822322845459, 125.0), (2, 2.1786692142486572, 118.0), (2, 2.65531325340271, 134.0), (2, 3.18459153175354, 109.0), (2, 2.542492151260376, 101.0), (2, 3.3191511631011963, 92.0), (2, 3.213371992111206, 106.0), (2, 3.1344237327575684, 79.0), (2, 3.0688891410827637, 95.0), (2, 4.7618248462677, 83.0), (2, 3.5275766849517822, 78.0), (2, 3.3673996925354004, 82.0), (2, 3.5732882022857666, 75.0), (2, 3.913578987121582, 73.0), (2, 3.6790311336517334, 469.0), (2, 1.0541808605194092, 54.0), (2, 5.263794422149658, 42.0), (2, 6.406796216964722, 131.0), (2, 1.0329997539520264, 61.0), (2, 2.3410260677337646, 43.0), (2, 2.927182674407959, 36.0), (2, 2.6558752059936523, 34.0), (2, 2.6694495677948, 42.0), (2, 3.3806416988372803, 34.0), (2, 3.6647276878356934, 28.0), (2, 10.681393146514893, 36.0), (2, 9.651707887649536, 80.0), (2, 2.0115671157836914, 37.0), (2, 12.324680089950562, 30.0), (2, 13.25160551071167, 30.0), (2, 12.446441650390625, 32.0), (2, 12.296679019927979, 42.0), (2, 2.3946945667266846, 41.0), (2, 21.457980155944824, 33.0), (2, 8.528431177139282, 38.0), (2, 16.992549657821655, 36.0), (2, 14.571833610534668, 27.0)]),\n",
       "        list([(1.5213165283203125, 300000.0, -0.0), (1, 12.693090677261353, 150000.0), (2, 1.6112301349639893, 132568.0), (2, 33.09945821762085, 102.0), (2, 15.732086658477783, 104.0), (2, 3.145278215408325, 111.0), (2, 2.037851095199585, 121.0), (2, 2.0495097637176514, 116.0), (2, 3.135392189025879, 123.0), (2, 3.1495988368988037, 119.0), (2, 3.2076404094696045, 104.0), (2, 2.0661754608154297, 115.0), (2, 2.367305278778076, 110.0), (2, 3.1281731128692627, 95.0), (2, 3.249654769897461, 114.0), (2, 2.405075788497925, 109.0), (2, 2.5076355934143066, 118.0), (2, 1.3617522716522217, 412.0), (2, 1.4763948917388916, 72.0), (2, 3.204775094985962, 86.0), (2, 3.05889892578125, 96.0), (2, 3.5691308975219727, 75.0), (2, 3.1268749237060547, 74.0), (2, 3.418487787246704, 72.0), (2, 3.8735718727111816, 62.0), (2, 4.945795774459839, 74.0), (2, 3.454679250717163, 72.0), (2, 3.3953046798706055, 279.0), (2, 1.1323611736297607, 49.0), (2, 3.94279408454895, 74.0), (2, 1.0908093452453613, 33.0), (2, 5.387301445007324, 37.0), (2, 2.5215299129486084, 47.0), (2, 2.6356077194213867, 38.0), (2, 2.855923652648926, 50.0), (2, 7.145175933837891, 35.0), (2, 2.6921236515045166, 34.0), (2, 2.978957176208496, 52.0), (2, 3.0285744667053223, 40.0), (2, 6.134708404541016, 39.0), (2, 10.223289966583252, 49.0), (2, 11.495200157165527, 38.0), (2, 6.929738521575928, 110.0), (2, 7.529291868209839, 32.0), (2, 13.365402698516846, 31.0), (2, 17.011435747146606, 23.0), (2, 5.69701361656189, 50.0), (2, 9.33706283569336, 29.0), (2, 22.5385000705719, 3.0), (2, 3.2427163124084473, 34.0), (2, 3.1001529693603516, 32.0)]),\n",
       "        list([(1.4925460815429688, 300000.0, -0.0), (1, 12.830684423446655, 150000.0), (2, 1.6460292339324951, 132742.0), (1, 4.277684926986694, 5.820766091346741e-11), (2, 31.43547511100769, 135.0), (2, 15.092690467834473, 102.0), (1, 1.0223267078399658, 1.4551915228366852e-10), (2, 2.196112871170044, 121.0), (2, 2.1069610118865967, 118.0), (2, 3.1937618255615234, 113.0), (2, 2.325329542160034, 129.0), (2, 3.4058055877685547, 124.0), (2, 2.4763622283935547, 127.0), (2, 3.5600478649139404, 140.0), (2, 3.073728561401367, 92.0), (2, 2.4086174964904785, 100.0), (2, 3.187150478363037, 111.0), (2, 1.1888186931610107, 325.0), (2, 2.1453914642333984, 85.0), (2, 3.304370880126953, 89.0), (2, 2.0718512535095215, 90.0), (2, 3.2206718921661377, 67.0), (2, 3.084503173828125, 75.0), (2, 3.5059585571289062, 75.0), (2, 4.41990327835083, 71.0), (2, 3.0076327323913574, 77.0), (2, 3.42683744430542, 59.0), (2, 3.48854923248291, 62.0), (2, 4.843339681625366, 65.0), (2, 3.561988592147827, 66.0), (2, 4.120331525802612, 47.0), (2, 5.579834938049316, 55.0), (2, 2.7119386196136475, 57.0), (2, 5.780598402023315, 52.0), (2, 2.905184507369995, 66.0), (2, 2.9485745429992676, 72.0), (2, 2.7987139225006104, 38.0), (2, 3.2485883235931396, 44.0), (2, 2.884549617767334, 44.0), (2, 11.00602102279663, 60.0), (2, 10.947169542312622, 53.0), (2, 12.094196557998657, 47.0), (2, 12.710763454437256, 185.0), (2, 1.8549504280090332, 27.0), (2, 11.470215082168579, 45.0), (2, 18.82727837562561, 28.0), (2, 14.663686513900757, 34.0), (2, 7.343486785888672, 50.0), (2, 16.46273970603943, 35.0), (2, 3.4994101524353027, 36.0)])]],\n",
       "      dtype=object)</pre></div></div></li><li class='xr-section-item'><input id='section-db1765ee-dd4c-47be-820c-f479b867b055' class='xr-section-summary-in' type='checkbox'  checked><label for='section-db1765ee-dd4c-47be-820c-f479b867b055' class='xr-section-summary' >Coordinates: <span>(2)</span></label><div class='xr-section-inline-details'></div><div class='xr-section-details'><ul class='xr-var-list'><li class='xr-var-item'><div class='xr-var-name'><span class='xr-has-index'>N</span></div><div class='xr-var-dims'>(N)</div><div class='xr-var-dtype'>int64</div><div class='xr-var-preview xr-preview'>30 64 100 ... 50000 75000 100000</div><input id='attrs-01536247-0890-4791-83c0-b60166769af5' class='xr-var-attrs-in' type='checkbox' disabled><label for='attrs-01536247-0890-4791-83c0-b60166769af5' title='Show/Hide attributes'><svg class='icon xr-icon-file-text2'><use xlink:href='#icon-file-text2'></use></svg></label><input id='data-d1522417-14ed-4743-b6a7-4fa891df1164' class='xr-var-data-in' type='checkbox'><label for='data-d1522417-14ed-4743-b6a7-4fa891df1164' title='Show/Hide data repr'><svg class='icon xr-icon-database'><use xlink:href='#icon-database'></use></svg></label><div class='xr-var-attrs'><dl class='xr-attrs'></dl></div><div class='xr-var-data'><pre>array([    30,     64,    100,    150,    574,   1000,   1400,   5000,   5200,\n",
       "         7600,  10000,  12400,  15000,  27500,  40000,  50000,  75000, 100000])</pre></div></li><li class='xr-var-item'><div class='xr-var-name'><span class='xr-has-index'>seed</span></div><div class='xr-var-dims'>(seed)</div><div class='xr-var-dtype'>int64</div><div class='xr-var-preview xr-preview'>10 11 12 13 14 ... 106 107 108 109</div><input id='attrs-41fc6661-8cb6-4e05-966b-8336cc8c1ad5' class='xr-var-attrs-in' type='checkbox' disabled><label for='attrs-41fc6661-8cb6-4e05-966b-8336cc8c1ad5' title='Show/Hide attributes'><svg class='icon xr-icon-file-text2'><use xlink:href='#icon-file-text2'></use></svg></label><input id='data-552fd43e-c394-476b-ae8d-abddeb1498cb' class='xr-var-data-in' type='checkbox'><label for='data-552fd43e-c394-476b-ae8d-abddeb1498cb' title='Show/Hide data repr'><svg class='icon xr-icon-database'><use xlink:href='#icon-database'></use></svg></label><div class='xr-var-attrs'><dl class='xr-attrs'></dl></div><div class='xr-var-data'><pre>array([ 10,  11,  12,  13,  14,  15,  16,  17,  18,  19,  20,  21,  22,  23,\n",
       "        24,  25,  26,  27,  28,  29,  30,  31,  32,  33,  34,  35,  36,  37,\n",
       "        38,  39,  40,  41,  42,  43,  44,  45,  46,  47,  48,  49,  50,  51,\n",
       "        52,  53,  54,  55,  56,  57,  58,  59,  60,  61,  62,  63,  64,  65,\n",
       "        66,  67,  68,  69,  70,  71,  72,  73,  74,  75,  76,  77,  78,  79,\n",
       "        80,  81,  82,  83,  84,  85,  86,  87,  88,  89,  90,  91,  92,  93,\n",
       "        94,  95,  96,  97,  98,  99, 100, 101, 102, 103, 104, 105, 106, 107,\n",
       "       108, 109])</pre></div></li></ul></div></li><li class='xr-section-item'><input id='section-be249e2d-0f07-4de8-b9e1-c975b06588bd' class='xr-section-summary-in' type='checkbox' disabled ><label for='section-be249e2d-0f07-4de8-b9e1-c975b06588bd' class='xr-section-summary'  title='Expand/collapse section'>Attributes: <span>(0)</span></label><div class='xr-section-inline-details'></div><div class='xr-section-details'><dl class='xr-attrs'></dl></div></li></ul></div></div>"
      ],
      "text/plain": [
       "<xarray.DataArray (N: 18, seed: 100)>\n",
       "array([[list([(0.0016052722930908203, 90.0, -0.0), (1, 0.009133338928222656, 48.0), (2, 1, 39.0), (1, 0.01027369499206543, 1.0), (1, 0.00573420524597168, 2.0)]),\n",
       "        list([(0.0016260147094726562, 90.0, -0.0), (1, 0.011939764022827148, 48.0), (2, 1, 40.0), (1, 0.0069577693939208984, 2.0)]),\n",
       "        list([(0.0018780231475830078, 90.0, -0.0), (1, 0.0043108463287353516, 49.0), (2, 1, 41.0)]),\n",
       "        ...,\n",
       "        list([(0.0012898445129394531, 90.0, -0.0), (1, 0.010724782943725586, 47.00000000000001), (2, 1, 39.0), (1, 0.010035991668701172, 0.9999999999999929), (1, 0.010027408599853516, 1.0), (1, 0.001842498779296875, 2.0)]),\n",
       "        list([(0.0011916160583496094, 90.0, -0.0), (1, 0.015011072158813477, 48.0), (2, 1, 40.0), (1, 0.008001565933227539, 2.0)]),\n",
       "        list([(0.0012671947479248047, 90.0, -0.0), (1, 0.009620904922485352, 46.00000000000001), (2, 1, 42.0), (1, 0.008039236068725586, 1.999999999999993)])],\n",
       "       [list([(0.0015239715576171875, 192.0, -0.0), (1, 0.00903010368347168, 98.0), (2, 1, 83.0), (2, 0.04220700263977051, 2.0), (1, 0.011115550994873047, 1.0), (2, 1, 3.0), (1, 0.010871648788452148, 1.0), (1, 0.02107691764831543, 1.0), (1, 0.03200554847717285, 1.0), (1, 0.01058816909790039, 2.0)]),\n",
       "        list([(0.0015950202941894531, 192.0, -0.0), (1, 0.008929252624511719, 99.0), (2, 1, 85.0), (1, 0.011441230773925781, 1.0), (1, 0.04533696174621582, 1.0), (2, 1, 1.0), (1, 0.04099130630493164, 1.0), (1, 0.0309755802154541, 1.0), (1, 0.020908117294311523, 1.0), (1, 0.012838125228881836, 2.0)]),\n",
       "        list([(0.001613616943359375, 192.0, -0.0), (1, 0.008885622024536133, 99.0), (2, 1, 86.0), (1, 0.019083499908447266, 1.0), (1, 0.020769357681274414, 1.0), (2, 1, 2.0), (1, 0.010118484497070312, 1.0), (1, 0.008892536163330078, 2.0)]),\n",
       "        ...,\n",
       "        list([(0.0015692710876464844, 192.0, -0.0), (1, 0.009016275405883789, 98.0), (2, 1, 86.0), (1, 0.02787041664123535, 1.0), (1, 0.024776458740234375, 1.0), (2, 0.021352052688598633, 1.0), (1, 0.010138511657714844, 1.0), (1, 0.030500411987304688, 1.0), (1, 0.0303041934967041, 1.0), (1, 0.014657258987426758, 2.0)]),\n",
       "        list([(0.0016155242919921875, 192.0, -0.0), (1, 0.009670734405517578, 98.0), (2, 1, 87.0), (1, 0.010699987411499023, 1.0), (1, 0.03844332695007324, 1.0), (2, 0.010053634643554688, 2.0), (1, 0.0074002742767333984, 3.0)]),\n",
       "        list([(0.0023441314697265625, 192.0, -0.0), (1, 0.008148670196533203, 98.0), (2, 1, 86.0), (1, 0.011661767959594727, 2.0), (1, 0.021262168884277344, 1.0), (1, 0.022850513458251953, 1.0), (2, 1, 1.0), (1, 0.010380268096923828, 1.0), (1, 0.0028417110443115234, 2.0)])],\n",
       "       [list([(0.001947164535522461, 300.0, -0.0), (1, 0.008913993835449219, 153.0), (2, 1, 133.0), (1, 0.010154485702514648, 3.0), (2, 0.01745152473449707, 2.0), (2, 0.056909799575805664, 1.0), (1, 0.021114110946655273, 1.0), (2, 1, 1.0), (1, 0.0566563606262207, 1.0), (1, 0.08354973793029785, 1.0), (1, 0.13770246505737305, 1.0), (1, 0.1165618896484375, 1.0), (1, 0.07303881645202637, 2.0)]),\n",
       "        list([(0.0018186569213867188, 300.0, -0.0), (1, 0.00896596908569336, 153.0), (2, 1, 134.0), (1, 0.010528087615966797, 2.0), (1, 0.014715909957885742, 1.0), (2, 0.011034488677978516, 2.0), (2, 0.010111808776855469, 1.0), (1, 0.03177905082702637, 2.842170943040401e-14), (1, 0.031517744064331055, 0.9999999999999716), (1, 0.08753657341003418, 1.0), (1, 0.022977352142333984, 1.0), (1, 0.0647733211517334, 1.0), (1, 0.045485734939575195, 1.0), (1, 0.02756023406982422, 2.0)]),\n",
       "        list([(0.0018224716186523438, 300.0, -0.0), (1, 0.008562564849853516, 155.0), (2, 1, 129.0), (1, 0.012145519256591797, 2.0), (2, 0.010236740112304688, 3.0), (1, 0.010308265686035156, 1.0), (2, 0.10415983200073242, 1.0), (1, 0.05206871032714844, 1.0), (1, 0.17774415016174316, 1.0), (1, 0.0736851692199707, 1.0), (2, 0.14461517333984375, 2.0), (1, 0.07612752914428711, 1.0), (1, 0.1094369888305664, 1.0), (1, 0.08680081367492676, 1.0), (1, 0.014970779418945312, 1.0)]),\n",
       "        ...,\n",
       "        list([(0.0021610260009765625, 300.0, -0.0), (1, 0.009428024291992188, 152.0), (2, 1, 130.0), (1, 0.010008573532104492, 1.0000000000000284), (2, 1, 2.0), (1, 0.02704620361328125, 0.9999999999999716), (2, 0.012943506240844727, 2.0), (1, 0.010347366333007812, 1.0), (1, 0.06536650657653809, 1.0), (2, 1, 1.0), (2, 0.0714731216430664, 1.0), (1, 0.022057771682739258, 1.0), (1, 0.0643167495727539, 1.0), (1, 0.07224035263061523, 1.0), (1, 0.1256098747253418, 1.0), (1, 0.2272663116455078, 1.0), (1, 0.19259977340698242, 8.526512829121202e-14), (1, 0.010050296783447266, 0.9999999999999147), (1, 0.09071731567382812, 2.0)]),\n",
       "        list([(0.0021500587463378906, 300.0, -0.0), (1, 0.009099006652832031, 151.0), (2, 1, 134.0), (1, 0.010756731033325195, 3.0), (1, 0.030254840850830078, 1.0), (2, 0.010007619857788086, 1.0), (1, 0.020686864852905273, 1.0), (2, 0.01030421257019043, 2.0), (1, 0.020270824432373047, 1.0), (1, 0.04198026657104492, 1.0), (1, 0.09375882148742676, 1.0), (1, 0.09503984451293945, 1.0), (1, 0.10723447799682617, 1.0), (1, 0.060880184173583984, 2.0)]),\n",
       "...\n",
       "        list([(0.6766998767852783, 150000.0, -0.0), (1, 5.6608850955963135, 75000.0), (2, 0.04618573188781738, 54861.0), (2, 1.0369365215301514, 11582.0), (2, 25.862001180648804, 57.0), (2, 5.209496259689331, 48.0), (1, 1.0090034008026123, 1.3096723705530167e-10), (2, 1.0334084033966064, 66.0), (2, 1.0037052631378174, 55.0), (2, 1.0514774322509766, 44.0), (2, 2.0125038623809814, 60.0), (2, 1.0044257640838623, 59.0), (2, 1.1781740188598633, 49.0), (2, 1.0499465465545654, 51.0), (2, 2.038459539413452, 52.0), (2, 1.162003993988037, 56.0), (2, 1.0085258483886719, 42.0), (2, 1.1554219722747803, 59.0), (2, 1.032132625579834, 179.0), (2, 1.0970911979675293, 51.0), (2, 1.0138180255889893, 31.0), (2, 1.2724242210388184, 30.0), (2, 2.0133445262908936, 38.0), (2, 2.0130114555358887, 45.0), (2, 2.5167009830474854, 40.0), (2, 1.0202341079711914, 34.0), (2, 2.013538122177124, 31.0), (2, 1.3389759063720703, 26.0), (2, 1.3007118701934814, 120.0), (2, 1.0387098789215088, 22.0), (2, 2.1577818393707275, 20.0), (2, 2.277285099029541, 23.0), (2, 2.724970579147339, 21.0), (2, 3.176060199737549, 24.0), (2, 3.80403733253479, 83.0), (2, 1.0373096466064453, 19.0), (2, 1.0084574222564697, 21.0), (2, 1.3112668991088867, 18.0), (2, 1.6278979778289795, 19.0), (2, 2.0521657466888428, 16.0), (2, 1.1363542079925537, 16.0), (2, 5.274403810501099, 24.0), (2, 5.917752504348755, 22.0), (2, 6.5280280113220215, 23.0), (2, 1.3132951259613037, 23.0), (2, 7.051026344299316, 15.0), (2, 7.28013277053833, 22.0), (2, 1.1289591789245605, 16.0), (2, 9.057959794998169, 17.0), (2, 4.060594797134399, 19.0), (2, 7.913832187652588, 15.0), (2, 8.812230110168457, 6.0), (2, 5.389546632766724, 14.0), (2, 9.21248173713684, 19.0), (2, 11.02811598777771, 13.0), (2, 67.4157440662384, 24.0)]),\n",
       "        ...,\n",
       "        list([(0.7323122024536133, 150000.0, -0.0), (1, 5.961587190628052, 75000.0), (2, 0.046352386474609375, 55056.0), (2, 1.0463640689849854, 11478.0), (1, 1.0460002422332764, 1.0), (1, 1.0663955211639404, 1.0000000001164153), (2, 8.946340084075928, 45.0), (2, 68.9314112663269, 47.0), (2, 6.112088918685913, 48.0), (1, 1.0436110496520996, 1.0186340659856796e-10), (2, 1.2361669540405273, 50.0), (2, 2.1604108810424805, 60.0), (2, 2.082974910736084, 44.0), (2, 2.050809621810913, 58.0), (2, 1.181899070739746, 56.0), (2, 1.0634784698486328, 157.0), (2, 1.0114881992340088, 70.0), (2, 2.0339200496673584, 44.0), (2, 1.0615413188934326, 61.0), (2, 2.0287961959838867, 47.0), (2, 2.0865676403045654, 41.0), (2, 2.0094025135040283, 44.0), (2, 2.5422704219818115, 39.0), (2, 1.0453553199768066, 39.0), (2, 1.0000393390655518, 164.0), (2, 1.047386884689331, 27.0), (2, 2.0755841732025146, 31.0), (2, 1.0251333713531494, 52.0), (2, 1.337989091873169, 35.0), (2, 1.0242249965667725, 25.0), (2, 2.0963709354400635, 20.0), (2, 2.5343196392059326, 19.0), (2, 2.1114959716796875, 16.0), (2, 1.1529524326324463, 80.0), (2, 1.0124306678771973, 13.0), (2, 2.9473540782928467, 24.0), (2, 2.230883836746216, 15.0), (2, 2.0686450004577637, 17.0), (2, 1.012885570526123, 16.0), (2, 2.4018120765686035, 14.0), (2, 2.1808295249938965, 14.0), (2, 1.5742242336273193, 12.0), (2, 1.0154953002929688, 16.0), (2, 1.0098857879638672, 20.0), (2, 2.2723662853240967, 18.0), (2, 2.599665403366089, 20.0), (2, 2.1890313625335693, 18.0), (2, 2.330415725708008, 11.0), (2, 1.2969622611999512, 14.0), (2, 1.3666057586669922, 18.0), (2, 2.7198824882507324, 11.0), (2, 2.093291997909546, 10.0), (2, 2.2080421447753906, 5.0), (2, 2.2143280506134033, 6.0), (2, 1.0547845363616943, 6.0), (2, 1.5529170036315918, 8.0), (2, 2.452139377593994, 6.0), (2, 1.0509147644042969, 8.0), (2, 1.4813148975372314, 10.0), (2, 1.003509521484375, 2.0), (2, 4.211304187774658, 15.0), (2, 1.882993221282959, 4.0), (2, 10.537579774856567, 10.0), (2, 1.0171878337860107, 7.0), (2, 2.0112199783325195, 3.0), (2, 7.7987060546875, 2.0), (2, 4.973984718322754, 7.0), (2, 7.28968620300293, 13.0), (2, 1.2993428707122803, 6.0), (2, 7.182687997817993, 7.0), (2, 4.246178388595581, 12.0), (2, 6.734462022781372, 11.0), (2, 4.727810859680176, 15.0)]),\n",
       "        list([(0.7293517589569092, 150000.0, -0.0), (1, 6.107624530792236, 75000.0), (2, 0.04635906219482422, 54864.0), (2, 1.078111171722412, 11406.0), (1, 1.024566411972046, 5.820766091346741e-11), (2, 28.96165442466736, 59.0), (2, 8.16222357749939, 40.0), (2, 2.005147695541382, 56.0), (2, 1.0330946445465088, 55.0), (2, 1.1669325828552246, 62.0), (2, 2.0538792610168457, 82.0), (2, 1.0141799449920654, 51.0), (2, 2.0404715538024902, 52.0), (2, 1.0046148300170898, 75.0), (2, 1.0174283981323242, 54.0), (2, 1.0929512977600098, 187.0), (2, 2.039898157119751, 61.0), (2, 1.0063457489013672, 38.0), (2, 1.0004839897155762, 44.0), (2, 2.21540904045105, 44.0), (2, 1.023766279220581, 40.0), (2, 1.2741529941558838, 34.0), (2, 2.0716705322265625, 50.0), (2, 2.3664138317108154, 42.0), (2, 1.0145103931427002, 54.0), (2, 2.015850067138672, 39.0), (2, 1.2896664142608643, 43.0), (2, 1.3690438270568848, 178.0), (2, 1.0570430755615234, 13.0), (2, 2.611830949783325, 25.0), (2, 2.1955244541168213, 28.0), (2, 2.607529401779175, 12.0), (2, 3.2762227058410645, 24.0), (2, 1.1261324882507324, 17.0), (2, 4.023874044418335, 17.0), (2, 1.1655850410461426, 20.0), (2, 2.034001111984253, 26.0), (2, 1.2146060466766357, 32.0), (2, 2.1321756839752197, 17.0), (2, 6.11334490776062, 9.0), (2, 6.400323390960693, 33.0), (2, 2.5716161727905273, 56.0), (2, 4.530677080154419, 23.0), (2, 6.905076026916504, 19.0), (2, 6.690643548965454, 22.0), (2, 2.1233837604522705, 17.0), (2, 10.502009868621826, 21.0), (2, 4.397124528884888, 19.0), (2, 7.171190023422241, 12.0), (2, 10.653400182723999, 19.0), (2, 3.520242691040039, 7.0), (2, 13.695949077606201, 1.0), (2, 67.06940221786499, 36.0)]),\n",
       "        list([(0.7264888286590576, 150000.0, -0.0), (1, 6.153318643569946, 75000.0), (2, 0.05035138130187988, 55089.0), (2, 1.081465244293213, 11335.0), (1, 1.022463083267212, 2.9103830456733704e-11), (2, 15.146514654159546, 40.0), (2, 8.264631986618042, 52.0), (2, 2.051586866378784, 67.0), (2, 1.0364327430725098, 41.0), (2, 2.046419143676758, 51.0), (2, 1.0433387756347656, 60.0), (2, 2.0527565479278564, 43.0), (2, 1.0077903270721436, 57.0), (2, 2.016991138458252, 75.0), (2, 1.0092394351959229, 54.0), (2, 2.0572876930236816, 55.0), (2, 1.074230432510376, 44.0), (2, 2.0500385761260986, 48.0), (2, 1.0034170150756836, 51.0), (2, 2.250070095062256, 261.0), (2, 1.038008451461792, 49.0), (2, 2.361738681793213, 28.0), (2, 1.0126733779907227, 37.0), (2, 2.1598122119903564, 33.0), (2, 2.031348466873169, 26.0), (2, 1.242046594619751, 47.0), (2, 1.2421042919158936, 110.0), (2, 1.0103199481964111, 19.0), (2, 2.3745968341827393, 22.0), (2, 2.5737574100494385, 27.0), (2, 2.3026039600372314, 30.0), (2, 2.735370397567749, 15.0), (2, 1.2436249256134033, 22.0), (2, 2.0307085514068604, 22.0), (2, 1.0253913402557373, 18.0), (2, 2.0031235218048096, 23.0), (2, 3.7407889366149902, 18.0), (2, 5.352495908737183, 16.0), (2, 5.050810813903809, 64.0), (2, 1.0103626251220703, 16.0), (2, 6.68975305557251, 17.0), (2, 6.216174364089966, 15.0), (2, 4.707839488983154, 31.0), (2, 2.1255009174346924, 20.0), (2, 7.598627328872681, 12.0), (2, 4.5944905281066895, 23.0), (2, 4.283819675445557, 13.0), (2, 10.717626094818115, 2.0), (2, 1.1757473945617676, 10.0), (2, 7.994737148284912, 19.0), (2, 8.994825601577759, 3.0), (2, 5.124458074569702, 20.0), (2, 8.661274671554565, 20.0), (2, 6.9838972091674805, 1.0), (1, 39.32477617263794, 0.9999999999708962)])],\n",
       "       [list([(1.3127033710479736, 225000.0, -0.0), (1, 11.793404340744019, 112500.0), (2, 1.3960156440734863, 99509.0), (1, 3.7017064094543457, 5.820766091346741e-11), (2, 22.522626638412476, 78.0), (2, 17.20035481452942, 82.0), (2, 2.3800861835479736, 70.0), (2, 2.1291308403015137, 99.0), (2, 2.033280372619629, 73.0), (2, 3.1006417274475098, 90.0), (2, 2.0207412242889404, 85.0), (2, 2.1798512935638428, 91.0), (2, 2.372324228286743, 66.0), (2, 3.1260666847229004, 91.0), (2, 2.1808838844299316, 59.0), (2, 2.1336331367492676, 72.0), (2, 2.410468578338623, 83.0), (2, 1.31209135055542, 275.0), (2, 1.3202996253967285, 65.0), (2, 3.582350969314575, 81.0), (2, 1.040313482284546, 141.0), (2, 1.0136334896087646, 53.0), (2, 2.8662614822387695, 62.0), (2, 3.4137139320373535, 58.0), (2, 4.634122371673584, 53.0), (2, 5.033247947692871, 52.0), (2, 3.1913979053497314, 52.0), (2, 4.289770841598511, 41.0), (2, 2.067530870437622, 37.0), (2, 2.1250877380371094, 49.0), (2, 2.4720475673675537, 45.0), (2, 2.6114532947540283, 37.0), (2, 3.8398046493530273, 36.0), (2, 2.552572011947632, 32.0), (2, 3.704638957977295, 52.0), (2, 2.563636302947998, 39.0), (2, 6.589273452758789, 139.0), (2, 1.0697214603424072, 14.0), (2, 10.380054950714111, 17.0), (2, 6.84343957901001, 33.0), (2, 8.260380506515503, 31.0), (2, 8.525671005249023, 26.0), (2, 8.393466472625732, 26.0), (2, 8.896896123886108, 60.0), (2, 1.4726183414459229, 24.0), (2, 9.798579216003418, 16.0), (2, 10.070105075836182, 31.0), (2, 11.050970792770386, 34.0), (2, 7.110611200332642, 23.0), (2, 22.65308976173401, 11.0), (2, 2.5246474742889404, 15.0), (2, 21.281017780303955, 4.0), (2, 17.12384557723999, 8.0)]),\n",
       "        list([(1.2154242992401123, 225000.0, -0.0), (1, 11.924392700195312, 112500.0), (2, 1.47324800491333, 99605.0), (1, 19.80423641204834, 4.3655745685100555e-11), (2, 33.432037591934204, 79.0), (2, 18.489413499832153, 87.0), (2, 3.328922748565674, 79.0), (2, 3.1671347618103027, 81.0), (2, 2.2405545711517334, 89.0), (2, 3.4278197288513184, 105.0), (2, 2.3018839359283447, 72.0), (2, 3.1177918910980225, 74.0), (2, 2.2056190967559814, 82.0), (2, 3.1128485202789307, 81.0), (2, 2.3275675773620605, 79.0), (2, 3.1492741107940674, 58.0), (2, 3.253443717956543, 64.0), (2, 2.222951650619507, 78.0), (2, 2.548598289489746, 60.0), (2, 3.3823888301849365, 62.0), (2, 3.0991897583007812, 60.0), (2, 2.1333673000335693, 295.0), (2, 1.0704841613769531, 66.0), (2, 3.1755826473236084, 56.0), (2, 3.324355125427246, 44.0), (2, 3.1157147884368896, 40.0), (2, 4.316004514694214, 55.0), (2, 3.996354341506958, 40.0), (2, 3.68660831451416, 33.0), (2, 4.318926095962524, 35.0), (2, 3.986541271209717, 33.0), (2, 4.844711780548096, 40.0), (2, 2.0521535873413086, 50.0), (2, 2.1050713062286377, 46.0), (2, 2.2819578647613525, 48.0), (2, 5.7945287227630615, 26.0), (2, 2.300410032272339, 28.0), (2, 2.560955047607422, 31.0), (2, 2.617549419403076, 29.0), (2, 6.046994924545288, 35.0), (2, 9.972695350646973, 27.0), (2, 8.254179000854492, 109.0), (2, 2.232860803604126, 25.0), (2, 12.534785270690918, 34.0), (2, 16.019235372543335, 24.0), (2, 11.011080503463745, 43.0), (2, 9.192790746688843, 21.0), (2, 14.379490852355957, 19.0), (2, 9.20337963104248, 28.0), (2, 5.331773996353149, 27.0)]),\n",
       "        list([(1.2169573307037354, 225000.0, -0.0), (1, 12.27624225616455, 112500.0), (2, 1.541975975036621, 99833.0), (1, 1.7980732917785645, 1.4551915228366852e-11), (2, 31.886735439300537, 68.0), (2, 18.398180961608887, 65.0), (1, 1.058326244354248, 1.0186340659856796e-10), (2, 2.398364305496216, 78.0), (2, 2.050464630126953, 85.0), (2, 2.0363786220550537, 96.0), (2, 3.46830153465271, 71.0), (2, 2.0877578258514404, 60.0), (2, 3.317673683166504, 62.0), (2, 3.045161724090576, 70.0), (2, 2.3688817024230957, 76.0), (2, 3.1571738719940186, 80.0), (2, 2.225865364074707, 71.0), (2, 3.214369297027588, 60.0), (2, 1.100778341293335, 244.0), (2, 2.173027515411377, 63.0), (2, 3.064152956008911, 62.0), (2, 3.221855878829956, 45.0), (2, 2.8113813400268555, 72.0), (2, 3.7114646434783936, 61.0), (2, 4.238314151763916, 42.0), (2, 3.165602445602417, 44.0), (2, 3.5395336151123047, 40.0), (2, 3.7634434700012207, 41.0), (2, 4.451653718948364, 55.0), (2, 3.989492177963257, 35.0), (2, 4.08403754234314, 30.0), (2, 4.553415536880493, 31.0), (2, 2.141934394836426, 44.0), (2, 5.5595550537109375, 35.0), (2, 2.2089526653289795, 33.0), (2, 2.857051134109497, 39.0), (2, 2.390187978744507, 33.0), (2, 3.958646774291992, 29.0), (2, 9.552668333053589, 38.0), (2, 7.839742422103882, 34.0), (2, 10.144490003585815, 45.0), (2, 9.731086730957031, 38.0), (2, 6.926134824752808, 132.0), (2, 4.8854193687438965, 29.0), (2, 14.525933980941772, 22.0), (2, 15.475080490112305, 25.0), (2, 6.313724517822266, 42.0), (2, 13.82231593132019, 21.0), (2, 2.1380116939544678, 10.0)]),\n",
       "        ...,\n",
       "        list([(1.19938063621521, 225000.0, -0.0), (1, 12.127511978149414, 112500.0), (2, 1.600691795349121, 99603.0), (1, 3.8772239685058594, 1.4551915228366852e-11), (2, 20.877299547195435, 88.0), (2, 9.943408012390137, 83.0), (1, 1.0718402862548828, 2.9103830456733704e-11), (2, 2.1078217029571533, 85.0), (2, 2.0943944454193115, 84.0), (2, 2.0888805389404297, 77.0), (2, 2.0908362865448, 75.0), (2, 2.37038516998291, 76.0), (2, 2.0137016773223877, 88.0), (2, 2.314749240875244, 87.0), (2, 1.2869436740875244, 80.0), (2, 2.053530216217041, 80.0), (2, 2.06192946434021, 78.0), (2, 2.0989630222320557, 72.0), (2, 2.041940212249756, 56.0), (2, 2.2824130058288574, 79.0), (2, 2.2765488624572754, 87.0), (2, 2.5926806926727295, 64.0), (2, 2.792478322982788, 74.0), (2, 1.3852131366729736, 302.0), (2, 1.1872828006744385, 49.0), (2, 1.552696943283081, 60.0), (2, 1.0462181568145752, 26.0), (2, 3.602585792541504, 53.0), (2, 3.3009629249572754, 41.0), (2, 3.115708351135254, 30.0), (2, 3.528201103210449, 40.0), (2, 3.7858784198760986, 64.0), (2, 4.385641098022461, 32.0), (2, 2.078810930252075, 30.0), (2, 2.2918081283569336, 31.0), (2, 2.099912643432617, 23.0), (2, 9.129807472229004, 36.0), (2, 4.34130072593689, 27.0), (2, 9.05049204826355, 24.0), (2, 9.250095844268799, 22.0), (2, 8.893622159957886, 115.0), (2, 1.9593815803527832, 25.0), (2, 10.437388181686401, 19.0), (2, 11.301381349563599, 31.0), (2, 11.112263202667236, 21.0), (2, 8.538584470748901, 44.0), (2, 4.449790954589844, 24.0), (2, 14.3780837059021, 24.0), (2, 19.926265001296997, 28.0), (2, 4.698239088058472, 35.0), (2, 18.315601348876953, 14.0), (2, 18.7692289352417, 5.0)]),\n",
       "        list([(1.2431960105895996, 225000.0, -0.0), (1, 12.48708724975586, 112500.0), (2, 1.4658973217010498, 99762.0), (2, 30.97572112083435, 75.0), (2, 21.294965028762817, 68.0), (2, 3.181147575378418, 86.0), (2, 2.043333053588867, 70.0), (2, 2.0502448081970215, 85.0), (2, 2.3893260955810547, 82.0), (2, 3.292538642883301, 72.0), (2, 2.148331880569458, 69.0), (2, 3.4258296489715576, 88.0), (2, 2.2485148906707764, 92.0), (2, 2.127047061920166, 69.0), (2, 2.1345176696777344, 71.0), (2, 2.2956297397613525, 76.0), (2, 2.2500312328338623, 77.0), (2, 2.310758352279663, 88.0), (2, 2.2829904556274414, 66.0), (2, 2.8398072719573975, 84.0), (2, 2.5542519092559814, 50.0), (2, 3.017817258834839, 58.0), (2, 3.2399442195892334, 55.0), (2, 3.1191697120666504, 52.0), (2, 4.28010630607605, 49.0), (2, 4.8183348178863525, 42.0), (2, 4.15057110786438, 41.0), (2, 3.6541876792907715, 39.0), (2, 2.0186874866485596, 51.0), (2, 2.1354427337646484, 54.0), (2, 4.475662708282471, 35.0), (2, 2.7181529998779297, 57.0), (2, 2.587942123413086, 58.0), (2, 3.410433053970337, 51.0), (2, 3.129211902618408, 196.0), (2, 1.2911818027496338, 21.0), (2, 9.90699291229248, 31.0), (2, 11.622004747390747, 21.0), (2, 10.49986481666565, 34.0), (2, 5.507949590682983, 132.0), (2, 6.321108341217041, 22.0), (2, 13.38654351234436, 23.0), (2, 12.401916265487671, 37.0), (2, 2.568722724914551, 28.0), (2, 17.19136071205139, 22.0), (2, 8.686301708221436, 23.0), (2, 10.578347444534302, 9.0), (2, 16.806676387786865, 23.0), (2, 7.98290228843689, 19.0)]),\n",
       "        list([(1.1583750247955322, 225000.0, -0.0), (1, 10.599383354187012, 112500.0), (2, 1.405712366104126, 99696.0), (1, 3.6010138988494873, 1.4551915228366852e-11), (2, 26.698244094848633, 85.0), (2, 17.755183696746826, 77.0), (2, 3.077533721923828, 71.0), (2, 2.1056559085845947, 79.0), (2, 2.1360836029052734, 75.0), (2, 2.175421714782715, 81.0), (2, 2.1023519039154053, 81.0), (2, 2.0791268348693848, 92.0), (2, 1.1103765964508057, 168.0), (2, 2.2908108234405518, 70.0), (2, 2.0394277572631836, 78.0), (2, 2.106886148452759, 73.0), (2, 2.0954489707946777, 67.0), (2, 2.207987070083618, 49.0), (2, 2.1209425926208496, 62.0), (2, 2.484997034072876, 57.0), (2, 2.382052421569824, 75.0), (2, 2.71309757232666, 58.0), (2, 2.812574625015259, 60.0), (2, 2.822866439819336, 60.0), (2, 2.756542444229126, 53.0), (2, 3.006681442260742, 56.0), (2, 4.763253450393677, 52.0), (2, 3.0820696353912354, 45.0), (2, 3.28602933883667, 40.0), (2, 3.7002711296081543, 36.0), (2, 4.547318458557129, 41.0), (2, 2.201932430267334, 43.0), (2, 2.1999244689941406, 61.0), (2, 5.079506874084473, 47.0), (2, 2.5611557960510254, 40.0), (2, 3.076235294342041, 50.0), (2, 8.982041835784912, 40.0), (2, 9.46558403968811, 43.0), (2, 11.249905586242676, 38.0), (2, 10.710007190704346, 32.0), (2, 15.23435378074646, 163.0), (2, 1.5020084381103516, 41.0), (2, 7.157395601272583, 23.0), (2, 15.04575514793396, 31.0), (2, 15.91490364074707, 18.0), (2, 11.511577129364014, 33.0), (2, 8.855024576187134, 24.0), (2, 22.705780029296875, 20.0), (2, 7.111219882965088, 30.0), (2, 8.379399299621582, 16.0), (2, 3.9111111164093018, 5.0)])],\n",
       "       [list([(1.853745460510254, 300000.0, -0.0), (1, 16.266143083572388, 150000.0), (2, 1.0419418811798096, 132759.0), (2, 37.49308395385742, 103.0), (2, 13.507493019104004, 78.0), (1, 1.0544118881225586, 1.1641532182693481e-10), (2, 2.193588972091675, 119.0), (2, 3.0998244285583496, 108.0), (2, 2.019605875015259, 107.0), (2, 2.171861171722412, 101.0), (2, 3.1444239616394043, 133.0), (2, 4.115716218948364, 136.0), (2, 1.0188477039337158, 301.0), (2, 2.2225358486175537, 100.0), (2, 3.173532485961914, 103.0), (2, 3.2195534706115723, 76.0), (2, 3.518397808074951, 95.0), (2, 3.453660726547241, 98.0), (2, 4.348509073257446, 90.0), (2, 3.3326668739318848, 93.0), (2, 3.8049681186676025, 98.0), (2, 4.648664951324463, 78.0), (2, 4.761506795883179, 77.0), (2, 4.32792329788208, 77.0), (2, 4.068221092224121, 83.0), (2, 5.113555669784546, 84.0), (2, 4.714903354644775, 67.0), (2, 5.044853210449219, 68.0), (2, 5.657569885253906, 71.0), (2, 6.691524267196655, 67.0), (2, 7.948863744735718, 52.0), (2, 3.468750238418579, 56.0), (2, 3.610764503479004, 57.0), (2, 9.076242923736572, 65.0), (2, 3.6513824462890625, 39.0), (2, 3.869050979614258, 52.0), (2, 10.873396873474121, 73.0), (2, 12.061248779296875, 232.0), (2, 1.569284439086914, 37.0), (2, 11.333854675292969, 103.0), (2, 4.526164293289185, 35.0), (2, 12.912545680999756, 28.0), (2, 15.478152751922607, 33.0), (2, 13.354220390319824, 27.0), (2, 4.283292293548584, 27.0), (2, 16.60460114479065, 38.0)]),\n",
       "        list([(1.8472886085510254, 300000.0, -0.0), (1, 16.363877773284912, 150000.0), (2, 1.0320208072662354, 132735.0), (1, 6.755818843841553, 8.731149137020111e-11), (2, 41.51561188697815, 95.0), (2, 19.167831420898438, 137.0), (2, 3.4128618240356445, 102.0), (2, 3.2311651706695557, 95.0), (2, 3.3196237087249756, 106.0), (2, 4.275882720947266, 113.0), (2, 3.305840492248535, 123.0), (2, 1.1559538841247559, 235.0), (2, 3.2913239002227783, 97.0), (2, 4.292228698730469, 115.0), (2, 4.384343147277832, 108.0), (2, 3.1662843227386475, 100.0), (2, 3.424574613571167, 99.0), (2, 3.6112828254699707, 96.0), (2, 3.4426417350769043, 97.0), (2, 4.811969995498657, 101.0), (2, 4.977315902709961, 115.0), (2, 5.228087663650513, 85.0), (2, 5.2873148918151855, 104.0), (2, 6.0200910568237305, 70.0), (2, 4.498853445053101, 66.0), (2, 5.290966510772705, 74.0), (2, 5.496240615844727, 66.0), (2, 4.77551794052124, 67.0), (2, 5.773525953292847, 64.0), (2, 6.22665548324585, 75.0), (2, 6.911462783813477, 54.0), (2, 9.211302518844604, 67.0), (2, 3.5693535804748535, 65.0), (2, 3.8645730018615723, 71.0), (2, 3.935047149658203, 58.0), (2, 4.000863552093506, 63.0), (2, 4.225250005722046, 60.0), (2, 1.6664204597473145, 245.0), (2, 3.845463275909424, 56.0), (2, 14.641947031021118, 35.0), (2, 16.188548803329468, 24.0), (2, 3.9535863399505615, 27.0), (2, 10.718195676803589, 49.0), (2, 14.826658725738525, 45.0), (2, 8.334649324417114, 82.0)]),\n",
       "        list([(1.8465461730957031, 300000.0, -0.0), (1, 13.526363134384155, 150000.0), (2, 2.009004831314087, 132385.0), (2, 47.329532861709595, 105.0), (2, 13.993935108184814, 104.0), (2, 4.331532716751099, 105.0), (2, 3.0764105319976807, 112.0), (2, 3.078460931777954, 120.0), (2, 2.34285306930542, 106.0), (2, 4.922940731048584, 125.0), (2, 2.460923433303833, 130.0), (2, 4.280261516571045, 118.0), (2, 3.350045680999756, 142.0), (2, 4.035904407501221, 116.0), (2, 3.6418819427490234, 100.0), (2, 3.460026502609253, 111.0), (2, 4.2091147899627686, 107.0), (2, 3.5235977172851562, 120.0), (2, 4.005934238433838, 90.0), (2, 4.691239356994629, 94.0), (2, 4.21897292137146, 102.0), (2, 4.7365922927856445, 96.0), (2, 4.918580532073975, 71.0), (2, 5.0857093334198, 77.0), (2, 6.859952926635742, 81.0), (2, 5.2299277782440186, 75.0), (2, 7.795192003250122, 78.0), (2, 5.830252647399902, 81.0), (2, 7.249269723892212, 74.0), (2, 3.8399698734283447, 75.0), (2, 3.8518781661987305, 84.0), (2, 3.965320348739624, 68.0), (2, 3.9560508728027344, 55.0), (2, 4.014075994491577, 56.0), (2, 3.7122318744659424, 71.0), (2, 12.561686992645264, 70.0), (2, 14.04080581665039, 75.0), (2, 16.171868324279785, 67.0), (2, 16.142335176467896, 77.0), (2, 15.509717226028442, 65.0), (2, 13.967593669891357, 283.0)]),\n",
       "        ...,\n",
       "        list([(1.5115642547607422, 300000.0, -0.0), (1, 10.743618488311768, 150000.0), (2, 1.6093859672546387, 132335.0), (2, 33.81650519371033, 115.0), (2, 11.839985132217407, 103.0), (1, 1.0034809112548828, 2.3283064365386963e-10), (2, 2.1363296508789062, 128.0), (2, 2.327620267868042, 114.0), (2, 2.2276017665863037, 114.0), (2, 2.308079957962036, 118.0), (2, 3.3638179302215576, 119.0), (2, 3.1331865787506104, 108.0), (2, 3.1119935512542725, 139.0), (2, 3.375683069229126, 124.0), (2, 2.07822322845459, 125.0), (2, 2.1786692142486572, 118.0), (2, 2.65531325340271, 134.0), (2, 3.18459153175354, 109.0), (2, 2.542492151260376, 101.0), (2, 3.3191511631011963, 92.0), (2, 3.213371992111206, 106.0), (2, 3.1344237327575684, 79.0), (2, 3.0688891410827637, 95.0), (2, 4.7618248462677, 83.0), (2, 3.5275766849517822, 78.0), (2, 3.3673996925354004, 82.0), (2, 3.5732882022857666, 75.0), (2, 3.913578987121582, 73.0), (2, 3.6790311336517334, 469.0), (2, 1.0541808605194092, 54.0), (2, 5.263794422149658, 42.0), (2, 6.406796216964722, 131.0), (2, 1.0329997539520264, 61.0), (2, 2.3410260677337646, 43.0), (2, 2.927182674407959, 36.0), (2, 2.6558752059936523, 34.0), (2, 2.6694495677948, 42.0), (2, 3.3806416988372803, 34.0), (2, 3.6647276878356934, 28.0), (2, 10.681393146514893, 36.0), (2, 9.651707887649536, 80.0), (2, 2.0115671157836914, 37.0), (2, 12.324680089950562, 30.0), (2, 13.25160551071167, 30.0), (2, 12.446441650390625, 32.0), (2, 12.296679019927979, 42.0), (2, 2.3946945667266846, 41.0), (2, 21.457980155944824, 33.0), (2, 8.528431177139282, 38.0), (2, 16.992549657821655, 36.0), (2, 14.571833610534668, 27.0)]),\n",
       "        list([(1.5213165283203125, 300000.0, -0.0), (1, 12.693090677261353, 150000.0), (2, 1.6112301349639893, 132568.0), (2, 33.09945821762085, 102.0), (2, 15.732086658477783, 104.0), (2, 3.145278215408325, 111.0), (2, 2.037851095199585, 121.0), (2, 2.0495097637176514, 116.0), (2, 3.135392189025879, 123.0), (2, 3.1495988368988037, 119.0), (2, 3.2076404094696045, 104.0), (2, 2.0661754608154297, 115.0), (2, 2.367305278778076, 110.0), (2, 3.1281731128692627, 95.0), (2, 3.249654769897461, 114.0), (2, 2.405075788497925, 109.0), (2, 2.5076355934143066, 118.0), (2, 1.3617522716522217, 412.0), (2, 1.4763948917388916, 72.0), (2, 3.204775094985962, 86.0), (2, 3.05889892578125, 96.0), (2, 3.5691308975219727, 75.0), (2, 3.1268749237060547, 74.0), (2, 3.418487787246704, 72.0), (2, 3.8735718727111816, 62.0), (2, 4.945795774459839, 74.0), (2, 3.454679250717163, 72.0), (2, 3.3953046798706055, 279.0), (2, 1.1323611736297607, 49.0), (2, 3.94279408454895, 74.0), (2, 1.0908093452453613, 33.0), (2, 5.387301445007324, 37.0), (2, 2.5215299129486084, 47.0), (2, 2.6356077194213867, 38.0), (2, 2.855923652648926, 50.0), (2, 7.145175933837891, 35.0), (2, 2.6921236515045166, 34.0), (2, 2.978957176208496, 52.0), (2, 3.0285744667053223, 40.0), (2, 6.134708404541016, 39.0), (2, 10.223289966583252, 49.0), (2, 11.495200157165527, 38.0), (2, 6.929738521575928, 110.0), (2, 7.529291868209839, 32.0), (2, 13.365402698516846, 31.0), (2, 17.011435747146606, 23.0), (2, 5.69701361656189, 50.0), (2, 9.33706283569336, 29.0), (2, 22.5385000705719, 3.0), (2, 3.2427163124084473, 34.0), (2, 3.1001529693603516, 32.0)]),\n",
       "        list([(1.4925460815429688, 300000.0, -0.0), (1, 12.830684423446655, 150000.0), (2, 1.6460292339324951, 132742.0), (1, 4.277684926986694, 5.820766091346741e-11), (2, 31.43547511100769, 135.0), (2, 15.092690467834473, 102.0), (1, 1.0223267078399658, 1.4551915228366852e-10), (2, 2.196112871170044, 121.0), (2, 2.1069610118865967, 118.0), (2, 3.1937618255615234, 113.0), (2, 2.325329542160034, 129.0), (2, 3.4058055877685547, 124.0), (2, 2.4763622283935547, 127.0), (2, 3.5600478649139404, 140.0), (2, 3.073728561401367, 92.0), (2, 2.4086174964904785, 100.0), (2, 3.187150478363037, 111.0), (2, 1.1888186931610107, 325.0), (2, 2.1453914642333984, 85.0), (2, 3.304370880126953, 89.0), (2, 2.0718512535095215, 90.0), (2, 3.2206718921661377, 67.0), (2, 3.084503173828125, 75.0), (2, 3.5059585571289062, 75.0), (2, 4.41990327835083, 71.0), (2, 3.0076327323913574, 77.0), (2, 3.42683744430542, 59.0), (2, 3.48854923248291, 62.0), (2, 4.843339681625366, 65.0), (2, 3.561988592147827, 66.0), (2, 4.120331525802612, 47.0), (2, 5.579834938049316, 55.0), (2, 2.7119386196136475, 57.0), (2, 5.780598402023315, 52.0), (2, 2.905184507369995, 66.0), (2, 2.9485745429992676, 72.0), (2, 2.7987139225006104, 38.0), (2, 3.2485883235931396, 44.0), (2, 2.884549617767334, 44.0), (2, 11.00602102279663, 60.0), (2, 10.947169542312622, 53.0), (2, 12.094196557998657, 47.0), (2, 12.710763454437256, 185.0), (2, 1.8549504280090332, 27.0), (2, 11.470215082168579, 45.0), (2, 18.82727837562561, 28.0), (2, 14.663686513900757, 34.0), (2, 7.343486785888672, 50.0), (2, 16.46273970603943, 35.0), (2, 3.4994101524353027, 36.0)])]],\n",
       "      dtype=object)\n",
       "Coordinates:\n",
       "  * N        (N) int64 30 64 100 150 574 1000 ... 27500 40000 50000 75000 100000\n",
       "  * seed     (seed) int64 10 11 12 13 14 15 16 ... 103 104 105 106 107 108 109"
      ]
     },
     "execution_count": 30,
     "metadata": {},
     "output_type": "execute_result"
    }
   ],
   "source": [
    "xd = xar.DataArray(gurobi_bytes, dims=('N', 'seed'), coords=(match_ext, seeds))\n",
    "xd"
   ]
  },
  {
   "cell_type": "code",
   "execution_count": 31,
   "metadata": {},
   "outputs": [],
   "source": [
    "def to_mh(item):\n",
    "    starts, *diffs = item\n",
    "    return miplog_helper.MiplogData.from_start_and_diffs(starts, diffs)"
   ]
  },
  {
   "cell_type": "code",
   "execution_count": 32,
   "metadata": {},
   "outputs": [
    {
     "data": {
      "text/plain": [
       "<matplotlib.legend.Legend at 0x7f708c925430>"
      ]
     },
     "execution_count": 32,
     "metadata": {},
     "output_type": "execute_result"
    },
    {
     "data": {
      "image/png": "[encoded data removed]",
      "text/plain": [
       "<Figure size 432x288 with 1 Axes>"
      ]
     },
     "metadata": {
      "needs_background": "light"
     },
     "output_type": "display_data"
    }
   ],
   "source": [
    "# check data\n",
    "seed = 1\n",
    "\n",
    "line = [to_mh(x).get_time_for_AR_lower(0.849)[0] for x in gurobi_bytes[:, seed]]\n",
    "plt.plot(match_ext, line, '*-', label='0.879')\n",
    "plt.xscale('log')\n",
    "plt.legend()\n",
    "line = [to_mh(x).get_time_for_AR_lower(0.95)[0] for x in gurobi_bytes[:, seed]]\n",
    "plt.plot(match_ext, line, '*-', label='0.95')\n",
    "\n",
    "line = [to_mh(x).get_time_for_AR_lower(0.98)[0] for x in gurobi_bytes[:, seed]]\n",
    "plt.plot(match_ext, line, label='0.98')\n",
    "plt.legend()"
   ]
  },
  {
   "cell_type": "code",
   "execution_count": 84,
   "metadata": {},
   "outputs": [
    {
     "data": {
      "text/plain": [
       "<matplotlib.legend.Legend at 0x7f6fc5699c70>"
      ]
     },
     "execution_count": 84,
     "metadata": {},
     "output_type": "execute_result"
    },
    {
     "data": {
      "image/png": "[encoded data removed]",
      "text/plain": [
       "<Figure size 432x288 with 1 Axes>"
      ]
     },
     "metadata": {
      "needs_background": "light"
     },
     "output_type": "display_data"
    }
   ],
   "source": [
    "# check data t0\n",
    "seed = 1\n",
    "def get_t0(x):\n",
    "    mh = to_mh(x)\n",
    "    return mh.miplog[4][0]\n",
    "    for t, b, c in mh.miplog:\n",
    "        if c>0:\n",
    "            return t\n",
    "\n",
    "line = [get_t0(x) for x in gurobi_bytes[:, seed]]\n",
    "plt.plot(match_ext, line, '*-', label='t0')\n",
    "plt.loglog()\n",
    "plt.plot(match_ext, line, '*-', label='t0')\n",
    "\n",
    "plt.legend()"
   ]
  },
  {
   "cell_type": "code",
   "execution_count": 108,
   "metadata": {},
   "outputs": [
    {
     "data": {
      "image/png": "[encoded data removed]",
      "text/plain": [
       "<Figure size 432x288 with 1 Axes>"
      ]
     },
     "metadata": {
      "needs_background": "light"
     },
     "output_type": "display_data"
    }
   ],
   "source": [
    "def get_t0_cf(x):\n",
    "    mh = to_mh(x)\n",
    "    for t, b, c in mh.miplog:\n",
    "        if c>0:\n",
    "            return c\n",
    "\n",
    "line = xar.apply_ufunc(get_t0_cf, xd, vectorize=True).median('seed')\n",
    "plt.plot(match_ext, np.array(line)/np.array(match_ext)/1.5, '*-', label='t0_cf')\n",
    "plt.xscale('log')\n",
    "\n",
    "plt.hlines(0.8828425408436951, min(match_ext), max(match_ext),\n",
    "           label=f'QAOA p={11}', color='blue', linewidth=1, \n",
    "           linestyle='--'\n",
    "          )\n",
    "plt.legend()\n",
    "plt.grid()"
   ]
  },
  {
   "cell_type": "code",
   "execution_count": 67,
   "metadata": {},
   "outputs": [
    {
     "data": {
      "text/html": [
       "<div><svg style=\"position: absolute; width: 0; height: 0; overflow: hidden\">\n",
       "<defs>\n",
       "<symbol id=\"icon-database\" viewBox=\"0 0 32 32\">\n",
       "<path d=\"M16 0c-8.837 0-16 2.239-16 5v4c0 2.761 7.163 5 16 5s16-2.239 16-5v-4c0-2.761-7.163-5-16-5z\"></path>\n",
       "<path d=\"M16 17c-8.837 0-16-2.239-16-5v6c0 2.761 7.163 5 16 5s16-2.239 16-5v-6c0 2.761-7.163 5-16 5z\"></path>\n",
       "<path d=\"M16 26c-8.837 0-16-2.239-16-5v6c0 2.761 7.163 5 16 5s16-2.239 16-5v-6c0 2.761-7.163 5-16 5z\"></path>\n",
       "</symbol>\n",
       "<symbol id=\"icon-file-text2\" viewBox=\"0 0 32 32\">\n",
       "<path d=\"M28.681 7.159c-0.694-0.947-1.662-2.053-2.724-3.116s-2.169-2.030-3.116-2.724c-1.612-1.182-2.393-1.319-2.841-1.319h-15.5c-1.378 0-2.5 1.121-2.5 2.5v27c0 1.378 1.122 2.5 2.5 2.5h23c1.378 0 2.5-1.122 2.5-2.5v-19.5c0-0.448-0.137-1.23-1.319-2.841zM24.543 5.457c0.959 0.959 1.712 1.825 2.268 2.543h-4.811v-4.811c0.718 0.556 1.584 1.309 2.543 2.268zM28 29.5c0 0.271-0.229 0.5-0.5 0.5h-23c-0.271 0-0.5-0.229-0.5-0.5v-27c0-0.271 0.229-0.5 0.5-0.5 0 0 15.499-0 15.5 0v7c0 0.552 0.448 1 1 1h7v19.5z\"></path>\n",
       "<path d=\"M23 26h-14c-0.552 0-1-0.448-1-1s0.448-1 1-1h14c0.552 0 1 0.448 1 1s-0.448 1-1 1z\"></path>\n",
       "<path d=\"M23 22h-14c-0.552 0-1-0.448-1-1s0.448-1 1-1h14c0.552 0 1 0.448 1 1s-0.448 1-1 1z\"></path>\n",
       "<path d=\"M23 18h-14c-0.552 0-1-0.448-1-1s0.448-1 1-1h14c0.552 0 1 0.448 1 1s-0.448 1-1 1z\"></path>\n",
       "</symbol>\n",
       "</defs>\n",
       "</svg>\n",
       "<style>/* CSS stylesheet for displaying xarray objects in jupyterlab.\n",
       " *\n",
       " */\n",
       "\n",
       ":root {\n",
       "  --xr-font-color0: var(--jp-content-font-color0, rgba(0, 0, 0, 1));\n",
       "  --xr-font-color2: var(--jp-content-font-color2, rgba(0, 0, 0, 0.54));\n",
       "  --xr-font-color3: var(--jp-content-font-color3, rgba(0, 0, 0, 0.38));\n",
       "  --xr-border-color: var(--jp-border-color2, #e0e0e0);\n",
       "  --xr-disabled-color: var(--jp-layout-color3, #bdbdbd);\n",
       "  --xr-background-color: var(--jp-layout-color0, white);\n",
       "  --xr-background-color-row-even: var(--jp-layout-color1, white);\n",
       "  --xr-background-color-row-odd: var(--jp-layout-color2, #eeeeee);\n",
       "}\n",
       "\n",
       "html[theme=dark],\n",
       "body.vscode-dark {\n",
       "  --xr-font-color0: rgba(255, 255, 255, 1);\n",
       "  --xr-font-color2: rgba(255, 255, 255, 0.54);\n",
       "  --xr-font-color3: rgba(255, 255, 255, 0.38);\n",
       "  --xr-border-color: #1F1F1F;\n",
       "  --xr-disabled-color: #515151;\n",
       "  --xr-background-color: #111111;\n",
       "  --xr-background-color-row-even: #111111;\n",
       "  --xr-background-color-row-odd: #313131;\n",
       "}\n",
       "\n",
       ".xr-wrap {\n",
       "  display: block;\n",
       "  min-width: 300px;\n",
       "  max-width: 700px;\n",
       "}\n",
       "\n",
       ".xr-text-repr-fallback {\n",
       "  /* fallback to plain text repr when CSS is not injected (untrusted notebook) */\n",
       "  display: none;\n",
       "}\n",
       "\n",
       ".xr-header {\n",
       "  padding-top: 6px;\n",
       "  padding-bottom: 6px;\n",
       "  margin-bottom: 4px;\n",
       "  border-bottom: solid 1px var(--xr-border-color);\n",
       "}\n",
       "\n",
       ".xr-header > div,\n",
       ".xr-header > ul {\n",
       "  display: inline;\n",
       "  margin-top: 0;\n",
       "  margin-bottom: 0;\n",
       "}\n",
       "\n",
       ".xr-obj-type,\n",
       ".xr-array-name {\n",
       "  margin-left: 2px;\n",
       "  margin-right: 10px;\n",
       "}\n",
       "\n",
       ".xr-obj-type {\n",
       "  color: var(--xr-font-color2);\n",
       "}\n",
       "\n",
       ".xr-sections {\n",
       "  padding-left: 0 !important;\n",
       "  display: grid;\n",
       "  grid-template-columns: 150px auto auto 1fr 20px 20px;\n",
       "}\n",
       "\n",
       ".xr-section-item {\n",
       "  display: contents;\n",
       "}\n",
       "\n",
       ".xr-section-item input {\n",
       "  display: none;\n",
       "}\n",
       "\n",
       ".xr-section-item input + label {\n",
       "  color: var(--xr-disabled-color);\n",
       "}\n",
       "\n",
       ".xr-section-item input:enabled + label {\n",
       "  cursor: pointer;\n",
       "  color: var(--xr-font-color2);\n",
       "}\n",
       "\n",
       ".xr-section-item input:enabled + label:hover {\n",
       "  color: var(--xr-font-color0);\n",
       "}\n",
       "\n",
       ".xr-section-summary {\n",
       "  grid-column: 1;\n",
       "  color: var(--xr-font-color2);\n",
       "  font-weight: 500;\n",
       "}\n",
       "\n",
       ".xr-section-summary > span {\n",
       "  display: inline-block;\n",
       "  padding-left: 0.5em;\n",
       "}\n",
       "\n",
       ".xr-section-summary-in:disabled + label {\n",
       "  color: var(--xr-font-color2);\n",
       "}\n",
       "\n",
       ".xr-section-summary-in + label:before {\n",
       "  display: inline-block;\n",
       "  content: '►';\n",
       "  font-size: 11px;\n",
       "  width: 15px;\n",
       "  text-align: center;\n",
       "}\n",
       "\n",
       ".xr-section-summary-in:disabled + label:before {\n",
       "  color: var(--xr-disabled-color);\n",
       "}\n",
       "\n",
       ".xr-section-summary-in:checked + label:before {\n",
       "  content: '▼';\n",
       "}\n",
       "\n",
       ".xr-section-summary-in:checked + label > span {\n",
       "  display: none;\n",
       "}\n",
       "\n",
       ".xr-section-summary,\n",
       ".xr-section-inline-details {\n",
       "  padding-top: 4px;\n",
       "  padding-bottom: 4px;\n",
       "}\n",
       "\n",
       ".xr-section-inline-details {\n",
       "  grid-column: 2 / -1;\n",
       "}\n",
       "\n",
       ".xr-section-details {\n",
       "  display: none;\n",
       "  grid-column: 1 / -1;\n",
       "  margin-bottom: 5px;\n",
       "}\n",
       "\n",
       ".xr-section-summary-in:checked ~ .xr-section-details {\n",
       "  display: contents;\n",
       "}\n",
       "\n",
       ".xr-array-wrap {\n",
       "  grid-column: 1 / -1;\n",
       "  display: grid;\n",
       "  grid-template-columns: 20px auto;\n",
       "}\n",
       "\n",
       ".xr-array-wrap > label {\n",
       "  grid-column: 1;\n",
       "  vertical-align: top;\n",
       "}\n",
       "\n",
       ".xr-preview {\n",
       "  color: var(--xr-font-color3);\n",
       "}\n",
       "\n",
       ".xr-array-preview,\n",
       ".xr-array-data {\n",
       "  padding: 0 5px !important;\n",
       "  grid-column: 2;\n",
       "}\n",
       "\n",
       ".xr-array-data,\n",
       ".xr-array-in:checked ~ .xr-array-preview {\n",
       "  display: none;\n",
       "}\n",
       "\n",
       ".xr-array-in:checked ~ .xr-array-data,\n",
       ".xr-array-preview {\n",
       "  display: inline-block;\n",
       "}\n",
       "\n",
       ".xr-dim-list {\n",
       "  display: inline-block !important;\n",
       "  list-style: none;\n",
       "  padding: 0 !important;\n",
       "  margin: 0;\n",
       "}\n",
       "\n",
       ".xr-dim-list li {\n",
       "  display: inline-block;\n",
       "  padding: 0;\n",
       "  margin: 0;\n",
       "}\n",
       "\n",
       ".xr-dim-list:before {\n",
       "  content: '(';\n",
       "}\n",
       "\n",
       ".xr-dim-list:after {\n",
       "  content: ')';\n",
       "}\n",
       "\n",
       ".xr-dim-list li:not(:last-child):after {\n",
       "  content: ',';\n",
       "  padding-right: 5px;\n",
       "}\n",
       "\n",
       ".xr-has-index {\n",
       "  font-weight: bold;\n",
       "}\n",
       "\n",
       ".xr-var-list,\n",
       ".xr-var-item {\n",
       "  display: contents;\n",
       "}\n",
       "\n",
       ".xr-var-item > div,\n",
       ".xr-var-item label,\n",
       ".xr-var-item > .xr-var-name span {\n",
       "  background-color: var(--xr-background-color-row-even);\n",
       "  margin-bottom: 0;\n",
       "}\n",
       "\n",
       ".xr-var-item > .xr-var-name:hover span {\n",
       "  padding-right: 5px;\n",
       "}\n",
       "\n",
       ".xr-var-list > li:nth-child(odd) > div,\n",
       ".xr-var-list > li:nth-child(odd) > label,\n",
       ".xr-var-list > li:nth-child(odd) > .xr-var-name span {\n",
       "  background-color: var(--xr-background-color-row-odd);\n",
       "}\n",
       "\n",
       ".xr-var-name {\n",
       "  grid-column: 1;\n",
       "}\n",
       "\n",
       ".xr-var-dims {\n",
       "  grid-column: 2;\n",
       "}\n",
       "\n",
       ".xr-var-dtype {\n",
       "  grid-column: 3;\n",
       "  text-align: right;\n",
       "  color: var(--xr-font-color2);\n",
       "}\n",
       "\n",
       ".xr-var-preview {\n",
       "  grid-column: 4;\n",
       "}\n",
       "\n",
       ".xr-var-name,\n",
       ".xr-var-dims,\n",
       ".xr-var-dtype,\n",
       ".xr-preview,\n",
       ".xr-attrs dt {\n",
       "  white-space: nowrap;\n",
       "  overflow: hidden;\n",
       "  text-overflow: ellipsis;\n",
       "  padding-right: 10px;\n",
       "}\n",
       "\n",
       ".xr-var-name:hover,\n",
       ".xr-var-dims:hover,\n",
       ".xr-var-dtype:hover,\n",
       ".xr-attrs dt:hover {\n",
       "  overflow: visible;\n",
       "  width: auto;\n",
       "  z-index: 1;\n",
       "}\n",
       "\n",
       ".xr-var-attrs,\n",
       ".xr-var-data {\n",
       "  display: none;\n",
       "  background-color: var(--xr-background-color) !important;\n",
       "  padding-bottom: 5px !important;\n",
       "}\n",
       "\n",
       ".xr-var-attrs-in:checked ~ .xr-var-attrs,\n",
       ".xr-var-data-in:checked ~ .xr-var-data {\n",
       "  display: block;\n",
       "}\n",
       "\n",
       ".xr-var-data > table {\n",
       "  float: right;\n",
       "}\n",
       "\n",
       ".xr-var-name span,\n",
       ".xr-var-data,\n",
       ".xr-attrs {\n",
       "  padding-left: 25px !important;\n",
       "}\n",
       "\n",
       ".xr-attrs,\n",
       ".xr-var-attrs,\n",
       ".xr-var-data {\n",
       "  grid-column: 1 / -1;\n",
       "}\n",
       "\n",
       "dl.xr-attrs {\n",
       "  padding: 0;\n",
       "  margin: 0;\n",
       "  display: grid;\n",
       "  grid-template-columns: 125px auto;\n",
       "}\n",
       "\n",
       ".xr-attrs dt,\n",
       ".xr-attrs dd {\n",
       "  padding: 0;\n",
       "  margin: 0;\n",
       "  float: left;\n",
       "  padding-right: 10px;\n",
       "  width: auto;\n",
       "}\n",
       "\n",
       ".xr-attrs dt {\n",
       "  font-weight: normal;\n",
       "  grid-column: 1;\n",
       "}\n",
       "\n",
       ".xr-attrs dt:hover span {\n",
       "  display: inline-block;\n",
       "  background: var(--xr-background-color);\n",
       "  padding-right: 10px;\n",
       "}\n",
       "\n",
       ".xr-attrs dd {\n",
       "  grid-column: 2;\n",
       "  white-space: pre-wrap;\n",
       "  word-break: break-all;\n",
       "}\n",
       "\n",
       ".xr-icon-database,\n",
       ".xr-icon-file-text2 {\n",
       "  display: inline-block;\n",
       "  vertical-align: middle;\n",
       "  width: 1em;\n",
       "  height: 1.5em !important;\n",
       "  stroke-width: 0;\n",
       "  stroke: currentColor;\n",
       "  fill: currentColor;\n",
       "}\n",
       "</style><pre class='xr-text-repr-fallback'>&lt;xarray.DataArray (N: 18)&gt;\n",
       "array([4.00000e+01, 8.50000e+01, 1.32000e+02, 1.99500e+02, 7.62000e+02,\n",
       "       1.32700e+03, 1.85450e+03, 6.63400e+03, 6.89750e+03, 1.00870e+04,\n",
       "       1.32565e+04, 1.64380e+04, 1.98980e+04, 3.02955e+04, 4.40235e+04,\n",
       "       5.50395e+04, 9.95830e+04, 1.32754e+05])\n",
       "Coordinates:\n",
       "  * N        (N) int64 30 64 100 150 574 1000 ... 27500 40000 50000 75000 100000</pre><div class='xr-wrap' hidden><div class='xr-header'><div class='xr-obj-type'>xarray.DataArray</div><div class='xr-array-name'></div><ul class='xr-dim-list'><li><span class='xr-has-index'>N</span>: 18</li></ul></div><ul class='xr-sections'><li class='xr-section-item'><div class='xr-array-wrap'><input id='section-e822e200-a037-4a86-8037-c541479b33fa' class='xr-array-in' type='checkbox' checked><label for='section-e822e200-a037-4a86-8037-c541479b33fa' title='Show/hide data repr'><svg class='icon xr-icon-database'><use xlink:href='#icon-database'></use></svg></label><div class='xr-array-preview xr-preview'><span>40.0 85.0 132.0 199.5 ... 4.402e+04 5.504e+04 9.958e+04 1.328e+05</span></div><div class='xr-array-data'><pre>array([4.00000e+01, 8.50000e+01, 1.32000e+02, 1.99500e+02, 7.62000e+02,\n",
       "       1.32700e+03, 1.85450e+03, 6.63400e+03, 6.89750e+03, 1.00870e+04,\n",
       "       1.32565e+04, 1.64380e+04, 1.98980e+04, 3.02955e+04, 4.40235e+04,\n",
       "       5.50395e+04, 9.95830e+04, 1.32754e+05])</pre></div></div></li><li class='xr-section-item'><input id='section-aec4892b-2566-4d43-9127-ef27ee60045e' class='xr-section-summary-in' type='checkbox'  checked><label for='section-aec4892b-2566-4d43-9127-ef27ee60045e' class='xr-section-summary' >Coordinates: <span>(1)</span></label><div class='xr-section-inline-details'></div><div class='xr-section-details'><ul class='xr-var-list'><li class='xr-var-item'><div class='xr-var-name'><span class='xr-has-index'>N</span></div><div class='xr-var-dims'>(N)</div><div class='xr-var-dtype'>int64</div><div class='xr-var-preview xr-preview'>30 64 100 ... 50000 75000 100000</div><input id='attrs-8b3f1213-2195-4c57-acd3-a594d89da44b' class='xr-var-attrs-in' type='checkbox' disabled><label for='attrs-8b3f1213-2195-4c57-acd3-a594d89da44b' title='Show/Hide attributes'><svg class='icon xr-icon-file-text2'><use xlink:href='#icon-file-text2'></use></svg></label><input id='data-22c6fd69-eec2-4a2a-bb2e-01472400b68c' class='xr-var-data-in' type='checkbox'><label for='data-22c6fd69-eec2-4a2a-bb2e-01472400b68c' title='Show/Hide data repr'><svg class='icon xr-icon-database'><use xlink:href='#icon-database'></use></svg></label><div class='xr-var-attrs'><dl class='xr-attrs'></dl></div><div class='xr-var-data'><pre>array([    30,     64,    100,    150,    574,   1000,   1400,   5000,   5200,\n",
       "         7600,  10000,  12400,  15000,  27500,  40000,  50000,  75000, 100000])</pre></div></li></ul></div></li><li class='xr-section-item'><input id='section-526e7b70-1d50-467a-acd6-1f58a7514f08' class='xr-section-summary-in' type='checkbox' disabled ><label for='section-526e7b70-1d50-467a-acd6-1f58a7514f08' class='xr-section-summary'  title='Expand/collapse section'>Attributes: <span>(0)</span></label><div class='xr-section-inline-details'></div><div class='xr-section-details'><dl class='xr-attrs'></dl></div></li></ul></div></div>"
      ],
      "text/plain": [
       "<xarray.DataArray (N: 18)>\n",
       "array([4.00000e+01, 8.50000e+01, 1.32000e+02, 1.99500e+02, 7.62000e+02,\n",
       "       1.32700e+03, 1.85450e+03, 6.63400e+03, 6.89750e+03, 1.00870e+04,\n",
       "       1.32565e+04, 1.64380e+04, 1.98980e+04, 3.02955e+04, 4.40235e+04,\n",
       "       5.50395e+04, 9.95830e+04, 1.32754e+05])\n",
       "Coordinates:\n",
       "  * N        (N) int64 30 64 100 150 574 1000 ... 27500 40000 50000 75000 100000"
      ]
     },
     "execution_count": 67,
     "metadata": {},
     "output_type": "execute_result"
    }
   ],
   "source": [
    "line\n"
   ]
  },
  {
   "cell_type": "markdown",
   "metadata": {},
   "source": [
    "### Optimal time"
   ]
  },
  {
   "cell_type": "code",
   "execution_count": 11,
   "metadata": {},
   "outputs": [],
   "source": [
    "max_N = 3000\n",
    "opt_max_N = 520\n",
    "seeds = [10, 11, 12, 13, 14]"
   ]
  },
  {
   "cell_type": "code",
   "execution_count": 13,
   "metadata": {
    "scrolled": true
   },
   "outputs": [
    {
     "data": {
      "application/vnd.jupyter.widget-view+json": {
       "model_id": "6fa355768807410ca86caa1c8e6f43ad",
       "version_major": 2,
       "version_minor": 0
      },
      "text/plain": [
       "HBox(children=(HTML(value='Caex progress'), FloatProgress(value=1.0, bar_style='info', layout=Layout(width='20…"
      ]
     },
     "metadata": {},
     "output_type": "display_data"
    },
    {
     "name": "stdout",
     "output_type": "stream",
     "text": [
      "\n"
     ]
    },
    {
     "ename": "KeyboardInterrupt",
     "evalue": "",
     "output_type": "error",
     "traceback": [
      "\u001b[0;31m---------------------------------------------------------------------------\u001b[0m",
      "\u001b[0;31mKeyboardInterrupt\u001b[0m                         Traceback (most recent call last)",
      "\u001b[0;32m<ipython-input-13-4415c3ff6bfe>\u001b[0m in \u001b[0;36m<module>\u001b[0;34m\u001b[0m\n\u001b[1;32m      2\u001b[0m \u001b[0mx_opt\u001b[0m \u001b[0;34m=\u001b[0m \u001b[0mnp\u001b[0m\u001b[0;34m.\u001b[0m\u001b[0marray\u001b[0m\u001b[0;34m(\u001b[0m\u001b[0mrange\u001b[0m\u001b[0;34m(\u001b[0m\u001b[0;36m10\u001b[0m\u001b[0;34m,\u001b[0m \u001b[0mopt_max_N\u001b[0m\u001b[0;34m,\u001b[0m \u001b[0;36m16\u001b[0m\u001b[0;34m)\u001b[0m\u001b[0;34m)\u001b[0m\u001b[0;34m\u001b[0m\u001b[0;34m\u001b[0m\u001b[0m\n\u001b[1;32m      3\u001b[0m \u001b[0;34m\u001b[0m\u001b[0m\n\u001b[0;32m----> 4\u001b[0;31m opt_time = ex.map_variable(('classical_time_gurobi')\n\u001b[0m\u001b[1;32m      5\u001b[0m                            \u001b[0;34m,\u001b[0m \u001b[0mN\u001b[0m\u001b[0;34m=\u001b[0m\u001b[0mx_opt\u001b[0m\u001b[0;34m\u001b[0m\u001b[0;34m\u001b[0m\u001b[0m\n\u001b[1;32m      6\u001b[0m                            \u001b[0;34m,\u001b[0m \u001b[0mseed\u001b[0m\u001b[0;34m=\u001b[0m\u001b[0mseeds\u001b[0m\u001b[0;34m\u001b[0m\u001b[0;34m\u001b[0m\u001b[0m\n",
      "\u001b[0;32m~/side/cartesian-explorer/cartesian_explorer/Explorer.py\u001b[0m in \u001b[0;36mmap_variable\u001b[0;34m(self, varname, **kwargs)\u001b[0m\n\u001b[1;32m    298\u001b[0m \u001b[0;34m\u001b[0m\u001b[0m\n\u001b[1;32m    299\u001b[0m     \u001b[0;32mdef\u001b[0m \u001b[0mmap_variable\u001b[0m\u001b[0;34m(\u001b[0m\u001b[0mself\u001b[0m\u001b[0;34m,\u001b[0m \u001b[0mvarname\u001b[0m\u001b[0;34m,\u001b[0m \u001b[0;34m**\u001b[0m\u001b[0mkwargs\u001b[0m\u001b[0;34m)\u001b[0m\u001b[0;34m:\u001b[0m\u001b[0;34m\u001b[0m\u001b[0;34m\u001b[0m\u001b[0m\n\u001b[0;32m--> 300\u001b[0;31m         \u001b[0;32mreturn\u001b[0m \u001b[0mself\u001b[0m\u001b[0;34m.\u001b[0m\u001b[0mmap_variables\u001b[0m\u001b[0;34m(\u001b[0m\u001b[0;34m[\u001b[0m\u001b[0mvarname\u001b[0m\u001b[0;34m]\u001b[0m\u001b[0;34m,\u001b[0m \u001b[0;34m**\u001b[0m\u001b[0mkwargs\u001b[0m\u001b[0;34m)\u001b[0m\u001b[0;34m[\u001b[0m\u001b[0;36m0\u001b[0m\u001b[0;34m]\u001b[0m\u001b[0;34m\u001b[0m\u001b[0;34m\u001b[0m\u001b[0m\n\u001b[0m\u001b[1;32m    301\u001b[0m \u001b[0;34m\u001b[0m\u001b[0m\n\u001b[1;32m    302\u001b[0m     \u001b[0;32mdef\u001b[0m \u001b[0mmap_variable_no_call\u001b[0m\u001b[0;34m(\u001b[0m\u001b[0mself\u001b[0m\u001b[0;34m,\u001b[0m \u001b[0mvarname\u001b[0m\u001b[0;34m,\u001b[0m \u001b[0;34m**\u001b[0m\u001b[0mkwargs\u001b[0m\u001b[0;34m)\u001b[0m\u001b[0;34m:\u001b[0m\u001b[0;34m\u001b[0m\u001b[0;34m\u001b[0m\u001b[0m\n",
      "\u001b[0;32m~/side/cartesian-explorer/cartesian_explorer/Explorer.py\u001b[0m in \u001b[0;36mmap_variables\u001b[0;34m(self, varnames, **kwargs)\u001b[0m\n\u001b[1;32m    292\u001b[0m \u001b[0;34m\u001b[0m\u001b[0m\n\u001b[1;32m    293\u001b[0m     \u001b[0;32mdef\u001b[0m \u001b[0mmap_variables\u001b[0m\u001b[0;34m(\u001b[0m\u001b[0mself\u001b[0m\u001b[0;34m,\u001b[0m \u001b[0mvarnames\u001b[0m\u001b[0;34m,\u001b[0m \u001b[0;34m**\u001b[0m\u001b[0mkwargs\u001b[0m\u001b[0;34m)\u001b[0m\u001b[0;34m:\u001b[0m\u001b[0;34m\u001b[0m\u001b[0;34m\u001b[0m\u001b[0m\n\u001b[0;32m--> 294\u001b[0;31m         \u001b[0;32mreturn\u001b[0m \u001b[0mself\u001b[0m\u001b[0;34m.\u001b[0m\u001b[0mmap\u001b[0m\u001b[0;34m(\u001b[0m\u001b[0mself\u001b[0m\u001b[0;34m.\u001b[0m\u001b[0mget_variables\u001b[0m\u001b[0;34m,\u001b[0m \u001b[0mvarnames\u001b[0m\u001b[0;34m=\u001b[0m\u001b[0;34m[\u001b[0m\u001b[0mvarnames\u001b[0m\u001b[0;34m]\u001b[0m\u001b[0;34m,\u001b[0m \u001b[0mout_dim\u001b[0m\u001b[0;34m=\u001b[0m\u001b[0mlen\u001b[0m\u001b[0;34m(\u001b[0m\u001b[0mvarnames\u001b[0m\u001b[0;34m)\u001b[0m\u001b[0;34m,\u001b[0m \u001b[0;34m**\u001b[0m\u001b[0mkwargs\u001b[0m\u001b[0;34m)\u001b[0m\u001b[0;34m\u001b[0m\u001b[0;34m\u001b[0m\u001b[0m\n\u001b[0m\u001b[1;32m    295\u001b[0m \u001b[0;34m\u001b[0m\u001b[0m\n\u001b[1;32m    296\u001b[0m     \u001b[0;32mdef\u001b[0m \u001b[0mmap_variables_no_call\u001b[0m\u001b[0;34m(\u001b[0m\u001b[0mself\u001b[0m\u001b[0;34m,\u001b[0m \u001b[0mvarnames\u001b[0m\u001b[0;34m,\u001b[0m \u001b[0;34m**\u001b[0m\u001b[0mkwargs\u001b[0m\u001b[0;34m)\u001b[0m\u001b[0;34m:\u001b[0m\u001b[0;34m\u001b[0m\u001b[0;34m\u001b[0m\u001b[0m\n",
      "\u001b[0;32m~/side/cartesian-explorer/cartesian_explorer/ExplorerBasic.py\u001b[0m in \u001b[0;36mmap\u001b[0;34m(self, func, processes, out_dim, pbar, **param_space)\u001b[0m\n\u001b[1;32m    200\u001b[0m         \u001b[0;32mif\u001b[0m \u001b[0;34m(\u001b[0m\u001b[0mprocesses\u001b[0m \u001b[0;34m>\u001b[0m \u001b[0;36m1\u001b[0m \u001b[0;32mand\u001b[0m \u001b[0mself\u001b[0m\u001b[0;34m.\u001b[0m\u001b[0mparallel_class\u001b[0m \u001b[0;32mis\u001b[0m \u001b[0;32mnot\u001b[0m \u001b[0;32mNone\u001b[0m\u001b[0;34m)\u001b[0m \u001b[0;32mor\u001b[0m \u001b[0mself\u001b[0m\u001b[0;34m.\u001b[0m\u001b[0mparallel\u001b[0m\u001b[0;34m:\u001b[0m\u001b[0;34m\u001b[0m\u001b[0;34m\u001b[0m\u001b[0m\n\u001b[1;32m    201\u001b[0m             \u001b[0mparallel\u001b[0m \u001b[0;34m=\u001b[0m \u001b[0mself\u001b[0m\u001b[0;34m.\u001b[0m\u001b[0mparallel\u001b[0m \u001b[0;32mor\u001b[0m \u001b[0mself\u001b[0m\u001b[0;34m.\u001b[0m\u001b[0mparallel_class\u001b[0m\u001b[0;34m(\u001b[0m\u001b[0mprocesses\u001b[0m\u001b[0;34m=\u001b[0m\u001b[0mprocesses\u001b[0m\u001b[0;34m)\u001b[0m\u001b[0;34m\u001b[0m\u001b[0;34m\u001b[0m\u001b[0m\n\u001b[0;32m--> 202\u001b[0;31m             \u001b[0mresult_lin\u001b[0m \u001b[0;34m=\u001b[0m \u001b[0mparallel\u001b[0m\u001b[0;34m.\u001b[0m\u001b[0mstarstarmap\u001b[0m\u001b[0;34m(\u001b[0m\u001b[0mfunc\u001b[0m\u001b[0;34m,\u001b[0m \u001b[0mparam_iter\u001b[0m\u001b[0;34m)\u001b[0m\u001b[0;34m\u001b[0m\u001b[0;34m\u001b[0m\u001b[0m\n\u001b[0m\u001b[1;32m    203\u001b[0m         \u001b[0;32melse\u001b[0m\u001b[0;34m:\u001b[0m\u001b[0;34m\u001b[0m\u001b[0;34m\u001b[0m\u001b[0m\n\u001b[1;32m    204\u001b[0m             \u001b[0;32mif\u001b[0m \u001b[0mpbar\u001b[0m\u001b[0;34m:\u001b[0m\u001b[0;34m\u001b[0m\u001b[0;34m\u001b[0m\u001b[0m\n",
      "\u001b[0;32m~/side/cartesian-explorer/cartesian_explorer/parallels.py\u001b[0m in \u001b[0;36mstarstarmap\u001b[0;34m(self, func, args)\u001b[0m\n\u001b[1;32m     26\u001b[0m \u001b[0;34m\u001b[0m\u001b[0m\n\u001b[1;32m     27\u001b[0m     \u001b[0;32mdef\u001b[0m \u001b[0mstarstarmap\u001b[0m\u001b[0;34m(\u001b[0m\u001b[0mself\u001b[0m\u001b[0;34m,\u001b[0m \u001b[0mfunc\u001b[0m\u001b[0;34m,\u001b[0m \u001b[0margs\u001b[0m\u001b[0;34m)\u001b[0m\u001b[0;34m:\u001b[0m\u001b[0;34m\u001b[0m\u001b[0;34m\u001b[0m\u001b[0m\n\u001b[0;32m---> 28\u001b[0;31m         \u001b[0;32mreturn\u001b[0m \u001b[0mself\u001b[0m\u001b[0;34m.\u001b[0m\u001b[0mmap\u001b[0m\u001b[0;34m(\u001b[0m\u001b[0mapply_kwargs\u001b[0m\u001b[0;34m,\u001b[0m \u001b[0mzip\u001b[0m\u001b[0;34m(\u001b[0m\u001b[0mrepeat\u001b[0m\u001b[0;34m(\u001b[0m\u001b[0mfunc\u001b[0m\u001b[0;34m)\u001b[0m\u001b[0;34m,\u001b[0m \u001b[0margs\u001b[0m\u001b[0;34m)\u001b[0m\u001b[0;34m)\u001b[0m\u001b[0;34m\u001b[0m\u001b[0;34m\u001b[0m\u001b[0m\n\u001b[0m\u001b[1;32m     29\u001b[0m \u001b[0;34m\u001b[0m\u001b[0m\n\u001b[1;32m     30\u001b[0m \u001b[0;32mclass\u001b[0m \u001b[0mMultiprocess\u001b[0m\u001b[0;34m(\u001b[0m\u001b[0mParallelIFC\u001b[0m\u001b[0;34m)\u001b[0m\u001b[0;34m:\u001b[0m\u001b[0;34m\u001b[0m\u001b[0;34m\u001b[0m\u001b[0m\n",
      "\u001b[0;32m~/side/cartesian-explorer/cartesian_explorer/parallels.py\u001b[0m in \u001b[0;36mmap\u001b[0;34m(self, func, args)\u001b[0m\n\u001b[1;32m     59\u001b[0m \u001b[0;34m\u001b[0m\u001b[0m\n\u001b[1;32m     60\u001b[0m     \u001b[0;32mdef\u001b[0m \u001b[0mmap\u001b[0m\u001b[0;34m(\u001b[0m\u001b[0mself\u001b[0m\u001b[0;34m,\u001b[0m \u001b[0mfunc\u001b[0m\u001b[0;34m,\u001b[0m \u001b[0margs\u001b[0m\u001b[0;34m)\u001b[0m\u001b[0;34m:\u001b[0m\u001b[0;34m\u001b[0m\u001b[0;34m\u001b[0m\u001b[0m\n\u001b[0;32m---> 61\u001b[0;31m         \u001b[0;32mreturn\u001b[0m \u001b[0mray_map_pbar\u001b[0m\u001b[0;34m(\u001b[0m\u001b[0mfunc\u001b[0m\u001b[0;34m,\u001b[0m \u001b[0margs\u001b[0m\u001b[0;34m)\u001b[0m\u001b[0;34m\u001b[0m\u001b[0;34m\u001b[0m\u001b[0m\n\u001b[0m",
      "\u001b[0;32m~/side/cartesian-explorer/cartesian_explorer/tools/ray_progressbar.py\u001b[0m in \u001b[0;36mmap_with_pbar\u001b[0;34m(func, args)\u001b[0m\n\u001b[1;32m     71\u001b[0m         \u001b[0mprint\u001b[0m\u001b[0;34m(\u001b[0m\u001b[0;34m'Interrupted while waiting for progressbar: '\u001b[0m\u001b[0;34m,\u001b[0m \u001b[0me\u001b[0m\u001b[0;34m,\u001b[0m \u001b[0mfile\u001b[0m\u001b[0;34m=\u001b[0m\u001b[0msys\u001b[0m\u001b[0;34m.\u001b[0m\u001b[0mstderr\u001b[0m\u001b[0;34m)\u001b[0m\u001b[0;34m\u001b[0m\u001b[0;34m\u001b[0m\u001b[0m\n\u001b[1;32m     72\u001b[0m     \u001b[0;32mfinally\u001b[0m\u001b[0;34m:\u001b[0m\u001b[0;34m\u001b[0m\u001b[0;34m\u001b[0m\u001b[0m\n\u001b[0;32m---> 73\u001b[0;31m         \u001b[0;32mreturn\u001b[0m \u001b[0mray\u001b[0m\u001b[0;34m.\u001b[0m\u001b[0mget\u001b[0m\u001b[0;34m(\u001b[0m\u001b[0mtasks\u001b[0m\u001b[0;34m)\u001b[0m\u001b[0;34m\u001b[0m\u001b[0;34m\u001b[0m\u001b[0m\n\u001b[0m\u001b[1;32m     74\u001b[0m \u001b[0;34m\u001b[0m\u001b[0m\n",
      "\u001b[0;32m~/.local/bin/lib/python3.8/site-packages/ray/worker.py\u001b[0m in \u001b[0;36mget\u001b[0;34m(object_refs, timeout)\u001b[0m\n\u001b[1;32m   1443\u001b[0m         \u001b[0;32mglobal\u001b[0m \u001b[0mlast_task_error_raise_time\u001b[0m\u001b[0;34m\u001b[0m\u001b[0;34m\u001b[0m\u001b[0m\n\u001b[1;32m   1444\u001b[0m         \u001b[0;31m# TODO(ujvl): Consider how to allow user to retrieve the ready objects.\u001b[0m\u001b[0;34m\u001b[0m\u001b[0;34m\u001b[0m\u001b[0;34m\u001b[0m\u001b[0m\n\u001b[0;32m-> 1445\u001b[0;31m         \u001b[0mvalues\u001b[0m \u001b[0;34m=\u001b[0m \u001b[0mworker\u001b[0m\u001b[0;34m.\u001b[0m\u001b[0mget_objects\u001b[0m\u001b[0;34m(\u001b[0m\u001b[0mobject_refs\u001b[0m\u001b[0;34m,\u001b[0m \u001b[0mtimeout\u001b[0m\u001b[0;34m=\u001b[0m\u001b[0mtimeout\u001b[0m\u001b[0;34m)\u001b[0m\u001b[0;34m\u001b[0m\u001b[0;34m\u001b[0m\u001b[0m\n\u001b[0m\u001b[1;32m   1446\u001b[0m         \u001b[0;32mfor\u001b[0m \u001b[0mi\u001b[0m\u001b[0;34m,\u001b[0m \u001b[0mvalue\u001b[0m \u001b[0;32min\u001b[0m \u001b[0menumerate\u001b[0m\u001b[0;34m(\u001b[0m\u001b[0mvalues\u001b[0m\u001b[0;34m)\u001b[0m\u001b[0;34m:\u001b[0m\u001b[0;34m\u001b[0m\u001b[0;34m\u001b[0m\u001b[0m\n\u001b[1;32m   1447\u001b[0m             \u001b[0;32mif\u001b[0m \u001b[0misinstance\u001b[0m\u001b[0;34m(\u001b[0m\u001b[0mvalue\u001b[0m\u001b[0;34m,\u001b[0m \u001b[0mRayError\u001b[0m\u001b[0;34m)\u001b[0m\u001b[0;34m:\u001b[0m\u001b[0;34m\u001b[0m\u001b[0;34m\u001b[0m\u001b[0m\n",
      "\u001b[0;32m~/.local/bin/lib/python3.8/site-packages/ray/worker.py\u001b[0m in \u001b[0;36mget_objects\u001b[0;34m(self, object_refs, timeout)\u001b[0m\n\u001b[1;32m    312\u001b[0m \u001b[0;34m\u001b[0m\u001b[0m\n\u001b[1;32m    313\u001b[0m         \u001b[0mtimeout_ms\u001b[0m \u001b[0;34m=\u001b[0m \u001b[0mint\u001b[0m\u001b[0;34m(\u001b[0m\u001b[0mtimeout\u001b[0m \u001b[0;34m*\u001b[0m \u001b[0;36m1000\u001b[0m\u001b[0;34m)\u001b[0m \u001b[0;32mif\u001b[0m \u001b[0mtimeout\u001b[0m \u001b[0;32melse\u001b[0m \u001b[0;34m-\u001b[0m\u001b[0;36m1\u001b[0m\u001b[0;34m\u001b[0m\u001b[0;34m\u001b[0m\u001b[0m\n\u001b[0;32m--> 314\u001b[0;31m         data_metadata_pairs = self.core_worker.get_objects(\n\u001b[0m\u001b[1;32m    315\u001b[0m             object_refs, self.current_task_id, timeout_ms)\n\u001b[1;32m    316\u001b[0m         \u001b[0;32mreturn\u001b[0m \u001b[0mself\u001b[0m\u001b[0;34m.\u001b[0m\u001b[0mdeserialize_objects\u001b[0m\u001b[0;34m(\u001b[0m\u001b[0mdata_metadata_pairs\u001b[0m\u001b[0;34m,\u001b[0m \u001b[0mobject_refs\u001b[0m\u001b[0;34m)\u001b[0m\u001b[0;34m\u001b[0m\u001b[0;34m\u001b[0m\u001b[0m\n",
      "\u001b[0;32mpython/ray/_raylet.pyx\u001b[0m in \u001b[0;36mray._raylet.CoreWorker.get_objects\u001b[0;34m()\u001b[0m\n",
      "\u001b[0;32mpython/ray/_raylet.pyx\u001b[0m in \u001b[0;36mray._raylet.check_status\u001b[0;34m()\u001b[0m\n",
      "\u001b[0;31mKeyboardInterrupt\u001b[0m: "
     ]
    }
   ],
   "source": [
    "x_ext = np.array(range(10, max_N, 36))\n",
    "x_opt = np.array(range(10, opt_max_N, 16))\n",
    "\n",
    "opt_time = ex.map_variable(('classical_time_gurobi')\n",
    "                           , N=x_opt\n",
    "                           , seed=seeds\n",
    "                 )\n"
   ]
  },
  {
   "cell_type": "code",
   "execution_count": 15,
   "metadata": {},
   "outputs": [],
   "source": [
    "opt = xar.DataArray(opt_time, dims=('N', 'seeds'), coords=(x_opt, seeds))"
   ]
  },
  {
   "cell_type": "code",
   "execution_count": 16,
   "metadata": {
    "scrolled": true
   },
   "outputs": [
    {
     "data": {
      "text/plain": [
       "[<matplotlib.lines.Line2D at 0x7f7510b36640>]"
      ]
     },
     "execution_count": 16,
     "metadata": {},
     "output_type": "execute_result"
    },
    {
     "data": {
      "image/png": "[encoded data removed]",
      "text/plain": [
       "<Figure size 432x288 with 1 Axes>"
      ]
     },
     "metadata": {
      "needs_background": "light"
     },
     "output_type": "display_data"
    }
   ],
   "source": [
    "# check the data\n",
    "plt.plot(x_opt, np.mean(opt_time, -1))"
   ]
  },
  {
   "cell_type": "code",
   "execution_count": null,
   "metadata": {},
   "outputs": [],
   "source": []
  },
  {
   "cell_type": "code",
   "execution_count": null,
   "metadata": {},
   "outputs": [],
   "source": []
  },
  {
   "cell_type": "markdown",
   "metadata": {},
   "source": [
    "## Gurobi modeling"
   ]
  },
  {
   "cell_type": "code",
   "execution_count": null,
   "metadata": {},
   "outputs": [],
   "source": [
    "import tqdm.auto as tqdm\n",
    "\n",
    "import time"
   ]
  },
  {
   "cell_type": "code",
   "execution_count": null,
   "metadata": {},
   "outputs": [],
   "source": [
    "SEEDS = range(1, 2)"
   ]
  },
  {
   "cell_type": "code",
   "execution_count": null,
   "metadata": {
    "scrolled": true
   },
   "outputs": [],
   "source": [
    "for seed in SEEDS:\n",
    "    miplog3 = maxcut_bounds_history(nx.random_regular_graph(3, 390, seed=seed), max_time=200, )"
   ]
  },
  {
   "cell_type": "code",
   "execution_count": null,
   "metadata": {},
   "outputs": [],
   "source": [
    "dh = miplog_helper.MiplogData(miplog3)\n",
    "byt = dh.get_bytes()\n",
    "dh2 = miplog_helper.MiplogData.from_bytes(byt)\n",
    "miplog4 = dh2.miplog\n",
    "miplog4"
   ]
  },
  {
   "cell_type": "code",
   "execution_count": null,
   "metadata": {},
   "outputs": [],
   "source": [
    "mipd = np.array(miplog4).T\n",
    "\n",
    "start = 2\n",
    "opt = mipd[2][-1]\n",
    "ix = np.argmin(np.abs(30-mipd[0]))\n",
    "print('ix', ix, mipd[0][ix])\n",
    "cost_lb = mipd[2][ix]\n",
    "plt.plot(mipd[0][start:], mipd[1][start:]/opt, '*-')\n",
    "plt.plot(mipd[0][start:], mipd[2][start:]/(opt), '*-', label='AR')\n",
    "plt.plot(mipd[0][start:], mipd[2][start:]/cost_lb, '*-', label='AR UB')\n",
    "plt.plot(mipd[0][start:], mipd[2][start:]/mipd[1][start:], '-', label='AR LB')\n",
    "plt.legend()\n",
    "plt.xscale('log')\n",
    "plt.hlines(1, min(mipd[0][start:]), max(mipd[0]))"
   ]
  },
  {
   "cell_type": "code",
   "execution_count": 31,
   "metadata": {},
   "outputs": [],
   "source": [
    "def get_time_for_AR_lower(miplog, AR):\n",
    "    \"\"\" \n",
    "    Args:\n",
    "        miplog (np.array): :,3 shaped array with times, upper bound cost and lower bound cost\n",
    "        AR (float): which AR bound to look for\n",
    "    Returns:\n",
    "        time, AR\n",
    "    \"\"\"\n",
    "    times, bounds, costs = np.array(miplog)[1:].T\n",
    "    AR_bound = costs/bounds\n",
    "    # get the index at which AR bound is higher than requested\n",
    "    ix = np.where((AR_bound-AR)>0)[0]\n",
    "    if len(ix)==0: return None, None\n",
    "    else: ix = min(ix)\n",
    "    return times[ix], AR_bound[ix]\n",
    "    "
   ]
  },
  {
   "cell_type": "code",
   "execution_count": 32,
   "metadata": {},
   "outputs": [
    {
     "ename": "NameError",
     "evalue": "name 'miplog' is not defined",
     "output_type": "error",
     "traceback": [
      "\u001b[0;31m---------------------------------------------------------------------------\u001b[0m",
      "\u001b[0;31mNameError\u001b[0m                                 Traceback (most recent call last)",
      "\u001b[0;32m<ipython-input-32-dc54096cff9e>\u001b[0m in \u001b[0;36m<module>\u001b[0;34m\u001b[0m\n\u001b[0;32m----> 1\u001b[0;31m \u001b[0mget_time_for_AR_lower\u001b[0m\u001b[0;34m(\u001b[0m\u001b[0mmiplog\u001b[0m\u001b[0;34m,\u001b[0m \u001b[0;36m0.9\u001b[0m\u001b[0;34m)\u001b[0m\u001b[0;34m\u001b[0m\u001b[0;34m\u001b[0m\u001b[0m\n\u001b[0m",
      "\u001b[0;31mNameError\u001b[0m: name 'miplog' is not defined"
     ]
    }
   ],
   "source": [
    "get_time_for_AR_lower(miplog, 0.9)"
   ]
  },
  {
   "cell_type": "code",
   "execution_count": 33,
   "metadata": {},
   "outputs": [],
   "source": [
    "def get_time_for_AR_upper(miplog, AR):\n",
    "    \"\"\" \n",
    "    Args:\n",
    "        miplog (np.array): :,3 shaped array with times, upper bound cost and lower bound cost\n",
    "        AR (float): which AR bound to look for\n",
    "    Returns:\n",
    "        time, AR\n",
    "    \"\"\"\n",
    "    times, bounds, costs = np.array(miplog)[1:].T\n",
    "    AR_bound = costs/costs[-1]\n",
    "    # get the index at which AR bound is higher than requested\n",
    "    ix = np.where((AR_bound-AR)>=0)[0]\n",
    "    if len(ix)==0: return None, None\n",
    "    else: ix = min(ix)\n",
    "    return times[ix], AR_bound[ix]\n",
    "    "
   ]
  },
  {
   "cell_type": "code",
   "execution_count": null,
   "metadata": {},
   "outputs": [],
   "source": [
    "get_time_for_AR_upper(miplog3, 0.999), get_time_for_AR_lower(miplog3, 0.996)"
   ]
  },
  {
   "cell_type": "code",
   "execution_count": null,
   "metadata": {},
   "outputs": [],
   "source": [
    "get_time_for_AR_upper(miplog4, 0.999), get_time_for_AR_lower(miplog4, 0.996)"
   ]
  },
  {
   "cell_type": "code",
   "execution_count": null,
   "metadata": {},
   "outputs": [],
   "source": [
    "times = [(get_time_for_AR_upper(miplog, x)[0],\n",
    "         get_time_for_AR_lower(miplog, x)[0]) for x in np.linspace(0.85, 1, 20)]"
   ]
  },
  {
   "cell_type": "code",
   "execution_count": null,
   "metadata": {},
   "outputs": [],
   "source": [
    "_t = np.array(times).T\n",
    "plt.plot(np.linspace(0.85, 1, 20), _t[0], label='upper')\n",
    "plt.plot(np.linspace(0.85, 1, 20), _t[1], label='lower')\n",
    "plt.legend()\n",
    "plt.ylabel('Time to achieve')\n",
    "plt.xlabel('AR')\n",
    "plt.yscale('log')"
   ]
  },
  {
   "cell_type": "code",
   "execution_count": null,
   "metadata": {},
   "outputs": [],
   "source": [
    "plt.hist(np.log(dt), bins=50)"
   ]
  },
  {
   "cell_type": "code",
   "execution_count": null,
   "metadata": {},
   "outputs": [],
   "source": [
    "plt.plot(mipd[0])"
   ]
  },
  {
   "cell_type": "code",
   "execution_count": null,
   "metadata": {},
   "outputs": [],
   "source": [
    "i"
   ]
  },
  {
   "cell_type": "code",
   "execution_count": null,
   "metadata": {},
   "outputs": [],
   "source": [
    "for upper, lower in zip(updata, ldata):\n",
    "    plt.plot(upper, label='upper', alpha=0.3, color='r')\n",
    "    plt.plot(lower, label='lower', alpha=0.3, color='b')\n",
    "    \n",
    "plt.xlabel('Time, seconds')\n",
    "plt.ylabel('Cost value')"
   ]
  },
  {
   "cell_type": "code",
   "execution_count": null,
   "metadata": {},
   "outputs": [],
   "source": [
    "for upper, lower in zip(updata, ldata):\n",
    "    upper = np.array(upper)\n",
    "    lower = np.array(lower)\n",
    "    x = range(1, len(lower)+1)\n",
    "    #plt.plot(upper/upper.min(), label='upper', alpha=0.3, color='r')\n",
    "    plt.plot(x, lower/lower.max(), label='lower', alpha=0.3, color='b')\n",
    "    \n",
    "plt.xlabel('Time, seconds')\n",
    "plt.ylabel('Cost value')"
   ]
  },
  {
   "cell_type": "code",
   "execution_count": null,
   "metadata": {},
   "outputs": [],
   "source": [
    "for upper, lower in zip(updata, ldata):\n",
    "    upper = np.array(upper)\n",
    "    lower = np.array(lower)\n",
    "    x = range(0, len(lower))\n",
    "    #plt.plot(upper/upper.min(), label='upper', alpha=0.3, color='r')\n",
    "    plt.plot(x, lower/lower.max(), label='lower', alpha=0.3, color='b')\n",
    "plt.xscale('symlog')    \n",
    "plt.xlabel('Time, seconds')\n",
    "plt.ylabel('Cost value')\n",
    "plt.grid()"
   ]
  },
  {
   "cell_type": "markdown",
   "metadata": {},
   "source": [
    "## Gurobi upper and lower bounds for AR\n",
    "\n",
    "$$$\n",
    "\\foreach \\delta>0 AR(t+\\delta)>AR(t)\n",
    "$$$"
   ]
  },
  {
   "cell_type": "markdown",
   "metadata": {},
   "source": [
    "### Gurobi activate"
   ]
  },
  {
   "cell_type": "code",
   "execution_count": 33,
   "metadata": {
    "scrolled": true
   },
   "outputs": [
    {
     "name": "stdout",
     "output_type": "stream",
     "text": [
      "getting license\n",
      "info  : grbgetkey version 9.1.2, build v9.1.2rc0\n",
      "info  : Contacting Gurobi license server...\n",
      "error : ERROR 303: hostname jlselogin6.pub.jlse.anl.gov (140.221.96.148) not recognized as belonging to an academic domain\n",
      "info  : Is your computer connected to the university network?\n",
      "info  : Your computer must be connected to the university network for the grbgetkey\n",
      "info  : command to work. You can connect your computer either directly or via a VPN\n",
      "info  : that tunnels all traffic through the university network.  Once the license\n",
      "info  : file is setup, your computer does not need to be connected to the university\n",
      "info  : network. You can repeat this process to get licenses for additional computers.\n",
      "info  : If you are unable to setup this license file, please visit our support website\n",
      "info  : https://support.gurobi.com for further assistance.\n"
     ]
    }
   ],
   "source": [
    "import socket\n",
    "\n",
    "if socket.gethostname() == 'DESKTOP-1OG5J92':\n",
    "    gurobi_lic = '/home/plate/git-built/gurobi/'\n",
    "    print('getting license')\n",
    "    grbkey = 'd3f381ce-d331-11eb-89be-0242ac120002'\n",
    "    # (over)write key to gurobi_lic directory and don't ask questions\n",
    "    !grbgetkey -q --path $gurobi_lic $grbkey\n",
    "    \n",
    "elif socket.gethostname().startswith('skylake'):\n",
    "    gurobi_lic = '/home/danlkv/git-build/gurobi/'\n",
    "    print('getting license')\n",
    "    grbkey = '32956844-dfa0-11eb-8601-0242ac120002'\n",
    "    # (over)write key to gurobi_lic directory and don't ask questions\n",
    "    !grbgetkey -q --path $gurobi_lic $grbkey"
   ]
  },
  {
   "cell_type": "code",
   "execution_count": 10,
   "metadata": {
    "scrolled": true
   },
   "outputs": [
    {
     "data": {
      "text/plain": [
       "'skylake08'"
      ]
     },
     "execution_count": 10,
     "metadata": {},
     "output_type": "execute_result"
    }
   ],
   "source": [
    "socket.gethostname()"
   ]
  },
  {
   "cell_type": "code",
   "execution_count": 11,
   "metadata": {
    "scrolled": true
   },
   "outputs": [
    {
     "name": "stdout",
     "output_type": "stream",
     "text": [
      "Academic license - for non-commercial use only - registered to dlykov@anl.gov\n",
      "Using license file /home/danlkv/git-build/gurobi/gurobi.lic\n",
      "Set parameter WLSAccessID\n",
      "Set parameter WLSSecret\n",
      "Set parameter LicenseID\n",
      "Changed value of parameter TimeLimit to 600.0\n",
      "   Prev: inf  Min: 0.0  Max: inf  Default: inf\n",
      "Gurobi Optimizer version 9.1.2 build v9.1.2rc0 (linux64)\n",
      "Thread count: 56 physical cores, 112 logical processors, using up to 32 threads\n",
      "Academic license - for non-commercial use only - registered to dlykov@anl.gov\n",
      "Optimize a model with 0 rows, 12 columns and 0 nonzeros\n",
      "Model fingerprint: 0xf5cf4a2a\n",
      "Model has 18 quadratic objective terms\n",
      "Variable types: 0 continuous, 12 integer (12 binary)\n",
      "Coefficient statistics:\n",
      "  Matrix range     [0e+00, 0e+00]\n",
      "  Objective range  [3e+00, 3e+00]\n",
      "  QObjective range [4e+00, 4e+00]\n",
      "  Bounds range     [1e+00, 1e+00]\n",
      "  RHS range        [0e+00, 0e+00]\n",
      "Found heuristic solution: objective -0.0000000\n",
      "Presolve time: 0.00s\n",
      "Presolved: 18 rows, 30 columns, 54 nonzeros\n",
      "Variable types: 0 continuous, 30 integer (30 binary)\n",
      "\n",
      "Root relaxation: objective -1.800000e+01, 11 iterations, 0.00 seconds\n",
      "\n",
      "    Nodes    |    Current Node    |     Objective Bounds      |     Work\n",
      " Expl Unexpl |  Obj  Depth IntInf | Incumbent    BestBd   Gap | It/Node Time\n",
      "\n",
      "     0     0   18.00000    0   12   -0.00000   18.00000      -     -    0s\n",
      "H    0     0                      14.0000000   18.00000  28.6%     -    0s\n",
      "H    0     0                      15.0000000   18.00000  20.0%     -    0s\n",
      "\n",
      "Cutting planes:\n",
      "  Gomory: 1\n",
      "  MIR: 3\n",
      "  Zero half: 4\n",
      "\n",
      "Explored 1 nodes (13 simplex iterations) in 0.01 seconds\n",
      "Thread count was 32 (of 112 available processors)\n",
      "\n",
      "Solution count 3: 15 14 -0 \n",
      "\n",
      "Optimal solution found (tolerance 1.00e-04)\n",
      "Best objective 1.500000000000e+01, best bound 1.500000000000e+01, gap 0.0000%\n"
     ]
    },
    {
     "data": {
      "text/plain": [
       "(15.0, [0, 0, 1, 0, 0, 1, 1, 1, 0, 1, 0, 0])"
      ]
     },
     "execution_count": 11,
     "metadata": {},
     "output_type": "execute_result"
    }
   ],
   "source": [
    "qtensor.tools.maxcut.gurobi_maxcut(nx.random_regular_graph(3, 12))"
   ]
  },
  {
   "cell_type": "code",
   "execution_count": null,
   "metadata": {},
   "outputs": [],
   "source": []
  }
 ],
 "metadata": {
  "kernelspec": {
   "display_name": "Python 3 (ipykernel)",
   "language": "python",
   "name": "python3"
  },
  "language_info": {
   "codemirror_mode": {
    "name": "ipython",
    "version": 3
   },
   "file_extension": ".py",
   "mimetype": "text/x-python",
   "name": "python",
   "nbconvert_exporter": "python",
   "pygments_lexer": "ipython3",
   "version": "3.8.2+"
  },
  "toc": {
   "base_numbering": 1,
   "nav_menu": {},
   "number_sections": true,
   "sideBar": true,
   "skip_h1_title": true,
   "title_cell": "Table of Contents",
   "title_sidebar": "Contents",
   "toc_cell": true,
   "toc_position": {
    "height": "calc(100% - 180px)",
    "left": "10px",
    "top": "150px",
    "width": "164.991px"
   },
   "toc_section_display": true,
   "toc_window_display": true
  },
  "varInspector": {
   "cols": {
    "lenName": 16,
    "lenType": 16,
    "lenVar": 40
   },
   "kernels_config": {
    "python": {
     "delete_cmd_postfix": "",
     "delete_cmd_prefix": "del ",
     "library": "var_list.py",
     "varRefreshCmd": "print(var_dic_list())"
    },
    "r": {
     "delete_cmd_postfix": ") ",
     "delete_cmd_prefix": "rm(",
     "library": "var_list.r",
     "varRefreshCmd": "cat(var_dic_list()) "
    }
   },
   "types_to_exclude": [
    "module",
    "function",
    "builtin_function_or_method",
    "instance",
    "_Feature"
   ],
   "window_display": false
  }
 },
 "nbformat": 4,
 "nbformat_minor": 4
}
