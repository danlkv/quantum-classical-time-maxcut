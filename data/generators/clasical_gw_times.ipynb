{
 "cells": [
  {
   "cell_type": "markdown",
   "metadata": {
    "toc": true
   },
   "source": [
    "<h1>Table of Contents<span class=\"tocSkip\"></span></h1>\n",
    "<div class=\"toc\"><ul class=\"toc-item\"><li><span><a href=\"#Classical-Goemans-Williamson-times\" data-toc-modified-id=\"Classical-Goemans-Williamson-times-1\"><span class=\"toc-item-num\">1&nbsp;&nbsp;</span>Classical Goemans-Williamson times</a></span><ul class=\"toc-item\"><li><span><a href=\"#Helper-classes-and-functions\" data-toc-modified-id=\"Helper-classes-and-functions-1.1\"><span class=\"toc-item-num\">1.1&nbsp;&nbsp;</span>Helper classes and functions</a></span></li></ul></li></ul></div>"
   ]
  },
  {
   "cell_type": "code",
   "execution_count": 2,
   "metadata": {},
   "outputs": [],
   "source": [
    "import numpy as np\n",
    "import matplotlib.pyplot as plt\n",
    "\n",
    "from cartesian_explorer import Explorer\n",
    "import cartesian_explorer as caex\n",
    "\n",
    "import qtensor\n",
    "import time\n",
    "\n",
    "import socket"
   ]
  },
  {
   "cell_type": "code",
   "execution_count": 2,
   "metadata": {},
   "outputs": [
    {
     "name": "stdout",
     "output_type": "stream",
     "text": [
      "Using ray parallel for caex\n"
     ]
    },
    {
     "name": "stderr",
     "output_type": "stream",
     "text": [
      "2021-06-10 19:15:05,161\tINFO services.py:1090 -- View the Ray dashboard at \u001b[1m\u001b[32mhttp://127.0.0.1:8265\u001b[39m\u001b[22m\n"
     ]
    }
   ],
   "source": [
    "cache = caex.caches.JobLibCache(\"../caex_cache/energy_eff\")\n",
    "if socket.gethostname().startswith('skylake'):\n",
    "    print('Using ray parallel for caex')\n",
    "    parallel = caex.parallels.Ray(processes=55)\n",
    "else:\n",
    "    parallel = None\n",
    "ex = Explorer(cache=cache, parallel=parallel)"
   ]
  },
  {
   "cell_type": "markdown",
   "metadata": {},
   "source": [
    "## Classical Goemans-Williamson times"
   ]
  },
  {
   "cell_type": "code",
   "execution_count": 12,
   "metadata": {},
   "outputs": [],
   "source": [
    "@ex.provider\n",
    "def graph(N, seed=10):\n",
    "    return qtensor.toolbox.random_graph(nodes=N, seed=seed, degree=3)\n",
    "\n",
    "@ex.provider\n",
    "def classical_time_gw(graph):\n",
    "    start = time.time()\n",
    "    c = qtensor.tools.maxcut.goemans_williamson.gw_cost(graph)\n",
    "    return time.time() - start\n",
    "    "
   ]
  },
  {
   "cell_type": "code",
   "execution_count": 3,
   "metadata": {},
   "outputs": [],
   "source": [
    "import xarray as xar\n",
    "\n",
    "gw_max_N = 200\n",
    "seeds = [10, 11, 12]\n",
    "x_gw = np.array(range(10, gw_max_N, 18))"
   ]
  },
  {
   "cell_type": "code",
   "execution_count": null,
   "metadata": {},
   "outputs": [],
   "source": [
    "gw_time = ex.map_variable(('classical_time_gw')\n",
    "                          , N=x_gw\n",
    "                          , seed=seeds\n",
    "                 )\n",
    "x_ext = np.arange(10, 3400, 12)\n",
    "gw = xar.DataArray(gw_time, dims=('N', 'seed'), coords=(x_gw, seeds))"
   ]
  },
  {
   "cell_type": "code",
   "execution_count": null,
   "metadata": {},
   "outputs": [],
   "source": [
    "gw.to_netcdf('../gw_times.nc')"
   ]
  },
  {
   "cell_type": "code",
   "execution_count": null,
   "metadata": {},
   "outputs": [],
   "source": []
  }
 ],
 "metadata": {
  "kernelspec": {
   "display_name": "Python 3",
   "language": "python",
   "name": "python3"
  },
  "language_info": {
   "codemirror_mode": {
    "name": "ipython",
    "version": 3
   },
   "file_extension": ".py",
   "mimetype": "text/x-python",
   "name": "python",
   "nbconvert_exporter": "python",
   "pygments_lexer": "ipython3",
   "version": "3.8.1+"
  },
  "toc": {
   "base_numbering": 1,
   "nav_menu": {},
   "number_sections": true,
   "sideBar": true,
   "skip_h1_title": true,
   "title_cell": "Table of Contents",
   "title_sidebar": "Contents",
   "toc_cell": true,
   "toc_position": {
    "height": "calc(100% - 180px)",
    "left": "10px",
    "top": "150px",
    "width": "164.999px"
   },
   "toc_section_display": true,
   "toc_window_display": true
  },
  "varInspector": {
   "cols": {
    "lenName": 16,
    "lenType": 16,
    "lenVar": 40
   },
   "kernels_config": {
    "python": {
     "delete_cmd_postfix": "",
     "delete_cmd_prefix": "del ",
     "library": "var_list.py",
     "varRefreshCmd": "print(var_dic_list())"
    },
    "r": {
     "delete_cmd_postfix": ") ",
     "delete_cmd_prefix": "rm(",
     "library": "var_list.r",
     "varRefreshCmd": "cat(var_dic_list()) "
    }
   },
   "types_to_exclude": [
    "module",
    "function",
    "builtin_function_or_method",
    "instance",
    "_Feature"
   ],
   "window_display": false
  }
 },
 "nbformat": 4,
 "nbformat_minor": 4
}
