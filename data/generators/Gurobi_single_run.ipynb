{
 "cells": [
  {
   "cell_type": "code",
   "execution_count": 1,
   "id": "8f575245-e388-4156-a8d5-0a44ef20e34c",
   "metadata": {},
   "outputs": [
    {
     "name": "stderr",
     "output_type": "stream",
     "text": [
      "2021-11-04 02:39:07,710- WARNING•\tQuickBB solver is unavailable\n"
     ]
    },
    {
     "name": "stdout",
     "output_type": "stream",
     "text": [
      "twl /home/dlykov/anl/Qensor/qtree/thirdparty/tamaki_treewidth/tw-exact\n"
     ]
    }
   ],
   "source": [
    "import numpy as np\n",
    "import time\n",
    "import matplotlib.pyplot as plt\n",
    "\n",
    "from cartesian_explorer import Explorer\n",
    "import cartesian_explorer as caex\n",
    "\n",
    "import qtensor\n",
    "import pickle\n",
    "import miplog_helper"
   ]
  },
  {
   "cell_type": "code",
   "execution_count": 2,
   "id": "e20e7ac6-5cc9-4dbd-90af-4d4d9d99947c",
   "metadata": {},
   "outputs": [],
   "source": [
    "from datetime import datetime, timedelta\n",
    "from functools import wraps\n",
    "\n",
    "class throttle():\n",
    "    \"\"\" Decorator class that limits number of calls for function\"\"\"\n",
    "    def __init__(self, per_sec=20):\n",
    "        self.period = timedelta(microseconds=1000000/per_sec)\n",
    "        self.t0 = datetime.min\n",
    "\n",
    "    def __call__(self, fn):\n",
    "        @wraps(fn)\n",
    "        def wrapper(*args, **kwargs):\n",
    "            t1 = datetime.now()\n",
    "            dt = t1 - self.t0\n",
    "            secs2wait = (self.period - dt).total_seconds()\n",
    "            if secs2wait > 0:\n",
    "                return \n",
    "\n",
    "            self.t0 = datetime.now()\n",
    "            return fn(*args, **kwargs)\n",
    "\n",
    "        return wrapper"
   ]
  },
  {
   "cell_type": "code",
   "execution_count": 3,
   "id": "fa8cc0e7-02ee-41b2-b916-d145b0c15d8d",
   "metadata": {},
   "outputs": [],
   "source": [
    "import networkx as nx\n",
    "from typing import Tuple\n",
    "import gurobipy as gb\n",
    "import time\n",
    "\n",
    "def maxcut_bounds_history(G: nx.Graph,\n",
    "                          max_time=10*60,\n",
    "                          max_cost=None,\n",
    "                          threads=None,\n",
    "                          timedelta=3,\n",
    "                          max_ar=1.0,\n",
    "                          verbose=True,\n",
    "                          callback=None,\n",
    "                          gurobi_options={}\n",
    "                         ) -> Tuple[list, list]:\n",
    "    p = gb.Model()\n",
    "    p.setParam('TimeLimit', max_time)\n",
    "    if max_cost is not None:\n",
    "        p.setParam('BestObjStop', max_cost)\n",
    "    if threads is not None:\n",
    "        p.setParam('Threads', threads)\n",
    "    if verbose is False:\n",
    "        p.setParam('OutputFlag', 0)\n",
    "    for key in gurobi_options:\n",
    "        p.setParam(key, gurobi_options[key])\n",
    "        \n",
    "    vdict = {}\n",
    "    for n in G.nodes:\n",
    "        vdict[n] = p.addVar(name='v_'+str(n), vtype=gb.GRB.BINARY)\n",
    "    scaled_v = {v:(2*x - 1) for v, x in vdict.items()}\n",
    "    C_i = [vdict[i] + vdict[j] - 2*vdict[i]*vdict[j] for i, j in G.edges]\n",
    "    \n",
    "    p.setObjective(sum(C_i), gb.GRB.MAXIMIZE)\n",
    "    \n",
    "    startop = time.time()\n",
    "    upper = []\n",
    "    lower = []\n",
    "    def clb(model, where):\n",
    "        # See here https://www.gurobi.com/documentation/9.1/refman/cb_codes.html\n",
    "        return None\n",
    "        \n",
    "    miplog = []\n",
    "    start = time.time()\n",
    "\n",
    "    @throttle(per_sec=1)\n",
    "    def on_update(model, where, cost, bound):\n",
    "        nonlocal start\n",
    "        if start == 0:\n",
    "            start = time.time()\n",
    "        dt = time.time()-start\n",
    "        miplog.append([dt, bound, cost])\n",
    "        print(f'[{dt}]', 'MIP', 'cost=', cost, 'bound=', bound)\n",
    "\n",
    "    def clb(model, where):\n",
    "        # See here https://www.gurobi.com/documentation/9.1/refman/cb_codes.html\n",
    "        if where == gb.CallbackClass.MIP:\n",
    "            cst = model.cbGet(gb.CallbackClass.MIP_OBJBST)\n",
    "            bnd = model.cbGet(gb.CallbackClass.MIP_OBJBND)\n",
    "            on_update(model, where, cst, bnd)\n",
    "        if where == gb.CallbackClass.MIPSOL:\n",
    "            cst = model.cbGet(gb.CallbackClass.MIPSOL_OBJBST)\n",
    "            bnd = model.cbGet(gb.CallbackClass.MIPSOL_OBJBND)\n",
    "            on_update(model, where, cst, bnd)\n",
    "        \n",
    "    if callback is None:\n",
    "        callback = clb\n",
    "        \n",
    "    p.optimize(callback=callback)\n",
    "    miplog.append(\n",
    "        [time.time()-startop, p.ObjBound, p.ObjVal]\n",
    "    )\n",
    "        \n",
    "    return miplog\n"
   ]
  },
  {
   "cell_type": "code",
   "execution_count": 4,
   "id": "b0aecb41-36ff-42e5-bbff-c9b6c961f25f",
   "metadata": {},
   "outputs": [],
   "source": [
    "GUROBI_THREADS = 1 #set to 0 to use all available"
   ]
  },
  {
   "cell_type": "code",
   "execution_count": 5,
   "id": "1c7c1d30-f97f-4d0d-9847-1065f32ea265",
   "metadata": {},
   "outputs": [],
   "source": [
    "N = 256\n",
    "seed = 32\n",
    "degree = 3\n",
    "graph = qtensor.toolbox.random_graph(nodes=N, seed=seed, degree=degree)"
   ]
  },
  {
   "cell_type": "code",
   "execution_count": null,
   "id": "1ca13461-31c8-4e04-affd-00e687d58d09",
   "metadata": {
    "collapsed": true,
    "jupyter": {
     "outputs_hidden": true
    },
    "tags": []
   },
   "outputs": [
    {
     "name": "stdout",
     "output_type": "stream",
     "text": [
      "Academic license - for non-commercial use only - expires 2022-01-02\n",
      "Using license file /home/dlykov/git-build/gurobi/gurobi.lic\n",
      "Changed value of parameter TimeLimit to 600.0\n",
      "   Prev: inf  Min: 0.0  Max: inf  Default: inf\n",
      "Changed value of parameter Threads to 1\n",
      "   Prev: 0  Min: 0  Max: 1024  Default: 0\n",
      "Changed value of parameter Symmetry to 0\n",
      "   Prev: -1  Min: -1  Max: 2  Default: -1\n",
      "Changed value of parameter PreQLinearize to 2\n",
      "   Prev: -1  Min: -1  Max: 2  Default: -1\n",
      "Gurobi Optimizer version 9.1.2 build v9.1.2rc0 (linux64)\n",
      "Thread count: 56 physical cores, 112 logical processors, using up to 1 threads\n",
      "Optimize a model with 0 rows, 256 columns and 0 nonzeros\n",
      "Model fingerprint: 0x15885010\n",
      "Model has 384 quadratic objective terms\n",
      "Variable types: 0 continuous, 256 integer (256 binary)\n",
      "Coefficient statistics:\n",
      "  Matrix range     [0e+00, 0e+00]\n",
      "  Objective range  [3e+00, 3e+00]\n",
      "  QObjective range [4e+00, 4e+00]\n",
      "  Bounds range     [1e+00, 1e+00]\n",
      "  RHS range        [0e+00, 0e+00]\n",
      "[0.0062868595123291016] MIP cost= -0.0 bound= 1e+100\n",
      "Found heuristic solution: objective -0.0000000\n",
      "Presolve time: 0.00s\n",
      "Presolved: 205 rows, 461 columns, 794 nonzeros\n",
      "Variable types: 0 continuous, 461 integer (330 binary)\n",
      "\n",
      "Root relaxation: objective -3.840000e+02, 201 iterations, 0.00 seconds\n",
      "\n",
      "    Nodes    |    Current Node    |     Objective Bounds      |     Work\n",
      " Expl Unexpl |  Obj  Depth IntInf | Incumbent    BestBd   Gap | It/Node Time\n",
      "\n",
      "     0     0  384.00000    0   70   -0.00000  384.00000      -     -    0s\n",
      "H    0     0                     285.0000000  384.00000  34.7%     -    0s\n",
      "H    0     0                     343.0000000  384.00000  12.0%     -    0s\n",
      "     0     0  383.70909    0  173  343.00000  383.70909  11.9%     -    0s\n",
      "     0     0  382.20909    0  132  343.00000  382.20909  11.4%     -    0s\n",
      "     0     0  382.20909    0  137  343.00000  382.20909  11.4%     -    0s\n",
      "     0     0  381.03904    0  193  343.00000  381.03904  11.1%     -    0s\n",
      "     0     0  380.00000    0  152  343.00000  380.00000  10.8%     -    0s\n",
      "     0     0  379.89769    0  209  343.00000  379.89769  10.8%     -    0s\n",
      "     0     0  379.57487    0  227  343.00000  379.57487  10.7%     -    0s\n",
      "     0     0  379.56420    0  236  343.00000  379.56420  10.7%     -    0s\n",
      "     0     0  379.22069    0  240  343.00000  379.22069  10.6%     -    0s\n",
      "     0     0  379.18428    0  260  343.00000  379.18428  10.5%     -    0s\n",
      "     0     0  378.45455    0  258  343.00000  378.45455  10.3%     -    0s\n",
      "     0     0  378.45455    0  257  343.00000  378.45455  10.3%     -    0s\n",
      "     0     2  378.12281    0  256  343.00000  378.12281  10.2%     -    0s\n",
      "H   78    78                     344.0000000  377.45455  9.73%  18.6    0s\n",
      "H  104   104                     345.0000000  377.45455  9.41%  14.6    0s\n",
      "H  130   112                     347.0000000  377.43075  8.77%  23.5    0s\n",
      "H  353   308                     348.0000000  376.44680  8.17%  33.6    0s\n",
      "[1.0151622295379639] MIP cost= 348.0 bound= 374.0\n",
      "H  569   434                     349.0000000  367.27258  5.24%  35.3    1s\n",
      "[2.015883684158325] MIP cost= 349.0 bound= 366.0\n",
      "[3.017246723175049] MIP cost= 349.0 bound= 366.0\n",
      "[4.0191099643707275] MIP cost= 349.0 bound= 366.0\n",
      "  1196   711  358.36242   21  282  349.00000  365.01134  4.59%  73.5    5s\n",
      "[5.0211286544799805] MIP cost= 349.0 bound= 365.0\n",
      "[6.033583164215088] MIP cost= 349.0 bound= 364.0\n",
      "[7.04295802116394] MIP cost= 349.0 bound= 364.0\n",
      "[8.043215990066528] MIP cost= 349.0 bound= 364.0\n",
      "[9.069350719451904] MIP cost= 349.0 bound= 364.0\n",
      "  1906   926  359.12805   21  282  349.00000  363.93635  4.28%  94.2   10s\n",
      "[10.074095964431763] MIP cost= 349.0 bound= 363.0\n",
      "[11.080357074737549] MIP cost= 349.0 bound= 363.0\n",
      "[12.086197853088379] MIP cost= 349.0 bound= 363.0\n",
      "[13.10295557975769] MIP cost= 349.0 bound= 363.0\n",
      "[14.111491680145264] MIP cost= 349.0 bound= 363.0\n",
      "  2438  1243  359.35954   18  299  349.00000  362.99361  4.01%   109   15s\n",
      "[15.11384129524231] MIP cost= 349.0 bound= 362.0\n",
      "[16.129744291305542] MIP cost= 349.0 bound= 362.0\n",
      "[17.13153386116028] MIP cost= 349.0 bound= 362.0\n",
      "[18.1353702545166] MIP cost= 349.0 bound= 362.0\n",
      "[19.136945486068726] MIP cost= 349.0 bound= 362.0\n",
      "  2970  1529  350.64167   28  268  349.00000  362.67625  3.92%   119   20s\n",
      "[20.142032623291016] MIP cost= 349.0 bound= 362.0\n",
      "[21.15518569946289] MIP cost= 349.0 bound= 362.0\n",
      "[22.1607084274292] MIP cost= 349.0 bound= 362.0\n",
      "[23.16085934638977] MIP cost= 349.0 bound= 362.0\n",
      "[24.161866426467896] MIP cost= 349.0 bound= 362.0\n",
      "  3500  1809  353.62669   25  292  349.00000  362.05183  3.74%   126   25s\n",
      "[25.163778066635132] MIP cost= 349.0 bound= 362.0\n",
      "[26.174570322036743] MIP cost= 349.0 bound= 361.0\n",
      "[27.183504819869995] MIP cost= 349.0 bound= 361.0\n",
      "[28.186187028884888] MIP cost= 349.0 bound= 361.0\n",
      "[29.187448740005493] MIP cost= 349.0 bound= 361.0\n",
      "  4045  2091  351.38380   28  280  349.00000  361.58745  3.61%   130   30s\n",
      "[30.19098472595215] MIP cost= 349.0 bound= 361.0\n",
      "[31.236388206481934] MIP cost= 349.0 bound= 361.0\n",
      "* 4229  2184              39     349.9999982  361.52443  3.29%   131   31s\n",
      "H 4230  2062                     350.0000000  361.52443  3.29%   131   31s\n",
      "[32.24623346328735] MIP cost= 350.0 bound= 361.0\n",
      "[33.25711274147034] MIP cost= 350.0 bound= 361.0\n",
      "[34.25884127616882] MIP cost= 350.0 bound= 361.0\n",
      "  4576  2188  356.13274   22  299  350.00000  361.32630  3.24%   135   35s\n",
      "[35.27121663093567] MIP cost= 350.0 bound= 361.0\n",
      "[36.276055335998535] MIP cost= 350.0 bound= 361.0\n",
      "[37.29275178909302] MIP cost= 350.0 bound= 361.0\n",
      "[38.293986797332764] MIP cost= 350.0 bound= 361.0\n",
      "[39.32010769844055] MIP cost= 350.0 bound= 361.0\n",
      "  5099  2391  351.32590   26  284  350.00000  361.17873  3.19%   138   40s\n",
      "[40.32483696937561] MIP cost= 350.0 bound= 361.0\n",
      "[41.329994201660156] MIP cost= 350.0 bound= 361.0\n",
      "[42.33705377578735] MIP cost= 350.0 bound= 361.0\n",
      "[43.38385510444641] MIP cost= 350.0 bound= 360.0\n",
      "[44.431846380233765] MIP cost= 350.0 bound= 360.0\n",
      "  5616  2579  357.49358   20  293  350.00000  360.86850  3.11%   141   45s\n",
      "[45.437270402908325] MIP cost= 350.0 bound= 360.0\n",
      "[46.44349002838135] MIP cost= 350.0 bound= 360.0\n",
      "[47.45059299468994] MIP cost= 350.0 bound= 360.0\n",
      "[48.45377063751221] MIP cost= 350.0 bound= 360.0\n",
      "[49.45471525192261] MIP cost= 350.0 bound= 360.0\n",
      "  6120  2799  355.22357   22  309  350.00000  360.69358  3.06%   144   50s\n",
      "[50.45791149139404] MIP cost= 350.0 bound= 360.0\n",
      "[51.46475696563721] MIP cost= 350.0 bound= 360.0\n",
      "[52.46886372566223] MIP cost= 350.0 bound= 360.0\n",
      "[53.48241114616394] MIP cost= 350.0 bound= 360.0\n",
      "[54.48667120933533] MIP cost= 350.0 bound= 360.0\n",
      "  6667  2981  353.76643   23  304  350.00000  360.42136  2.98%   145   55s\n",
      "[55.50951886177063] MIP cost= 350.0 bound= 360.0\n",
      "* 6773  2767              30     351.0000000  360.38275  2.67%   145   56s\n",
      "[56.5133056640625] MIP cost= 351.0 bound= 360.0\n",
      "[57.516427755355835] MIP cost= 351.0 bound= 360.0\n",
      "[58.54181241989136] MIP cost= 351.0 bound= 360.0\n",
      "[59.54396080970764] MIP cost= 351.0 bound= 360.0\n",
      "  7174  2886  356.14195   22  310  351.00000  360.22240  2.63%   147   60s\n",
      "[60.56020641326904] MIP cost= 351.0 bound= 360.0\n",
      "[61.561137437820435] MIP cost= 351.0 bound= 360.0\n",
      "[62.5712776184082] MIP cost= 351.0 bound= 360.0\n",
      "[63.586079597473145] MIP cost= 351.0 bound= 360.0\n",
      "[64.60477304458618] MIP cost= 351.0 bound= 360.0\n",
      "  7656  3037  355.02066   22  302  351.00000  360.04670  2.58%   149   65s\n",
      "[65.60823655128479] MIP cost= 351.0 bound= 360.0\n",
      "[66.60910987854004] MIP cost= 351.0 bound= 360.0\n",
      "[67.62102103233337] MIP cost= 351.0 bound= 359.0\n",
      "[68.62924122810364] MIP cost= 351.0 bound= 359.0\n",
      "[69.63055372238159] MIP cost= 351.0 bound= 359.0\n",
      "  8186  3169     cutoff   27       351.00000  359.92824  2.54%   150   70s\n",
      "[70.63751816749573] MIP cost= 351.0 bound= 359.0\n",
      "[71.65448951721191] MIP cost= 351.0 bound= 359.0\n",
      "[72.66245174407959] MIP cost= 351.0 bound= 359.0\n",
      "[73.66421794891357] MIP cost= 351.0 bound= 359.0\n",
      "[74.6745834350586] MIP cost= 351.0 bound= 359.0\n",
      "  8706  3292  354.73729   22  285  351.00000  359.78509  2.50%   151   75s\n",
      "[75.69162368774414] MIP cost= 351.0 bound= 359.0\n",
      "[76.69192790985107] MIP cost= 351.0 bound= 359.0\n",
      "[77.7050940990448] MIP cost= 351.0 bound= 359.0\n",
      "[78.71351718902588] MIP cost= 351.0 bound= 359.0\n",
      "[79.71714401245117] MIP cost= 351.0 bound= 359.0\n",
      "  9218  3425  356.70150   20  299  351.00000  359.61714  2.46%   152   80s\n",
      "[80.72689843177795] MIP cost= 351.0 bound= 359.0\n",
      "[81.73161816596985] MIP cost= 351.0 bound= 359.0\n",
      "[82.74241948127747] MIP cost= 351.0 bound= 359.0\n",
      "[83.75151419639587] MIP cost= 351.0 bound= 359.0\n",
      "[84.7582745552063] MIP cost= 351.0 bound= 359.0\n",
      "  9772  3559  356.24710   22  308  351.00000  359.43596  2.40%   153   85s\n",
      "[85.75934290885925] MIP cost= 351.0 bound= 359.0\n",
      "[86.78009057044983] MIP cost= 351.0 bound= 359.0\n",
      "[87.78188967704773] MIP cost= 351.0 bound= 359.0\n",
      "[88.78261232376099] MIP cost= 351.0 bound= 359.0\n",
      "[95.93357253074646] MIP cost= 351.0 bound= 359.0\n",
      " 10203  3664  354.37100   25  103  351.00000  359.35237  2.38%   154   95s\n",
      "[97.04648780822754] MIP cost= 351.0 bound= 359.0\n",
      "[98.103755235672] MIP cost= 351.0 bound= 359.0\n",
      "[99.10615587234497] MIP cost= 351.0 bound= 359.0\n",
      " 10423  3784  354.25363   34  262  351.00000  359.35237  2.38%   154  100s\n",
      "[100.11517882347107] MIP cost= 351.0 bound= 359.0\n",
      "[101.12880277633667] MIP cost= 351.0 bound= 359.0\n"
     ]
    }
   ],
   "source": [
    "max_time = 600\n",
    "gurobi_options = {'Symmetry': 0, 'PreQLinearize': 2}\n",
    "    \n",
    "miplog = maxcut_bounds_history(\n",
    "    graph, max_time=max_time, threads=GUROBI_THREADS,\n",
    "    gurobi_options=gurobi_options\n",
    ")\n"
   ]
  },
  {
   "cell_type": "code",
   "execution_count": 11,
   "id": "bb831919-04eb-42a8-a366-15b21a39111c",
   "metadata": {
    "tags": []
   },
   "outputs": [],
   "source": [
    "dh = miplog_helper.MiplogData(miplog)\n",
    "diffs = dh.get_diff_data()\n",
    "start = dh.get_starting_point()\n",
    "gurobi_hist =  [start] + diffs"
   ]
  },
  {
   "cell_type": "code",
   "execution_count": 12,
   "id": "353ad9b0-c23d-458d-a9c5-9f97859a4107",
   "metadata": {},
   "outputs": [
    {
     "data": {
      "image/png": "[encoded data removed]",
      "text/plain": [
       "<Figure size 432x288 with 1 Axes>"
      ]
     },
     "metadata": {
      "needs_background": "light"
     },
     "output_type": "display_data"
    }
   ],
   "source": [
    "dh.plot()"
   ]
  },
  {
   "cell_type": "code",
   "execution_count": 17,
   "id": "2fd7ff41-41b8-4877-a03f-2c6f40538c9a",
   "metadata": {},
   "outputs": [],
   "source": [
    "pickle.dump(gurobi_hist, open(f'../gurobi_single_N{N}_s{seed}.pkl', 'wb+'))"
   ]
  },
  {
   "cell_type": "markdown",
   "id": "ff74e75a-3738-4906-bab9-77bbcc4bfddf",
   "metadata": {},
   "source": [
    "Activate Gurobi"
   ]
  },
  {
   "cell_type": "code",
   "execution_count": 8,
   "id": "fdb2beb6-8937-4ef1-875e-32dc3073b521",
   "metadata": {},
   "outputs": [
    {
     "name": "stdout",
     "output_type": "stream",
     "text": [
      "getting license\n",
      "info  : grbgetkey version 9.1.2, build v9.1.2rc0\n",
      "info  : Contacting Gurobi license server...\n",
      "info  : License file for license ID 720581 was successfully retrieved\n",
      "info  : License expires at the end of the day on 2022-01-02\n",
      "info  : Saving license file...\n",
      "info  : License 720581 written to file /home/dlykov/git-build/gurobi/gurobi.lic\n"
     ]
    }
   ],
   "source": [
    "import socket\n",
    "if socket.gethostname().startswith('skylake'):\n",
    "    gurobi_lic = '/home/dlykov/git-build/gurobi/'\n",
    "    print('getting license')\n",
    "    grbkey = '3122086c-3d17-11ec-8ab9-0242ac150003'\n",
    "    # (over)write key to gurobi_lic directory and don't ask questions\n",
    "    !grbgetkey -q --path $gurobi_lic $grbkey"
   ]
  },
  {
   "cell_type": "markdown",
   "id": "bfc8cc30-8638-4814-bd43-c4186d6be180",
   "metadata": {},
   "source": [
    "---"
   ]
  }
 ],
 "metadata": {
  "kernelspec": {
   "display_name": "Python 3 (ipykernel)",
   "language": "python",
   "name": "python3"
  },
  "language_info": {
   "codemirror_mode": {
    "name": "ipython",
    "version": 3
   },
   "file_extension": ".py",
   "mimetype": "text/x-python",
   "name": "python",
   "nbconvert_exporter": "python",
   "pygments_lexer": "ipython3",
   "version": "3.8.2+"
  },
  "toc-autonumbering": true
 },
 "nbformat": 4,
 "nbformat_minor": 5
}
