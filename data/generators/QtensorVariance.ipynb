{
 "cells": [
  {
   "cell_type": "markdown",
   "metadata": {
    "toc": true
   },
   "source": [
    "<h1>Table of Contents<span class=\"tocSkip\"></span></h1>\n",
    "<div class=\"toc\"><ul class=\"toc-item\"><li><span><a href=\"#Create-the-squared-composer\" data-toc-modified-id=\"Create-the-squared-composer-1\"><span class=\"toc-item-num\">1&nbsp;&nbsp;</span>Create the squared composer</a></span></li><li><span><a href=\"#Calculate-variance\" data-toc-modified-id=\"Calculate-variance-2\"><span class=\"toc-item-num\">2&nbsp;&nbsp;</span>Calculate variance</a></span><ul class=\"toc-item\"><li><span><a href=\"#Demo-of-subgraph-of-two-edges\" data-toc-modified-id=\"Demo-of-subgraph-of-two-edges-2.1\"><span class=\"toc-item-num\">2.1&nbsp;&nbsp;</span>Demo of subgraph of two edges</a></span></li><li><span><a href=\"#Manual-computation-of-cost-distribution\" data-toc-modified-id=\"Manual-computation-of-cost-distribution-2.2\"><span class=\"toc-item-num\">2.2&nbsp;&nbsp;</span>Manual computation of cost distribution</a></span></li></ul></li><li><span><a href=\"#Large-scale-simulations\" data-toc-modified-id=\"Large-scale-simulations-3\"><span class=\"toc-item-num\">3&nbsp;&nbsp;</span>Large scale simulations</a></span><ul class=\"toc-item\"><li><span><a href=\"#First,-estimate-width-of-simulations-to-understand-max-size\" data-toc-modified-id=\"First,-estimate-width-of-simulations-to-understand-max-size-3.1\"><span class=\"toc-item-num\">3.1&nbsp;&nbsp;</span>First, estimate width of simulations to understand max size</a></span></li><li><span><a href=\"#Ordering-algo\" data-toc-modified-id=\"Ordering-algo-3.2\"><span class=\"toc-item-num\">3.2&nbsp;&nbsp;</span>Ordering algo</a></span></li><li><span><a href=\"#Calculate-the-width\" data-toc-modified-id=\"Calculate-the-width-3.3\"><span class=\"toc-item-num\">3.3&nbsp;&nbsp;</span>Calculate the width</a></span></li></ul></li><li><span><a href=\"#SD-for-large-N-to-compare-with-predictions\" data-toc-modified-id=\"SD-for-large-N-to-compare-with-predictions-4\"><span class=\"toc-item-num\">4&nbsp;&nbsp;</span>SD for large N to compare with predictions</a></span></li></ul></div>"
   ]
  },
  {
   "cell_type": "markdown",
   "metadata": {},
   "source": [
    "# Calculating variance of energy using tensor networks"
   ]
  },
  {
   "cell_type": "code",
   "execution_count": 1,
   "metadata": {},
   "outputs": [],
   "source": [
    "%load_ext autoreload\n",
    "%autoreload 2"
   ]
  },
  {
   "cell_type": "code",
   "execution_count": 2,
   "metadata": {},
   "outputs": [],
   "source": [
    "import qtensor\n",
    "import matplotlib.pyplot as plt\n",
    "import networkx as nx\n",
    "import numpy as np\n",
    "from tqdm.auto import tqdm\n",
    "from qtensor import QtreeQAOAComposer\n",
    "\n",
    "import xarray\n",
    "from cartesian_explorer import parallels, dict_product # for large-scale parallel simualtions"
   ]
  },
  {
   "cell_type": "markdown",
   "metadata": {},
   "source": [
    "## Create the squared composer"
   ]
  },
  {
   "cell_type": "code",
   "execution_count": 3,
   "metadata": {},
   "outputs": [],
   "source": [
    "def get_edge_subgraph_squared(G, edge1, edge2, dist):\n",
    "    nodes_groups = qtensor.utils.nodes_group_by_distance(G, edge1+edge2, dist)\n",
    "    all_nodes = sum(nodes_groups.values(), [])\n",
    "    subgraph = G.subgraph(all_nodes).copy()\n",
    "    farthest_nodes = nodes_groups[dist]\n",
    "    \n",
    "    edges_to_delete = []\n",
    "    for u, v in subgraph.edges():\n",
    "        if (u in farthest_nodes) and (v in farthest_nodes):\n",
    "            edges_to_delete.append((u,v))\n",
    "    subgraph.remove_edges_from(edges_to_delete)\n",
    "    return subgraph\n",
    "\n",
    "class QAOAComposerSquared(QtreeQAOAComposer):\n",
    "    def cone_ansatz_squared(self, edge1, edge2):\n",
    "        beta, gamma = self.params['beta'], self.params['gamma']\n",
    "        \n",
    "        assert(len(beta) == len(gamma))\n",
    "        p = len(beta) # infering number of QAOA steps from the parameters passed\n",
    "        self.layer_of_Hadamards()\n",
    "        # second, apply p alternating operators\n",
    "        cone_base = self.graph\n",
    "\n",
    "        for i, g, b in zip(range(p, 0, -1), gamma, beta):\n",
    "            self.graph = get_edge_subgraph_squared(cone_base, edge1, edge2, i)\n",
    "            self.cost_operator_circuit(g)\n",
    "            self.graph = get_edge_subgraph_squared(cone_base, edge1, edge2, i-1)\n",
    "            self.mixer_operator(b)\n",
    "        self.graph = cone_base\n",
    "\n",
    "\n",
    "    def energy_expectation_squared(self, edge1, edge2):\n",
    "        self.cone_ansatz_squared(edge1, edge2)\n",
    "        self.energy_edge(*edge1)\n",
    "        self.energy_edge(*edge2)\n",
    "        first_part = self.builder.circuit\n",
    "        self.builder.reset()\n",
    "\n",
    "        self.cone_ansatz_squared(edge1, edge2)\n",
    "        self.builder.inverse()\n",
    "        second_part = self.builder.circuit\n",
    "\n",
    "        self.circuit = first_part + second_part\n",
    "    \n",
    "    def energy_expectation_lightcone_squared(self, edge1, edge2):\n",
    "        G = self.graph\n",
    "        gamma, beta = self.params['gamma'], self.params['beta']\n",
    "        graph = get_edge_subgraph_squared(G, edge1, edge2, len(gamma))\n",
    "        #print('Subgraph nodes: {}, edges: {}', graph.number_of_nodes(), graph.number_of_edges())\n",
    "        self.n_qubits = graph.number_of_nodes()\n",
    "        mapping = {v:i for i, v in enumerate(graph.nodes())}\n",
    "        graph = nx.relabel_nodes(graph, mapping, copy=True)\n",
    "\n",
    "        edge1 = mapping[edge1[0]], mapping[edge1[1]]\n",
    "        edge2 = mapping[edge2[0]], mapping[edge2[1]]\n",
    "        composer = self._get_of_my_type(graph, beta=beta, gamma=gamma)\n",
    "        composer.energy_expectation_squared(edge1, edge2)\n",
    "        self.circuit = composer.circuit\n",
    "        # return composer\n"
   ]
  },
  {
   "cell_type": "code",
   "execution_count": 105,
   "metadata": {},
   "outputs": [],
   "source": [
    "#Test for runtime errrors in composer\n",
    "G = nx.random_regular_graph(3, 16, seed=12)\n",
    "p = 2\n",
    "edges = list(G.edges())\n",
    "comp = QAOAComposerSquared(G, gamma=[0.1]*p, beta=[0.2]*p)\n",
    "edge_pair = edges[0], edges[2]\n",
    "comp.energy_expectation_lightcone_squared(*edge_pair)"
   ]
  },
  {
   "cell_type": "code",
   "execution_count": 106,
   "metadata": {},
   "outputs": [],
   "source": [
    "def get_gb(p):\n",
    "    gammabeta = np.array(qtensor.tools.BETHE_QAOA_VALUES[str(p)]['angles'])/np.pi\n",
    "    return gammabeta[:p], gammabeta[p:]\n",
    "    \n",
    "def get_maxcut_probs(G, p, backend=qtensor.NumpyBackend()):\n",
    "    sim = qtensor.QAOAQtreeSimulator(qtensor.DefaultQAOAComposer, backend=backend)\n",
    "    gamma, beta = get_gb(p)\n",
    "    comp = qtensor.DefaultQAOAComposer(G, gamma=gamma, beta=beta)\n",
    "    comp.ansatz_state()\n",
    "    circ = comp.circuit\n",
    "    sim.optimizer = qtensor.toolbox.get_ordering_algo('naive')\n",
    "    amps = sim.simulate_batch(circ, batch_vars=range(G.number_of_nodes()))\n",
    "    probs = np.real(amps.conj()*amps)\n",
    "    return probs, comp.qubit_map\n",
    "\n",
    "def get_maxcut_cost_dist(G, p=6):\n",
    "    N = G.number_of_nodes()\n",
    "    probs, qubit_map = get_maxcut_probs(G, p)\n",
    "    print('got probs')\n",
    "    bitst = np.array(np.unravel_index(range(2**N), shape=[2]*N))*2-1\n",
    "    e = G.number_of_edges()\n",
    "    costs = [(e-sum(sol[qubit_map[i]]*sol[qubit_map[j]] for i,j in G.edges))/2 for sol in bitst.T]\n",
    "    costs = np.array(costs)\n",
    "    print('got costs')\n",
    "    distr = dict()\n",
    "    for i in range(len(probs)):\n",
    "        c = costs[i]\n",
    "        distr.setdefault(c, 0)\n",
    "        distr[c] += probs[i]\n",
    "    return distr"
   ]
  },
  {
   "cell_type": "markdown",
   "metadata": {},
   "source": [
    "## Calculate variance"
   ]
  },
  {
   "cell_type": "code",
   "execution_count": 110,
   "metadata": {},
   "outputs": [],
   "source": [
    "G = nx.random_regular_graph(3, 16, seed=12)\n",
    "p = 2\n",
    "edge_pair = edges[0], edges[2]"
   ]
  },
  {
   "cell_type": "markdown",
   "metadata": {},
   "source": [
    "### Demo of subgraph of two edges"
   ]
  },
  {
   "cell_type": "code",
   "execution_count": 124,
   "metadata": {},
   "outputs": [],
   "source": [
    "subgraph = get_edge_subgraph_squared(G, *edge_pair, p)"
   ]
  },
  {
   "cell_type": "code",
   "execution_count": 125,
   "metadata": {},
   "outputs": [
    {
     "data": {
      "text/plain": [
       "Text(0.5, 1.0, 'Subgraph on ((3, 4), (3, 8))')"
      ]
     },
     "execution_count": 125,
     "metadata": {},
     "output_type": "execute_result"
    },
    {
     "data": {
      "image/png": "[encoded data removed]",
      "text/plain": [
       "<Figure size 600x300 with 2 Axes>"
      ]
     },
     "metadata": {},
     "output_type": "display_data"
    }
   ],
   "source": [
    "fig, axs = plt.subplots(1, 2, figsize=(6,3))\n",
    "plt.sca(axs[0])\n",
    "nx.draw_kamada_kawai(G, with_labels=True)\n",
    "plt.title(f'Original graph')\n",
    "plt.sca(axs[1])\n",
    "nx.draw_kamada_kawai(subgraph, with_labels=True)\n",
    "plt.title(f'Subgraph on {edge_pair}')"
   ]
  },
  {
   "cell_type": "markdown",
   "metadata": {},
   "source": [
    "### Manual computation of cost distribution\n",
    "\n",
    "The code below calculates exact probabilities for each bitstring, then \n",
    "calculates the exact distribution of QAOA MaxCut for the fixed angle parameters.\n",
    "This is then used to get exact variance and verify that tensor network calculations are correct"
   ]
  },
  {
   "cell_type": "code",
   "execution_count": 126,
   "metadata": {},
   "outputs": [
    {
     "name": "stdout",
     "output_type": "stream",
     "text": [
      "got probs\n",
      "got costs\n"
     ]
    },
    {
     "data": {
      "text/plain": [
       "Text(0.5, 1.0, 'Cost distribution')"
      ]
     },
     "execution_count": 126,
     "metadata": {},
     "output_type": "execute_result"
    },
    {
     "data": {
      "image/png": "[encoded data removed]",
      "text/plain": [
       "<Figure size 640x480 with 1 Axes>"
      ]
     },
     "metadata": {},
     "output_type": "display_data"
    }
   ],
   "source": [
    "assert G.number_of_nodes()<20, \"Too many nodes\"\n",
    "cost_dist = get_maxcut_cost_dist(G, p=p)\n",
    "cost_dist\n",
    "\n",
    "plt.scatter(cost_dist.keys(), cost_dist.values())\n",
    "plt.title('Cost distribution')\n"
   ]
  },
  {
   "cell_type": "code",
   "execution_count": 127,
   "metadata": {},
   "outputs": [],
   "source": [
    "def post_process_variance(E, linear, squared):\n",
    "    cost = 1/2*(E - linear)\n",
    "    cost2 = 1/4*(E*E - 2*E*linear + squared)\n",
    "    return cost, cost2\n",
    "\n",
    "def simulate_variance(G, p=4, pbar=True):\n",
    "    gamma, beta = get_gb(p)\n",
    "    sim = qtensor.QtreeSimulator()\n",
    "    comp = QAOAComposerSquared(G, gamma=gamma, beta=beta)\n",
    "    squared = 0\n",
    "    if pbar:\n",
    "        outer_loop = tqdm(list(G.edges))\n",
    "    else:\n",
    "        outer_loop = G.edges\n",
    "    for e1 in outer_loop:\n",
    "        for e2 in G.edges:\n",
    "            comp.energy_expectation_lightcone_squared(e1, e2)\n",
    "            energy2 = sim.simulate_batch(comp.circuit, batch_vars=0)\n",
    "            squared += energy2\n",
    "    linear = 0\n",
    "    for e in G.edges:\n",
    "            comp.energy_expectation_lightcone(e)\n",
    "            energy = sim.simulate_batch(comp.circuit, batch_vars=0)\n",
    "            linear += energy\n",
    "    E = G.number_of_edges()\n",
    "    cost, cost2 = post_process_variance(E, linear, squared)\n",
    "    print('linear', linear)\n",
    "    print('squared', squared)\n",
    "    print('cost', cost)\n",
    "    print('cost2', cost2)\n",
    "    return cost2 - cost*cost\n"
   ]
  },
  {
   "cell_type": "code",
   "execution_count": 128,
   "metadata": {},
   "outputs": [
    {
     "data": {
      "application/vnd.jupyter.widget-view+json": {
       "model_id": "e4b90fc6b1854699be37e42a7a33850b",
       "version_major": 2,
       "version_minor": 0
      },
      "text/plain": [
       "  0%|          | 0/24 [00:00<?, ?it/s]"
      ]
     },
     "metadata": {},
     "output_type": "display_data"
    },
    {
     "name": "stdout",
     "output_type": "stream",
     "text": [
      "linear [-12.9800425+1.38777878e-16j]\n",
      "squared [188.30056406+5.71404652e-16j]\n",
      "cost [18.49002125-6.9388939e-17j]\n",
      "cost2 [346.835651-1.52248337e-15j]\n",
      "Variance [4.9547652+1.04352254e-15j]\n"
     ]
    }
   ],
   "source": [
    "var = simulate_variance(G, p=p)\n",
    "print('Variance', var)"
   ]
  },
  {
   "cell_type": "code",
   "execution_count": 129,
   "metadata": {},
   "outputs": [
    {
     "data": {
      "text/plain": [
       "4.954753406172711"
      ]
     },
     "execution_count": 129,
     "metadata": {},
     "output_type": "execute_result"
    }
   ],
   "source": [
    "pdf = np.array(list(cost_dist.values()))\n",
    "x = np.array(list(cost_dist.keys()))\n",
    "Z = sum(pdf)\n",
    "mean = sum(pdf*x)/Z\n",
    "var_direct = sum(pdf*(mean-x)**2)/Z\n",
    "var_direct"
   ]
  },
  {
   "cell_type": "markdown",
   "metadata": {},
   "source": [
    "Verify that the exact variances using full statevector match with tensor network calculations"
   ]
  },
  {
   "cell_type": "code",
   "execution_count": 130,
   "metadata": {},
   "outputs": [
    {
     "name": "stdout",
     "output_type": "stream",
     "text": [
      "The two match!\n"
     ]
    }
   ],
   "source": [
    "assert np.isclose(np.real(var), var_direct), \"The two don't match!\"\n",
    "print(\"The two match!\")"
   ]
  },
  {
   "cell_type": "markdown",
   "metadata": {},
   "source": [
    "## Large scale simulations"
   ]
  },
  {
   "cell_type": "markdown",
   "metadata": {},
   "source": [
    "### First, estimate width of simulations to understand max size"
   ]
  },
  {
   "cell_type": "code",
   "execution_count": 137,
   "metadata": {},
   "outputs": [],
   "source": [
    "def circ2tw(circ, opt: qtensor.optimisation.Optimizer):\n",
    "    tn = qtensor.optimisation.QtreeTensorNet.from_qtree_gates(circ)\n",
    "    opt.optimize(tn)\n",
    "    return opt.treewidth\n",
    "    \n",
    "def estimate_variance_tw(G, p=4, ordering_algo='greedy', pbar=False):\n",
    "    gamma, beta = get_gb(p)\n",
    "    opt = qtensor.toolbox.get_ordering_algo(ordering_algo)\n",
    "    comp = QAOAComposerSquared(G, gamma=gamma, beta=beta)\n",
    "    widths = []\n",
    "    if pbar:\n",
    "        outer_loop = tqdm(list(G.edges))\n",
    "    else:\n",
    "        outer_loop = G.edges\n",
    "    for e1 in outer_loop:\n",
    "        for e2 in G.edges:\n",
    "            comp.energy_expectation_lightcone_squared(e1, e2)\n",
    "            tw = circ2tw(comp.circuit, opt)\n",
    "            widths.append(tw)\n",
    "    return widths"
   ]
  },
  {
   "cell_type": "code",
   "execution_count": 138,
   "metadata": {},
   "outputs": [
    {
     "data": {
      "application/vnd.jupyter.widget-view+json": {
       "model_id": "e8eee15ac740477e9890eaa1467721f9",
       "version_major": 2,
       "version_minor": 0
      },
      "text/plain": [
       "  0%|          | 0/24 [00:00<?, ?it/s]"
      ]
     },
     "metadata": {},
     "output_type": "display_data"
    }
   ],
   "source": [
    "widths = estimate_variance_tw(G, p=p, pbar=True)"
   ]
  },
  {
   "cell_type": "code",
   "execution_count": 141,
   "metadata": {},
   "outputs": [
    {
     "name": "stdout",
     "output_type": "stream",
     "text": [
      "Max width 15\n"
     ]
    },
    {
     "data": {
      "image/png": "[encoded data removed]",
      "text/plain": [
       "<Figure size 640x480 with 1 Axes>"
      ]
     },
     "metadata": {},
     "output_type": "display_data"
    }
   ],
   "source": [
    "plt.hist(widths)\n",
    "print(\"Max width\", max(widths))"
   ]
  },
  {
   "cell_type": "code",
   "execution_count": 142,
   "metadata": {},
   "outputs": [],
   "source": [
    "parallel = parallels.Ray(processes=55)"
   ]
  },
  {
   "cell_type": "markdown",
   "metadata": {},
   "source": [
    "First try: parallelize over graphs. Limited capacity since we have few graphs and a lot of edge contributions"
   ]
  },
  {
   "cell_type": "code",
   "execution_count": 147,
   "metadata": {},
   "outputs": [],
   "source": [
    "Ns = [20, 24]\n",
    "ps = [2, 3]\n",
    "params = dict(N=Ns, p=ps)\n",
    "def unit(N, p):\n",
    "    G = nx.random_regular_graph(3, N, seed=10)\n",
    "    return estimate_variance_tw(G, p=p)\n",
    "args = dict_product(**params)"
   ]
  },
  {
   "cell_type": "code",
   "execution_count": null,
   "metadata": {
    "scrolled": true
   },
   "outputs": [],
   "source": [
    "data = parallel.starstarmap(unit, args)"
   ]
  },
  {
   "cell_type": "code",
   "execution_count": 153,
   "metadata": {},
   "outputs": [
    {
     "data": {
      "text/plain": [
       "31"
      ]
     },
     "execution_count": 153,
     "metadata": {},
     "output_type": "execute_result"
    }
   ],
   "source": [
    "max(sum(data, []))"
   ]
  },
  {
   "cell_type": "markdown",
   "metadata": {},
   "source": [
    "Second try: parallelize over graphs edges"
   ]
  },
  {
   "cell_type": "code",
   "execution_count": 154,
   "metadata": {},
   "outputs": [],
   "source": [
    "\n",
    "# parallelism at the level of individual graph\n",
    "\n",
    "# -- Treewidth\n",
    "def tw_parallel_unit(G, p, e1, ordering_algo='greedy'):\n",
    "    gamma, beta = get_gb(p)\n",
    "    comp = QAOAComposerSquared(G, gamma=gamma, beta=beta)\n",
    "    opt = qtensor.toolbox.get_ordering_algo(ordering_algo)\n",
    "    widths = []\n",
    "    for e2 in G.edges:\n",
    "        comp.energy_expectation_lightcone_squared(e1, e2)\n",
    "        tw = circ2tw(comp.circuit, opt)\n",
    "        widths.append(tw)\n",
    "    return widths\n",
    "    \n",
    "def estimate_variance_tw_parallel(G, parallel, p=4, ordering_algo='greedy'):\n",
    "    args = dict_product(e1=list(G.edges), p=[p], G=[G], ordering_algo=[ordering_algo])\n",
    "    widths_sq = parallel.starstarmap(tw_parallel_unit, args)\n",
    "    return sum(widths_sq, [])\n",
    "\n",
    "# -- Simulation\n",
    "def variance_parallel_unit(G, p, e1, ordering_algo='greedy'):\n",
    "    gamma, beta = get_gb(p)\n",
    "    comp = QAOAComposerSquared(G, gamma=gamma, beta=beta)\n",
    "    opt = qtensor.toolbox.get_ordering_algo(ordering_algo)\n",
    "    sim = qtensor.QtreeSimulator(optimizer=opt)\n",
    "    squared = 0\n",
    "    for e2 in G.edges:\n",
    "        comp.energy_expectation_lightcone_squared(e1, e2)\n",
    "        energy2 = sim.simulate_batch(comp.circuit, batch_vars=0)\n",
    "        squared += energy2\n",
    "    return squared\n",
    "\n",
    "    \n",
    "def simulate_variance_parallel(G, parallel, p=4, ordering_algo='greedy'):\n",
    "    args = dict_product(e1=list(G.edges), p=[p], G=[G], ordering_algo=[ordering_algo])\n",
    "    squared_seq = parallel.starstarmap(variance_parallel_unit, args)\n",
    "    squared = np.array(squared_seq).sum()\n",
    "\n",
    "    # -- linear\n",
    "    gamma, beta = get_gb(p)\n",
    "    comp = QAOAComposerSquared(G, gamma=gamma, beta=beta)\n",
    "    sim = qtensor.QtreeSimulator()\n",
    "    linear = 0\n",
    "    # this is usually much faster, so don't bother\n",
    "    for e in G.edges:\n",
    "        comp.energy_expectation_lightcone(e)\n",
    "        energy = sim.simulate_batch(comp.circuit, batch_vars=0)\n",
    "        linear += energy\n",
    "    # -- linear\n",
    "    E = G.number_of_edges()\n",
    "    cost, cost2 = post_process_variance(E, linear, squared)\n",
    "    return cost2 - cost*cost"
   ]
  },
  {
   "cell_type": "code",
   "execution_count": 155,
   "metadata": {},
   "outputs": [
    {
     "data": {
      "text/plain": [
       "array([4.9547652+1.04352254e-15j])"
      ]
     },
     "execution_count": 155,
     "metadata": {},
     "output_type": "execute_result"
    }
   ],
   "source": [
    "widths = estimate_variance_tw_parallel(G, parallel, p=p)\n",
    "var = simulate_variance_parallel(G, parallel, p=p)\n",
    "var"
   ]
  },
  {
   "cell_type": "code",
   "execution_count": 156,
   "metadata": {},
   "outputs": [
    {
     "data": {
      "text/plain": [
       "(array([  8.,   9.,  23.,  87., 156., 153.,  82.,  52.,   4.,   2.]),\n",
       " array([ 6. ,  6.9,  7.8,  8.7,  9.6, 10.5, 11.4, 12.3, 13.2, 14.1, 15. ]),\n",
       " <BarContainer object of 10 artists>)"
      ]
     },
     "execution_count": 156,
     "metadata": {},
     "output_type": "execute_result"
    },
    {
     "data": {
      "image/png": "[encoded data removed]",
      "text/plain": [
       "<Figure size 640x480 with 1 Axes>"
      ]
     },
     "metadata": {},
     "output_type": "display_data"
    }
   ],
   "source": [
    "plt.hist(widths)"
   ]
  },
  {
   "cell_type": "code",
   "execution_count": 157,
   "metadata": {},
   "outputs": [],
   "source": [
    "Ns = [20, 30, 40, 50]\n",
    "ps = [2, 3, 4]\n",
    "params = dict(N=Ns, p=ps)\n",
    "def unit_parallel(N, p):\n",
    "    G = nx.random_regular_graph(3, N, seed=10)\n",
    "    return estimate_variance_tw_parallel(G, parallel, p=p)\n",
    "args = dict_product(**params)"
   ]
  },
  {
   "cell_type": "code",
   "execution_count": 158,
   "metadata": {},
   "outputs": [],
   "source": [
    "data = parallel.starstarmap(unit_parallel, args)"
   ]
  },
  {
   "cell_type": "code",
   "execution_count": 159,
   "metadata": {},
   "outputs": [
    {
     "name": "stderr",
     "output_type": "stream",
     "text": [
      "/tmp/ipykernel_78003/4048087232.py:1: VisibleDeprecationWarning: Creating an ndarray from ragged nested sequences (which is a list-or-tuple of lists-or-tuples-or ndarrays with different lengths or shapes) is deprecated. If you meant to do this, you must specify 'dtype=object' when creating the ndarray.\n",
      "  data = np.array(data).reshape(len(params['N']), -1)\n"
     ]
    }
   ],
   "source": [
    "data = np.array(data).reshape(len(params['N']), -1)\n",
    "xwa = xarray.DataArray(data, coords=params, dims=params.keys())\n",
    "xwm = xarray.apply_ufunc(max, xwa, vectorize=True)"
   ]
  },
  {
   "cell_type": "code",
   "execution_count": 160,
   "metadata": {},
   "outputs": [
    {
     "data": {
      "text/plain": [
       "[<matplotlib.lines.Line2D at 0x7f3441cdfac0>,\n",
       " <matplotlib.lines.Line2D at 0x7f3441cdef50>,\n",
       " <matplotlib.lines.Line2D at 0x7f3441cde1d0>]"
      ]
     },
     "execution_count": 160,
     "metadata": {},
     "output_type": "execute_result"
    },
    {
     "data": {
      "image/png": "[encoded data removed]",
      "text/plain": [
       "<Figure size 640x480 with 1 Axes>"
      ]
     },
     "metadata": {},
     "output_type": "display_data"
    }
   ],
   "source": [
    "xwm.plot(x='N', hue='p')"
   ]
  },
  {
   "cell_type": "markdown",
   "metadata": {},
   "source": [
    "p=4 is hard to simulate. We'll focus on p=2, 3. "
   ]
  },
  {
   "cell_type": "markdown",
   "metadata": {},
   "source": [
    "### Ordering algo\n",
    "Changing ordering algorithm reduces memory requirement and speeds up computations, but can itself take time"
   ]
  },
  {
   "cell_type": "code",
   "execution_count": 163,
   "metadata": {},
   "outputs": [],
   "source": [
    "Ns = [20, 30, 40, 50]\n",
    "ps = [2, 3]\n",
    "params = dict(N=Ns, p=ps)\n",
    "def unit_parallel(N, p):\n",
    "    G = nx.random_regular_graph(3, N, seed=10)\n",
    "    return estimate_variance_tw_parallel(G, parallel, p=p, ordering_algo='rgreedy_0.03_10')\n",
    "args = dict_product(**params)"
   ]
  },
  {
   "cell_type": "code",
   "execution_count": 164,
   "metadata": {},
   "outputs": [],
   "source": [
    "data = parallel.starstarmap(unit_parallel, args)"
   ]
  },
  {
   "cell_type": "code",
   "execution_count": 165,
   "metadata": {},
   "outputs": [
    {
     "name": "stderr",
     "output_type": "stream",
     "text": [
      "/tmp/ipykernel_78003/4048087232.py:1: VisibleDeprecationWarning: Creating an ndarray from ragged nested sequences (which is a list-or-tuple of lists-or-tuples-or ndarrays with different lengths or shapes) is deprecated. If you meant to do this, you must specify 'dtype=object' when creating the ndarray.\n",
      "  data = np.array(data).reshape(len(params['N']), -1)\n"
     ]
    }
   ],
   "source": [
    "data = np.array(data).reshape(len(params['N']), -1)\n",
    "xwa = xarray.DataArray(data, coords=params, dims=params.keys())\n",
    "xwm = xarray.apply_ufunc(max, xwa, vectorize=True)"
   ]
  },
  {
   "cell_type": "code",
   "execution_count": 166,
   "metadata": {
    "scrolled": false
   },
   "outputs": [
    {
     "data": {
      "text/plain": [
       "[<matplotlib.lines.Line2D at 0x7f34426e67d0>,\n",
       " <matplotlib.lines.Line2D at 0x7f34426e7010>]"
      ]
     },
     "execution_count": 166,
     "metadata": {},
     "output_type": "execute_result"
    },
    {
     "data": {
      "image/png": "[encoded data removed]",
      "text/plain": [
       "<Figure size 640x480 with 1 Axes>"
      ]
     },
     "metadata": {},
     "output_type": "display_data"
    }
   ],
   "source": [
    "xwm.plot(x='N', hue='p')"
   ]
  },
  {
   "cell_type": "markdown",
   "metadata": {},
   "source": [
    "### Calculate the width"
   ]
  },
  {
   "cell_type": "code",
   "execution_count": 167,
   "metadata": {},
   "outputs": [],
   "source": [
    "Ns = [18, 20, 22, 24, 26, 28, 30, 36, 40, 46, 54]\n",
    "ps = [2, 3]\n",
    "params = dict(N=Ns, p=ps)\n",
    "def unit_parallel(N, p):\n",
    "    G = nx.random_regular_graph(3, N, seed=11)\n",
    "    return simulate_variance_parallel(G, parallel, p=p, ordering_algo='rgreedy_0.03_10')\n",
    "args = dict_product(**params)"
   ]
  },
  {
   "cell_type": "code",
   "execution_count": 168,
   "metadata": {},
   "outputs": [],
   "source": [
    "# this takes ~30 minutes with 55 cores\n",
    "data = parallel.starstarmap(unit_parallel, args)"
   ]
  },
  {
   "cell_type": "code",
   "execution_count": 169,
   "metadata": {},
   "outputs": [],
   "source": [
    "data = np.array(data).reshape(len(params['N']), -1)\n",
    "xwa = xarray.DataArray(data, coords=params, dims=params.keys()).real\n",
    "xwr = np.sqrt(xwa)/xwa.N/3*2"
   ]
  },
  {
   "cell_type": "code",
   "execution_count": 170,
   "metadata": {
    "scrolled": false
   },
   "outputs": [
    {
     "data": {
      "text/plain": [
       "[<matplotlib.lines.Line2D at 0x7f3442612140>,\n",
       " <matplotlib.lines.Line2D at 0x7f34426118d0>]"
      ]
     },
     "execution_count": 170,
     "metadata": {},
     "output_type": "execute_result"
    },
    {
     "data": {
      "image/png": "[encoded data removed]",
      "text/plain": [
       "<Figure size 640x480 with 1 Axes>"
      ]
     },
     "metadata": {},
     "output_type": "display_data"
    }
   ],
   "source": [
    "xwr.plot(x='N', hue='p')"
   ]
  },
  {
   "cell_type": "code",
   "execution_count": 171,
   "metadata": {},
   "outputs": [],
   "source": [
    "xwa.to_netcdf('../qaoa_variance_exact_p23.nc')"
   ]
  },
  {
   "cell_type": "code",
   "execution_count": 172,
   "metadata": {},
   "outputs": [
    {
     "data": {
      "text/plain": [
       "[<matplotlib.lines.Line2D at 0x7f344312ed40>,\n",
       " <matplotlib.lines.Line2D at 0x7f344312f6d0>]"
      ]
     },
     "execution_count": 172,
     "metadata": {},
     "output_type": "execute_result"
    },
    {
     "data": {
      "image/png": "[encoded data removed]",
      "text/plain": [
       "<Figure size 640x480 with 1 Axes>"
      ]
     },
     "metadata": {},
     "output_type": "display_data"
    }
   ],
   "source": [
    "(xwr*np.sqrt(xwr.N)).plot(x='N', hue='p')"
   ]
  },
  {
   "cell_type": "markdown",
   "metadata": {},
   "source": [
    "## SD for large N to compare with predictions"
   ]
  },
  {
   "cell_type": "code",
   "execution_count": 10,
   "metadata": {},
   "outputs": [],
   "source": [
    "Ns = [256]#, 512, 1024]\n",
    "ps = [2, 3]\n",
    "params = dict(N=Ns, p=ps)\n",
    "def unit_parallel(N, p):\n",
    "    G = nx.random_regular_graph(3, N, seed=11)\n",
    "    return simulate_variance_parallel(G, parallel, p=p, ordering_algo='rgreedy_0.03_10')\n",
    "args = dict_product(**params)"
   ]
  },
  {
   "cell_type": "code",
   "execution_count": null,
   "metadata": {},
   "outputs": [],
   "source": [
    "# this runs ~3 hours on 55 cores\n",
    "data = parallel.starstarmap(unit_parallel, args)"
   ]
  },
  {
   "cell_type": "code",
   "execution_count": null,
   "metadata": {},
   "outputs": [],
   "source": [
    "data = np.array(data).reshape(len(params['N']), -1)\n",
    "xwa = xarray.DataArray(data, coords=params, dims=params.keys()).real"
   ]
  },
  {
   "cell_type": "code",
   "execution_count": null,
   "metadata": {},
   "outputs": [],
   "source": [
    "xwa.to_netcdf('../qaoa_variance_exact_p23_N256.nc')"
   ]
  },
  {
   "cell_type": "code",
   "execution_count": 8,
   "metadata": {},
   "outputs": [
    {
     "data": {
      "text/html": [
       "<div><svg style=\"position: absolute; width: 0; height: 0; overflow: hidden\">\n",
       "<defs>\n",
       "<symbol id=\"icon-database\" viewBox=\"0 0 32 32\">\n",
       "<path d=\"M16 0c-8.837 0-16 2.239-16 5v4c0 2.761 7.163 5 16 5s16-2.239 16-5v-4c0-2.761-7.163-5-16-5z\"></path>\n",
       "<path d=\"M16 17c-8.837 0-16-2.239-16-5v6c0 2.761 7.163 5 16 5s16-2.239 16-5v-6c0 2.761-7.163 5-16 5z\"></path>\n",
       "<path d=\"M16 26c-8.837 0-16-2.239-16-5v6c0 2.761 7.163 5 16 5s16-2.239 16-5v-6c0 2.761-7.163 5-16 5z\"></path>\n",
       "</symbol>\n",
       "<symbol id=\"icon-file-text2\" viewBox=\"0 0 32 32\">\n",
       "<path d=\"M28.681 7.159c-0.694-0.947-1.662-2.053-2.724-3.116s-2.169-2.030-3.116-2.724c-1.612-1.182-2.393-1.319-2.841-1.319h-15.5c-1.378 0-2.5 1.121-2.5 2.5v27c0 1.378 1.122 2.5 2.5 2.5h23c1.378 0 2.5-1.122 2.5-2.5v-19.5c0-0.448-0.137-1.23-1.319-2.841zM24.543 5.457c0.959 0.959 1.712 1.825 2.268 2.543h-4.811v-4.811c0.718 0.556 1.584 1.309 2.543 2.268zM28 29.5c0 0.271-0.229 0.5-0.5 0.5h-23c-0.271 0-0.5-0.229-0.5-0.5v-27c0-0.271 0.229-0.5 0.5-0.5 0 0 15.499-0 15.5 0v7c0 0.552 0.448 1 1 1h7v19.5z\"></path>\n",
       "<path d=\"M23 26h-14c-0.552 0-1-0.448-1-1s0.448-1 1-1h14c0.552 0 1 0.448 1 1s-0.448 1-1 1z\"></path>\n",
       "<path d=\"M23 22h-14c-0.552 0-1-0.448-1-1s0.448-1 1-1h14c0.552 0 1 0.448 1 1s-0.448 1-1 1z\"></path>\n",
       "<path d=\"M23 18h-14c-0.552 0-1-0.448-1-1s0.448-1 1-1h14c0.552 0 1 0.448 1 1s-0.448 1-1 1z\"></path>\n",
       "</symbol>\n",
       "</defs>\n",
       "</svg>\n",
       "<style>/* CSS stylesheet for displaying xarray objects in jupyterlab.\n",
       " *\n",
       " */\n",
       "\n",
       ":root {\n",
       "  --xr-font-color0: var(--jp-content-font-color0, rgba(0, 0, 0, 1));\n",
       "  --xr-font-color2: var(--jp-content-font-color2, rgba(0, 0, 0, 0.54));\n",
       "  --xr-font-color3: var(--jp-content-font-color3, rgba(0, 0, 0, 0.38));\n",
       "  --xr-border-color: var(--jp-border-color2, #e0e0e0);\n",
       "  --xr-disabled-color: var(--jp-layout-color3, #bdbdbd);\n",
       "  --xr-background-color: var(--jp-layout-color0, white);\n",
       "  --xr-background-color-row-even: var(--jp-layout-color1, white);\n",
       "  --xr-background-color-row-odd: var(--jp-layout-color2, #eeeeee);\n",
       "}\n",
       "\n",
       "html[theme=dark],\n",
       "body[data-theme=dark],\n",
       "body.vscode-dark {\n",
       "  --xr-font-color0: rgba(255, 255, 255, 1);\n",
       "  --xr-font-color2: rgba(255, 255, 255, 0.54);\n",
       "  --xr-font-color3: rgba(255, 255, 255, 0.38);\n",
       "  --xr-border-color: #1F1F1F;\n",
       "  --xr-disabled-color: #515151;\n",
       "  --xr-background-color: #111111;\n",
       "  --xr-background-color-row-even: #111111;\n",
       "  --xr-background-color-row-odd: #313131;\n",
       "}\n",
       "\n",
       ".xr-wrap {\n",
       "  display: block !important;\n",
       "  min-width: 300px;\n",
       "  max-width: 700px;\n",
       "}\n",
       "\n",
       ".xr-text-repr-fallback {\n",
       "  /* fallback to plain text repr when CSS is not injected (untrusted notebook) */\n",
       "  display: none;\n",
       "}\n",
       "\n",
       ".xr-header {\n",
       "  padding-top: 6px;\n",
       "  padding-bottom: 6px;\n",
       "  margin-bottom: 4px;\n",
       "  border-bottom: solid 1px var(--xr-border-color);\n",
       "}\n",
       "\n",
       ".xr-header > div,\n",
       ".xr-header > ul {\n",
       "  display: inline;\n",
       "  margin-top: 0;\n",
       "  margin-bottom: 0;\n",
       "}\n",
       "\n",
       ".xr-obj-type,\n",
       ".xr-array-name {\n",
       "  margin-left: 2px;\n",
       "  margin-right: 10px;\n",
       "}\n",
       "\n",
       ".xr-obj-type {\n",
       "  color: var(--xr-font-color2);\n",
       "}\n",
       "\n",
       ".xr-sections {\n",
       "  padding-left: 0 !important;\n",
       "  display: grid;\n",
       "  grid-template-columns: 150px auto auto 1fr 20px 20px;\n",
       "}\n",
       "\n",
       ".xr-section-item {\n",
       "  display: contents;\n",
       "}\n",
       "\n",
       ".xr-section-item input {\n",
       "  display: none;\n",
       "}\n",
       "\n",
       ".xr-section-item input + label {\n",
       "  color: var(--xr-disabled-color);\n",
       "}\n",
       "\n",
       ".xr-section-item input:enabled + label {\n",
       "  cursor: pointer;\n",
       "  color: var(--xr-font-color2);\n",
       "}\n",
       "\n",
       ".xr-section-item input:enabled + label:hover {\n",
       "  color: var(--xr-font-color0);\n",
       "}\n",
       "\n",
       ".xr-section-summary {\n",
       "  grid-column: 1;\n",
       "  color: var(--xr-font-color2);\n",
       "  font-weight: 500;\n",
       "}\n",
       "\n",
       ".xr-section-summary > span {\n",
       "  display: inline-block;\n",
       "  padding-left: 0.5em;\n",
       "}\n",
       "\n",
       ".xr-section-summary-in:disabled + label {\n",
       "  color: var(--xr-font-color2);\n",
       "}\n",
       "\n",
       ".xr-section-summary-in + label:before {\n",
       "  display: inline-block;\n",
       "  content: '►';\n",
       "  font-size: 11px;\n",
       "  width: 15px;\n",
       "  text-align: center;\n",
       "}\n",
       "\n",
       ".xr-section-summary-in:disabled + label:before {\n",
       "  color: var(--xr-disabled-color);\n",
       "}\n",
       "\n",
       ".xr-section-summary-in:checked + label:before {\n",
       "  content: '▼';\n",
       "}\n",
       "\n",
       ".xr-section-summary-in:checked + label > span {\n",
       "  display: none;\n",
       "}\n",
       "\n",
       ".xr-section-summary,\n",
       ".xr-section-inline-details {\n",
       "  padding-top: 4px;\n",
       "  padding-bottom: 4px;\n",
       "}\n",
       "\n",
       ".xr-section-inline-details {\n",
       "  grid-column: 2 / -1;\n",
       "}\n",
       "\n",
       ".xr-section-details {\n",
       "  display: none;\n",
       "  grid-column: 1 / -1;\n",
       "  margin-bottom: 5px;\n",
       "}\n",
       "\n",
       ".xr-section-summary-in:checked ~ .xr-section-details {\n",
       "  display: contents;\n",
       "}\n",
       "\n",
       ".xr-array-wrap {\n",
       "  grid-column: 1 / -1;\n",
       "  display: grid;\n",
       "  grid-template-columns: 20px auto;\n",
       "}\n",
       "\n",
       ".xr-array-wrap > label {\n",
       "  grid-column: 1;\n",
       "  vertical-align: top;\n",
       "}\n",
       "\n",
       ".xr-preview {\n",
       "  color: var(--xr-font-color3);\n",
       "}\n",
       "\n",
       ".xr-array-preview,\n",
       ".xr-array-data {\n",
       "  padding: 0 5px !important;\n",
       "  grid-column: 2;\n",
       "}\n",
       "\n",
       ".xr-array-data,\n",
       ".xr-array-in:checked ~ .xr-array-preview {\n",
       "  display: none;\n",
       "}\n",
       "\n",
       ".xr-array-in:checked ~ .xr-array-data,\n",
       ".xr-array-preview {\n",
       "  display: inline-block;\n",
       "}\n",
       "\n",
       ".xr-dim-list {\n",
       "  display: inline-block !important;\n",
       "  list-style: none;\n",
       "  padding: 0 !important;\n",
       "  margin: 0;\n",
       "}\n",
       "\n",
       ".xr-dim-list li {\n",
       "  display: inline-block;\n",
       "  padding: 0;\n",
       "  margin: 0;\n",
       "}\n",
       "\n",
       ".xr-dim-list:before {\n",
       "  content: '(';\n",
       "}\n",
       "\n",
       ".xr-dim-list:after {\n",
       "  content: ')';\n",
       "}\n",
       "\n",
       ".xr-dim-list li:not(:last-child):after {\n",
       "  content: ',';\n",
       "  padding-right: 5px;\n",
       "}\n",
       "\n",
       ".xr-has-index {\n",
       "  font-weight: bold;\n",
       "}\n",
       "\n",
       ".xr-var-list,\n",
       ".xr-var-item {\n",
       "  display: contents;\n",
       "}\n",
       "\n",
       ".xr-var-item > div,\n",
       ".xr-var-item label,\n",
       ".xr-var-item > .xr-var-name span {\n",
       "  background-color: var(--xr-background-color-row-even);\n",
       "  margin-bottom: 0;\n",
       "}\n",
       "\n",
       ".xr-var-item > .xr-var-name:hover span {\n",
       "  padding-right: 5px;\n",
       "}\n",
       "\n",
       ".xr-var-list > li:nth-child(odd) > div,\n",
       ".xr-var-list > li:nth-child(odd) > label,\n",
       ".xr-var-list > li:nth-child(odd) > .xr-var-name span {\n",
       "  background-color: var(--xr-background-color-row-odd);\n",
       "}\n",
       "\n",
       ".xr-var-name {\n",
       "  grid-column: 1;\n",
       "}\n",
       "\n",
       ".xr-var-dims {\n",
       "  grid-column: 2;\n",
       "}\n",
       "\n",
       ".xr-var-dtype {\n",
       "  grid-column: 3;\n",
       "  text-align: right;\n",
       "  color: var(--xr-font-color2);\n",
       "}\n",
       "\n",
       ".xr-var-preview {\n",
       "  grid-column: 4;\n",
       "}\n",
       "\n",
       ".xr-var-name,\n",
       ".xr-var-dims,\n",
       ".xr-var-dtype,\n",
       ".xr-preview,\n",
       ".xr-attrs dt {\n",
       "  white-space: nowrap;\n",
       "  overflow: hidden;\n",
       "  text-overflow: ellipsis;\n",
       "  padding-right: 10px;\n",
       "}\n",
       "\n",
       ".xr-var-name:hover,\n",
       ".xr-var-dims:hover,\n",
       ".xr-var-dtype:hover,\n",
       ".xr-attrs dt:hover {\n",
       "  overflow: visible;\n",
       "  width: auto;\n",
       "  z-index: 1;\n",
       "}\n",
       "\n",
       ".xr-var-attrs,\n",
       ".xr-var-data {\n",
       "  display: none;\n",
       "  background-color: var(--xr-background-color) !important;\n",
       "  padding-bottom: 5px !important;\n",
       "}\n",
       "\n",
       ".xr-var-attrs-in:checked ~ .xr-var-attrs,\n",
       ".xr-var-data-in:checked ~ .xr-var-data {\n",
       "  display: block;\n",
       "}\n",
       "\n",
       ".xr-var-data > table {\n",
       "  float: right;\n",
       "}\n",
       "\n",
       ".xr-var-name span,\n",
       ".xr-var-data,\n",
       ".xr-attrs {\n",
       "  padding-left: 25px !important;\n",
       "}\n",
       "\n",
       ".xr-attrs,\n",
       ".xr-var-attrs,\n",
       ".xr-var-data {\n",
       "  grid-column: 1 / -1;\n",
       "}\n",
       "\n",
       "dl.xr-attrs {\n",
       "  padding: 0;\n",
       "  margin: 0;\n",
       "  display: grid;\n",
       "  grid-template-columns: 125px auto;\n",
       "}\n",
       "\n",
       ".xr-attrs dt,\n",
       ".xr-attrs dd {\n",
       "  padding: 0;\n",
       "  margin: 0;\n",
       "  float: left;\n",
       "  padding-right: 10px;\n",
       "  width: auto;\n",
       "}\n",
       "\n",
       ".xr-attrs dt {\n",
       "  font-weight: normal;\n",
       "  grid-column: 1;\n",
       "}\n",
       "\n",
       ".xr-attrs dt:hover span {\n",
       "  display: inline-block;\n",
       "  background: var(--xr-background-color);\n",
       "  padding-right: 10px;\n",
       "}\n",
       "\n",
       ".xr-attrs dd {\n",
       "  grid-column: 2;\n",
       "  white-space: pre-wrap;\n",
       "  word-break: break-all;\n",
       "}\n",
       "\n",
       ".xr-icon-database,\n",
       ".xr-icon-file-text2 {\n",
       "  display: inline-block;\n",
       "  vertical-align: middle;\n",
       "  width: 1em;\n",
       "  height: 1.5em !important;\n",
       "  stroke-width: 0;\n",
       "  stroke: currentColor;\n",
       "  fill: currentColor;\n",
       "}\n",
       "</style><pre class='xr-text-repr-fallback'>&lt;xarray.DataArray (N: 1, p: 2)&gt;\n",
       "array([[0.01915903, 0.01734625]])\n",
       "Coordinates:\n",
       "  * p        (p) int32 2 3\n",
       "  * N        (N) int32 256</pre><div class='xr-wrap' style='display:none'><div class='xr-header'><div class='xr-obj-type'>xarray.DataArray</div><div class='xr-array-name'></div><ul class='xr-dim-list'><li><span class='xr-has-index'>N</span>: 1</li><li><span class='xr-has-index'>p</span>: 2</li></ul></div><ul class='xr-sections'><li class='xr-section-item'><div class='xr-array-wrap'><input id='section-0aa4f08e-4e27-48d1-8811-0fb7e77f4a15' class='xr-array-in' type='checkbox' checked><label for='section-0aa4f08e-4e27-48d1-8811-0fb7e77f4a15' title='Show/hide data repr'><svg class='icon xr-icon-database'><use xlink:href='#icon-database'></use></svg></label><div class='xr-array-preview xr-preview'><span>0.01916 0.01735</span></div><div class='xr-array-data'><pre>array([[0.01915903, 0.01734625]])</pre></div></div></li><li class='xr-section-item'><input id='section-ec0a0eab-0ec7-4a4a-b582-b342f5418481' class='xr-section-summary-in' type='checkbox'  checked><label for='section-ec0a0eab-0ec7-4a4a-b582-b342f5418481' class='xr-section-summary' >Coordinates: <span>(2)</span></label><div class='xr-section-inline-details'></div><div class='xr-section-details'><ul class='xr-var-list'><li class='xr-var-item'><div class='xr-var-name'><span class='xr-has-index'>p</span></div><div class='xr-var-dims'>(p)</div><div class='xr-var-dtype'>int32</div><div class='xr-var-preview xr-preview'>2 3</div><input id='attrs-b757f86f-be9a-4f5e-9298-66c486e525b3' class='xr-var-attrs-in' type='checkbox' disabled><label for='attrs-b757f86f-be9a-4f5e-9298-66c486e525b3' title='Show/Hide attributes'><svg class='icon xr-icon-file-text2'><use xlink:href='#icon-file-text2'></use></svg></label><input id='data-338fdece-fe51-44d3-a47d-aa6a3520c875' class='xr-var-data-in' type='checkbox'><label for='data-338fdece-fe51-44d3-a47d-aa6a3520c875' title='Show/Hide data repr'><svg class='icon xr-icon-database'><use xlink:href='#icon-database'></use></svg></label><div class='xr-var-attrs'><dl class='xr-attrs'></dl></div><div class='xr-var-data'><pre>array([2, 3], dtype=int32)</pre></div></li><li class='xr-var-item'><div class='xr-var-name'><span class='xr-has-index'>N</span></div><div class='xr-var-dims'>(N)</div><div class='xr-var-dtype'>int32</div><div class='xr-var-preview xr-preview'>256</div><input id='attrs-6edace84-eea0-48f0-b879-51c54e0ceb57' class='xr-var-attrs-in' type='checkbox' disabled><label for='attrs-6edace84-eea0-48f0-b879-51c54e0ceb57' title='Show/Hide attributes'><svg class='icon xr-icon-file-text2'><use xlink:href='#icon-file-text2'></use></svg></label><input id='data-3d23b49f-aab4-4882-ad7c-447aa2371edb' class='xr-var-data-in' type='checkbox'><label for='data-3d23b49f-aab4-4882-ad7c-447aa2371edb' title='Show/Hide data repr'><svg class='icon xr-icon-database'><use xlink:href='#icon-database'></use></svg></label><div class='xr-var-attrs'><dl class='xr-attrs'></dl></div><div class='xr-var-data'><pre>array([256], dtype=int32)</pre></div></li></ul></div></li><li class='xr-section-item'><input id='section-a50ed49d-f817-4262-84fc-bb6ae2e5641b' class='xr-section-summary-in' type='checkbox' disabled ><label for='section-a50ed49d-f817-4262-84fc-bb6ae2e5641b' class='xr-section-summary'  title='Expand/collapse section'>Attributes: <span>(0)</span></label><div class='xr-section-inline-details'></div><div class='xr-section-details'><dl class='xr-attrs'></dl></div></li></ul></div></div>"
      ],
      "text/plain": [
       "<xarray.DataArray (N: 1, p: 2)>\n",
       "array([[0.01915903, 0.01734625]])\n",
       "Coordinates:\n",
       "  * p        (p) int32 2 3\n",
       "  * N        (N) int32 256"
      ]
     },
     "execution_count": 8,
     "metadata": {},
     "output_type": "execute_result"
    }
   ],
   "source": [
    "xwa = xarray.load_dataarray('../qaoa_variance_exact_p23_N256.nc')\n",
    "# Convert variance to SD and normalize to cut fraction\n",
    "xwr = np.sqrt(xwa)/xwa.N/3*2\n",
    "xwr"
   ]
  },
  {
   "cell_type": "code",
   "execution_count": 11,
   "metadata": {},
   "outputs": [
    {
     "name": "stdout",
     "output_type": "stream",
     "text": [
      "SD for N=256 and p=3 [0.01734625]\n"
     ]
    }
   ],
   "source": [
    "print(\"SD for N=256 and p=3\", xwr.sel(p=3).data)"
   ]
  },
  {
   "cell_type": "markdown",
   "metadata": {},
   "source": [
    "---"
   ]
  }
 ],
 "metadata": {
  "kernelspec": {
   "display_name": "Python 3 (ipykernel)",
   "language": "python",
   "name": "python3"
  },
  "language_info": {
   "codemirror_mode": {
    "name": "ipython",
    "version": 3
   },
   "file_extension": ".py",
   "mimetype": "text/x-python",
   "name": "python",
   "nbconvert_exporter": "python",
   "pygments_lexer": "ipython3",
   "version": "3.10.4"
  },
  "toc": {
   "base_numbering": 1,
   "nav_menu": {},
   "number_sections": true,
   "sideBar": true,
   "skip_h1_title": true,
   "title_cell": "Table of Contents",
   "title_sidebar": "Contents",
   "toc_cell": true,
   "toc_position": {},
   "toc_section_display": true,
   "toc_window_display": true
  },
  "varInspector": {
   "cols": {
    "lenName": 16,
    "lenType": 16,
    "lenVar": 40
   },
   "kernels_config": {
    "python": {
     "delete_cmd_postfix": "",
     "delete_cmd_prefix": "del ",
     "library": "var_list.py",
     "varRefreshCmd": "print(var_dic_list())"
    },
    "r": {
     "delete_cmd_postfix": ") ",
     "delete_cmd_prefix": "rm(",
     "library": "var_list.r",
     "varRefreshCmd": "cat(var_dic_list()) "
    }
   },
   "types_to_exclude": [
    "module",
    "function",
    "builtin_function_or_method",
    "instance",
    "_Feature"
   ],
   "window_display": false
  }
 },
 "nbformat": 4,
 "nbformat_minor": 4
}
