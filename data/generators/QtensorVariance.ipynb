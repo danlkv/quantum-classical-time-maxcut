{
 "cells": [
  {
   "cell_type": "markdown",
   "metadata": {},
   "source": [
    "# Calculating variance of energy"
   ]
  },
  {
   "cell_type": "code",
   "execution_count": null,
   "metadata": {},
   "outputs": [],
   "source": [
    "%load_ext autoreload\n",
    "%autoreload 2"
   ]
  },
  {
   "cell_type": "code",
   "execution_count": 88,
   "metadata": {},
   "outputs": [],
   "source": [
    "import qtensor\n",
    "import matplotlib.pyplot as plt\n",
    "import networkx as nx\n",
    "import numpy as np\n",
    "from tqdm.auto import tqdm\n",
    "\n",
    "from qtensor import QtreeQAOAComposer"
   ]
  },
  {
   "cell_type": "markdown",
   "metadata": {},
   "source": [
    "## Create the squared composer"
   ]
  },
  {
   "cell_type": "code",
   "execution_count": 206,
   "metadata": {},
   "outputs": [],
   "source": [
    "def get_edge_subgraph_squared(G, edge1, edge2, dist):\n",
    "    nodes_groups = qtensor.utils.nodes_group_by_distance(G, edge1+edge2, dist)\n",
    "    all_nodes = sum(nodes_groups.values(), [])\n",
    "    subgraph = G.subgraph(all_nodes).copy()\n",
    "    farthest_nodes = nodes_groups[dist]\n",
    "    \n",
    "    edges_to_delete = []\n",
    "    for u, v in subgraph.edges():\n",
    "        if (u in farthest_nodes) and (v in farthest_nodes):\n",
    "            edges_to_delete.append((u,v))\n",
    "    subgraph.remove_edges_from(edges_to_delete)\n",
    "    return subgraph\n",
    "\n",
    "class QAOAComposerSquared(QtreeQAOAComposer):\n",
    "    def cone_ansatz_squared(self, edge1, edge2):\n",
    "        beta, gamma = self.params['beta'], self.params['gamma']\n",
    "        \n",
    "        assert(len(beta) == len(gamma))\n",
    "        p = len(beta) # infering number of QAOA steps from the parameters passed\n",
    "        self.layer_of_Hadamards()\n",
    "        # second, apply p alternating operators\n",
    "        cone_base = self.graph\n",
    "\n",
    "        for i, g, b in zip(range(p, 0, -1), gamma, beta):\n",
    "            self.graph = get_edge_subgraph_squared(cone_base, edge1, edge2, i)\n",
    "            self.cost_operator_circuit(g)\n",
    "            self.graph = get_edge_subgraph_squared(cone_base, edge1, edge2, i-1)\n",
    "            self.mixer_operator(b)\n",
    "        self.graph = cone_base\n",
    "\n",
    "\n",
    "    def energy_expectation_squared(self, edge1, edge2):\n",
    "        # Will need to deprecate stateful API and return the circuit\n",
    "        self.cone_ansatz_squared(edge1, edge2)\n",
    "        self.energy_edge(*edge1)\n",
    "        self.energy_edge(*edge2)\n",
    "        first_part = self.builder.circuit\n",
    "        self.builder.reset()\n",
    "\n",
    "        self.cone_ansatz_squared(edge1, edge2)\n",
    "        self.builder.inverse()\n",
    "        second_part = self.builder.circuit\n",
    "\n",
    "        self.circuit = first_part + second_part\n",
    "    \n",
    "    def energy_expectation_lightcone_squared(self, edge1, edge2):\n",
    "        G = self.graph\n",
    "        gamma, beta = self.params['gamma'], self.params['beta']\n",
    "        graph = get_edge_subgraph_squared(G, edge1, edge2, len(gamma))\n",
    "        #print('Subgraph nodes: {}, edges: {}', graph.number_of_nodes(), graph.number_of_edges())\n",
    "        self.n_qubits = graph.number_of_nodes()\n",
    "        mapping = {v:i for i, v in enumerate(graph.nodes())}\n",
    "        graph = nx.relabel_nodes(graph, mapping, copy=True)\n",
    "\n",
    "        edge1 = mapping[edge1[0]], mapping[edge1[1]]\n",
    "        edge2 = mapping[edge2[0]], mapping[edge2[1]]\n",
    "        composer = self._get_of_my_type(graph, beta=beta, gamma=gamma)\n",
    "        composer.energy_expectation_squared(edge1, edge2)\n",
    "        self.circuit = composer.circuit\n",
    "        # return composer\n"
   ]
  },
  {
   "cell_type": "code",
   "execution_count": 207,
   "metadata": {},
   "outputs": [],
   "source": [
    "def get_gb(p):\n",
    "    gammabeta = np.array(qtensor.tools.BETHE_QAOA_VALUES[str(p)]['angles'])/np.pi\n",
    "    return gammabeta[:p], gammabeta[p:]\n",
    "    \n",
    "def get_maxcut_probs(G, p, backend=qtensor.NumpyBackend()):\n",
    "    sim = qtensor.QAOAQtreeSimulator(qtensor.DefaultQAOAComposer, backend=backend)\n",
    "    gamma, beta = get_gb(p)\n",
    "    comp = qtensor.DefaultQAOAComposer(G, gamma=gamma, beta=beta)\n",
    "    comp.ansatz_state()\n",
    "    circ = comp.circuit\n",
    "    sim.optimizer = qtensor.toolbox.get_ordering_algo('naive')\n",
    "    amps = sim.simulate_batch(circ, batch_vars=range(G.number_of_nodes()))\n",
    "    probs = np.real(amps.conj()*amps)\n",
    "    return probs\n",
    "\n",
    "def get_maxcut_cost_dist(G, p=6):\n",
    "    N = G.number_of_nodes()\n",
    "    probs = get_maxcut_probs(G, p)\n",
    "    print('got probs')\n",
    "    bitst = np.array(np.unravel_index(range(2**N), shape=[2]*N))*2-1\n",
    "    e = G.number_of_edges()\n",
    "    costs = [(e-sum(sol[i]*sol[j] for i,j in G.edges))/2 for sol in bitst.T]\n",
    "    costs = np.array(costs)\n",
    "    print('got costs')\n",
    "    distr = dict()\n",
    "    for i in range(len(probs)):\n",
    "        c = costs[i]\n",
    "        distr.setdefault(c, 0)\n",
    "        distr[c] += probs[i]\n",
    "    return distr"
   ]
  },
  {
   "cell_type": "code",
   "execution_count": 210,
   "metadata": {},
   "outputs": [],
   "source": [
    "G = nx.random_regular_graph(3, 12, seed=12)\n",
    "p = 2\n",
    "edges = list(G.edges())"
   ]
  },
  {
   "cell_type": "code",
   "execution_count": 211,
   "metadata": {
    "scrolled": true
   },
   "outputs": [],
   "source": [
    "comp = QAOAComposerSquared(G, gamma=[0.1]*p, beta=[0.2]*p)\n",
    "edge_pair = edges[0], edges[2]\n",
    "comp.energy_expectation_lightcone_squared(*edge_pair)"
   ]
  },
  {
   "cell_type": "markdown",
   "metadata": {},
   "source": [
    "## Calculate variance"
   ]
  },
  {
   "cell_type": "code",
   "execution_count": 241,
   "metadata": {},
   "outputs": [],
   "source": [
    "G = nx.random_regular_graph(3, 40, seed=12)\n",
    "p = 2\n",
    "edge_pair = edges[0], edges[2]"
   ]
  },
  {
   "cell_type": "code",
   "execution_count": 242,
   "metadata": {},
   "outputs": [],
   "source": [
    "subgraph = get_edge_subgraph_squared(G, *edge_pair, p)"
   ]
  },
  {
   "cell_type": "code",
   "execution_count": 243,
   "metadata": {},
   "outputs": [
    {
     "data": {
      "text/plain": [
       "Text(0.5, 1.0, 'Subgraph on ((4, 10), (4, 7))')"
      ]
     },
     "execution_count": 243,
     "metadata": {},
     "output_type": "execute_result"
    },
    {
     "data": {
      "image/png": "[encoded data removed]",
      "text/plain": [
       "<Figure size 432x216 with 2 Axes>"
      ]
     },
     "metadata": {},
     "output_type": "display_data"
    }
   ],
   "source": [
    "fig, axs = plt.subplots(1, 2, figsize=(6,3))\n",
    "plt.sca(axs[0])\n",
    "nx.draw_kamada_kawai(G, with_labels=True)\n",
    "plt.title(f'Original graph')\n",
    "plt.sca(axs[1])\n",
    "nx.draw_kamada_kawai(subgraph, with_labels=True)\n",
    "plt.title(f'Subgraph on {edge_pair}')"
   ]
  },
  {
   "cell_type": "code",
   "execution_count": 235,
   "metadata": {},
   "outputs": [
    {
     "name": "stdout",
     "output_type": "stream",
     "text": [
      "got probs\n",
      "got costs\n"
     ]
    },
    {
     "data": {
      "text/plain": [
       "{0.0: 1.4977672230511685e-11,\n",
       " 3.0: 3.4254762038782153e-10,\n",
       " 6.0: 1.805905772196864e-08,\n",
       " 4.0: 1.4870594227461157e-09,\n",
       " 7.0: 1.0800987916147559e-07,\n",
       " 9.0: 1.1649199034735454e-06,\n",
       " 10.0: 5.611961247292553e-06,\n",
       " 12.0: 6.630321058538682e-05,\n",
       " 13.0: 0.00021632062853890578,\n",
       " 5.0: 1.7798192189191204e-09,\n",
       " 8.0: 3.328799524568093e-07,\n",
       " 11.0: 1.9953817546624668e-05,\n",
       " 15.0: 0.0017361743325808286,\n",
       " 16.0: 0.004739224084642502,\n",
       " 14.0: 0.0006325954338114733,\n",
       " 17.0: 0.01088441878489625,\n",
       " 18.0: 0.022457032997677602,\n",
       " 19.0: 0.04483359409383747,\n",
       " 20.0: 0.08392347805681082,\n",
       " 21.0: 0.1315727317931853,\n",
       " 22.0: 0.1708463573821889,\n",
       " 23.0: 0.1804846409624351,\n",
       " 24.0: 0.161665906158013,\n",
       " 25.0: 0.11475219443882308,\n",
       " 26.0: 0.059517223922039716,\n",
       " 27.0: 0.011643925877333459}"
      ]
     },
     "execution_count": 235,
     "metadata": {},
     "output_type": "execute_result"
    }
   ],
   "source": [
    "cost_dist = get_maxcut_cost_dist(G, p=p)\n",
    "cost_dist"
   ]
  },
  {
   "cell_type": "code",
   "execution_count": 244,
   "metadata": {},
   "outputs": [],
   "source": [
    "def simulate_variance(G, p=4):\n",
    "    gamma, beta = get_gb(p)\n",
    "    sim = qtensor.QtreeSimulator()\n",
    "    comp = QAOAComposerSquared(G, gamma=gamma, beta=beta)\n",
    "    squared = 0\n",
    "    pbar = tqdm(total=len(G.edges)**2)\n",
    "    for e1 in G.edges:\n",
    "        for e2 in G.edges:\n",
    "            comp.energy_expectation_lightcone_squared(e1, e2)\n",
    "            energy2 = sim.simulate_batch(comp.circuit, batch_vars=0)\n",
    "            squared += energy2\n",
    "            pbar.update()\n",
    "    linear = 0\n",
    "    for e in G.edges:\n",
    "            comp.energy_expectation_lightcone(e)\n",
    "            energy = sim.simulate_batch(comp.circuit, batch_vars=0)\n",
    "            linear += energy\n",
    "    print('lineaar', linear)\n",
    "    print('squared', squared)\n",
    "    E = G.number_of_edges()\n",
    "    cost = 1/2*(E - linear)\n",
    "    print('cost', cost)\n",
    "    cost2 = 1/4*(E*E - 2*E*linear + squared)\n",
    "    print('cost2', cost2)\n",
    "    return cost2 - cost*cost\n"
   ]
  },
  {
   "cell_type": "code",
   "execution_count": 245,
   "metadata": {},
   "outputs": [
    {
     "data": {
      "application/vnd.jupyter.widget-view+json": {
       "model_id": "83e1bcb3ed324e3b96a9c0a4d596450c",
       "version_major": 2,
       "version_minor": 0
      },
      "text/plain": [
       "HBox(children=(HTML(value=''), FloatProgress(value=0.0, max=3600.0), HTML(value='')))"
      ]
     },
     "metadata": {},
     "output_type": "display_data"
    },
    {
     "name": "stdout",
     "output_type": "stream",
     "text": [
      "\n",
      "lineaar [-30.25381134-3.52897327e-16j]\n",
      "squared [952.0408833+3.90152103e-14j]\n",
      "cost [45.12690567+1.76448663e-16j]\n",
      "cost2 [2045.6245611+2.03407224e-14j]\n",
      "Variance [9.18694564+4.41555801e-15j]\n"
     ]
    }
   ],
   "source": [
    "var = simulate_variance(G, p=2)\n",
    "print('Variance', var)"
   ]
  },
  {
   "cell_type": "code",
   "execution_count": 238,
   "metadata": {},
   "outputs": [
    {
     "data": {
      "text/plain": [
       "Text(0.5, 1.0, 'Cost distribution')"
      ]
     },
     "execution_count": 238,
     "metadata": {},
     "output_type": "execute_result"
    },
    {
     "data": {
      "image/png": "[encoded data removed]",
      "text/plain": [
       "<Figure size 432x288 with 1 Axes>"
      ]
     },
     "metadata": {
      "needs_background": "light"
     },
     "output_type": "display_data"
    }
   ],
   "source": [
    "plt.scatter(cost_dist.keys(), cost_dist.values())\n",
    "plt.title('Cost distribution')"
   ]
  },
  {
   "cell_type": "code",
   "execution_count": 239,
   "metadata": {},
   "outputs": [
    {
     "data": {
      "text/plain": [
       "4.661390875989544"
      ]
     },
     "execution_count": 239,
     "metadata": {},
     "output_type": "execute_result"
    }
   ],
   "source": [
    "pdf = np.array(list(cost_dist.values()))\n",
    "x = np.array(list(cost_dist.keys()))\n",
    "Z = sum(pdf)\n",
    "mean = sum(pdf*x)/Z\n",
    "var_direct = sum(pdf*(mean-x)**2)/Z\n",
    "var_direct"
   ]
  },
  {
   "cell_type": "code",
   "execution_count": 246,
   "metadata": {},
   "outputs": [
    {
     "ename": "AssertionError",
     "evalue": "The two don't match!",
     "output_type": "error",
     "traceback": [
      "\u001b[0;31m---------------------------------------------------------------------------\u001b[0m",
      "\u001b[0;31mAssertionError\u001b[0m                            Traceback (most recent call last)",
      "\u001b[0;32m<ipython-input-246-dbe0d1c245d0>\u001b[0m in \u001b[0;36m<module>\u001b[0;34m\u001b[0m\n\u001b[0;32m----> 1\u001b[0;31m \u001b[0;32massert\u001b[0m \u001b[0mnp\u001b[0m\u001b[0;34m.\u001b[0m\u001b[0misclose\u001b[0m\u001b[0;34m(\u001b[0m\u001b[0mnp\u001b[0m\u001b[0;34m.\u001b[0m\u001b[0mreal\u001b[0m\u001b[0;34m(\u001b[0m\u001b[0mvar\u001b[0m\u001b[0;34m)\u001b[0m\u001b[0;34m,\u001b[0m \u001b[0mvar_direct\u001b[0m\u001b[0;34m)\u001b[0m\u001b[0;34m,\u001b[0m \u001b[0;34m\"The two don't match!\"\u001b[0m\u001b[0;34m\u001b[0m\u001b[0;34m\u001b[0m\u001b[0m\n\u001b[0m\u001b[1;32m      2\u001b[0m \u001b[0mprint\u001b[0m\u001b[0;34m(\u001b[0m\u001b[0;34m\"The two match!\"\u001b[0m\u001b[0;34m)\u001b[0m\u001b[0;34m\u001b[0m\u001b[0;34m\u001b[0m\u001b[0m\n",
      "\u001b[0;31mAssertionError\u001b[0m: The two don't match!"
     ]
    }
   ],
   "source": [
    "assert np.isclose(np.real(var), var_direct), \"The two don't match!\"\n",
    "print(\"The two match!\")"
   ]
  },
  {
   "cell_type": "code",
   "execution_count": null,
   "metadata": {},
   "outputs": [],
   "source": []
  }
 ],
 "metadata": {
  "kernelspec": {
   "display_name": "Python 3",
   "language": "python",
   "name": "python3"
  },
  "language_info": {
   "codemirror_mode": {
    "name": "ipython",
    "version": 3
   },
   "file_extension": ".py",
   "mimetype": "text/x-python",
   "name": "python",
   "nbconvert_exporter": "python",
   "pygments_lexer": "ipython3",
   "version": "3.8.2"
  },
  "toc": {
   "base_numbering": 1,
   "nav_menu": {},
   "number_sections": true,
   "sideBar": true,
   "skip_h1_title": false,
   "title_cell": "Table of Contents",
   "title_sidebar": "Contents",
   "toc_cell": false,
   "toc_position": {},
   "toc_section_display": true,
   "toc_window_display": false
  },
  "varInspector": {
   "cols": {
    "lenName": 16,
    "lenType": 16,
    "lenVar": 40
   },
   "kernels_config": {
    "python": {
     "delete_cmd_postfix": "",
     "delete_cmd_prefix": "del ",
     "library": "var_list.py",
     "varRefreshCmd": "print(var_dic_list())"
    },
    "r": {
     "delete_cmd_postfix": ") ",
     "delete_cmd_prefix": "rm(",
     "library": "var_list.r",
     "varRefreshCmd": "cat(var_dic_list()) "
    }
   },
   "types_to_exclude": [
    "module",
    "function",
    "builtin_function_or_method",
    "instance",
    "_Feature"
   ],
   "window_display": false
  }
 },
 "nbformat": 4,
 "nbformat_minor": 4
}
