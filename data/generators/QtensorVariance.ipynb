{
 "cells": [
  {
   "cell_type": "markdown",
   "metadata": {
    "toc": true
   },
   "source": [
    "<h1>Table of Contents<span class=\"tocSkip\"></span></h1>\n",
    "<div class=\"toc\"><ul class=\"toc-item\"><li><span><a href=\"#Create-the-squared-composer\" data-toc-modified-id=\"Create-the-squared-composer-1\"><span class=\"toc-item-num\">1&nbsp;&nbsp;</span>Create the squared composer</a></span></li><li><span><a href=\"#Calculate-variance\" data-toc-modified-id=\"Calculate-variance-2\"><span class=\"toc-item-num\">2&nbsp;&nbsp;</span>Calculate variance</a></span><ul class=\"toc-item\"><li><span><a href=\"#Demo-of-subgraph-of-two-edges\" data-toc-modified-id=\"Demo-of-subgraph-of-two-edges-2.1\"><span class=\"toc-item-num\">2.1&nbsp;&nbsp;</span>Demo of subgraph of two edges</a></span></li><li><span><a href=\"#Manual-computation-of-cost-distribution\" data-toc-modified-id=\"Manual-computation-of-cost-distribution-2.2\"><span class=\"toc-item-num\">2.2&nbsp;&nbsp;</span>Manual computation of cost distribution</a></span></li></ul></li><li><span><a href=\"#Large-scale-simulations\" data-toc-modified-id=\"Large-scale-simulations-3\"><span class=\"toc-item-num\">3&nbsp;&nbsp;</span>Large scale simulations</a></span><ul class=\"toc-item\"><li><span><a href=\"#Calculate-the-width\" data-toc-modified-id=\"Calculate-the-width-3.1\"><span class=\"toc-item-num\">3.1&nbsp;&nbsp;</span>Calculate the width</a></span></li></ul></li></ul></div>"
   ]
  },
  {
   "cell_type": "markdown",
   "metadata": {},
   "source": [
    "# Calculating variance of energy using tensor networks"
   ]
  },
  {
   "cell_type": "code",
   "execution_count": 1,
   "metadata": {},
   "outputs": [],
   "source": [
    "%load_ext autoreload\n",
    "%autoreload 2"
   ]
  },
  {
   "cell_type": "code",
   "execution_count": 2,
   "metadata": {},
   "outputs": [],
   "source": [
    "import qtensor\n",
    "import matplotlib.pyplot as plt\n",
    "import networkx as nx\n",
    "import numpy as np\n",
    "from tqdm.auto import tqdm\n",
    "from qtensor import QtreeQAOAComposer\n",
    "\n",
    "import xarray\n",
    "from cartesian_explorer import parallels, dict_product # for large-scale parallel simualtions"
   ]
  },
  {
   "cell_type": "markdown",
   "metadata": {},
   "source": [
    "## Create the squared composer"
   ]
  },
  {
   "cell_type": "code",
   "execution_count": 3,
   "metadata": {},
   "outputs": [],
   "source": [
    "def get_edge_subgraph_squared(G, edge1, edge2, dist):\n",
    "    nodes_groups = qtensor.utils.nodes_group_by_distance(G, edge1+edge2, dist)\n",
    "    all_nodes = sum(nodes_groups.values(), [])\n",
    "    subgraph = G.subgraph(all_nodes).copy()\n",
    "    farthest_nodes = nodes_groups[dist]\n",
    "    \n",
    "    edges_to_delete = []\n",
    "    for u, v in subgraph.edges():\n",
    "        if (u in farthest_nodes) and (v in farthest_nodes):\n",
    "            edges_to_delete.append((u,v))\n",
    "    subgraph.remove_edges_from(edges_to_delete)\n",
    "    return subgraph\n",
    "\n",
    "class QAOAComposerSquared(QtreeQAOAComposer):\n",
    "    def cone_ansatz_squared(self, edge1, edge2):\n",
    "        beta, gamma = self.params['beta'], self.params['gamma']\n",
    "        \n",
    "        assert(len(beta) == len(gamma))\n",
    "        p = len(beta) # infering number of QAOA steps from the parameters passed\n",
    "        self.layer_of_Hadamards()\n",
    "        # second, apply p alternating operators\n",
    "        cone_base = self.graph\n",
    "\n",
    "        for i, g, b in zip(range(p, 0, -1), gamma, beta):\n",
    "            self.graph = get_edge_subgraph_squared(cone_base, edge1, edge2, i)\n",
    "            self.cost_operator_circuit(g)\n",
    "            self.graph = get_edge_subgraph_squared(cone_base, edge1, edge2, i-1)\n",
    "            self.mixer_operator(b)\n",
    "        self.graph = cone_base\n",
    "\n",
    "\n",
    "    def energy_expectation_squared(self, edge1, edge2):\n",
    "        # Will need to deprecate stateful API and return the circuit\n",
    "        self.cone_ansatz_squared(edge1, edge2)\n",
    "        self.energy_edge(*edge1)\n",
    "        self.energy_edge(*edge2)\n",
    "        first_part = self.builder.circuit\n",
    "        self.builder.reset()\n",
    "\n",
    "        self.cone_ansatz_squared(edge1, edge2)\n",
    "        self.builder.inverse()\n",
    "        second_part = self.builder.circuit\n",
    "\n",
    "        self.circuit = first_part + second_part\n",
    "    \n",
    "    def energy_expectation_lightcone_squared(self, edge1, edge2):\n",
    "        G = self.graph\n",
    "        gamma, beta = self.params['gamma'], self.params['beta']\n",
    "        graph = get_edge_subgraph_squared(G, edge1, edge2, len(gamma))\n",
    "        #print('Subgraph nodes: {}, edges: {}', graph.number_of_nodes(), graph.number_of_edges())\n",
    "        self.n_qubits = graph.number_of_nodes()\n",
    "        mapping = {v:i for i, v in enumerate(graph.nodes())}\n",
    "        graph = nx.relabel_nodes(graph, mapping, copy=True)\n",
    "\n",
    "        edge1 = mapping[edge1[0]], mapping[edge1[1]]\n",
    "        edge2 = mapping[edge2[0]], mapping[edge2[1]]\n",
    "        composer = self._get_of_my_type(graph, beta=beta, gamma=gamma)\n",
    "        composer.energy_expectation_squared(edge1, edge2)\n",
    "        self.circuit = composer.circuit\n",
    "        # return composer\n"
   ]
  },
  {
   "cell_type": "code",
   "execution_count": 4,
   "metadata": {},
   "outputs": [],
   "source": [
    "#Test for runtime errrors in composer\n",
    "G = nx.random_regular_graph(3, 12, seed=12)\n",
    "p = 2\n",
    "edges = list(G.edges())\n",
    "comp = QAOAComposerSquared(G, gamma=[0.1]*p, beta=[0.2]*p)\n",
    "edge_pair = edges[0], edges[2]\n",
    "comp.energy_expectation_lightcone_squared(*edge_pair)"
   ]
  },
  {
   "cell_type": "code",
   "execution_count": 5,
   "metadata": {},
   "outputs": [],
   "source": [
    "def get_gb(p):\n",
    "    gammabeta = np.array(qtensor.tools.BETHE_QAOA_VALUES[str(p)]['angles'])/np.pi\n",
    "    return gammabeta[:p], gammabeta[p:]\n",
    "    \n",
    "def get_maxcut_probs(G, p, backend=qtensor.NumpyBackend()):\n",
    "    sim = qtensor.QAOAQtreeSimulator(qtensor.DefaultQAOAComposer, backend=backend)\n",
    "    gamma, beta = get_gb(p)\n",
    "    comp = qtensor.DefaultQAOAComposer(G, gamma=gamma, beta=beta)\n",
    "    comp.ansatz_state()\n",
    "    circ = comp.circuit\n",
    "    sim.optimizer = qtensor.toolbox.get_ordering_algo('naive')\n",
    "    amps = sim.simulate_batch(circ, batch_vars=range(G.number_of_nodes()))\n",
    "    probs = np.real(amps.conj()*amps)\n",
    "    return probs\n",
    "\n",
    "def get_maxcut_cost_dist(G, p=6):\n",
    "    N = G.number_of_nodes()\n",
    "    probs = get_maxcut_probs(G, p)\n",
    "    print('got probs')\n",
    "    bitst = np.array(np.unravel_index(range(2**N), shape=[2]*N))*2-1\n",
    "    e = G.number_of_edges()\n",
    "    costs = [(e-sum(sol[i]*sol[j] for i,j in G.edges))/2 for sol in bitst.T]\n",
    "    costs = np.array(costs)\n",
    "    print('got costs')\n",
    "    distr = dict()\n",
    "    for i in range(len(probs)):\n",
    "        c = costs[i]\n",
    "        distr.setdefault(c, 0)\n",
    "        distr[c] += probs[i]\n",
    "    return distr"
   ]
  },
  {
   "cell_type": "markdown",
   "metadata": {},
   "source": [
    "## Calculate variance"
   ]
  },
  {
   "cell_type": "code",
   "execution_count": 6,
   "metadata": {},
   "outputs": [],
   "source": [
    "G = nx.random_regular_graph(3, 18, seed=12)\n",
    "p = 2\n",
    "edge_pair = edges[0], edges[2]"
   ]
  },
  {
   "cell_type": "code",
   "execution_count": 7,
   "metadata": {},
   "outputs": [],
   "source": [
    "subgraph = get_edge_subgraph_squared(G, *edge_pair, p)"
   ]
  },
  {
   "cell_type": "markdown",
   "metadata": {},
   "source": [
    "### Demo of subgraph of two edges"
   ]
  },
  {
   "cell_type": "code",
   "execution_count": 8,
   "metadata": {},
   "outputs": [
    {
     "data": {
      "text/plain": [
       "Text(0.5, 1.0, 'Subgraph on ((4, 10), (4, 7))')"
      ]
     },
     "execution_count": 8,
     "metadata": {},
     "output_type": "execute_result"
    },
    {
     "data": {
      "image/png": "[encoded data removed]",
      "text/plain": [
       "<Figure size 432x216 with 2 Axes>"
      ]
     },
     "metadata": {},
     "output_type": "display_data"
    }
   ],
   "source": [
    "fig, axs = plt.subplots(1, 2, figsize=(6,3))\n",
    "plt.sca(axs[0])\n",
    "nx.draw_kamada_kawai(G, with_labels=True)\n",
    "plt.title(f'Original graph')\n",
    "plt.sca(axs[1])\n",
    "nx.draw_kamada_kawai(subgraph, with_labels=True)\n",
    "plt.title(f'Subgraph on {edge_pair}')"
   ]
  },
  {
   "cell_type": "markdown",
   "metadata": {},
   "source": [
    "### Manual computation of cost distribution"
   ]
  },
  {
   "cell_type": "code",
   "execution_count": 9,
   "metadata": {},
   "outputs": [
    {
     "name": "stdout",
     "output_type": "stream",
     "text": [
      "got probs\n",
      "got costs\n"
     ]
    },
    {
     "data": {
      "text/plain": [
       "Text(0.5, 1.0, 'Cost distribution')"
      ]
     },
     "execution_count": 9,
     "metadata": {},
     "output_type": "execute_result"
    },
    {
     "data": {
      "image/png": "[encoded data removed]",
      "text/plain": [
       "<Figure size 432x288 with 1 Axes>"
      ]
     },
     "metadata": {
      "needs_background": "light"
     },
     "output_type": "display_data"
    }
   ],
   "source": [
    "assert G.number_of_nodes()<20, \"Too many nodes\"\n",
    "cost_dist = get_maxcut_cost_dist(G, p=p)\n",
    "cost_dist\n",
    "\n",
    "plt.scatter(cost_dist.keys(), cost_dist.values())\n",
    "plt.title('Cost distribution')"
   ]
  },
  {
   "cell_type": "code",
   "execution_count": 10,
   "metadata": {},
   "outputs": [],
   "source": [
    "def post_process_variance(E, linear, squared):\n",
    "    cost = 1/2*(E - linear)\n",
    "    cost2 = 1/4*(E*E - 2*E*linear + squared)\n",
    "    return cost, cost2\n",
    "\n",
    "def simulate_variance(G, p=4, pbar=True):\n",
    "    gamma, beta = get_gb(p)\n",
    "    sim = qtensor.QtreeSimulator()\n",
    "    comp = QAOAComposerSquared(G, gamma=gamma, beta=beta)\n",
    "    squared = 0\n",
    "    if pbar:\n",
    "        outer_loop = tqdm(list(G.edges))\n",
    "    else:\n",
    "        outer_loop = G.edges\n",
    "    for e1 in outer_loop:\n",
    "        for e2 in G.edges:\n",
    "            comp.energy_expectation_lightcone_squared(e1, e2)\n",
    "            energy2 = sim.simulate_batch(comp.circuit, batch_vars=0)\n",
    "            squared += energy2\n",
    "    linear = 0\n",
    "    for e in G.edges:\n",
    "            comp.energy_expectation_lightcone(e)\n",
    "            energy = sim.simulate_batch(comp.circuit, batch_vars=0)\n",
    "            linear += energy\n",
    "    E = G.number_of_edges()\n",
    "    cost, cost2 = post_process_variance(E, linear, squared)\n",
    "    print('linear', linear)\n",
    "    print('squared', squared)\n",
    "    print('cost', cost)\n",
    "    print('cost2', cost2)\n",
    "    return cost2 - cost*cost\n"
   ]
  },
  {
   "cell_type": "code",
   "execution_count": 11,
   "metadata": {},
   "outputs": [
    {
     "data": {
      "application/vnd.jupyter.widget-view+json": {
       "model_id": "50976d86ddb347e08fdca9f87bba80f9",
       "version_major": 2,
       "version_minor": 0
      },
      "text/plain": [
       "  0%|          | 0/27 [00:00<?, ?it/s]"
      ]
     },
     "metadata": {},
     "output_type": "display_data"
    },
    {
     "name": "stdout",
     "output_type": "stream",
     "text": [
      "linear [-13.8105975-1.47544863e-16j]\n",
      "squared [208.53967912+3.49732139e-15j]\n",
      "cost [20.40529875+7.37724315e-17j]\n",
      "cost2 [420.82798602+2.866186e-15j]\n",
      "Variance [4.45176896-1.4451101e-16j]\n"
     ]
    }
   ],
   "source": [
    "var = simulate_variance(G, p=p)\n",
    "print('Variance', var)"
   ]
  },
  {
   "cell_type": "code",
   "execution_count": 12,
   "metadata": {},
   "outputs": [
    {
     "data": {
      "text/plain": [
       "4.451755159826651"
      ]
     },
     "execution_count": 12,
     "metadata": {},
     "output_type": "execute_result"
    }
   ],
   "source": [
    "pdf = np.array(list(cost_dist.values()))\n",
    "x = np.array(list(cost_dist.keys()))\n",
    "Z = sum(pdf)\n",
    "mean = sum(pdf*x)/Z\n",
    "var_direct = sum(pdf*(mean-x)**2)/Z\n",
    "var_direct"
   ]
  },
  {
   "cell_type": "code",
   "execution_count": 14,
   "metadata": {},
   "outputs": [
    {
     "name": "stdout",
     "output_type": "stream",
     "text": [
      "The two match!\n"
     ]
    }
   ],
   "source": [
    "assert np.isclose(np.real(var), var_direct), \"The two don't match!\"\n",
    "print(\"The two match!\")"
   ]
  },
  {
   "cell_type": "markdown",
   "metadata": {},
   "source": [
    "## Large scale simulations"
   ]
  },
  {
   "cell_type": "code",
   "execution_count": 15,
   "metadata": {},
   "outputs": [],
   "source": [
    "def circ2tw(circ, opt: qtensor.optimisation.Optimizer):\n",
    "    tn = qtensor.optimisation.QtreeTensorNet.from_qtree_gates(circ)\n",
    "    opt.optimize(tn)\n",
    "    return opt.treewidth\n",
    "    \n",
    "def estimate_variance_tw(G, p=4, ordering_algo='greedy', pbar=False):\n",
    "    gamma, beta = get_gb(p)\n",
    "    opt = qtensor.toolbox.get_ordering_algo(ordering_algo)\n",
    "    comp = QAOAComposerSquared(G, gamma=gamma, beta=beta)\n",
    "    widths = []\n",
    "    if pbar:\n",
    "        outer_loop = tqdm(list(G.edges))\n",
    "    else:\n",
    "        outer_loop = G.edges\n",
    "    for e1 in outer_loop:\n",
    "        for e2 in G.edges:\n",
    "            comp.energy_expectation_lightcone_squared(e1, e2)\n",
    "            tw = circ2tw(comp.circuit, opt)\n",
    "            widths.append(tw)\n",
    "    return widths"
   ]
  },
  {
   "cell_type": "code",
   "execution_count": 19,
   "metadata": {},
   "outputs": [
    {
     "data": {
      "application/vnd.jupyter.widget-view+json": {
       "model_id": "24fc696a526643a9a7e052248122204e",
       "version_major": 2,
       "version_minor": 0
      },
      "text/plain": [
       "  0%|          | 0/27 [00:00<?, ?it/s]"
      ]
     },
     "metadata": {},
     "output_type": "display_data"
    }
   ],
   "source": [
    "widths = estimate_variance_tw(G, p=p, pbar=True)"
   ]
  },
  {
   "cell_type": "code",
   "execution_count": 20,
   "metadata": {},
   "outputs": [
    {
     "name": "stdout",
     "output_type": "stream",
     "text": [
      "Max width 19\n"
     ]
    },
    {
     "data": {
      "image/png": "[encoded data removed]",
      "text/plain": [
       "<Figure size 432x288 with 1 Axes>"
      ]
     },
     "metadata": {
      "needs_background": "light"
     },
     "output_type": "display_data"
    }
   ],
   "source": [
    "plt.hist(widths)\n",
    "print(\"Max width\", max(widths))"
   ]
  },
  {
   "cell_type": "code",
   "execution_count": 16,
   "metadata": {},
   "outputs": [],
   "source": [
    "parallel = parallels.Ray(processes=55)"
   ]
  },
  {
   "cell_type": "code",
   "execution_count": 37,
   "metadata": {},
   "outputs": [],
   "source": [
    "Ns = [20, 30, 40]\n",
    "ps = [2, 3]\n",
    "params = dict(N=Ns, p=ps)\n",
    "def unit(N, p):\n",
    "    G = nx.random_regular_graph(3, N, seed=10)\n",
    "    return estimate_variance_tw(G, p=p)\n",
    "args = dict_product(**params)"
   ]
  },
  {
   "cell_type": "code",
   "execution_count": 38,
   "metadata": {},
   "outputs": [],
   "source": [
    "data = parallel.starstarmap(unit, args)"
   ]
  },
  {
   "cell_type": "code",
   "execution_count": 17,
   "metadata": {},
   "outputs": [],
   "source": [
    "# parallelism at the level of individual graph\n",
    "\n",
    "# -- Treewidth\n",
    "def tw_parallel_unit(G, p, e1, ordering_algo='greedy'):\n",
    "    gamma, beta = get_gb(p)\n",
    "    comp = QAOAComposerSquared(G, gamma=gamma, beta=beta)\n",
    "    opt = qtensor.toolbox.get_ordering_algo(ordering_algo)\n",
    "    widths = []\n",
    "    for e2 in G.edges:\n",
    "        comp.energy_expectation_lightcone_squared(e1, e2)\n",
    "        tw = circ2tw(comp.circuit, opt)\n",
    "        widths.append(tw)\n",
    "    return widths\n",
    "    \n",
    "def estimate_variance_tw_parallel(G, parallel, p=4, ordering_algo='greedy'):\n",
    "    args = dict_product(e1=list(G.edges), p=[p], G=[G], ordering_algo=[ordering_algo])\n",
    "    widths_sq = parallel.starstarmap(tw_parallel_unit, args)\n",
    "    return sum(widths_sq, [])\n",
    "\n",
    "# -- Simulation\n",
    "def variance_parallel_unit(G, p, e1, ordering_algo='greedy'):\n",
    "    gamma, beta = get_gb(p)\n",
    "    comp = QAOAComposerSquared(G, gamma=gamma, beta=beta)\n",
    "    opt = qtensor.toolbox.get_ordering_algo(ordering_algo)\n",
    "    sim = qtensor.QtreeSimulator(optimizer=opt)\n",
    "    squared = 0\n",
    "    for e2 in G.edges:\n",
    "        comp.energy_expectation_lightcone_squared(e1, e2)\n",
    "        energy2 = sim.simulate_batch(comp.circuit, batch_vars=0)\n",
    "        squared += energy2\n",
    "    return squared\n",
    "\n",
    "    \n",
    "def simulate_variance_parallel(G, parallel, p=4, ordering_algo='greedy'):\n",
    "    args = dict_product(e1=list(G.edges), p=[p], G=[G], ordering_algo=[ordering_algo])\n",
    "    squared_seq = parallel.starstarmap(variance_parallel_unit, args)\n",
    "    squared = np.array(squared_seq).sum()\n",
    "\n",
    "    # -- linear\n",
    "    gamma, beta = get_gb(p)\n",
    "    comp = QAOAComposerSquared(G, gamma=gamma, beta=beta)\n",
    "    sim = qtensor.QtreeSimulator()\n",
    "    linear = 0\n",
    "    # this is usually much faster, so don't bother\n",
    "    for e in G.edges:\n",
    "        comp.energy_expectation_lightcone(e)\n",
    "        energy = sim.simulate_batch(comp.circuit, batch_vars=0)\n",
    "        linear += energy\n",
    "    # -- linear\n",
    "    E = G.number_of_edges()\n",
    "    cost, cost2 = post_process_variance(E, linear, squared)\n",
    "    return cost2 - cost*cost"
   ]
  },
  {
   "cell_type": "code",
   "execution_count": 84,
   "metadata": {},
   "outputs": [
    {
     "data": {
      "text/plain": [
       "array([4.45176896-1.4451101e-16j])"
      ]
     },
     "execution_count": 84,
     "metadata": {},
     "output_type": "execute_result"
    }
   ],
   "source": [
    "widths = estimate_variance_tw_parallel(G, parallel, p=p)\n",
    "var = simulate_variance_parallel(G, parallel, p=p)\n",
    "var"
   ]
  },
  {
   "cell_type": "code",
   "execution_count": 85,
   "metadata": {},
   "outputs": [
    {
     "data": {
      "text/plain": [
       "(array([  7.,  22.,  82., 130., 188., 162.,  84.,  26.,  22.,   6.]),\n",
       " array([ 6. ,  6.9,  7.8,  8.7,  9.6, 10.5, 11.4, 12.3, 13.2, 14.1, 15. ]),\n",
       " <BarContainer object of 10 artists>)"
      ]
     },
     "execution_count": 85,
     "metadata": {},
     "output_type": "execute_result"
    },
    {
     "data": {
      "image/png": "[encoded data removed]",
      "text/plain": [
       "<Figure size 432x288 with 1 Axes>"
      ]
     },
     "metadata": {
      "needs_background": "light"
     },
     "output_type": "display_data"
    }
   ],
   "source": [
    "plt.hist(widths)"
   ]
  },
  {
   "cell_type": "code",
   "execution_count": 29,
   "metadata": {},
   "outputs": [],
   "source": [
    "Ns = [20, 30, 40, 50]\n",
    "ps = [2, 3, 4]\n",
    "params = dict(N=Ns, p=ps)\n",
    "def unit_parallel(N, p):\n",
    "    G = nx.random_regular_graph(3, N, seed=10)\n",
    "    return estimate_variance_tw_parallel(G, parallel, p=p)\n",
    "args = dict_product(**params)"
   ]
  },
  {
   "cell_type": "code",
   "execution_count": 31,
   "metadata": {
    "collapsed": true
   },
   "outputs": [],
   "source": [
    "data = parallel.starstarmap(unit_parallel, args)"
   ]
  },
  {
   "cell_type": "code",
   "execution_count": 35,
   "metadata": {},
   "outputs": [],
   "source": [
    "data = np.array(data).reshape(len(params['N']), -1)\n",
    "xwa = xarray.DataArray(data, coords=params, dims=params.keys())\n",
    "xwm = xarray.apply_ufunc(max, xwa, vectorize=True)"
   ]
  },
  {
   "cell_type": "code",
   "execution_count": 36,
   "metadata": {},
   "outputs": [
    {
     "data": {
      "text/plain": [
       "[<matplotlib.lines.Line2D at 0x7f219aab9be0>,\n",
       " <matplotlib.lines.Line2D at 0x7f219aab9c10>,\n",
       " <matplotlib.lines.Line2D at 0x7f219aab9bb0>]"
      ]
     },
     "execution_count": 36,
     "metadata": {},
     "output_type": "execute_result"
    },
    {
     "data": {
      "image/png": "[encoded data removed]",
      "text/plain": [
       "<Figure size 432x288 with 1 Axes>"
      ]
     },
     "metadata": {
      "needs_background": "light"
     },
     "output_type": "display_data"
    }
   ],
   "source": [
    "xwm.plot(x='N', hue='p')"
   ]
  },
  {
   "cell_type": "code",
   "execution_count": null,
   "metadata": {},
   "outputs": [],
   "source": [
    "## ordering algo"
   ]
  },
  {
   "cell_type": "code",
   "execution_count": 39,
   "metadata": {},
   "outputs": [],
   "source": [
    "Ns = [20, 30, 40, 50]\n",
    "ps = [2, 3]\n",
    "params = dict(N=Ns, p=ps)\n",
    "def unit_parallel(N, p):\n",
    "    G = nx.random_regular_graph(3, N, seed=10)\n",
    "    return estimate_variance_tw_parallel(G, parallel, p=p, ordering_algo=ing_algo='rgreedy_0.03_10')\n",
    "args = dict_product(**params)"
   ]
  },
  {
   "cell_type": "code",
   "execution_count": 40,
   "metadata": {},
   "outputs": [],
   "source": [
    "data = parallel.starstarmap(unit_parallel, args)"
   ]
  },
  {
   "cell_type": "code",
   "execution_count": 41,
   "metadata": {},
   "outputs": [
    {
     "name": "stderr",
     "output_type": "stream",
     "text": [
      "/tmp/ipykernel_79058/4048087232.py:1: VisibleDeprecationWarning: Creating an ndarray from ragged nested sequences (which is a list-or-tuple of lists-or-tuples-or ndarrays with different lengths or shapes) is deprecated. If you meant to do this, you must specify 'dtype=object' when creating the ndarray.\n",
      "  data = np.array(data).reshape(len(params['N']), -1)\n"
     ]
    }
   ],
   "source": [
    "data = np.array(data).reshape(len(params['N']), -1)\n",
    "xwa = xarray.DataArray(data, coords=params, dims=params.keys())\n",
    "xwm = xarray.apply_ufunc(max, xwa, vectorize=True)"
   ]
  },
  {
   "cell_type": "code",
   "execution_count": 42,
   "metadata": {
    "scrolled": true
   },
   "outputs": [
    {
     "data": {
      "text/plain": [
       "[<matplotlib.lines.Line2D at 0x7f219ac3da90>,\n",
       " <matplotlib.lines.Line2D at 0x7f219ac3d070>]"
      ]
     },
     "execution_count": 42,
     "metadata": {},
     "output_type": "execute_result"
    },
    {
     "data": {
      "image/png": "[encoded data removed]",
      "text/plain": [
       "<Figure size 432x288 with 1 Axes>"
      ]
     },
     "metadata": {
      "needs_background": "light"
     },
     "output_type": "display_data"
    }
   ],
   "source": [
    "xwm.plot(x='N', hue='p')"
   ]
  },
  {
   "cell_type": "markdown",
   "metadata": {},
   "source": [
    "### Calculate the width"
   ]
  },
  {
   "cell_type": "code",
   "execution_count": 98,
   "metadata": {},
   "outputs": [],
   "source": [
    "Ns = [18, 20, 22, 24, 26, 28, 30, 36, 40, 46, 54]\n",
    "ps = [2, 3]\n",
    "params = dict(N=Ns, p=ps)\n",
    "def unit_parallel(N, p):\n",
    "    G = nx.random_regular_graph(3, N, seed=11)\n",
    "    return simulate_variance_parallel(G, parallel, p=p, ordering_algo='rgreedy_0.03_10')\n",
    "args = dict_product(**params)"
   ]
  },
  {
   "cell_type": "code",
   "execution_count": 99,
   "metadata": {},
   "outputs": [],
   "source": [
    "data = parallel.starstarmap(unit_parallel, args)"
   ]
  },
  {
   "cell_type": "code",
   "execution_count": 100,
   "metadata": {},
   "outputs": [],
   "source": [
    "data = np.array(data).reshape(len(params['N']), -1)\n",
    "xwa = xarray.DataArray(data, coords=params, dims=params.keys()).real\n",
    "xwr = xwa/xwa.N/3*2"
   ]
  },
  {
   "cell_type": "code",
   "execution_count": 101,
   "metadata": {
    "scrolled": false
   },
   "outputs": [
    {
     "data": {
      "text/plain": [
       "[<matplotlib.lines.Line2D at 0x7f219aa35460>,\n",
       " <matplotlib.lines.Line2D at 0x7f219aa350d0>]"
      ]
     },
     "execution_count": 101,
     "metadata": {},
     "output_type": "execute_result"
    },
    {
     "data": {
      "image/png": "[encoded data removed]",
      "text/plain": [
       "<Figure size 432x288 with 1 Axes>"
      ]
     },
     "metadata": {
      "needs_background": "light"
     },
     "output_type": "display_data"
    }
   ],
   "source": [
    "xwr.plot(x='N', hue='p')"
   ]
  },
  {
   "cell_type": "code",
   "execution_count": null,
   "metadata": {},
   "outputs": [],
   "source": [
    "## large N"
   ]
  },
  {
   "cell_type": "code",
   "execution_count": 18,
   "metadata": {},
   "outputs": [],
   "source": [
    "Ns = [256]#, 512, 1024]\n",
    "ps = [2, 3]\n",
    "params = dict(N=Ns, p=ps)\n",
    "def unit_parallel(N, p):\n",
    "    G = nx.random_regular_graph(3, N, seed=11)\n",
    "    return simulate_variance_parallel(G, parallel, p=p, ordering_algo='rgreedy_0.03_10')\n",
    "args = dict_product(**params)"
   ]
  },
  {
   "cell_type": "code",
   "execution_count": null,
   "metadata": {},
   "outputs": [],
   "source": [
    "data = parallel.starstarmap(unit_parallel, args)"
   ]
  },
  {
   "cell_type": "code",
   "execution_count": null,
   "metadata": {},
   "outputs": [],
   "source": [
    "data = np.array(data).reshape(len(params['N']), -1)\n",
    "xwa = xarray.DataArray(data, coords=params, dims=params.keys()).real\n",
    "xwr = xwa/xwa.N/3*2"
   ]
  },
  {
   "cell_type": "code",
   "execution_count": null,
   "metadata": {},
   "outputs": [],
   "source": [
    "xwr.plot(x='N', hue='p')"
   ]
  },
  {
   "cell_type": "code",
   "execution_count": null,
   "metadata": {},
   "outputs": [],
   "source": []
  },
  {
   "cell_type": "code",
   "execution_count": null,
   "metadata": {},
   "outputs": [],
   "source": []
  },
  {
   "cell_type": "markdown",
   "metadata": {},
   "source": [
    "---"
   ]
  }
 ],
 "metadata": {
  "kernelspec": {
   "display_name": "Python 3 (ipykernel)",
   "language": "python",
   "name": "python3"
  },
  "language_info": {
   "codemirror_mode": {
    "name": "ipython",
    "version": 3
   },
   "file_extension": ".py",
   "mimetype": "text/x-python",
   "name": "python",
   "nbconvert_exporter": "python",
   "pygments_lexer": "ipython3",
   "version": "3.8.2+"
  },
  "toc": {
   "base_numbering": 1,
   "nav_menu": {},
   "number_sections": true,
   "sideBar": true,
   "skip_h1_title": true,
   "title_cell": "Table of Contents",
   "title_sidebar": "Contents",
   "toc_cell": true,
   "toc_position": {},
   "toc_section_display": true,
   "toc_window_display": true
  },
  "varInspector": {
   "cols": {
    "lenName": 16,
    "lenType": 16,
    "lenVar": 40
   },
   "kernels_config": {
    "python": {
     "delete_cmd_postfix": "",
     "delete_cmd_prefix": "del ",
     "library": "var_list.py",
     "varRefreshCmd": "print(var_dic_list())"
    },
    "r": {
     "delete_cmd_postfix": ") ",
     "delete_cmd_prefix": "rm(",
     "library": "var_list.r",
     "varRefreshCmd": "cat(var_dic_list()) "
    }
   },
   "types_to_exclude": [
    "module",
    "function",
    "builtin_function_or_method",
    "instance",
    "_Feature"
   ],
   "window_display": false
  }
 },
 "nbformat": 4,
 "nbformat_minor": 4
}
