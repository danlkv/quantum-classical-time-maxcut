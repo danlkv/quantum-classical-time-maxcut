{
 "cells": [
  {
   "cell_type": "code",
   "execution_count": 2,
   "metadata": {},
   "outputs": [],
   "source": [
    "%load_ext autoreload\n",
    "%autoreload 2"
   ]
  },
  {
   "cell_type": "code",
   "execution_count": 121,
   "metadata": {},
   "outputs": [],
   "source": [
    "import matplotlib.pyplot as plt\n",
    "import numpy as np\n",
    "import sys\n",
    "import pickle\n",
    "from typing import List\n",
    "import networkx as nx\n",
    "from qtensor.tools import maxcut\n",
    "import sarge\n",
    "from pathlib import Path"
   ]
  },
  {
   "cell_type": "markdown",
   "metadata": {},
   "source": [
    "## Set up MQLib"
   ]
  },
  {
   "cell_type": "markdown",
   "metadata": {},
   "source": [
    "Install from here: https://github.com/MQLib/MQLib"
   ]
  },
  {
   "cell_type": "code",
   "execution_count": 22,
   "metadata": {
    "scrolled": true
   },
   "outputs": [
    {
     "name": "stdout",
     "output_type": "stream",
     "text": [
      "MQLib is expected to be in /home/plate/git-built/MQLib\n",
      "--Expected to see \"ERROR: Invalid usage.\"--\n",
      "--\n",
      "ERROR: Invalid usage.\n",
      "MQLib: Library of Max-Cut and QUBO heuristics\n",
      "\n",
      "USAGE: \n",
      "# Run Max-Cut or QUBO heuristic\n",
      "./bin/MQlib -h heur_code | -hh -fM maxcut_file [-nv] [-ps] [-q | -r runtime_limit] [-s SEED]\n",
      "./bin/MQlib -h heur_code | -hh -fQ qubo_file [-nv] [-ps] [-q | -r runtime_limit] [-s SEED]\n",
      "\n",
      "# Compute metrics for an input file\n",
      "./bin/MQlib -fM maxcut_file [-mh] [-m]\n",
      "./bin/MQlib -fQ qubo_file [-mh] [-m]\n",
      "\n",
      "# List the available heuristics.\n",
      "./bin/MQlib -l\n",
      "\n",
      "OPTIONS:\n",
      "\n",
      "-fM, --fileMaxCut ARG   Filename for Max-Cut problem instance.\n",
      "\n",
      "-fQ, --fileQUBO ARG     Filename for QUBO problem instance.\n",
      "\n",
      "-h, --heuristic ARG     Heuristic code.\n",
      "\n",
      "-hh, --hyperheuristic   Use the Max-Cut hyper-heuristic\n",
      "\n",
      "-l, --listHeuristics    List all heuristic codes and brief descriptions\n",
      "\n",
      "-m, --metrics           Output problem instance statistics.\n",
      "\n",
      "-mh, --metricsHeader    Output header for problem instance statistics\n",
      "\n",
      "-nv, --no-validation    No validation (after the run is complete, don't check\n",
      "                        the solutions to make sure objectives were reported\n",
      "                        accurately).\n",
      "\n",
      "-ps, --printSolution    Print solution to screen\n",
      "\n",
      "-q, --quick             Fast run (10x faster than full run)\n",
      "\n",
      "-r, --runtime ARG       Runtime limit (seconds), or iteration count for baseline\n",
      "\n",
      "-s, --seed ARG          Random seed (range 0 to 65535).\n",
      "\n",
      "EXAMPLES:\n",
      "\n",
      "./bin/MQlib -h BURER2002 -fM bin/sampleMaxCut.txt -r 10\n",
      "\n"
     ]
    }
   ],
   "source": [
    "MQLib_dir = Path().home() / 'git-built/MQLib'\n",
    "MQLib_bin = MQLib_dir / 'bin/MQLib'\n",
    "MQLib_heuristics = 'BURER2002' # the best so far\n",
    "print('MQLib is expected to be in', MQLib_dir)\n",
    "print('--Expected to see \"ERROR: Invalid usage.\"--\\n--')\n",
    "print(sarge.get_stdout(str(MQLib_bin)+' --help'))"
   ]
  },
  {
   "cell_type": "code",
   "execution_count": 23,
   "metadata": {},
   "outputs": [],
   "source": [
    "!mkdir ../mqlib_graphs"
   ]
  },
  {
   "cell_type": "code",
   "execution_count": 37,
   "metadata": {},
   "outputs": [],
   "source": [
    "def run_mqlib_maxcut(file, heuristics, time=None, seed=10):\n",
    "    cmd = str(MQLib_bin) + f' -h {heuristics}'\n",
    "    cmd += f' -fM {file}'\n",
    "    if time:\n",
    "        cmd += f' -r {time}'\n",
    "    cmd += f' -s {seed}'\n",
    "    return sarge.get_stdout(cmd)"
   ]
  },
  {
   "cell_type": "code",
   "execution_count": 59,
   "metadata": {},
   "outputs": [],
   "source": [
    "def convert_graph_to_maxcut(G: nx.Graph, file) -> List[str]:\n",
    "    \"\"\" Assert maxcut with unity coefficients\n",
    "    Returns:\n",
    "        lines for the maxcut problem file\n",
    "    \"\"\"\n",
    "    V = G.number_of_nodes()\n",
    "    E = G.number_of_edges()\n",
    "    first_line = f'{V} {E}'\n",
    "    lines = [first_line]\n",
    "    G = nx.convert_node_labels_to_integers(G, first_label=1)\n",
    "    for i, j in G.edges:\n",
    "        lines.append(f\"{i} {j} 1\")\n",
    "    with open(test_file, 'w+') as f:\n",
    "        f.writelines('\\n'.join(lines))\n",
    "    return lines\n"
   ]
  },
  {
   "cell_type": "code",
   "execution_count": 60,
   "metadata": {},
   "outputs": [
    {
     "data": {
      "text/plain": [
       "'0.3,BURER2002,\"../mqlib_graphs/test.txt\",18,0.300023,[0:2e-06;18:5.5e-05]\\n'"
      ]
     },
     "execution_count": 60,
     "metadata": {},
     "output_type": "execute_result"
    }
   ],
   "source": [
    "test_file = '../mqlib_graphs/test.txt'\n",
    "G = nx.random_regular_graph(3, 14, seed=10) \n",
    "lines = convert_graph_to_maxcut(G, test_file)\n",
    "\n",
    "run_mqlib_maxcut(test_file, MQLib_heuristics, time=.3)"
   ]
  },
  {
   "cell_type": "code",
   "execution_count": 61,
   "metadata": {},
   "outputs": [
    {
     "name": "stdout",
     "output_type": "stream",
     "text": [
      "Optimal maxcut 18.0\n"
     ]
    }
   ],
   "source": [
    "cost, sol = maxcut.maxcut_optimal(G)\n",
    "print('Optimal maxcut', cost)"
   ]
  },
  {
   "cell_type": "code",
   "execution_count": 85,
   "metadata": {},
   "outputs": [],
   "source": [
    "def solve_mqlib_maxcut(G, time=5, seed=10):\n",
    "    graph_name = '/tmp/mqlib_tmp_gr.txt'\n",
    "    convert_graph_to_maxcut(G, graph_name)\n",
    "    out = run_mqlib_maxcut(test_file, MQLib_heuristics, time=time, seed=seed)\n",
    "    keys = ['runtime_limit', 'heuristic', 'filename', 'cost', 'runtime', 'history']\n",
    "    values = out.split(',')\n",
    "    res = dict(zip(keys, values))\n",
    "    history = res['history'].strip()[1:-1]\n",
    "    history = history.split(';')\n",
    "    history = [x.split(':') for x in history]\n",
    "    costs, times = zip(*history)\n",
    "    history = dict(costs=[float(x) for x in costs],\n",
    "                   times=[float(x) for x in times]\n",
    "                  )\n",
    "    res['history'] = history\n",
    "    res['cost'] = float(res['cost'])\n",
    "    res['runtime'] = float(res['runtime'])\n",
    "    res['runtime_limit'] = float(res['runtime_limit'])\n",
    "    return res"
   ]
  },
  {
   "cell_type": "code",
   "execution_count": 86,
   "metadata": {},
   "outputs": [
    {
     "data": {
      "text/plain": [
       "{'runtime_limit': 0.5,\n",
       " 'heuristic': 'BURER2002',\n",
       " 'filename': '\"../mqlib_graphs/test.txt\"',\n",
       " 'cost': 218.0,\n",
       " 'runtime': 0.500259,\n",
       " 'history': {'costs': [0.0, 210.0, 214.0, 216.0, 217.0, 218.0],\n",
       "  'times': [2e-06, 0.000637, 0.00142, 0.002963, 0.005694, 0.006038]}}"
      ]
     },
     "execution_count": 86,
     "metadata": {},
     "output_type": "execute_result"
    }
   ],
   "source": [
    "solve_mqlib_maxcut(G, time=.5)"
   ]
  },
  {
   "cell_type": "markdown",
   "metadata": {},
   "source": [
    "## Do some benchmarks"
   ]
  },
  {
   "cell_type": "markdown",
   "metadata": {},
   "source": [
    "### Multiple graphs"
   ]
  },
  {
   "cell_type": "code",
   "execution_count": 99,
   "metadata": {},
   "outputs": [],
   "source": [
    "Ns = np.array([10, 20, 40, 80, 160, 320, 640, 1280])\n",
    "time = 3\n",
    "graphs = [nx.random_regular_graph(3, N) for N in Ns]\n",
    "results = []\n",
    "for G in graphs:\n",
    "    results.append(solve_mqlib_maxcut(G, time=time))"
   ]
  },
  {
   "cell_type": "code",
   "execution_count": 100,
   "metadata": {},
   "outputs": [
    {
     "data": {
      "image/png": "[encoded data removed]",
      "text/plain": [
       "<Figure size 432x288 with 1 Axes>"
      ]
     },
     "metadata": {
      "needs_background": "light"
     },
     "output_type": "display_data"
    }
   ],
   "source": [
    "costs = np.array([x['cost'] for x in results])\n",
    "perf_thr = 40\n",
    "perfect_sol = np.array([maxcut.maxcut_optimal(G)[0] for G in graphs if G.number_of_nodes()<perf_thr])\n",
    "perfect_Ns = np.array([x for x in Ns if x <perf_thr])\n",
    "\n",
    "\n",
    "plt.plot(Ns, costs/Ns/3*2, '*-')\n",
    "plt.plot(perfect_Ns, perfect_sol/perfect_Ns/3*2, '*-')\n",
    "plt.ylabel('cut fraction')\n",
    "plt.xscale('log')"
   ]
  },
  {
   "cell_type": "markdown",
   "metadata": {},
   "source": [
    "### History for single graph"
   ]
  },
  {
   "cell_type": "markdown",
   "metadata": {},
   "source": [
    "#### Same graph seed: look at variability of MQLib"
   ]
  },
  {
   "cell_type": "code",
   "execution_count": 118,
   "metadata": {},
   "outputs": [],
   "source": [
    "select_N = 256\n",
    "time = 1\n",
    "seeds = range(10)\n",
    "results = []\n",
    "for seed in seeds:\n",
    "    G = nx.random_regular_graph(3, select_N, seed=10)\n",
    "    res = solve_mqlib_maxcut(G, time=time, seed=seed)\n",
    "    results.append(res)"
   ]
  },
  {
   "cell_type": "code",
   "execution_count": 119,
   "metadata": {
    "scrolled": true
   },
   "outputs": [
    {
     "data": {
      "image/png": "[encoded data removed]",
      "text/plain": [
       "<Figure size 432x288 with 1 Axes>"
      ]
     },
     "metadata": {
      "needs_background": "light"
     },
     "output_type": "display_data"
    }
   ],
   "source": [
    "start = 1\n",
    "for res in results:\n",
    "    h = res['history']\n",
    "    costs = np.array(h['costs'])[start:]\n",
    "    plt.plot(h['times'][start:], costs/select_N/3*2, '.-', color='blue', alpha=.5)\n",
    "    plt.xscale('log')"
   ]
  },
  {
   "cell_type": "markdown",
   "metadata": {},
   "source": [
    "#### Different graph seeds"
   ]
  },
  {
   "cell_type": "code",
   "execution_count": 120,
   "metadata": {},
   "outputs": [],
   "source": [
    "select_N = 256\n",
    "time = 2\n",
    "seeds = range(30)\n",
    "results = []\n",
    "for seed in seeds:\n",
    "    G = nx.random_regular_graph(3, select_N, seed=seed)\n",
    "    res = solve_mqlib_maxcut(G, time=time)\n",
    "    results.append(res)"
   ]
  },
  {
   "cell_type": "code",
   "execution_count": 124,
   "metadata": {},
   "outputs": [
    {
     "data": {
      "image/png": "[encoded data removed]",
      "text/plain": [
       "<Figure size 432x288 with 1 Axes>"
      ]
     },
     "metadata": {
      "needs_background": "light"
     },
     "output_type": "display_data"
    }
   ],
   "source": [
    "start = 1\n",
    "for res in results:\n",
    "    h = res['history']\n",
    "    costs = np.array(h['costs'])[start:]\n",
    "    plt.plot(h['times'][start:], costs/select_N/3*2, '.-', color='blue', alpha=.5)\n",
    "    plt.xscale('log')"
   ]
  },
  {
   "cell_type": "code",
   "execution_count": 123,
   "metadata": {},
   "outputs": [],
   "source": [
    "with open('../mqlib_data.pkl', 'wb+') as f:\n",
    "    pickle.dump(results, f)"
   ]
  },
  {
   "cell_type": "markdown",
   "metadata": {},
   "source": [
    "---"
   ]
  }
 ],
 "metadata": {
  "kernelspec": {
   "display_name": "Python 3",
   "language": "python",
   "name": "python3"
  },
  "language_info": {
   "codemirror_mode": {
    "name": "ipython",
    "version": 3
   },
   "file_extension": ".py",
   "mimetype": "text/x-python",
   "name": "python",
   "nbconvert_exporter": "python",
   "pygments_lexer": "ipython3",
   "version": "3.8.2"
  },
  "toc": {
   "base_numbering": 1,
   "nav_menu": {},
   "number_sections": true,
   "sideBar": true,
   "skip_h1_title": false,
   "title_cell": "Table of Contents",
   "title_sidebar": "Contents",
   "toc_cell": false,
   "toc_position": {},
   "toc_section_display": true,
   "toc_window_display": false
  },
  "varInspector": {
   "cols": {
    "lenName": 16,
    "lenType": 16,
    "lenVar": 40
   },
   "kernels_config": {
    "python": {
     "delete_cmd_postfix": "",
     "delete_cmd_prefix": "del ",
     "library": "var_list.py",
     "varRefreshCmd": "print(var_dic_list())"
    },
    "r": {
     "delete_cmd_postfix": ") ",
     "delete_cmd_prefix": "rm(",
     "library": "var_list.r",
     "varRefreshCmd": "cat(var_dic_list()) "
    }
   },
   "types_to_exclude": [
    "module",
    "function",
    "builtin_function_or_method",
    "instance",
    "_Feature"
   ],
   "window_display": false
  }
 },
 "nbformat": 4,
 "nbformat_minor": 4
}
