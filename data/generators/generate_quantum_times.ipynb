{
 "cells": [
  {
   "cell_type": "markdown",
   "metadata": {
    "toc": true
   },
   "source": [
    "<h1>Table of Contents<span class=\"tocSkip\"></span></h1>\n",
    "<div class=\"toc\"><ul class=\"toc-item\"><li><span><a href=\"#Quantum-time-estimation\" data-toc-modified-id=\"Quantum-time-estimation-1\"><span class=\"toc-item-num\">1&nbsp;&nbsp;</span>Quantum time estimation</a></span><ul class=\"toc-item\"><li><span><a href=\"#Constants\" data-toc-modified-id=\"Constants-1.1\"><span class=\"toc-item-num\">1.1&nbsp;&nbsp;</span>Constants</a></span></li><li><span><a href=\"#Functions\" data-toc-modified-id=\"Functions-1.2\"><span class=\"toc-item-num\">1.2&nbsp;&nbsp;</span>Functions</a></span></li></ul></li><li><span><a href=\"#Get-the-data\" data-toc-modified-id=\"Get-the-data-2\"><span class=\"toc-item-num\">2&nbsp;&nbsp;</span>Get the data</a></span></li><li><span><a href=\"#Old-scripts-by-Tom\" data-toc-modified-id=\"Old-scripts-by-Tom-3\"><span class=\"toc-item-num\">3&nbsp;&nbsp;</span>Old scripts by Tom</a></span></li></ul></div>"
   ]
  },
  {
   "cell_type": "code",
   "execution_count": 2,
   "metadata": {},
   "outputs": [],
   "source": [
    "import numpy as np\n",
    "import matplotlib.pyplot as plt\n",
    "\n",
    "from cartesian_explorer import Explorer\n",
    "import cartesian_explorer as caex\n",
    "\n",
    "import qtensor\n",
    "import time\n",
    "\n",
    "import socket"
   ]
  },
  {
   "cell_type": "code",
   "execution_count": 3,
   "metadata": {},
   "outputs": [],
   "source": [
    "cache = caex.caches.JobLibCache(\"../caex_cache/energy_eff\")\n",
    "parallel = None\n",
    "ex = Explorer(cache=cache, parallel=parallel)"
   ]
  },
  {
   "cell_type": "code",
   "execution_count": 4,
   "metadata": {},
   "outputs": [],
   "source": [
    "import networkx as nx\n",
    "from typing import Tuple\n",
    "import time"
   ]
  },
  {
   "cell_type": "markdown",
   "metadata": {},
   "source": [
    "## Quantum time estimation"
   ]
  },
  {
   "cell_type": "markdown",
   "metadata": {},
   "source": [
    "### Constants"
   ]
  },
  {
   "cell_type": "code",
   "execution_count": 5,
   "metadata": {
    "pycharm": {
     "name": "#%%\n"
    }
   },
   "outputs": [],
   "source": [
    "ms = 1e-3\n",
    "us = 1e-6\n",
    "\n",
    "#times\n",
    "mot_load_time = 200*ms\n",
    "rearrange_per_move_time = 10*ms\n",
    "rearrange_per_move_time_fast = 2*ms\n",
    "occupation_measurement_time = 10*ms\n",
    "occupation_measurement_time_fast = 1*ms\n",
    "destructive_state_measurement_time = 10*ms\n",
    "nondestructive_state_measurement_time = 2*ms\n",
    "nondestructive_state_measurement_time_fast = 0.5*ms\n",
    "state_prep_time = 0.1*ms\n",
    "microwave_rx_time = 25*us\n",
    "cz_time = 1*us\n",
    "cz_time_fast = 0.2*us\n",
    "rz_time = 0.5*us\n",
    "raman_rx_time = 1*us"
   ]
  },
  {
   "cell_type": "code",
   "execution_count": 6,
   "metadata": {
    "pycharm": {
     "name": "#%%\n"
    }
   },
   "outputs": [],
   "source": [
    "#losses\n",
    "rearrange_per_move_loss = 0.01\n",
    "occupation_measurement_loss = 0.001\n",
    "nondestructive_state_measurement_loss = 0.01\n",
    "atom_lifetime_short = 30\n",
    "atom_lifetime_long = 100\n",
    "atom_lifetime_cryogenic = 1000"
   ]
  },
  {
   "cell_type": "markdown",
   "metadata": {},
   "source": [
    "### Functions"
   ]
  },
  {
   "cell_type": "code",
   "execution_count": 7,
   "metadata": {
    "pycharm": {
     "name": "#%%\n"
    }
   },
   "outputs": [],
   "source": [
    "def background_loss_per_atom_short(time):\n",
    "    return 1-np.exp(-time/atom_lifetime_short)\n",
    "\n",
    "def background_loss_per_atom_long(time):\n",
    "    return 1-np.exp(-time/atom_lifetime_long)\n",
    "\n",
    "def background_loss_per_atom_cryogenic(time):\n",
    "    return 1-np.exp(-time/atom_lifetime_cryogenic)\n",
    "\n",
    "def qaoa_lhz_time_sequential_simple(n, p, d):\n",
    "    n_atoms = np.ceil(n*d/2)\n",
    "    n_cz_gates = n_atoms*6*p # upper bound in LHZ encoding of MAXCUT\n",
    "    n_local_rx_gates = 2*n_cz_gates # probably overestimate also since some gates cancel, but there are nominally rotations before and after every cz gate to turn into cnot\n",
    "    n_local_rz_gates = n_cz_gates\n",
    "    n_global_single_qubit_gates = p+1\n",
    "    return n_cz_gates*cz_time + n_local_rz_gates*rz_time + n_local_rx_gates*microwave_rx_time + n_global_single_qubit_gates*microwave_rx_time\n",
    "\n",
    "def qaoa_lhz_time_sequential_raman_1q_simple(n, p, d):\n",
    "    n_atoms = np.ceil(n*d/2)\n",
    "    n_cz_gates = n_atoms*6*p # upper bound in LHZ encoding of MAXCUT\n",
    "    n_local_rx_gates = 2*n_cz_gates # probably overestimate also since some gates cancel, but there are nominally rotations before and after every cz gate to turn into cnot\n",
    "    n_local_rz_gates = n_cz_gates\n",
    "    n_global_single_qubit_gates = p+1\n",
    "    return n_cz_gates*cz_time + n_local_rz_gates*rz_time + n_local_rx_gates*raman_rx_time + n_global_single_qubit_gates*microwave_rx_time\n",
    "\n",
    "def qaoa_lhz_time_parallel_simple(n, p, d):\n",
    "    n_atoms = np.ceil(n*d/2)\n",
    "    n_cz_gates = n_atoms*p # upper bound in LHZ encoding of MAXCUT, reduced by average 6 in parallel?\n",
    "    n_local_rx_gates = 2*p # probably overestimate also since some gates cancel, but there are nominally rotations before and after every cz gate to turn into cnot\n",
    "    n_local_rz_gates = n_cz_gates\n",
    "    n_global_single_qubit_gates = p+1\n",
    "    return n_cz_gates*cz_time + n_local_rz_gates*rz_time + n_local_rx_gates*raman_rx_time + n_global_single_qubit_gates*microwave_rx_time"
   ]
  },
  {
   "cell_type": "code",
   "execution_count": 8,
   "metadata": {
    "pycharm": {
     "name": "#%%\n"
    }
   },
   "outputs": [],
   "source": [
    "req = ('N', 'p', 'd', 'n_samples')"
   ]
  },
  {
   "cell_type": "code",
   "execution_count": 9,
   "metadata": {
    "pycharm": {
     "name": "#%%\n"
    }
   },
   "outputs": [],
   "source": [
    "@ex.add_function(provides=('qaoa_time_destructive_sequential'), requires=req)\n",
    "def sample_rate_destructive_sequential_really_simple(N, p, d, n_samples):\n",
    "    # :param n_qaoa: number of nodes in the QAOA graph\n",
    "    # :param p_qaoa: depth of QAOA operation\n",
    "    # :param d_qaoa: average degree of graph\n",
    "\n",
    "    n_qaoa, p_qaoa, d_qaoa = N, p, d\n",
    "    n_atoms = np.ceil(n_qaoa*d_qaoa/2) #overhead from LHZ encoding\n",
    "    n_rearranger_moves = n_atoms #probably overestimate, but not by a lot, could replace with average from Hungarian\n",
    "    rearrange_time = rearrange_per_move_time*n_rearranger_moves\n",
    "    n_occupancy_pictures_average = 3 #picture after loading to seed rearrange, picture after rearrange finding small defect number remaining, picture verifying final defect removal, could reduce to 2\n",
    "    taking_pictures_time = n_occupancy_pictures_average*occupation_measurement_time + destructive_state_measurement_time\n",
    "    overhead_time = mot_load_time + rearrange_time + taking_pictures_time + state_prep_time\n",
    "    qaoa_time = qaoa_lhz_time_sequential_simple(n_qaoa, p_qaoa, d_qaoa)\n",
    "    sample_time = overhead_time + qaoa_time\n",
    "    return sample_time*n_samples"
   ]
  },
  {
   "cell_type": "code",
   "execution_count": 10,
   "metadata": {
    "pycharm": {
     "name": "#%%\n"
    }
   },
   "outputs": [],
   "source": [
    "@ex.add_function(provides=('qaoa_time_nondestructive_sequential'), requires=req)\n",
    "def sample_rate_nondestructive_sequential_really_simple(N, p, d, n_samples):\n",
    "    # assume have reservoir of size 0.25*n_atoms, implying full array of size 2.5*n_atoms with 0.5 loading\n",
    "    n_qaoa, p_qaoa, d_qaoa = N, p, d\n",
    "    n_atoms = np.ceil(n_qaoa*d_qaoa/2)\n",
    "    n_rearranger_moves = n_atoms\n",
    "    rearrange_time = n_rearranger_moves*rearrange_per_move_time\n",
    "    overhead_time = mot_load_time + rearrange_time + 2*occupation_measurement_time\n",
    "    initialization_losses = n_rearranger_moves*rearrange_per_move_loss + \\\n",
    "                            n_atoms*background_loss_per_atom_short(n_rearranger_moves*rearrange_per_move_time)\n",
    "\n",
    "    per_cycle_rearranger_moves = (n_atoms*nondestructive_state_measurement_loss)*np.sqrt(n_atoms)/2\n",
    "    per_cycle_time = per_cycle_rearranger_moves*rearrange_per_move_time + state_prep_time + \\\n",
    "        qaoa_lhz_time_sequential_simple(n_qaoa, p_qaoa, d_qaoa) + 2*occupation_measurement_time + \\\n",
    "                     nondestructive_state_measurement_time\n",
    "    per_cycle_losses = n_atoms*occupation_measurement_loss + n_atoms*nondestructive_state_measurement_loss + \\\n",
    "        n_atoms*background_loss_per_atom_short(per_cycle_time) + per_cycle_rearranger_moves*rearrange_per_move_loss\n",
    "\n",
    "    cycles_per_load = np.maximum(1, np.floor((0.25*n_atoms - initialization_losses)/per_cycle_losses))\n",
    "\n",
    "    per_load_time = overhead_time + cycles_per_load*per_cycle_time\n",
    "    sample_rate = cycles_per_load/per_load_time\n",
    "    return 1/sample_rate*n_samples\n",
    "\n",
    "@ex.add_function(provides=('qaoa_time_nondestructive_parallel'), requires=req)\n",
    "def sample_rate_nondestructive_parallel_really_simple(N, p, d, n_samples):\n",
    "    # assume have reservoir of size 0.25*n_atoms, implying full array of size 2.5*n_atoms with 0.5 loading\n",
    "    n_qaoa, p_qaoa, d_qaoa = N, p, d\n",
    "    n_atoms = np.ceil(n_qaoa*d_qaoa/2)\n",
    "    n_rearranger_moves = np.ceil(np.sqrt(n_atoms))\n",
    "    rearrange_time = n_rearranger_moves*rearrange_per_move_time\n",
    "    overhead_time = mot_load_time + rearrange_time + 2*occupation_measurement_time\n",
    "    initialization_losses = n_atoms*rearrange_per_move_loss + \\\n",
    "                            n_atoms*background_loss_per_atom_short(n_rearranger_moves*rearrange_per_move_time)\n",
    "\n",
    "    per_cycle_rearranger_moves = n_atoms*nondestructive_state_measurement_loss\n",
    "    per_cycle_time = per_cycle_rearranger_moves*rearrange_per_move_time + state_prep_time + \\\n",
    "        qaoa_lhz_time_sequential_raman_1q_simple(n_qaoa, p_qaoa, d_qaoa) + 2*occupation_measurement_time + \\\n",
    "                     nondestructive_state_measurement_time\n",
    "    per_cycle_losses = n_atoms*occupation_measurement_loss + n_atoms*nondestructive_state_measurement_loss + \\\n",
    "        n_atoms*background_loss_per_atom_short(per_cycle_time)\n",
    "\n",
    "    cycles_per_load = np.maximum(1, np.floor((0.25*n_atoms - initialization_losses)/per_cycle_losses))\n",
    "\n",
    "    per_load_time = overhead_time + cycles_per_load*per_cycle_time\n",
    "    sample_rate = cycles_per_load/per_load_time\n",
    "    return 1/sample_rate"
   ]
  },
  {
   "cell_type": "code",
   "execution_count": 11,
   "metadata": {
    "pycharm": {
     "name": "#%%\n"
    }
   },
   "outputs": [],
   "source": [
    "@ex.add_function(provides=('qaoa_time_transport'), requires=req)\n",
    "def sample_rate_transport_really_simple(N, p, d, n_samples):\n",
    "    n_qaoa, p_qaoa, d_qaoa = N, p, d\n",
    "    # overhead from mot load reduced to zero, must only consider average number of losses and corresponding replacement time\n",
    "    # fully parallel rearrangement only requires single move\n",
    "    n_atoms = np.ceil(n_qaoa*d_qaoa/2)\n",
    "    cycle_time = rearrange_per_move_time_fast + state_prep_time + \\\n",
    "        qaoa_lhz_time_parallel_simple(n_qaoa, p_qaoa, d_qaoa) + 2*occupation_measurement_time_fast + \\\n",
    "                     nondestructive_state_measurement_time_fast\n",
    "\n",
    "    return cycle_time*n_samples"
   ]
  },
  {
   "cell_type": "markdown",
   "metadata": {},
   "source": [
    "## Get the data"
   ]
  },
  {
   "cell_type": "code",
   "execution_count": 21,
   "metadata": {},
   "outputs": [],
   "source": [
    "def get_quantum_data(x_ext,\n",
    "                     p=[30]\n",
    "                     , var_name='qaoa_time_transport'\n",
    "                     , d=3\n",
    "                     , n_samples=1e3\n",
    "                 ):\n",
    "\n",
    "    x_ext = np.array(range(10, max_N, 36))\n",
    "    qaoa_times = ex.map_variable(var_name\n",
    "                                 , N=x_ext\n",
    "                                 , p=p\n",
    "                                 , d=[d]\n",
    "                                 , n_samples=[n_samples]\n",
    "                     )\n",
    "    return qaoa_times"
   ]
  },
  {
   "cell_type": "code",
   "execution_count": 22,
   "metadata": {},
   "outputs": [],
   "source": [
    "import xarray"
   ]
  },
  {
   "cell_type": "code",
   "execution_count": 26,
   "metadata": {},
   "outputs": [
    {
     "data": {
      "application/vnd.jupyter.widget-view+json": {
       "model_id": "620b559fdec24407b1dee6d78062dc50",
       "version_major": 2,
       "version_minor": 0
      },
      "text/plain": [
       "HBox(children=(HTML(value=''), FloatProgress(value=0.0, max=336.0), HTML(value='')))"
      ]
     },
     "metadata": {},
     "output_type": "display_data"
    },
    {
     "name": "stdout",
     "output_type": "stream",
     "text": [
      "\n"
     ]
    },
    {
     "data": {
      "application/vnd.jupyter.widget-view+json": {
       "model_id": "cae466d39c994aeeb63069927564a17c",
       "version_major": 2,
       "version_minor": 0
      },
      "text/plain": [
       "HBox(children=(HTML(value=''), FloatProgress(value=0.0, max=336.0), HTML(value='')))"
      ]
     },
     "metadata": {},
     "output_type": "display_data"
    },
    {
     "name": "stdout",
     "output_type": "stream",
     "text": [
      "\n"
     ]
    }
   ],
   "source": [
    "max_N = 3000\n",
    "x_ext = np.array(range(10, max_N, 36))\n",
    "ps = [3, 6, 12, 32]\n",
    "\n",
    "transport_times = get_quantum_data(x_ext, p=ps, var_name='qaoa_time_transport')\n",
    "destructive_times = get_quantum_data(x_ext, p=ps, var_name='qaoa_time_destructive_sequential')"
   ]
  },
  {
   "cell_type": "code",
   "execution_count": 38,
   "metadata": {},
   "outputs": [],
   "source": [
    "types = ['transport', 'destructive']\n",
    "data = np.array([transport_times, destructive_times])\n",
    "xar = xarray.DataArray(data, coords=(types, x_ext, ps), dims=('types', 'N', 'p'))\n",
    "xar = xar.transpose('types', 'p', 'N')"
   ]
  },
  {
   "cell_type": "code",
   "execution_count": 40,
   "metadata": {},
   "outputs": [
    {
     "data": {
      "text/plain": [
       "(2, 4, 84)"
      ]
     },
     "execution_count": 40,
     "metadata": {},
     "output_type": "execute_result"
    }
   ],
   "source": [
    "xar.shape"
   ]
  },
  {
   "cell_type": "code",
   "execution_count": 42,
   "metadata": {},
   "outputs": [],
   "source": [
    "xar.to_netcdf('../quantum_nsamples1000_d3.nc')"
   ]
  },
  {
   "cell_type": "code",
   "execution_count": null,
   "metadata": {},
   "outputs": [],
   "source": []
  },
  {
   "cell_type": "markdown",
   "metadata": {},
   "source": [
    "## Old scripts by Tom"
   ]
  },
  {
   "cell_type": "code",
   "execution_count": 38,
   "metadata": {
    "pycharm": {
     "name": "#%%\n"
    }
   },
   "outputs": [
    {
     "name": "stderr",
     "output_type": "stream",
     "text": [
      "<ipython-input-37-714f786696c5>:94: RuntimeWarning: invalid value encountered in double_scalars\n",
      "  cycles_per_load = np.maximum(1, np.floor((0.25*n_atoms - initialization_losses)/per_cycle_losses))\n",
      "<ipython-input-37-714f786696c5>:116: RuntimeWarning: invalid value encountered in double_scalars\n",
      "  cycles_per_load = np.maximum(1, np.floor((0.25*n_atoms - initialization_losses)/per_cycle_losses))\n",
      "<ipython-input-37-714f786696c5>:116: RuntimeWarning: invalid value encountered in double_scalars\n",
      "  cycles_per_load = np.maximum(1, np.floor((0.25*n_atoms - initialization_losses)/per_cycle_losses))\n"
     ]
    },
    {
     "data": {
      "image/png": "[encoded data removed]",
      "text/plain": [
       "<Figure size 432x288 with 1 Axes>"
      ]
     },
     "metadata": {
      "needs_background": "light"
     },
     "output_type": "display_data"
    }
   ],
   "source": [
    "n_qaoa = np.linspace(1,1000,1000)\n",
    "sr_qaoa1 = np.linspace(1,1000,1000)\n",
    "for jj in np.arange(len(n_qaoa)):\n",
    "    sr_qaoa1[jj] = sample_rate_destructive_sequential_really_simple(jj, 1, 3)\n",
    "plt.plot(n_qaoa, sr_qaoa1)\n",
    "sr_qaoa2 = np.linspace(1,1000,1000)\n",
    "for jj in np.arange(len(n_qaoa)):\n",
    "    sr_qaoa2[jj] = sample_rate_nondestructive_sequential_really_simple(jj, 1, 3)\n",
    "plt.plot(n_qaoa, sr_qaoa2)\n",
    "sr_qaoa3 = np.linspace(1,1000,1000)\n",
    "for jj in np.arange(len(n_qaoa)):\n",
    "    sr_qaoa3[jj] = sample_rate_nondestructive_parallel_really_simple(jj, 1, 3)\n",
    "plt.plot(n_qaoa, sr_qaoa3)\n",
    "sr_qaoa6 = np.linspace(1,1000,1000)\n",
    "for jj in np.arange(len(n_qaoa)):\n",
    "    sr_qaoa6[jj] = sample_rate_nondestructive_parallel_really_simple(jj, 6, 3)\n",
    "plt.plot(n_qaoa, sr_qaoa6)\n",
    "sr_qaoa4 = np.linspace(1,1000,1000)\n",
    "for jj in np.arange(len(n_qaoa)):\n",
    "    sr_qaoa4[jj] = sample_rate_transport_really_simple(jj, 1, 3)\n",
    "plt.plot(n_qaoa, sr_qaoa4)\n",
    "sr_qaoa5 = np.linspace(1,1000,1000)\n",
    "for jj in np.arange(len(n_qaoa)):\n",
    "    sr_qaoa5[jj] = sample_rate_transport_really_simple(jj, 6, 3)\n",
    "plt.plot(n_qaoa, sr_qaoa5)\n",
    "\n",
    "\n",
    "\n",
    "\n",
    "plt.yscale('log')\n",
    "\n",
    "plt.xlabel('Size of QAOA problem')\n",
    "plt.ylabel('Sample rate [Hz]')\n",
    "plt.legend(['destructive state measurement, p=1','nondestructive state measurement,p=1', 'parallel rearrangement,p=1','parallel rearrangement, p=6','transport, p=1','transport, p=6'])\n",
    "plt.title('A simple-minded approach to QAOA time estimation')\n",
    "plt.savefig('simple_minded_qaoa_time_estimation.png')\n"
   ]
  },
  {
   "cell_type": "code",
   "execution_count": null,
   "metadata": {},
   "outputs": [],
   "source": []
  },
  {
   "cell_type": "code",
   "execution_count": 34,
   "metadata": {
    "pycharm": {
     "name": "#%%\n"
    }
   },
   "outputs": [
    {
     "data": {
      "image/png": "[encoded data removed]",
      "text/plain": [
       "<Figure size 432x288 with 1 Axes>"
      ]
     },
     "metadata": {
      "needs_background": "light"
     },
     "output_type": "display_data"
    }
   ],
   "source": [
    "# look at the impact of changing background losses\n",
    "# pin at N=66 (hilbert is n_atoms = 100 => n_nodes = 66 for d = 3, consider soon and later at p=1, d=3\n",
    "# pin state measurement loss at 0.01\n",
    "\n",
    "nondestructive_state_measurement_loss = 0.01\n",
    "lifetimes = np.linspace(1,100,150)\n",
    "srs_nondestructive_parallel = []\n",
    "srs_nondestructive_sequential = []\n",
    "for jj in np.arange(len(lifetimes)):\n",
    "    atom_lifetime_short = lifetimes[jj]\n",
    "    sr_jj_nd_s = sample_rate_nondestructive_sequential_really_simple(66, 1, 3)\n",
    "    srs_nondestructive_sequential.append(sr_jj_nd_s)\n",
    "    sr_jj_nd_p = sample_rate_nondestructive_parallel_really_simple(66, 1, 3)\n",
    "    srs_nondestructive_parallel.append(sr_jj_nd_p)\n",
    "\n",
    "plt.plot(lifetimes,srs_nondestructive_sequential)\n",
    "plt.plot(lifetimes,srs_nondestructive_parallel)\n",
    "plt.yscale('log')\n",
    "plt.yticks([1,3,10,30],['1','3','10','30'])\n",
    "plt.xlabel('atom trap lifetime [s]')\n",
    "plt.ylabel('Sample rate [Hz]')\n",
    "plt.legend(['sequential rearrangement','parallel rearrangement'])\n",
    "plt.title('A simple-minded approach to QAOA time estimation')\n",
    "plt.savefig('atom_lifetime_dependence.png')"
   ]
  },
  {
   "cell_type": "code",
   "execution_count": 35,
   "metadata": {
    "pycharm": {
     "name": "#%%\n"
    }
   },
   "outputs": [
    {
     "data": {
      "image/png": "[encoded data removed]",
      "text/plain": [
       "<Figure size 432x288 with 1 Axes>"
      ]
     },
     "metadata": {
      "needs_background": "light"
     },
     "output_type": "display_data"
    }
   ],
   "source": [
    "# look at the impact of changing state measurement losses\n",
    "# pin at N=66 (hilbert is n_atoms = 100 => n_nodes = 66 for d = 3, consider soon and later at p=1, d=3\n",
    "# pin atom lifetime at 30 s\n",
    "\n",
    "atom_lifetime_short = 30\n",
    "state_readout_losses = np.logspace(-4,-1,100)\n",
    "\n",
    "srs_nondestructive_parallel = []\n",
    "srs_nondestructive_sequential = []\n",
    "for jj in np.arange(len(state_readout_losses)):\n",
    "    nondestructive_state_measurement_loss = state_readout_losses[jj]\n",
    "    sr_jj_nd_s = sample_rate_nondestructive_sequential_really_simple(66, 1, 3)\n",
    "    srs_nondestructive_sequential.append(sr_jj_nd_s)\n",
    "    sr_jj_nd_p = sample_rate_nondestructive_parallel_really_simple(66, 1, 3)\n",
    "    srs_nondestructive_parallel.append(sr_jj_nd_p)\n",
    "\n",
    "plt.plot(state_readout_losses,srs_nondestructive_sequential)\n",
    "plt.plot(state_readout_losses,srs_nondestructive_parallel)\n",
    "plt.yscale('log')\n",
    "plt.xscale('log')\n",
    "plt.yticks([1,3,10,30],['1','3','10','30'])\n",
    "plt.xlabel('State readout per atom per measurement loss')\n",
    "plt.ylabel('Sample rate [Hz]')\n",
    "plt.legend(['parallel rearrangement','sequential rearrangement'])\n",
    "plt.title('A simple-minded approach to QAOA time estimation')\n",
    "plt.savefig('state_readout_loss_dependence.png')\n"
   ]
  },
  {
   "cell_type": "code",
   "execution_count": 31,
   "metadata": {
    "pycharm": {
     "name": "#%%\n"
    }
   },
   "outputs": [
    {
     "name": "stdout",
     "output_type": "stream",
     "text": [
      "overhead time is 1.21\n",
      "0.0009800951485254839\n",
      "0.0\n",
      "0.052740999999999996\n",
      "5.221357622864353e-05\n",
      "number of cycles per load is 473995.0\n",
      "18.959663266700453\n",
      "18.960580952200377\n"
     ]
    }
   ],
   "source": [
    "\n"
   ]
  }
 ],
 "metadata": {
  "kernelspec": {
   "display_name": "Python 3",
   "language": "python",
   "name": "python3"
  },
  "language_info": {
   "codemirror_mode": {
    "name": "ipython",
    "version": 3
   },
   "file_extension": ".py",
   "mimetype": "text/x-python",
   "name": "python",
   "nbconvert_exporter": "python",
   "pygments_lexer": "ipython3",
   "version": "3.8.1+"
  },
  "toc": {
   "base_numbering": 1,
   "nav_menu": {},
   "number_sections": true,
   "sideBar": true,
   "skip_h1_title": true,
   "title_cell": "Table of Contents",
   "title_sidebar": "Contents",
   "toc_cell": true,
   "toc_position": {
    "height": "calc(100% - 180px)",
    "left": "10px",
    "top": "150px",
    "width": "164.999px"
   },
   "toc_section_display": true,
   "toc_window_display": true
  },
  "varInspector": {
   "cols": {
    "lenName": 16,
    "lenType": 16,
    "lenVar": 40
   },
   "kernels_config": {
    "python": {
     "delete_cmd_postfix": "",
     "delete_cmd_prefix": "del ",
     "library": "var_list.py",
     "varRefreshCmd": "print(var_dic_list())"
    },
    "r": {
     "delete_cmd_postfix": ") ",
     "delete_cmd_prefix": "rm(",
     "library": "var_list.r",
     "varRefreshCmd": "cat(var_dic_list()) "
    }
   },
   "types_to_exclude": [
    "module",
    "function",
    "builtin_function_or_method",
    "instance",
    "_Feature"
   ],
   "window_display": false
  }
 },
 "nbformat": 4,
 "nbformat_minor": 4
}
